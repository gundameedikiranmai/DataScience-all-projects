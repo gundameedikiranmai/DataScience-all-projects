{
 "cells": [
  {
   "cell_type": "code",
   "execution_count": 2,
   "id": "187d0948-4fbc-40b8-9b07-d5de062d14f4",
   "metadata": {},
   "outputs": [],
   "source": [
    "import numpy as np\n",
    "import pandas as pd\n",
    "import matplotlib.pyplot as plt\n",
    "import seaborn as sns"
   ]
  },
  {
   "cell_type": "code",
   "execution_count": 3,
   "id": "599d1fd1-c647-4ef0-a979-24fd4177dc83",
   "metadata": {},
   "outputs": [],
   "source": [
    "import warnings\n",
    "warnings.filterwarnings(\"ignore\")   #To avoid the warnings"
   ]
  },
  {
   "cell_type": "markdown",
   "id": "9d582be1-1279-4b49-95a2-ea7267fd5a2b",
   "metadata": {},
   "source": [
    "### 1. Predicting the Cost Using Linear Regression Model"
   ]
  },
  {
   "cell_type": "code",
   "execution_count": 4,
   "id": "95dbf4d4-85b5-4488-a50b-073e30c5ba1d",
   "metadata": {},
   "outputs": [],
   "source": [
    "Task2=pd.read_csv(r\"C:\\Users\\ganig\\OneDrive\\Desktop\\Dataset\\Manpower_SF_Nov12.csv\")"
   ]
  },
  {
   "cell_type": "code",
   "execution_count": 5,
   "id": "10544283-a880-4610-8c16-65cf50add21c",
   "metadata": {},
   "outputs": [],
   "source": [
    "Task2.drop(columns=[\"plan_cd\",\"dept\",\"division\", \"direct_indirect\",\n",
    "                 \"employee_class\",\"workforce_category_descr\",\"attend_reason_code\",\n",
    "                 \"plant_line_running\"],inplace=True)\n",
    "Task2.rename(columns={'plant_code':'classes','absentee':'cost','total_attend_hours':'hours',\n",
    "                  'jobtitle':'job','attend_type_code':'code'},inplace=True)\n"
   ]
  },
  {
   "cell_type": "code",
   "execution_count": 6,
   "id": "eca04ec2-5cc8-4e5b-a9a4-92a681e56f73",
   "metadata": {},
   "outputs": [
    {
     "data": {
      "text/html": [
       "<div>\n",
       "<style scoped>\n",
       "    .dataframe tbody tr th:only-of-type {\n",
       "        vertical-align: middle;\n",
       "    }\n",
       "\n",
       "    .dataframe tbody tr th {\n",
       "        vertical-align: top;\n",
       "    }\n",
       "\n",
       "    .dataframe thead th {\n",
       "        text-align: right;\n",
       "    }\n",
       "</style>\n",
       "<table border=\"1\" class=\"dataframe\">\n",
       "  <thead>\n",
       "    <tr style=\"text-align: right;\">\n",
       "      <th></th>\n",
       "      <th>Unnamed: 0</th>\n",
       "      <th>classes</th>\n",
       "      <th>attend_date</th>\n",
       "      <th>job</th>\n",
       "      <th>code</th>\n",
       "      <th>cost</th>\n",
       "      <th>hours</th>\n",
       "    </tr>\n",
       "  </thead>\n",
       "  <tbody>\n",
       "    <tr>\n",
       "      <th>0</th>\n",
       "      <td>0</td>\n",
       "      <td>AEP</td>\n",
       "      <td>2022-12-09</td>\n",
       "      <td>PA</td>\n",
       "      <td>ABS</td>\n",
       "      <td>1</td>\n",
       "      <td>8.0</td>\n",
       "    </tr>\n",
       "    <tr>\n",
       "      <th>1</th>\n",
       "      <td>1</td>\n",
       "      <td>AEP</td>\n",
       "      <td>2023-11-10</td>\n",
       "      <td>LSS</td>\n",
       "      <td>ABS</td>\n",
       "      <td>1</td>\n",
       "      <td>8.0</td>\n",
       "    </tr>\n",
       "    <tr>\n",
       "      <th>2</th>\n",
       "      <td>2</td>\n",
       "      <td>AEP</td>\n",
       "      <td>2023-06-19</td>\n",
       "      <td>PA</td>\n",
       "      <td>PTO</td>\n",
       "      <td>1</td>\n",
       "      <td>8.0</td>\n",
       "    </tr>\n",
       "    <tr>\n",
       "      <th>3</th>\n",
       "      <td>3</td>\n",
       "      <td>AEP</td>\n",
       "      <td>2022-03-25</td>\n",
       "      <td>PS</td>\n",
       "      <td>PTO</td>\n",
       "      <td>1</td>\n",
       "      <td>8.0</td>\n",
       "    </tr>\n",
       "    <tr>\n",
       "      <th>4</th>\n",
       "      <td>4</td>\n",
       "      <td>MAP</td>\n",
       "      <td>2023-02-13</td>\n",
       "      <td>PS</td>\n",
       "      <td>PTO</td>\n",
       "      <td>1</td>\n",
       "      <td>8.0</td>\n",
       "    </tr>\n",
       "  </tbody>\n",
       "</table>\n",
       "</div>"
      ],
      "text/plain": [
       "   Unnamed: 0 classes attend_date  job code  cost  hours\n",
       "0           0     AEP  2022-12-09   PA  ABS     1    8.0\n",
       "1           1     AEP  2023-11-10  LSS  ABS     1    8.0\n",
       "2           2     AEP  2023-06-19   PA  PTO     1    8.0\n",
       "3           3     AEP  2022-03-25   PS  PTO     1    8.0\n",
       "4           4     MAP  2023-02-13   PS  PTO     1    8.0"
      ]
     },
     "execution_count": 6,
     "metadata": {},
     "output_type": "execute_result"
    }
   ],
   "source": [
    "Task2.head()"
   ]
  },
  {
   "cell_type": "code",
   "execution_count": 7,
   "id": "08174711-d598-45ed-ac47-b321684fac4c",
   "metadata": {},
   "outputs": [
    {
     "data": {
      "text/plain": [
       "Unnamed: 0     396881\n",
       "classes        396881\n",
       "attend_date    396881\n",
       "job            396881\n",
       "code           396881\n",
       "cost           396881\n",
       "hours          396881\n",
       "dtype: int64"
      ]
     },
     "execution_count": 7,
     "metadata": {},
     "output_type": "execute_result"
    }
   ],
   "source": [
    "Task2.count()"
   ]
  },
  {
   "cell_type": "code",
   "execution_count": 8,
   "id": "c6595b4b-d8d8-43da-bd0c-8d0f3accc859",
   "metadata": {},
   "outputs": [],
   "source": [
    "#sorting the date\n",
    "start_date = ('2023-10-01')\n",
    "end_date =('2023-11-30')\n",
    "Task3=Task2[(Task2['attend_date'] >= start_date) & (Task2['attend_date'] <= end_date)]"
   ]
  },
  {
   "cell_type": "code",
   "execution_count": 9,
   "id": "09a6d276-1add-4a42-aa03-17954fbb81b9",
   "metadata": {},
   "outputs": [
    {
     "data": {
      "text/plain": [
       "Unnamed: 0     19596\n",
       "classes        19596\n",
       "attend_date    19596\n",
       "job            19596\n",
       "code           19596\n",
       "cost           19596\n",
       "hours          19596\n",
       "dtype: int64"
      ]
     },
     "execution_count": 9,
     "metadata": {},
     "output_type": "execute_result"
    }
   ],
   "source": [
    "Task3.count()"
   ]
  },
  {
   "cell_type": "code",
   "execution_count": 10,
   "id": "c447798f-3fa1-48f8-a06b-64933c70584a",
   "metadata": {},
   "outputs": [],
   "source": [
    "#Used to convert the categorical data into numerical data\n",
    "from sklearn.preprocessing import LabelEncoder\n",
    "label_encoder = LabelEncoder()\n",
    "Task3['classes'] = label_encoder.fit_transform(Task3['classes'])      "
   ]
  },
  {
   "cell_type": "code",
   "execution_count": 11,
   "id": "bef34e62-a0a4-40d4-a90e-25d085474daa",
   "metadata": {},
   "outputs": [],
   "source": [
    "label_encoder = LabelEncoder()\n",
    "Task3['job'] = label_encoder.fit_transform(Task3['job'])   "
   ]
  },
  {
   "cell_type": "code",
   "execution_count": 12,
   "id": "c2ec15f7-107d-4a21-a49a-b80a0a350cbc",
   "metadata": {},
   "outputs": [],
   "source": [
    "label_encoder = LabelEncoder()\n",
    "Task3['code'] = label_encoder.fit_transform(Task3['code']) "
   ]
  },
  {
   "cell_type": "code",
   "execution_count": 13,
   "id": "0e77bfc9-8989-456c-90bb-5678853d149a",
   "metadata": {},
   "outputs": [
    {
     "data": {
      "text/plain": [
       "classes\n",
       "0    5070\n",
       "1    4398\n",
       "4    3754\n",
       "3    2754\n",
       "2    2414\n",
       "6     792\n",
       "5     414\n",
       "Name: count, dtype: int64"
      ]
     },
     "execution_count": 13,
     "metadata": {},
     "output_type": "execute_result"
    }
   ],
   "source": [
    "Task3[\"classes\"].value_counts()"
   ]
  },
  {
   "cell_type": "code",
   "execution_count": 14,
   "id": "03a1156e-47dc-4b1a-a1be-5ab0fbe95201",
   "metadata": {},
   "outputs": [
    {
     "data": {
      "text/plain": [
       "job\n",
       "2    14615\n",
       "0     2303\n",
       "5     1253\n",
       "3      505\n",
       "4      456\n",
       "1      322\n",
       "6      142\n",
       "Name: count, dtype: int64"
      ]
     },
     "execution_count": 14,
     "metadata": {},
     "output_type": "execute_result"
    }
   ],
   "source": [
    "Task3[\"job\"].value_counts()"
   ]
  },
  {
   "cell_type": "code",
   "execution_count": 15,
   "id": "59210b56-14d0-4a66-8c60-9615cc89f6c1",
   "metadata": {},
   "outputs": [
    {
     "data": {
      "text/plain": [
       "code\n",
       "0    11483\n",
       "3     7874\n",
       "1      209\n",
       "2       30\n",
       "Name: count, dtype: int64"
      ]
     },
     "execution_count": 15,
     "metadata": {},
     "output_type": "execute_result"
    }
   ],
   "source": [
    "Task3[\"code\"].value_counts()"
   ]
  },
  {
   "cell_type": "code",
   "execution_count": 16,
   "id": "10af994a-af14-40e6-b56f-a65055bdfc9c",
   "metadata": {},
   "outputs": [
    {
     "data": {
      "text/html": [
       "<div>\n",
       "<style scoped>\n",
       "    .dataframe tbody tr th:only-of-type {\n",
       "        vertical-align: middle;\n",
       "    }\n",
       "\n",
       "    .dataframe tbody tr th {\n",
       "        vertical-align: top;\n",
       "    }\n",
       "\n",
       "    .dataframe thead th {\n",
       "        text-align: right;\n",
       "    }\n",
       "</style>\n",
       "<table border=\"1\" class=\"dataframe\">\n",
       "  <thead>\n",
       "    <tr style=\"text-align: right;\">\n",
       "      <th></th>\n",
       "      <th>Unnamed: 0</th>\n",
       "      <th>classes</th>\n",
       "      <th>attend_date</th>\n",
       "      <th>job</th>\n",
       "      <th>code</th>\n",
       "      <th>cost</th>\n",
       "      <th>hours</th>\n",
       "    </tr>\n",
       "  </thead>\n",
       "  <tbody>\n",
       "    <tr>\n",
       "      <th>1</th>\n",
       "      <td>1</td>\n",
       "      <td>1</td>\n",
       "      <td>2023-11-10</td>\n",
       "      <td>0</td>\n",
       "      <td>0</td>\n",
       "      <td>1</td>\n",
       "      <td>8.0</td>\n",
       "    </tr>\n",
       "    <tr>\n",
       "      <th>18</th>\n",
       "      <td>19</td>\n",
       "      <td>0</td>\n",
       "      <td>2023-10-05</td>\n",
       "      <td>2</td>\n",
       "      <td>3</td>\n",
       "      <td>1</td>\n",
       "      <td>4.0</td>\n",
       "    </tr>\n",
       "    <tr>\n",
       "      <th>42</th>\n",
       "      <td>45</td>\n",
       "      <td>1</td>\n",
       "      <td>2023-10-25</td>\n",
       "      <td>2</td>\n",
       "      <td>0</td>\n",
       "      <td>1</td>\n",
       "      <td>8.0</td>\n",
       "    </tr>\n",
       "    <tr>\n",
       "      <th>54</th>\n",
       "      <td>57</td>\n",
       "      <td>0</td>\n",
       "      <td>2023-10-31</td>\n",
       "      <td>2</td>\n",
       "      <td>0</td>\n",
       "      <td>5</td>\n",
       "      <td>40.0</td>\n",
       "    </tr>\n",
       "    <tr>\n",
       "      <th>59</th>\n",
       "      <td>62</td>\n",
       "      <td>4</td>\n",
       "      <td>2023-10-23</td>\n",
       "      <td>2</td>\n",
       "      <td>0</td>\n",
       "      <td>9</td>\n",
       "      <td>72.0</td>\n",
       "    </tr>\n",
       "    <tr>\n",
       "      <th>...</th>\n",
       "      <td>...</td>\n",
       "      <td>...</td>\n",
       "      <td>...</td>\n",
       "      <td>...</td>\n",
       "      <td>...</td>\n",
       "      <td>...</td>\n",
       "      <td>...</td>\n",
       "    </tr>\n",
       "    <tr>\n",
       "      <th>396799</th>\n",
       "      <td>22274</td>\n",
       "      <td>1</td>\n",
       "      <td>2023-10-06</td>\n",
       "      <td>4</td>\n",
       "      <td>3</td>\n",
       "      <td>1</td>\n",
       "      <td>8.0</td>\n",
       "    </tr>\n",
       "    <tr>\n",
       "      <th>396804</th>\n",
       "      <td>22279</td>\n",
       "      <td>4</td>\n",
       "      <td>2023-10-24</td>\n",
       "      <td>0</td>\n",
       "      <td>0</td>\n",
       "      <td>1</td>\n",
       "      <td>8.0</td>\n",
       "    </tr>\n",
       "    <tr>\n",
       "      <th>396848</th>\n",
       "      <td>22330</td>\n",
       "      <td>1</td>\n",
       "      <td>2023-10-12</td>\n",
       "      <td>2</td>\n",
       "      <td>3</td>\n",
       "      <td>2</td>\n",
       "      <td>16.0</td>\n",
       "    </tr>\n",
       "    <tr>\n",
       "      <th>396853</th>\n",
       "      <td>22336</td>\n",
       "      <td>6</td>\n",
       "      <td>2023-10-13</td>\n",
       "      <td>3</td>\n",
       "      <td>0</td>\n",
       "      <td>1</td>\n",
       "      <td>8.0</td>\n",
       "    </tr>\n",
       "    <tr>\n",
       "      <th>396860</th>\n",
       "      <td>22343</td>\n",
       "      <td>3</td>\n",
       "      <td>2023-10-06</td>\n",
       "      <td>2</td>\n",
       "      <td>0</td>\n",
       "      <td>1</td>\n",
       "      <td>8.0</td>\n",
       "    </tr>\n",
       "  </tbody>\n",
       "</table>\n",
       "<p>19596 rows × 7 columns</p>\n",
       "</div>"
      ],
      "text/plain": [
       "        Unnamed: 0  classes attend_date  job  code  cost  hours\n",
       "1                1        1  2023-11-10    0     0     1    8.0\n",
       "18              19        0  2023-10-05    2     3     1    4.0\n",
       "42              45        1  2023-10-25    2     0     1    8.0\n",
       "54              57        0  2023-10-31    2     0     5   40.0\n",
       "59              62        4  2023-10-23    2     0     9   72.0\n",
       "...            ...      ...         ...  ...   ...   ...    ...\n",
       "396799       22274        1  2023-10-06    4     3     1    8.0\n",
       "396804       22279        4  2023-10-24    0     0     1    8.0\n",
       "396848       22330        1  2023-10-12    2     3     2   16.0\n",
       "396853       22336        6  2023-10-13    3     0     1    8.0\n",
       "396860       22343        3  2023-10-06    2     0     1    8.0\n",
       "\n",
       "[19596 rows x 7 columns]"
      ]
     },
     "execution_count": 16,
     "metadata": {},
     "output_type": "execute_result"
    }
   ],
   "source": [
    "Task3"
   ]
  },
  {
   "cell_type": "code",
   "execution_count": 17,
   "id": "f0418e4d-c9f8-4bc6-9fed-0be2619ffe09",
   "metadata": {},
   "outputs": [],
   "source": [
    "Task3['attend_date'] = pd.to_datetime(Task3['attend_date'])\n",
    "\n",
    "# Extracting year, month, and day into separate columns\n",
    "Task3['year'] = Task3['attend_date'].dt.year\n",
    "Task3['month'] = Task3['attend_date'].dt.month\n",
    "Task3['day'] = Task3['attend_date'].dt.day"
   ]
  },
  {
   "cell_type": "code",
   "execution_count": 18,
   "id": "8bd45ffe-869c-4ee9-82b6-e26794d555bd",
   "metadata": {},
   "outputs": [
    {
     "data": {
      "text/html": [
       "<div>\n",
       "<style scoped>\n",
       "    .dataframe tbody tr th:only-of-type {\n",
       "        vertical-align: middle;\n",
       "    }\n",
       "\n",
       "    .dataframe tbody tr th {\n",
       "        vertical-align: top;\n",
       "    }\n",
       "\n",
       "    .dataframe thead th {\n",
       "        text-align: right;\n",
       "    }\n",
       "</style>\n",
       "<table border=\"1\" class=\"dataframe\">\n",
       "  <thead>\n",
       "    <tr style=\"text-align: right;\">\n",
       "      <th></th>\n",
       "      <th>Unnamed: 0</th>\n",
       "      <th>classes</th>\n",
       "      <th>attend_date</th>\n",
       "      <th>job</th>\n",
       "      <th>code</th>\n",
       "      <th>cost</th>\n",
       "      <th>hours</th>\n",
       "      <th>year</th>\n",
       "      <th>month</th>\n",
       "      <th>day</th>\n",
       "    </tr>\n",
       "  </thead>\n",
       "  <tbody>\n",
       "    <tr>\n",
       "      <th>1</th>\n",
       "      <td>1</td>\n",
       "      <td>1</td>\n",
       "      <td>2023-11-10</td>\n",
       "      <td>0</td>\n",
       "      <td>0</td>\n",
       "      <td>1</td>\n",
       "      <td>8.0</td>\n",
       "      <td>2023</td>\n",
       "      <td>11</td>\n",
       "      <td>10</td>\n",
       "    </tr>\n",
       "    <tr>\n",
       "      <th>18</th>\n",
       "      <td>19</td>\n",
       "      <td>0</td>\n",
       "      <td>2023-10-05</td>\n",
       "      <td>2</td>\n",
       "      <td>3</td>\n",
       "      <td>1</td>\n",
       "      <td>4.0</td>\n",
       "      <td>2023</td>\n",
       "      <td>10</td>\n",
       "      <td>5</td>\n",
       "    </tr>\n",
       "    <tr>\n",
       "      <th>42</th>\n",
       "      <td>45</td>\n",
       "      <td>1</td>\n",
       "      <td>2023-10-25</td>\n",
       "      <td>2</td>\n",
       "      <td>0</td>\n",
       "      <td>1</td>\n",
       "      <td>8.0</td>\n",
       "      <td>2023</td>\n",
       "      <td>10</td>\n",
       "      <td>25</td>\n",
       "    </tr>\n",
       "    <tr>\n",
       "      <th>54</th>\n",
       "      <td>57</td>\n",
       "      <td>0</td>\n",
       "      <td>2023-10-31</td>\n",
       "      <td>2</td>\n",
       "      <td>0</td>\n",
       "      <td>5</td>\n",
       "      <td>40.0</td>\n",
       "      <td>2023</td>\n",
       "      <td>10</td>\n",
       "      <td>31</td>\n",
       "    </tr>\n",
       "    <tr>\n",
       "      <th>59</th>\n",
       "      <td>62</td>\n",
       "      <td>4</td>\n",
       "      <td>2023-10-23</td>\n",
       "      <td>2</td>\n",
       "      <td>0</td>\n",
       "      <td>9</td>\n",
       "      <td>72.0</td>\n",
       "      <td>2023</td>\n",
       "      <td>10</td>\n",
       "      <td>23</td>\n",
       "    </tr>\n",
       "    <tr>\n",
       "      <th>...</th>\n",
       "      <td>...</td>\n",
       "      <td>...</td>\n",
       "      <td>...</td>\n",
       "      <td>...</td>\n",
       "      <td>...</td>\n",
       "      <td>...</td>\n",
       "      <td>...</td>\n",
       "      <td>...</td>\n",
       "      <td>...</td>\n",
       "      <td>...</td>\n",
       "    </tr>\n",
       "    <tr>\n",
       "      <th>396799</th>\n",
       "      <td>22274</td>\n",
       "      <td>1</td>\n",
       "      <td>2023-10-06</td>\n",
       "      <td>4</td>\n",
       "      <td>3</td>\n",
       "      <td>1</td>\n",
       "      <td>8.0</td>\n",
       "      <td>2023</td>\n",
       "      <td>10</td>\n",
       "      <td>6</td>\n",
       "    </tr>\n",
       "    <tr>\n",
       "      <th>396804</th>\n",
       "      <td>22279</td>\n",
       "      <td>4</td>\n",
       "      <td>2023-10-24</td>\n",
       "      <td>0</td>\n",
       "      <td>0</td>\n",
       "      <td>1</td>\n",
       "      <td>8.0</td>\n",
       "      <td>2023</td>\n",
       "      <td>10</td>\n",
       "      <td>24</td>\n",
       "    </tr>\n",
       "    <tr>\n",
       "      <th>396848</th>\n",
       "      <td>22330</td>\n",
       "      <td>1</td>\n",
       "      <td>2023-10-12</td>\n",
       "      <td>2</td>\n",
       "      <td>3</td>\n",
       "      <td>2</td>\n",
       "      <td>16.0</td>\n",
       "      <td>2023</td>\n",
       "      <td>10</td>\n",
       "      <td>12</td>\n",
       "    </tr>\n",
       "    <tr>\n",
       "      <th>396853</th>\n",
       "      <td>22336</td>\n",
       "      <td>6</td>\n",
       "      <td>2023-10-13</td>\n",
       "      <td>3</td>\n",
       "      <td>0</td>\n",
       "      <td>1</td>\n",
       "      <td>8.0</td>\n",
       "      <td>2023</td>\n",
       "      <td>10</td>\n",
       "      <td>13</td>\n",
       "    </tr>\n",
       "    <tr>\n",
       "      <th>396860</th>\n",
       "      <td>22343</td>\n",
       "      <td>3</td>\n",
       "      <td>2023-10-06</td>\n",
       "      <td>2</td>\n",
       "      <td>0</td>\n",
       "      <td>1</td>\n",
       "      <td>8.0</td>\n",
       "      <td>2023</td>\n",
       "      <td>10</td>\n",
       "      <td>6</td>\n",
       "    </tr>\n",
       "  </tbody>\n",
       "</table>\n",
       "<p>19596 rows × 10 columns</p>\n",
       "</div>"
      ],
      "text/plain": [
       "        Unnamed: 0  classes attend_date  job  code  cost  hours  year  month  \\\n",
       "1                1        1  2023-11-10    0     0     1    8.0  2023     11   \n",
       "18              19        0  2023-10-05    2     3     1    4.0  2023     10   \n",
       "42              45        1  2023-10-25    2     0     1    8.0  2023     10   \n",
       "54              57        0  2023-10-31    2     0     5   40.0  2023     10   \n",
       "59              62        4  2023-10-23    2     0     9   72.0  2023     10   \n",
       "...            ...      ...         ...  ...   ...   ...    ...   ...    ...   \n",
       "396799       22274        1  2023-10-06    4     3     1    8.0  2023     10   \n",
       "396804       22279        4  2023-10-24    0     0     1    8.0  2023     10   \n",
       "396848       22330        1  2023-10-12    2     3     2   16.0  2023     10   \n",
       "396853       22336        6  2023-10-13    3     0     1    8.0  2023     10   \n",
       "396860       22343        3  2023-10-06    2     0     1    8.0  2023     10   \n",
       "\n",
       "        day  \n",
       "1        10  \n",
       "18        5  \n",
       "42       25  \n",
       "54       31  \n",
       "59       23  \n",
       "...     ...  \n",
       "396799    6  \n",
       "396804   24  \n",
       "396848   12  \n",
       "396853   13  \n",
       "396860    6  \n",
       "\n",
       "[19596 rows x 10 columns]"
      ]
     },
     "execution_count": 18,
     "metadata": {},
     "output_type": "execute_result"
    }
   ],
   "source": [
    "Task3"
   ]
  },
  {
   "cell_type": "markdown",
   "id": "09c86d00-28c2-4eb1-810a-8b201cc8c852",
   "metadata": {},
   "source": [
    "### Splitting the data"
   ]
  },
  {
   "cell_type": "code",
   "execution_count": 19,
   "id": "4931238a-9491-4b01-a52c-d19231799717",
   "metadata": {},
   "outputs": [],
   "source": [
    "x=Task3[[\"classes\",\"job\",\"code\",\"hours\",\"year\",\"month\",\"day\"]]"
   ]
  },
  {
   "cell_type": "code",
   "execution_count": 20,
   "id": "da7575f3-8a5d-4a6b-9ef2-c888a03bec29",
   "metadata": {},
   "outputs": [],
   "source": [
    "y=Task3[\"cost\"]"
   ]
  },
  {
   "cell_type": "code",
   "execution_count": 21,
   "id": "78a4480a-6b43-4829-be5c-9e9b5499cb89",
   "metadata": {},
   "outputs": [
    {
     "data": {
      "text/html": [
       "<div>\n",
       "<style scoped>\n",
       "    .dataframe tbody tr th:only-of-type {\n",
       "        vertical-align: middle;\n",
       "    }\n",
       "\n",
       "    .dataframe tbody tr th {\n",
       "        vertical-align: top;\n",
       "    }\n",
       "\n",
       "    .dataframe thead th {\n",
       "        text-align: right;\n",
       "    }\n",
       "</style>\n",
       "<table border=\"1\" class=\"dataframe\">\n",
       "  <thead>\n",
       "    <tr style=\"text-align: right;\">\n",
       "      <th></th>\n",
       "      <th>classes</th>\n",
       "      <th>job</th>\n",
       "      <th>code</th>\n",
       "      <th>hours</th>\n",
       "      <th>year</th>\n",
       "      <th>month</th>\n",
       "      <th>day</th>\n",
       "    </tr>\n",
       "  </thead>\n",
       "  <tbody>\n",
       "    <tr>\n",
       "      <th>1</th>\n",
       "      <td>1</td>\n",
       "      <td>0</td>\n",
       "      <td>0</td>\n",
       "      <td>8.0</td>\n",
       "      <td>2023</td>\n",
       "      <td>11</td>\n",
       "      <td>10</td>\n",
       "    </tr>\n",
       "    <tr>\n",
       "      <th>18</th>\n",
       "      <td>0</td>\n",
       "      <td>2</td>\n",
       "      <td>3</td>\n",
       "      <td>4.0</td>\n",
       "      <td>2023</td>\n",
       "      <td>10</td>\n",
       "      <td>5</td>\n",
       "    </tr>\n",
       "    <tr>\n",
       "      <th>42</th>\n",
       "      <td>1</td>\n",
       "      <td>2</td>\n",
       "      <td>0</td>\n",
       "      <td>8.0</td>\n",
       "      <td>2023</td>\n",
       "      <td>10</td>\n",
       "      <td>25</td>\n",
       "    </tr>\n",
       "    <tr>\n",
       "      <th>54</th>\n",
       "      <td>0</td>\n",
       "      <td>2</td>\n",
       "      <td>0</td>\n",
       "      <td>40.0</td>\n",
       "      <td>2023</td>\n",
       "      <td>10</td>\n",
       "      <td>31</td>\n",
       "    </tr>\n",
       "    <tr>\n",
       "      <th>59</th>\n",
       "      <td>4</td>\n",
       "      <td>2</td>\n",
       "      <td>0</td>\n",
       "      <td>72.0</td>\n",
       "      <td>2023</td>\n",
       "      <td>10</td>\n",
       "      <td>23</td>\n",
       "    </tr>\n",
       "    <tr>\n",
       "      <th>...</th>\n",
       "      <td>...</td>\n",
       "      <td>...</td>\n",
       "      <td>...</td>\n",
       "      <td>...</td>\n",
       "      <td>...</td>\n",
       "      <td>...</td>\n",
       "      <td>...</td>\n",
       "    </tr>\n",
       "    <tr>\n",
       "      <th>396799</th>\n",
       "      <td>1</td>\n",
       "      <td>4</td>\n",
       "      <td>3</td>\n",
       "      <td>8.0</td>\n",
       "      <td>2023</td>\n",
       "      <td>10</td>\n",
       "      <td>6</td>\n",
       "    </tr>\n",
       "    <tr>\n",
       "      <th>396804</th>\n",
       "      <td>4</td>\n",
       "      <td>0</td>\n",
       "      <td>0</td>\n",
       "      <td>8.0</td>\n",
       "      <td>2023</td>\n",
       "      <td>10</td>\n",
       "      <td>24</td>\n",
       "    </tr>\n",
       "    <tr>\n",
       "      <th>396848</th>\n",
       "      <td>1</td>\n",
       "      <td>2</td>\n",
       "      <td>3</td>\n",
       "      <td>16.0</td>\n",
       "      <td>2023</td>\n",
       "      <td>10</td>\n",
       "      <td>12</td>\n",
       "    </tr>\n",
       "    <tr>\n",
       "      <th>396853</th>\n",
       "      <td>6</td>\n",
       "      <td>3</td>\n",
       "      <td>0</td>\n",
       "      <td>8.0</td>\n",
       "      <td>2023</td>\n",
       "      <td>10</td>\n",
       "      <td>13</td>\n",
       "    </tr>\n",
       "    <tr>\n",
       "      <th>396860</th>\n",
       "      <td>3</td>\n",
       "      <td>2</td>\n",
       "      <td>0</td>\n",
       "      <td>8.0</td>\n",
       "      <td>2023</td>\n",
       "      <td>10</td>\n",
       "      <td>6</td>\n",
       "    </tr>\n",
       "  </tbody>\n",
       "</table>\n",
       "<p>19596 rows × 7 columns</p>\n",
       "</div>"
      ],
      "text/plain": [
       "        classes  job  code  hours  year  month  day\n",
       "1             1    0     0    8.0  2023     11   10\n",
       "18            0    2     3    4.0  2023     10    5\n",
       "42            1    2     0    8.0  2023     10   25\n",
       "54            0    2     0   40.0  2023     10   31\n",
       "59            4    2     0   72.0  2023     10   23\n",
       "...         ...  ...   ...    ...   ...    ...  ...\n",
       "396799        1    4     3    8.0  2023     10    6\n",
       "396804        4    0     0    8.0  2023     10   24\n",
       "396848        1    2     3   16.0  2023     10   12\n",
       "396853        6    3     0    8.0  2023     10   13\n",
       "396860        3    2     0    8.0  2023     10    6\n",
       "\n",
       "[19596 rows x 7 columns]"
      ]
     },
     "execution_count": 21,
     "metadata": {},
     "output_type": "execute_result"
    }
   ],
   "source": [
    "x"
   ]
  },
  {
   "cell_type": "code",
   "execution_count": 22,
   "id": "302f9f81-f6c6-411a-bace-7eaadd596528",
   "metadata": {
    "scrolled": true
   },
   "outputs": [
    {
     "data": {
      "text/plain": [
       "1         1\n",
       "18        1\n",
       "42        1\n",
       "54        5\n",
       "59        9\n",
       "         ..\n",
       "396799    1\n",
       "396804    1\n",
       "396848    2\n",
       "396853    1\n",
       "396860    1\n",
       "Name: cost, Length: 19596, dtype: int64"
      ]
     },
     "execution_count": 22,
     "metadata": {},
     "output_type": "execute_result"
    }
   ],
   "source": [
    "y"
   ]
  },
  {
   "cell_type": "code",
   "execution_count": 23,
   "id": "55810b04-8836-4407-b82b-2b17d645f066",
   "metadata": {},
   "outputs": [],
   "source": [
    "from sklearn.model_selection import train_test_split\n",
    "x_train,x_test,y_train,y_test =train_test_split(x,y,test_size=0.3)   #test_size=30%"
   ]
  },
  {
   "cell_type": "code",
   "execution_count": 24,
   "id": "775efc56-ffbe-4550-bfa7-6bf7e0ab6fe1",
   "metadata": {},
   "outputs": [
    {
     "data": {
      "text/plain": [
       "classes    13717\n",
       "job        13717\n",
       "code       13717\n",
       "hours      13717\n",
       "year       13717\n",
       "month      13717\n",
       "day        13717\n",
       "dtype: int64"
      ]
     },
     "execution_count": 24,
     "metadata": {},
     "output_type": "execute_result"
    }
   ],
   "source": [
    "x_train.count()   #70%"
   ]
  },
  {
   "cell_type": "code",
   "execution_count": 25,
   "id": "a0e4e096-fb73-4458-9288-0934fc02f32a",
   "metadata": {},
   "outputs": [
    {
     "data": {
      "text/plain": [
       "5879"
      ]
     },
     "execution_count": 25,
     "metadata": {},
     "output_type": "execute_result"
    }
   ],
   "source": [
    "y_test.count()   #30%"
   ]
  },
  {
   "cell_type": "markdown",
   "id": "fd4d0b19-1eaf-46aa-8f57-dce845505c02",
   "metadata": {},
   "source": [
    "### Importing the required model"
   ]
  },
  {
   "cell_type": "code",
   "execution_count": 26,
   "id": "82e4721b-08f8-4cf8-b321-2465c5daeb7f",
   "metadata": {},
   "outputs": [],
   "source": [
    "from sklearn.linear_model import LinearRegression"
   ]
  },
  {
   "cell_type": "code",
   "execution_count": 27,
   "id": "581a6f66-f575-4bd9-b0cd-2bb85e9377a6",
   "metadata": {},
   "outputs": [],
   "source": [
    "lr=LinearRegression()"
   ]
  },
  {
   "cell_type": "markdown",
   "id": "d90e739e-fc31-40b7-ad85-ce6fc7f5dadc",
   "metadata": {},
   "source": [
    "### Training the model"
   ]
  },
  {
   "cell_type": "code",
   "execution_count": 28,
   "id": "303823d7-372a-4245-bfb3-fe9376c1e3ea",
   "metadata": {},
   "outputs": [
    {
     "data": {
      "text/html": [
       "<style>#sk-container-id-1 {color: black;background-color: white;}#sk-container-id-1 pre{padding: 0;}#sk-container-id-1 div.sk-toggleable {background-color: white;}#sk-container-id-1 label.sk-toggleable__label {cursor: pointer;display: block;width: 100%;margin-bottom: 0;padding: 0.3em;box-sizing: border-box;text-align: center;}#sk-container-id-1 label.sk-toggleable__label-arrow:before {content: \"▸\";float: left;margin-right: 0.25em;color: #696969;}#sk-container-id-1 label.sk-toggleable__label-arrow:hover:before {color: black;}#sk-container-id-1 div.sk-estimator:hover label.sk-toggleable__label-arrow:before {color: black;}#sk-container-id-1 div.sk-toggleable__content {max-height: 0;max-width: 0;overflow: hidden;text-align: left;background-color: #f0f8ff;}#sk-container-id-1 div.sk-toggleable__content pre {margin: 0.2em;color: black;border-radius: 0.25em;background-color: #f0f8ff;}#sk-container-id-1 input.sk-toggleable__control:checked~div.sk-toggleable__content {max-height: 200px;max-width: 100%;overflow: auto;}#sk-container-id-1 input.sk-toggleable__control:checked~label.sk-toggleable__label-arrow:before {content: \"▾\";}#sk-container-id-1 div.sk-estimator input.sk-toggleable__control:checked~label.sk-toggleable__label {background-color: #d4ebff;}#sk-container-id-1 div.sk-label input.sk-toggleable__control:checked~label.sk-toggleable__label {background-color: #d4ebff;}#sk-container-id-1 input.sk-hidden--visually {border: 0;clip: rect(1px 1px 1px 1px);clip: rect(1px, 1px, 1px, 1px);height: 1px;margin: -1px;overflow: hidden;padding: 0;position: absolute;width: 1px;}#sk-container-id-1 div.sk-estimator {font-family: monospace;background-color: #f0f8ff;border: 1px dotted black;border-radius: 0.25em;box-sizing: border-box;margin-bottom: 0.5em;}#sk-container-id-1 div.sk-estimator:hover {background-color: #d4ebff;}#sk-container-id-1 div.sk-parallel-item::after {content: \"\";width: 100%;border-bottom: 1px solid gray;flex-grow: 1;}#sk-container-id-1 div.sk-label:hover label.sk-toggleable__label {background-color: #d4ebff;}#sk-container-id-1 div.sk-serial::before {content: \"\";position: absolute;border-left: 1px solid gray;box-sizing: border-box;top: 0;bottom: 0;left: 50%;z-index: 0;}#sk-container-id-1 div.sk-serial {display: flex;flex-direction: column;align-items: center;background-color: white;padding-right: 0.2em;padding-left: 0.2em;position: relative;}#sk-container-id-1 div.sk-item {position: relative;z-index: 1;}#sk-container-id-1 div.sk-parallel {display: flex;align-items: stretch;justify-content: center;background-color: white;position: relative;}#sk-container-id-1 div.sk-item::before, #sk-container-id-1 div.sk-parallel-item::before {content: \"\";position: absolute;border-left: 1px solid gray;box-sizing: border-box;top: 0;bottom: 0;left: 50%;z-index: -1;}#sk-container-id-1 div.sk-parallel-item {display: flex;flex-direction: column;z-index: 1;position: relative;background-color: white;}#sk-container-id-1 div.sk-parallel-item:first-child::after {align-self: flex-end;width: 50%;}#sk-container-id-1 div.sk-parallel-item:last-child::after {align-self: flex-start;width: 50%;}#sk-container-id-1 div.sk-parallel-item:only-child::after {width: 0;}#sk-container-id-1 div.sk-dashed-wrapped {border: 1px dashed gray;margin: 0 0.4em 0.5em 0.4em;box-sizing: border-box;padding-bottom: 0.4em;background-color: white;}#sk-container-id-1 div.sk-label label {font-family: monospace;font-weight: bold;display: inline-block;line-height: 1.2em;}#sk-container-id-1 div.sk-label-container {text-align: center;}#sk-container-id-1 div.sk-container {/* jupyter's `normalize.less` sets `[hidden] { display: none; }` but bootstrap.min.css set `[hidden] { display: none !important; }` so we also need the `!important` here to be able to override the default hidden behavior on the sphinx rendered scikit-learn.org. See: https://github.com/scikit-learn/scikit-learn/issues/21755 */display: inline-block !important;position: relative;}#sk-container-id-1 div.sk-text-repr-fallback {display: none;}</style><div id=\"sk-container-id-1\" class=\"sk-top-container\"><div class=\"sk-text-repr-fallback\"><pre>LinearRegression()</pre><b>In a Jupyter environment, please rerun this cell to show the HTML representation or trust the notebook. <br />On GitHub, the HTML representation is unable to render, please try loading this page with nbviewer.org.</b></div><div class=\"sk-container\" hidden><div class=\"sk-item\"><div class=\"sk-estimator sk-toggleable\"><input class=\"sk-toggleable__control sk-hidden--visually\" id=\"sk-estimator-id-1\" type=\"checkbox\" checked><label for=\"sk-estimator-id-1\" class=\"sk-toggleable__label sk-toggleable__label-arrow\">LinearRegression</label><div class=\"sk-toggleable__content\"><pre>LinearRegression()</pre></div></div></div></div></div>"
      ],
      "text/plain": [
       "LinearRegression()"
      ]
     },
     "execution_count": 28,
     "metadata": {},
     "output_type": "execute_result"
    }
   ],
   "source": [
    "lr.fit(x_train,y_train)"
   ]
  },
  {
   "cell_type": "code",
   "execution_count": 29,
   "id": "7fe97d8b-ea68-470e-82d5-0fb6d12bcaf0",
   "metadata": {},
   "outputs": [],
   "source": [
    "y_pred=lr.predict(x_test)"
   ]
  },
  {
   "cell_type": "code",
   "execution_count": 30,
   "id": "efafab44-4f14-4a91-baa1-b00af3023112",
   "metadata": {},
   "outputs": [
    {
     "data": {
      "text/plain": [
       "array([ 9.00335272,  1.01709098,  1.0205861 , ..., 20.07996399,\n",
       "        1.02044111,  1.12717084])"
      ]
     },
     "execution_count": 30,
     "metadata": {},
     "output_type": "execute_result"
    }
   ],
   "source": [
    "y_pred"
   ]
  },
  {
   "cell_type": "markdown",
   "id": "e82e84f1-6071-4080-8065-dab4c4a8e2e5",
   "metadata": {},
   "source": [
    "### Score"
   ]
  },
  {
   "cell_type": "code",
   "execution_count": 31,
   "id": "24226d0c-7ab4-46a3-9db4-be8a6c767daa",
   "metadata": {},
   "outputs": [],
   "source": [
    "#from sklearn.metrics import accuracy_score\n",
    "#lr = accuracy_score(y_test, y_pred)"
   ]
  },
  {
   "cell_type": "code",
   "execution_count": 32,
   "id": "f3f1001b-f8ce-459d-963f-047ac5a95b40",
   "metadata": {},
   "outputs": [
    {
     "data": {
      "text/plain": [
       "0.9981470506446538"
      ]
     },
     "execution_count": 32,
     "metadata": {},
     "output_type": "execute_result"
    }
   ],
   "source": [
    "lr.score(x_test,y_test)"
   ]
  },
  {
   "cell_type": "markdown",
   "id": "1a48823e-9548-4db1-b669-c2cf1148c89e",
   "metadata": {},
   "source": [
    "### MSE(Mean Squared Error)"
   ]
  },
  {
   "cell_type": "code",
   "execution_count": 33,
   "id": "d44ca09b-737f-4234-9ec4-b85bc4ce47dd",
   "metadata": {},
   "outputs": [
    {
     "data": {
      "text/plain": [
       "0.062456980482353756"
      ]
     },
     "execution_count": 33,
     "metadata": {},
     "output_type": "execute_result"
    }
   ],
   "source": [
    "from sklearn.metrics import accuracy_score,mean_squared_error\n",
    "mean_squared_error(y_test,y_pred)"
   ]
  },
  {
   "cell_type": "code",
   "execution_count": null,
   "id": "e748a7e0-6af5-4921-8452-2dbc67e65e78",
   "metadata": {},
   "outputs": [],
   "source": []
  },
  {
   "cell_type": "markdown",
   "id": "cbad9536-293c-4463-9399-3607a758b97e",
   "metadata": {},
   "source": [
    "### 2. Predicting the hours Using Linear Regression Model"
   ]
  },
  {
   "cell_type": "code",
   "execution_count": 34,
   "id": "c6ed0caf-4b39-4e4b-8119-ba41c1a85aa4",
   "metadata": {},
   "outputs": [
    {
     "data": {
      "text/html": [
       "<div>\n",
       "<style scoped>\n",
       "    .dataframe tbody tr th:only-of-type {\n",
       "        vertical-align: middle;\n",
       "    }\n",
       "\n",
       "    .dataframe tbody tr th {\n",
       "        vertical-align: top;\n",
       "    }\n",
       "\n",
       "    .dataframe thead th {\n",
       "        text-align: right;\n",
       "    }\n",
       "</style>\n",
       "<table border=\"1\" class=\"dataframe\">\n",
       "  <thead>\n",
       "    <tr style=\"text-align: right;\">\n",
       "      <th></th>\n",
       "      <th>Unnamed: 0</th>\n",
       "      <th>classes</th>\n",
       "      <th>attend_date</th>\n",
       "      <th>job</th>\n",
       "      <th>code</th>\n",
       "      <th>cost</th>\n",
       "      <th>hours</th>\n",
       "      <th>year</th>\n",
       "      <th>month</th>\n",
       "      <th>day</th>\n",
       "    </tr>\n",
       "  </thead>\n",
       "  <tbody>\n",
       "    <tr>\n",
       "      <th>1</th>\n",
       "      <td>1</td>\n",
       "      <td>1</td>\n",
       "      <td>2023-11-10</td>\n",
       "      <td>0</td>\n",
       "      <td>0</td>\n",
       "      <td>1</td>\n",
       "      <td>8.0</td>\n",
       "      <td>2023</td>\n",
       "      <td>11</td>\n",
       "      <td>10</td>\n",
       "    </tr>\n",
       "    <tr>\n",
       "      <th>18</th>\n",
       "      <td>19</td>\n",
       "      <td>0</td>\n",
       "      <td>2023-10-05</td>\n",
       "      <td>2</td>\n",
       "      <td>3</td>\n",
       "      <td>1</td>\n",
       "      <td>4.0</td>\n",
       "      <td>2023</td>\n",
       "      <td>10</td>\n",
       "      <td>5</td>\n",
       "    </tr>\n",
       "    <tr>\n",
       "      <th>42</th>\n",
       "      <td>45</td>\n",
       "      <td>1</td>\n",
       "      <td>2023-10-25</td>\n",
       "      <td>2</td>\n",
       "      <td>0</td>\n",
       "      <td>1</td>\n",
       "      <td>8.0</td>\n",
       "      <td>2023</td>\n",
       "      <td>10</td>\n",
       "      <td>25</td>\n",
       "    </tr>\n",
       "    <tr>\n",
       "      <th>54</th>\n",
       "      <td>57</td>\n",
       "      <td>0</td>\n",
       "      <td>2023-10-31</td>\n",
       "      <td>2</td>\n",
       "      <td>0</td>\n",
       "      <td>5</td>\n",
       "      <td>40.0</td>\n",
       "      <td>2023</td>\n",
       "      <td>10</td>\n",
       "      <td>31</td>\n",
       "    </tr>\n",
       "    <tr>\n",
       "      <th>59</th>\n",
       "      <td>62</td>\n",
       "      <td>4</td>\n",
       "      <td>2023-10-23</td>\n",
       "      <td>2</td>\n",
       "      <td>0</td>\n",
       "      <td>9</td>\n",
       "      <td>72.0</td>\n",
       "      <td>2023</td>\n",
       "      <td>10</td>\n",
       "      <td>23</td>\n",
       "    </tr>\n",
       "  </tbody>\n",
       "</table>\n",
       "</div>"
      ],
      "text/plain": [
       "    Unnamed: 0  classes attend_date  job  code  cost  hours  year  month  day\n",
       "1            1        1  2023-11-10    0     0     1    8.0  2023     11   10\n",
       "18          19        0  2023-10-05    2     3     1    4.0  2023     10    5\n",
       "42          45        1  2023-10-25    2     0     1    8.0  2023     10   25\n",
       "54          57        0  2023-10-31    2     0     5   40.0  2023     10   31\n",
       "59          62        4  2023-10-23    2     0     9   72.0  2023     10   23"
      ]
     },
     "execution_count": 34,
     "metadata": {},
     "output_type": "execute_result"
    }
   ],
   "source": [
    "Task3.head()"
   ]
  },
  {
   "cell_type": "markdown",
   "id": "c9a1d9aa-6801-402e-99d4-4a7d129aef73",
   "metadata": {},
   "source": [
    "### Splitting thhe data"
   ]
  },
  {
   "cell_type": "code",
   "execution_count": 35,
   "id": "b750c4bd-1209-4772-b21e-d6cb35ec0105",
   "metadata": {},
   "outputs": [],
   "source": [
    "a=Task3[[\"classes\",\"job\",\"code\",\"cost\",\"year\",\"month\",\"day\"]]\n",
    "b=Task3[\"hours\"]"
   ]
  },
  {
   "cell_type": "code",
   "execution_count": 36,
   "id": "b39661ef-59ed-4cf4-bb9c-4f223f8a1a03",
   "metadata": {},
   "outputs": [
    {
     "data": {
      "text/html": [
       "<div>\n",
       "<style scoped>\n",
       "    .dataframe tbody tr th:only-of-type {\n",
       "        vertical-align: middle;\n",
       "    }\n",
       "\n",
       "    .dataframe tbody tr th {\n",
       "        vertical-align: top;\n",
       "    }\n",
       "\n",
       "    .dataframe thead th {\n",
       "        text-align: right;\n",
       "    }\n",
       "</style>\n",
       "<table border=\"1\" class=\"dataframe\">\n",
       "  <thead>\n",
       "    <tr style=\"text-align: right;\">\n",
       "      <th></th>\n",
       "      <th>classes</th>\n",
       "      <th>job</th>\n",
       "      <th>code</th>\n",
       "      <th>cost</th>\n",
       "      <th>year</th>\n",
       "      <th>month</th>\n",
       "      <th>day</th>\n",
       "    </tr>\n",
       "  </thead>\n",
       "  <tbody>\n",
       "    <tr>\n",
       "      <th>1</th>\n",
       "      <td>1</td>\n",
       "      <td>0</td>\n",
       "      <td>0</td>\n",
       "      <td>1</td>\n",
       "      <td>2023</td>\n",
       "      <td>11</td>\n",
       "      <td>10</td>\n",
       "    </tr>\n",
       "    <tr>\n",
       "      <th>18</th>\n",
       "      <td>0</td>\n",
       "      <td>2</td>\n",
       "      <td>3</td>\n",
       "      <td>1</td>\n",
       "      <td>2023</td>\n",
       "      <td>10</td>\n",
       "      <td>5</td>\n",
       "    </tr>\n",
       "    <tr>\n",
       "      <th>42</th>\n",
       "      <td>1</td>\n",
       "      <td>2</td>\n",
       "      <td>0</td>\n",
       "      <td>1</td>\n",
       "      <td>2023</td>\n",
       "      <td>10</td>\n",
       "      <td>25</td>\n",
       "    </tr>\n",
       "    <tr>\n",
       "      <th>54</th>\n",
       "      <td>0</td>\n",
       "      <td>2</td>\n",
       "      <td>0</td>\n",
       "      <td>5</td>\n",
       "      <td>2023</td>\n",
       "      <td>10</td>\n",
       "      <td>31</td>\n",
       "    </tr>\n",
       "    <tr>\n",
       "      <th>59</th>\n",
       "      <td>4</td>\n",
       "      <td>2</td>\n",
       "      <td>0</td>\n",
       "      <td>9</td>\n",
       "      <td>2023</td>\n",
       "      <td>10</td>\n",
       "      <td>23</td>\n",
       "    </tr>\n",
       "    <tr>\n",
       "      <th>...</th>\n",
       "      <td>...</td>\n",
       "      <td>...</td>\n",
       "      <td>...</td>\n",
       "      <td>...</td>\n",
       "      <td>...</td>\n",
       "      <td>...</td>\n",
       "      <td>...</td>\n",
       "    </tr>\n",
       "    <tr>\n",
       "      <th>396799</th>\n",
       "      <td>1</td>\n",
       "      <td>4</td>\n",
       "      <td>3</td>\n",
       "      <td>1</td>\n",
       "      <td>2023</td>\n",
       "      <td>10</td>\n",
       "      <td>6</td>\n",
       "    </tr>\n",
       "    <tr>\n",
       "      <th>396804</th>\n",
       "      <td>4</td>\n",
       "      <td>0</td>\n",
       "      <td>0</td>\n",
       "      <td>1</td>\n",
       "      <td>2023</td>\n",
       "      <td>10</td>\n",
       "      <td>24</td>\n",
       "    </tr>\n",
       "    <tr>\n",
       "      <th>396848</th>\n",
       "      <td>1</td>\n",
       "      <td>2</td>\n",
       "      <td>3</td>\n",
       "      <td>2</td>\n",
       "      <td>2023</td>\n",
       "      <td>10</td>\n",
       "      <td>12</td>\n",
       "    </tr>\n",
       "    <tr>\n",
       "      <th>396853</th>\n",
       "      <td>6</td>\n",
       "      <td>3</td>\n",
       "      <td>0</td>\n",
       "      <td>1</td>\n",
       "      <td>2023</td>\n",
       "      <td>10</td>\n",
       "      <td>13</td>\n",
       "    </tr>\n",
       "    <tr>\n",
       "      <th>396860</th>\n",
       "      <td>3</td>\n",
       "      <td>2</td>\n",
       "      <td>0</td>\n",
       "      <td>1</td>\n",
       "      <td>2023</td>\n",
       "      <td>10</td>\n",
       "      <td>6</td>\n",
       "    </tr>\n",
       "  </tbody>\n",
       "</table>\n",
       "<p>19596 rows × 7 columns</p>\n",
       "</div>"
      ],
      "text/plain": [
       "        classes  job  code  cost  year  month  day\n",
       "1             1    0     0     1  2023     11   10\n",
       "18            0    2     3     1  2023     10    5\n",
       "42            1    2     0     1  2023     10   25\n",
       "54            0    2     0     5  2023     10   31\n",
       "59            4    2     0     9  2023     10   23\n",
       "...         ...  ...   ...   ...   ...    ...  ...\n",
       "396799        1    4     3     1  2023     10    6\n",
       "396804        4    0     0     1  2023     10   24\n",
       "396848        1    2     3     2  2023     10   12\n",
       "396853        6    3     0     1  2023     10   13\n",
       "396860        3    2     0     1  2023     10    6\n",
       "\n",
       "[19596 rows x 7 columns]"
      ]
     },
     "execution_count": 36,
     "metadata": {},
     "output_type": "execute_result"
    }
   ],
   "source": [
    "a"
   ]
  },
  {
   "cell_type": "code",
   "execution_count": 37,
   "id": "dc7236b6-ce69-41c0-955f-0f464ab0723e",
   "metadata": {},
   "outputs": [
    {
     "data": {
      "text/plain": [
       "1          8.0\n",
       "18         4.0\n",
       "42         8.0\n",
       "54        40.0\n",
       "59        72.0\n",
       "          ... \n",
       "396799     8.0\n",
       "396804     8.0\n",
       "396848    16.0\n",
       "396853     8.0\n",
       "396860     8.0\n",
       "Name: hours, Length: 19596, dtype: float64"
      ]
     },
     "execution_count": 37,
     "metadata": {},
     "output_type": "execute_result"
    }
   ],
   "source": [
    "b"
   ]
  },
  {
   "cell_type": "code",
   "execution_count": 38,
   "id": "97db4422-a11c-481b-b579-1c2b0fae5bc1",
   "metadata": {},
   "outputs": [],
   "source": [
    "from sklearn.model_selection import train_test_split\n",
    "x1_train,x2_test,y1_train,y2_test =train_test_split(a,b,test_size=0.3,random_state=0)   #test_size=30%\n",
    "#the term \"random_state\" is often used to set a seed for the random number generator."
   ]
  },
  {
   "cell_type": "code",
   "execution_count": 39,
   "id": "b63a85fc-1bb6-4ed8-b79b-5bf36b93153d",
   "metadata": {},
   "outputs": [
    {
     "data": {
      "text/plain": [
       "classes    13717\n",
       "job        13717\n",
       "code       13717\n",
       "cost       13717\n",
       "year       13717\n",
       "month      13717\n",
       "day        13717\n",
       "dtype: int64"
      ]
     },
     "execution_count": 39,
     "metadata": {},
     "output_type": "execute_result"
    }
   ],
   "source": [
    "x1_train.count()"
   ]
  },
  {
   "cell_type": "code",
   "execution_count": 40,
   "id": "4e5e797f-c3c9-4113-9ed4-58e9dc21be6f",
   "metadata": {},
   "outputs": [
    {
     "data": {
      "text/plain": [
       "classes    5879\n",
       "job        5879\n",
       "code       5879\n",
       "cost       5879\n",
       "year       5879\n",
       "month      5879\n",
       "day        5879\n",
       "dtype: int64"
      ]
     },
     "execution_count": 40,
     "metadata": {},
     "output_type": "execute_result"
    }
   ],
   "source": [
    "x2_test.count()"
   ]
  },
  {
   "cell_type": "markdown",
   "id": "cc21be5a-e5bc-4c9c-8417-5d8ddda39517",
   "metadata": {},
   "source": [
    "### Importing the required model"
   ]
  },
  {
   "cell_type": "code",
   "execution_count": 41,
   "id": "bfddb542-464a-449c-a446-8ebf657f5255",
   "metadata": {},
   "outputs": [],
   "source": [
    "from sklearn.linear_model import LinearRegression\n",
    "model=LinearRegression()"
   ]
  },
  {
   "cell_type": "markdown",
   "id": "99da7772-a369-47a9-9157-a1bcd909cc00",
   "metadata": {},
   "source": [
    "### Training the model "
   ]
  },
  {
   "cell_type": "code",
   "execution_count": 42,
   "id": "1d236fa1-2c82-419a-8e11-2b2c0b53e878",
   "metadata": {},
   "outputs": [
    {
     "data": {
      "text/html": [
       "<style>#sk-container-id-2 {color: black;background-color: white;}#sk-container-id-2 pre{padding: 0;}#sk-container-id-2 div.sk-toggleable {background-color: white;}#sk-container-id-2 label.sk-toggleable__label {cursor: pointer;display: block;width: 100%;margin-bottom: 0;padding: 0.3em;box-sizing: border-box;text-align: center;}#sk-container-id-2 label.sk-toggleable__label-arrow:before {content: \"▸\";float: left;margin-right: 0.25em;color: #696969;}#sk-container-id-2 label.sk-toggleable__label-arrow:hover:before {color: black;}#sk-container-id-2 div.sk-estimator:hover label.sk-toggleable__label-arrow:before {color: black;}#sk-container-id-2 div.sk-toggleable__content {max-height: 0;max-width: 0;overflow: hidden;text-align: left;background-color: #f0f8ff;}#sk-container-id-2 div.sk-toggleable__content pre {margin: 0.2em;color: black;border-radius: 0.25em;background-color: #f0f8ff;}#sk-container-id-2 input.sk-toggleable__control:checked~div.sk-toggleable__content {max-height: 200px;max-width: 100%;overflow: auto;}#sk-container-id-2 input.sk-toggleable__control:checked~label.sk-toggleable__label-arrow:before {content: \"▾\";}#sk-container-id-2 div.sk-estimator input.sk-toggleable__control:checked~label.sk-toggleable__label {background-color: #d4ebff;}#sk-container-id-2 div.sk-label input.sk-toggleable__control:checked~label.sk-toggleable__label {background-color: #d4ebff;}#sk-container-id-2 input.sk-hidden--visually {border: 0;clip: rect(1px 1px 1px 1px);clip: rect(1px, 1px, 1px, 1px);height: 1px;margin: -1px;overflow: hidden;padding: 0;position: absolute;width: 1px;}#sk-container-id-2 div.sk-estimator {font-family: monospace;background-color: #f0f8ff;border: 1px dotted black;border-radius: 0.25em;box-sizing: border-box;margin-bottom: 0.5em;}#sk-container-id-2 div.sk-estimator:hover {background-color: #d4ebff;}#sk-container-id-2 div.sk-parallel-item::after {content: \"\";width: 100%;border-bottom: 1px solid gray;flex-grow: 1;}#sk-container-id-2 div.sk-label:hover label.sk-toggleable__label {background-color: #d4ebff;}#sk-container-id-2 div.sk-serial::before {content: \"\";position: absolute;border-left: 1px solid gray;box-sizing: border-box;top: 0;bottom: 0;left: 50%;z-index: 0;}#sk-container-id-2 div.sk-serial {display: flex;flex-direction: column;align-items: center;background-color: white;padding-right: 0.2em;padding-left: 0.2em;position: relative;}#sk-container-id-2 div.sk-item {position: relative;z-index: 1;}#sk-container-id-2 div.sk-parallel {display: flex;align-items: stretch;justify-content: center;background-color: white;position: relative;}#sk-container-id-2 div.sk-item::before, #sk-container-id-2 div.sk-parallel-item::before {content: \"\";position: absolute;border-left: 1px solid gray;box-sizing: border-box;top: 0;bottom: 0;left: 50%;z-index: -1;}#sk-container-id-2 div.sk-parallel-item {display: flex;flex-direction: column;z-index: 1;position: relative;background-color: white;}#sk-container-id-2 div.sk-parallel-item:first-child::after {align-self: flex-end;width: 50%;}#sk-container-id-2 div.sk-parallel-item:last-child::after {align-self: flex-start;width: 50%;}#sk-container-id-2 div.sk-parallel-item:only-child::after {width: 0;}#sk-container-id-2 div.sk-dashed-wrapped {border: 1px dashed gray;margin: 0 0.4em 0.5em 0.4em;box-sizing: border-box;padding-bottom: 0.4em;background-color: white;}#sk-container-id-2 div.sk-label label {font-family: monospace;font-weight: bold;display: inline-block;line-height: 1.2em;}#sk-container-id-2 div.sk-label-container {text-align: center;}#sk-container-id-2 div.sk-container {/* jupyter's `normalize.less` sets `[hidden] { display: none; }` but bootstrap.min.css set `[hidden] { display: none !important; }` so we also need the `!important` here to be able to override the default hidden behavior on the sphinx rendered scikit-learn.org. See: https://github.com/scikit-learn/scikit-learn/issues/21755 */display: inline-block !important;position: relative;}#sk-container-id-2 div.sk-text-repr-fallback {display: none;}</style><div id=\"sk-container-id-2\" class=\"sk-top-container\"><div class=\"sk-text-repr-fallback\"><pre>LinearRegression()</pre><b>In a Jupyter environment, please rerun this cell to show the HTML representation or trust the notebook. <br />On GitHub, the HTML representation is unable to render, please try loading this page with nbviewer.org.</b></div><div class=\"sk-container\" hidden><div class=\"sk-item\"><div class=\"sk-estimator sk-toggleable\"><input class=\"sk-toggleable__control sk-hidden--visually\" id=\"sk-estimator-id-2\" type=\"checkbox\" checked><label for=\"sk-estimator-id-2\" class=\"sk-toggleable__label sk-toggleable__label-arrow\">LinearRegression</label><div class=\"sk-toggleable__content\"><pre>LinearRegression()</pre></div></div></div></div></div>"
      ],
      "text/plain": [
       "LinearRegression()"
      ]
     },
     "execution_count": 42,
     "metadata": {},
     "output_type": "execute_result"
    }
   ],
   "source": [
    "model.fit(x1_train,y1_train)"
   ]
  },
  {
   "cell_type": "code",
   "execution_count": 43,
   "id": "d9ac2d94-9d49-440b-ad8e-b5536ed635bd",
   "metadata": {},
   "outputs": [],
   "source": [
    "Y_Pred=model.predict(x2_test)"
   ]
  },
  {
   "cell_type": "code",
   "execution_count": 44,
   "id": "40f0645e-e6bf-44c6-9781-05b53462bf9f",
   "metadata": {},
   "outputs": [
    {
     "data": {
      "text/plain": [
       "array([ 7.88234945, 32.19581041,  7.84427538, ...,  7.84316344,\n",
       "       15.00060864,  7.05502366])"
      ]
     },
     "execution_count": 44,
     "metadata": {},
     "output_type": "execute_result"
    }
   ],
   "source": [
    "Y_Pred"
   ]
  },
  {
   "cell_type": "markdown",
   "id": "ace42e6b-b13c-4e4d-bd03-d71eba4e5b09",
   "metadata": {},
   "source": [
    "### Score"
   ]
  },
  {
   "cell_type": "code",
   "execution_count": 45,
   "id": "88919887-d1c6-4d7c-9289-22319465a853",
   "metadata": {},
   "outputs": [
    {
     "data": {
      "text/plain": [
       "0.9984421276084692"
      ]
     },
     "execution_count": 45,
     "metadata": {},
     "output_type": "execute_result"
    }
   ],
   "source": [
    "#from sklearn.metrics import accuracy_score\n",
    "#accuracy_score(y2_test, Y_Pred)\n",
    "model.score(x2_test,y2_test)"
   ]
  },
  {
   "cell_type": "code",
   "execution_count": 46,
   "id": "85d2c35e-c9b9-46db-8647-3d1de20c1c79",
   "metadata": {},
   "outputs": [],
   "source": [
    "#model.score(x1_train,y1_train)"
   ]
  },
  {
   "cell_type": "markdown",
   "id": "373ff750-8db0-4c24-8814-70db0b4d9d84",
   "metadata": {},
   "source": [
    "### MSE(Mean Squared Error)"
   ]
  },
  {
   "cell_type": "code",
   "execution_count": 47,
   "id": "ad35f437-1298-49d8-ba64-6ed0dd55abe3",
   "metadata": {},
   "outputs": [
    {
     "data": {
      "text/plain": [
       "3.2815908494718222"
      ]
     },
     "execution_count": 47,
     "metadata": {},
     "output_type": "execute_result"
    }
   ],
   "source": [
    "from sklearn.metrics import accuracy_score,mean_squared_error\n",
    "mean_squared_error(y2_test,Y_Pred)"
   ]
  },
  {
   "cell_type": "code",
   "execution_count": null,
   "id": "634fd5a4-93af-47cd-9143-4fa9c394af01",
   "metadata": {},
   "outputs": [],
   "source": []
  }
 ],
 "metadata": {
  "kernelspec": {
   "display_name": "Python 3 (ipykernel)",
   "language": "python",
   "name": "python3"
  },
  "language_info": {
   "codemirror_mode": {
    "name": "ipython",
    "version": 3
   },
   "file_extension": ".py",
   "mimetype": "text/x-python",
   "name": "python",
   "nbconvert_exporter": "python",
   "pygments_lexer": "ipython3",
   "version": "3.11.7"
  }
 },
 "nbformat": 4,
 "nbformat_minor": 5
}
