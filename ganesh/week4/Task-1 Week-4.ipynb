{
 "cells": [
  {
   "cell_type": "code",
   "execution_count": 2,
   "id": "26c207c0-6645-402b-a69c-7bfe8f318005",
   "metadata": {},
   "outputs": [],
   "source": [
    "import numpy as np\n",
    "import pandas as pd\n",
    "import matplotlib.pyplot as plt\n",
    "import seaborn as sns\n",
    "from sklearn import linear_model"
   ]
  },
  {
   "cell_type": "code",
   "execution_count": 3,
   "id": "ddd0ac7a-b39d-45dd-abd6-35afb8b764bf",
   "metadata": {},
   "outputs": [],
   "source": [
    "import warnings\n",
    "warnings.simplefilter(action=\"ignore\",category=FutureWarning)\n",
    "#code to ignore the future warnings"
   ]
  },
  {
   "cell_type": "code",
   "execution_count": 4,
   "id": "32b2002d-0887-4890-9327-b5b301ffd466",
   "metadata": {},
   "outputs": [],
   "source": [
    "import warnings\n",
    "warnings.filterwarnings(\"ignore\")"
   ]
  },
  {
   "cell_type": "code",
   "execution_count": 5,
   "id": "b2b79b4a-206a-4086-bb03-bdfc422d1fb6",
   "metadata": {},
   "outputs": [],
   "source": [
    "df=pd.read_csv(r\"C:\\Users\\ganig\\OneDrive\\Desktop\\Dataset\\ml-2.csv\")"
   ]
  },
  {
   "cell_type": "code",
   "execution_count": 6,
   "id": "16d0c976-e70a-41ad-bcda-c40e66e077ae",
   "metadata": {},
   "outputs": [
    {
     "data": {
      "text/html": [
       "<div>\n",
       "<style scoped>\n",
       "    .dataframe tbody tr th:only-of-type {\n",
       "        vertical-align: middle;\n",
       "    }\n",
       "\n",
       "    .dataframe tbody tr th {\n",
       "        vertical-align: top;\n",
       "    }\n",
       "\n",
       "    .dataframe thead th {\n",
       "        text-align: right;\n",
       "    }\n",
       "</style>\n",
       "<table border=\"1\" class=\"dataframe\">\n",
       "  <thead>\n",
       "    <tr style=\"text-align: right;\">\n",
       "      <th></th>\n",
       "      <th>Unnamed: 0</th>\n",
       "      <th>Date</th>\n",
       "      <th>Energy</th>\n",
       "      <th>Resistance</th>\n",
       "      <th>Current</th>\n",
       "      <th>Voltage</th>\n",
       "      <th>Power</th>\n",
       "      <th>uipvalue</th>\n",
       "      <th>weldpoint</th>\n",
       "      <th>score</th>\n",
       "      <th>prediction</th>\n",
       "      <th>year</th>\n",
       "      <th>month</th>\n",
       "      <th>day</th>\n",
       "      <th>id</th>\n",
       "    </tr>\n",
       "  </thead>\n",
       "  <tbody>\n",
       "    <tr>\n",
       "      <th>0</th>\n",
       "      <td>16645</td>\n",
       "      <td>2023-03-10 16:06:05.180</td>\n",
       "      <td>5279.587891</td>\n",
       "      <td>272.0</td>\n",
       "      <td>7.10</td>\n",
       "      <td>1.88</td>\n",
       "      <td>13342.919922</td>\n",
       "      <td>80</td>\n",
       "      <td>T0391</td>\n",
       "      <td>8.137701</td>\n",
       "      <td>Passed</td>\n",
       "      <td>2023</td>\n",
       "      <td>3</td>\n",
       "      <td>10</td>\n",
       "      <td>Train</td>\n",
       "    </tr>\n",
       "    <tr>\n",
       "      <th>1</th>\n",
       "      <td>16650</td>\n",
       "      <td>2023-03-10 16:06:59.390</td>\n",
       "      <td>5284.775879</td>\n",
       "      <td>270.0</td>\n",
       "      <td>7.13</td>\n",
       "      <td>1.84</td>\n",
       "      <td>13123.620117</td>\n",
       "      <td>96</td>\n",
       "      <td>T0391</td>\n",
       "      <td>15.128845</td>\n",
       "      <td>Passed</td>\n",
       "      <td>2023</td>\n",
       "      <td>3</td>\n",
       "      <td>10</td>\n",
       "      <td>Train</td>\n",
       "    </tr>\n",
       "    <tr>\n",
       "      <th>2</th>\n",
       "      <td>16651</td>\n",
       "      <td>2023-03-10 16:00:49.570</td>\n",
       "      <td>5229.563965</td>\n",
       "      <td>267.0</td>\n",
       "      <td>7.15</td>\n",
       "      <td>1.85</td>\n",
       "      <td>13218.250000</td>\n",
       "      <td>69</td>\n",
       "      <td>T0391</td>\n",
       "      <td>39.734211</td>\n",
       "      <td>Failed</td>\n",
       "      <td>2023</td>\n",
       "      <td>3</td>\n",
       "      <td>10</td>\n",
       "      <td>Train</td>\n",
       "    </tr>\n",
       "    <tr>\n",
       "      <th>3</th>\n",
       "      <td>16660</td>\n",
       "      <td>2023-03-10 16:44:37.850</td>\n",
       "      <td>5402.745117</td>\n",
       "      <td>273.0</td>\n",
       "      <td>7.16</td>\n",
       "      <td>1.90</td>\n",
       "      <td>13602.860352</td>\n",
       "      <td>93</td>\n",
       "      <td>T0391</td>\n",
       "      <td>16.287536</td>\n",
       "      <td>Passed</td>\n",
       "      <td>2023</td>\n",
       "      <td>3</td>\n",
       "      <td>10</td>\n",
       "      <td>Train</td>\n",
       "    </tr>\n",
       "    <tr>\n",
       "      <th>4</th>\n",
       "      <td>16661</td>\n",
       "      <td>2023-03-10 16:45:25.860</td>\n",
       "      <td>5341.735840</td>\n",
       "      <td>274.0</td>\n",
       "      <td>7.10</td>\n",
       "      <td>1.89</td>\n",
       "      <td>13413.139648</td>\n",
       "      <td>95</td>\n",
       "      <td>T0391</td>\n",
       "      <td>0.707636</td>\n",
       "      <td>Passed</td>\n",
       "      <td>2023</td>\n",
       "      <td>3</td>\n",
       "      <td>10</td>\n",
       "      <td>Train</td>\n",
       "    </tr>\n",
       "  </tbody>\n",
       "</table>\n",
       "</div>"
      ],
      "text/plain": [
       "   Unnamed: 0                     Date       Energy  Resistance  Current  \\\n",
       "0       16645  2023-03-10 16:06:05.180  5279.587891       272.0     7.10   \n",
       "1       16650  2023-03-10 16:06:59.390  5284.775879       270.0     7.13   \n",
       "2       16651  2023-03-10 16:00:49.570  5229.563965       267.0     7.15   \n",
       "3       16660  2023-03-10 16:44:37.850  5402.745117       273.0     7.16   \n",
       "4       16661  2023-03-10 16:45:25.860  5341.735840       274.0     7.10   \n",
       "\n",
       "   Voltage         Power  uipvalue weldpoint      score prediction  year  \\\n",
       "0     1.88  13342.919922        80     T0391   8.137701     Passed  2023   \n",
       "1     1.84  13123.620117        96     T0391  15.128845     Passed  2023   \n",
       "2     1.85  13218.250000        69     T0391  39.734211     Failed  2023   \n",
       "3     1.90  13602.860352        93     T0391  16.287536     Passed  2023   \n",
       "4     1.89  13413.139648        95     T0391   0.707636     Passed  2023   \n",
       "\n",
       "   month  day     id  \n",
       "0      3   10  Train  \n",
       "1      3   10  Train  \n",
       "2      3   10  Train  \n",
       "3      3   10  Train  \n",
       "4      3   10  Train  "
      ]
     },
     "execution_count": 6,
     "metadata": {},
     "output_type": "execute_result"
    }
   ],
   "source": [
    "df.head()"
   ]
  },
  {
   "cell_type": "code",
   "execution_count": 7,
   "id": "0a507d64-b73d-4d73-8b69-2e9a791a6cbe",
   "metadata": {},
   "outputs": [
    {
     "data": {
      "text/plain": [
       "array(['Passed', 'Failed'], dtype=object)"
      ]
     },
     "execution_count": 7,
     "metadata": {},
     "output_type": "execute_result"
    }
   ],
   "source": [
    "df[\"prediction\"].unique()"
   ]
  },
  {
   "cell_type": "code",
   "execution_count": 8,
   "id": "056a6d79-fbd6-429b-930a-d2e91ae2cfcc",
   "metadata": {},
   "outputs": [],
   "source": [
    "df[\"prediction\"].replace({'Passed': '1', 'Failed': '0'}, inplace=True)"
   ]
  },
  {
   "cell_type": "code",
   "execution_count": 9,
   "id": "17a93191-4fc1-4516-9f1c-aaf5dbdfd496",
   "metadata": {},
   "outputs": [
    {
     "data": {
      "text/html": [
       "<div>\n",
       "<style scoped>\n",
       "    .dataframe tbody tr th:only-of-type {\n",
       "        vertical-align: middle;\n",
       "    }\n",
       "\n",
       "    .dataframe tbody tr th {\n",
       "        vertical-align: top;\n",
       "    }\n",
       "\n",
       "    .dataframe thead th {\n",
       "        text-align: right;\n",
       "    }\n",
       "</style>\n",
       "<table border=\"1\" class=\"dataframe\">\n",
       "  <thead>\n",
       "    <tr style=\"text-align: right;\">\n",
       "      <th></th>\n",
       "      <th>Unnamed: 0</th>\n",
       "      <th>Date</th>\n",
       "      <th>Energy</th>\n",
       "      <th>Resistance</th>\n",
       "      <th>Current</th>\n",
       "      <th>Voltage</th>\n",
       "      <th>Power</th>\n",
       "      <th>uipvalue</th>\n",
       "      <th>weldpoint</th>\n",
       "      <th>score</th>\n",
       "      <th>prediction</th>\n",
       "      <th>year</th>\n",
       "      <th>month</th>\n",
       "      <th>day</th>\n",
       "      <th>id</th>\n",
       "    </tr>\n",
       "  </thead>\n",
       "  <tbody>\n",
       "    <tr>\n",
       "      <th>0</th>\n",
       "      <td>16645</td>\n",
       "      <td>2023-03-10 16:06:05.180</td>\n",
       "      <td>5279.587891</td>\n",
       "      <td>272.0</td>\n",
       "      <td>7.10</td>\n",
       "      <td>1.88</td>\n",
       "      <td>13342.919922</td>\n",
       "      <td>80</td>\n",
       "      <td>T0391</td>\n",
       "      <td>8.137701</td>\n",
       "      <td>1</td>\n",
       "      <td>2023</td>\n",
       "      <td>3</td>\n",
       "      <td>10</td>\n",
       "      <td>Train</td>\n",
       "    </tr>\n",
       "    <tr>\n",
       "      <th>1</th>\n",
       "      <td>16650</td>\n",
       "      <td>2023-03-10 16:06:59.390</td>\n",
       "      <td>5284.775879</td>\n",
       "      <td>270.0</td>\n",
       "      <td>7.13</td>\n",
       "      <td>1.84</td>\n",
       "      <td>13123.620117</td>\n",
       "      <td>96</td>\n",
       "      <td>T0391</td>\n",
       "      <td>15.128845</td>\n",
       "      <td>1</td>\n",
       "      <td>2023</td>\n",
       "      <td>3</td>\n",
       "      <td>10</td>\n",
       "      <td>Train</td>\n",
       "    </tr>\n",
       "    <tr>\n",
       "      <th>2</th>\n",
       "      <td>16651</td>\n",
       "      <td>2023-03-10 16:00:49.570</td>\n",
       "      <td>5229.563965</td>\n",
       "      <td>267.0</td>\n",
       "      <td>7.15</td>\n",
       "      <td>1.85</td>\n",
       "      <td>13218.250000</td>\n",
       "      <td>69</td>\n",
       "      <td>T0391</td>\n",
       "      <td>39.734211</td>\n",
       "      <td>0</td>\n",
       "      <td>2023</td>\n",
       "      <td>3</td>\n",
       "      <td>10</td>\n",
       "      <td>Train</td>\n",
       "    </tr>\n",
       "    <tr>\n",
       "      <th>3</th>\n",
       "      <td>16660</td>\n",
       "      <td>2023-03-10 16:44:37.850</td>\n",
       "      <td>5402.745117</td>\n",
       "      <td>273.0</td>\n",
       "      <td>7.16</td>\n",
       "      <td>1.90</td>\n",
       "      <td>13602.860352</td>\n",
       "      <td>93</td>\n",
       "      <td>T0391</td>\n",
       "      <td>16.287536</td>\n",
       "      <td>1</td>\n",
       "      <td>2023</td>\n",
       "      <td>3</td>\n",
       "      <td>10</td>\n",
       "      <td>Train</td>\n",
       "    </tr>\n",
       "    <tr>\n",
       "      <th>4</th>\n",
       "      <td>16661</td>\n",
       "      <td>2023-03-10 16:45:25.860</td>\n",
       "      <td>5341.735840</td>\n",
       "      <td>274.0</td>\n",
       "      <td>7.10</td>\n",
       "      <td>1.89</td>\n",
       "      <td>13413.139648</td>\n",
       "      <td>95</td>\n",
       "      <td>T0391</td>\n",
       "      <td>0.707636</td>\n",
       "      <td>1</td>\n",
       "      <td>2023</td>\n",
       "      <td>3</td>\n",
       "      <td>10</td>\n",
       "      <td>Train</td>\n",
       "    </tr>\n",
       "    <tr>\n",
       "      <th>...</th>\n",
       "      <td>...</td>\n",
       "      <td>...</td>\n",
       "      <td>...</td>\n",
       "      <td>...</td>\n",
       "      <td>...</td>\n",
       "      <td>...</td>\n",
       "      <td>...</td>\n",
       "      <td>...</td>\n",
       "      <td>...</td>\n",
       "      <td>...</td>\n",
       "      <td>...</td>\n",
       "      <td>...</td>\n",
       "      <td>...</td>\n",
       "      <td>...</td>\n",
       "      <td>...</td>\n",
       "    </tr>\n",
       "    <tr>\n",
       "      <th>8448</th>\n",
       "      <td>94288</td>\n",
       "      <td>2023-08-08 14:11:31.360</td>\n",
       "      <td>5510.055176</td>\n",
       "      <td>277.0</td>\n",
       "      <td>7.16</td>\n",
       "      <td>1.93</td>\n",
       "      <td>13828.259766</td>\n",
       "      <td>107</td>\n",
       "      <td>T0391</td>\n",
       "      <td>14.094838</td>\n",
       "      <td>1</td>\n",
       "      <td>2023</td>\n",
       "      <td>8</td>\n",
       "      <td>8</td>\n",
       "      <td>Test</td>\n",
       "    </tr>\n",
       "    <tr>\n",
       "      <th>8449</th>\n",
       "      <td>94289</td>\n",
       "      <td>2023-08-08 14:00:20.180</td>\n",
       "      <td>5404.756836</td>\n",
       "      <td>277.0</td>\n",
       "      <td>7.09</td>\n",
       "      <td>1.93</td>\n",
       "      <td>13691.419922</td>\n",
       "      <td>108</td>\n",
       "      <td>T0391</td>\n",
       "      <td>3.364030</td>\n",
       "      <td>1</td>\n",
       "      <td>2023</td>\n",
       "      <td>8</td>\n",
       "      <td>8</td>\n",
       "      <td>Test</td>\n",
       "    </tr>\n",
       "    <tr>\n",
       "      <th>8450</th>\n",
       "      <td>94290</td>\n",
       "      <td>2023-08-08 14:01:13.470</td>\n",
       "      <td>5384.125000</td>\n",
       "      <td>276.0</td>\n",
       "      <td>7.10</td>\n",
       "      <td>1.92</td>\n",
       "      <td>13623.940430</td>\n",
       "      <td>105</td>\n",
       "      <td>T0391</td>\n",
       "      <td>2.171779</td>\n",
       "      <td>0</td>\n",
       "      <td>2023</td>\n",
       "      <td>8</td>\n",
       "      <td>8</td>\n",
       "      <td>Test</td>\n",
       "    </tr>\n",
       "    <tr>\n",
       "      <th>8451</th>\n",
       "      <td>94291</td>\n",
       "      <td>2023-08-08 14:06:30.710</td>\n",
       "      <td>5395.432129</td>\n",
       "      <td>277.0</td>\n",
       "      <td>7.10</td>\n",
       "      <td>1.91</td>\n",
       "      <td>13556.799805</td>\n",
       "      <td>104</td>\n",
       "      <td>T0391</td>\n",
       "      <td>1.702148</td>\n",
       "      <td>1</td>\n",
       "      <td>2023</td>\n",
       "      <td>8</td>\n",
       "      <td>8</td>\n",
       "      <td>Test</td>\n",
       "    </tr>\n",
       "    <tr>\n",
       "      <th>8452</th>\n",
       "      <td>94292</td>\n",
       "      <td>2023-08-08 14:07:19.430</td>\n",
       "      <td>5414.668945</td>\n",
       "      <td>278.0</td>\n",
       "      <td>7.10</td>\n",
       "      <td>1.93</td>\n",
       "      <td>13703.000000</td>\n",
       "      <td>104</td>\n",
       "      <td>T0391</td>\n",
       "      <td>3.865788</td>\n",
       "      <td>1</td>\n",
       "      <td>2023</td>\n",
       "      <td>8</td>\n",
       "      <td>8</td>\n",
       "      <td>Test</td>\n",
       "    </tr>\n",
       "  </tbody>\n",
       "</table>\n",
       "<p>8453 rows × 15 columns</p>\n",
       "</div>"
      ],
      "text/plain": [
       "      Unnamed: 0                     Date       Energy  Resistance  Current  \\\n",
       "0          16645  2023-03-10 16:06:05.180  5279.587891       272.0     7.10   \n",
       "1          16650  2023-03-10 16:06:59.390  5284.775879       270.0     7.13   \n",
       "2          16651  2023-03-10 16:00:49.570  5229.563965       267.0     7.15   \n",
       "3          16660  2023-03-10 16:44:37.850  5402.745117       273.0     7.16   \n",
       "4          16661  2023-03-10 16:45:25.860  5341.735840       274.0     7.10   \n",
       "...          ...                      ...          ...         ...      ...   \n",
       "8448       94288  2023-08-08 14:11:31.360  5510.055176       277.0     7.16   \n",
       "8449       94289  2023-08-08 14:00:20.180  5404.756836       277.0     7.09   \n",
       "8450       94290  2023-08-08 14:01:13.470  5384.125000       276.0     7.10   \n",
       "8451       94291  2023-08-08 14:06:30.710  5395.432129       277.0     7.10   \n",
       "8452       94292  2023-08-08 14:07:19.430  5414.668945       278.0     7.10   \n",
       "\n",
       "      Voltage         Power  uipvalue weldpoint      score prediction  year  \\\n",
       "0        1.88  13342.919922        80     T0391   8.137701          1  2023   \n",
       "1        1.84  13123.620117        96     T0391  15.128845          1  2023   \n",
       "2        1.85  13218.250000        69     T0391  39.734211          0  2023   \n",
       "3        1.90  13602.860352        93     T0391  16.287536          1  2023   \n",
       "4        1.89  13413.139648        95     T0391   0.707636          1  2023   \n",
       "...       ...           ...       ...       ...        ...        ...   ...   \n",
       "8448     1.93  13828.259766       107     T0391  14.094838          1  2023   \n",
       "8449     1.93  13691.419922       108     T0391   3.364030          1  2023   \n",
       "8450     1.92  13623.940430       105     T0391   2.171779          0  2023   \n",
       "8451     1.91  13556.799805       104     T0391   1.702148          1  2023   \n",
       "8452     1.93  13703.000000       104     T0391   3.865788          1  2023   \n",
       "\n",
       "      month  day     id  \n",
       "0         3   10  Train  \n",
       "1         3   10  Train  \n",
       "2         3   10  Train  \n",
       "3         3   10  Train  \n",
       "4         3   10  Train  \n",
       "...     ...  ...    ...  \n",
       "8448      8    8   Test  \n",
       "8449      8    8   Test  \n",
       "8450      8    8   Test  \n",
       "8451      8    8   Test  \n",
       "8452      8    8   Test  \n",
       "\n",
       "[8453 rows x 15 columns]"
      ]
     },
     "execution_count": 9,
     "metadata": {},
     "output_type": "execute_result"
    }
   ],
   "source": [
    "df"
   ]
  },
  {
   "cell_type": "markdown",
   "id": "42b79504-45c2-4c9c-ada2-033d2f898a91",
   "metadata": {},
   "source": [
    "## 1. Predicting Pass/Fail  using Logistic Regression Model"
   ]
  },
  {
   "cell_type": "markdown",
   "id": "5649c4b4-57ae-48cf-ab67-0133542632c7",
   "metadata": {},
   "source": [
    "### Spliting the data as test and train"
   ]
  },
  {
   "cell_type": "code",
   "execution_count": 10,
   "id": "ac26efd5-d852-404b-ae6d-c3ca976b8fa6",
   "metadata": {},
   "outputs": [],
   "source": [
    "a=df[[\"Energy\",\"Current\",\"Voltage\",\"Power\",\"uipvalue\",\"year\",\"month\",\"day\",\"Resistance\"]]"
   ]
  },
  {
   "cell_type": "code",
   "execution_count": 11,
   "id": "0ae50de7-4e20-4af0-8273-8c50ed487ed0",
   "metadata": {},
   "outputs": [],
   "source": [
    "b=df[\"prediction\"]"
   ]
  },
  {
   "cell_type": "code",
   "execution_count": 12,
   "id": "f6a2fd3e-2498-4768-ad26-99664117b714",
   "metadata": {},
   "outputs": [],
   "source": [
    "from sklearn.model_selection import train_test_split"
   ]
  },
  {
   "cell_type": "code",
   "execution_count": 13,
   "id": "80bc39ae-3437-4b52-8559-9b9eb4e08030",
   "metadata": {},
   "outputs": [],
   "source": [
    "x_train,x_test,y_train,y_test=train_test_split(a,b,test_size=0.1)   #test_size=10%"
   ]
  },
  {
   "cell_type": "code",
   "execution_count": 14,
   "id": "620b367b-fd4b-4698-9f20-6a37bc9d85b9",
   "metadata": {},
   "outputs": [
    {
     "data": {
      "text/plain": [
       "7607"
      ]
     },
     "execution_count": 14,
     "metadata": {},
     "output_type": "execute_result"
    }
   ],
   "source": [
    "len(x_train)"
   ]
  },
  {
   "cell_type": "code",
   "execution_count": 15,
   "id": "1ec0bb30-bb24-4649-85b9-c501e35db6cf",
   "metadata": {},
   "outputs": [
    {
     "data": {
      "text/plain": [
       "846"
      ]
     },
     "execution_count": 15,
     "metadata": {},
     "output_type": "execute_result"
    }
   ],
   "source": [
    "len(x_test)"
   ]
  },
  {
   "cell_type": "code",
   "execution_count": 16,
   "id": "512010e1-17f9-4e4d-9022-195b5053f211",
   "metadata": {},
   "outputs": [
    {
     "data": {
      "text/plain": [
       "7607"
      ]
     },
     "execution_count": 16,
     "metadata": {},
     "output_type": "execute_result"
    }
   ],
   "source": [
    "len(y_train)"
   ]
  },
  {
   "cell_type": "code",
   "execution_count": 17,
   "id": "23dcbcbd-76c9-4175-924c-2a99d7a8ca25",
   "metadata": {},
   "outputs": [
    {
     "data": {
      "text/plain": [
       "846"
      ]
     },
     "execution_count": 17,
     "metadata": {},
     "output_type": "execute_result"
    }
   ],
   "source": [
    "len(y_test)"
   ]
  },
  {
   "cell_type": "markdown",
   "id": "16b4dd24-b2fd-443b-a786-2be1460cee69",
   "metadata": {},
   "source": [
    "### Importing the required model"
   ]
  },
  {
   "cell_type": "code",
   "execution_count": 18,
   "id": "908b9f54-6d60-4c48-bac9-bf74e73f46c1",
   "metadata": {},
   "outputs": [],
   "source": [
    "from sklearn.linear_model import LogisticRegression"
   ]
  },
  {
   "cell_type": "code",
   "execution_count": 19,
   "id": "8bac3e44-4894-4a70-a7be-de297995cc44",
   "metadata": {},
   "outputs": [],
   "source": [
    "lr=LogisticRegression()"
   ]
  },
  {
   "cell_type": "markdown",
   "id": "eb76bd77-2e19-46a4-b2de-7e0b72a22fc6",
   "metadata": {},
   "source": [
    "### Training the Model"
   ]
  },
  {
   "cell_type": "code",
   "execution_count": 20,
   "id": "933524e7-ceea-45bc-a3c2-2e90f75b01d0",
   "metadata": {},
   "outputs": [
    {
     "data": {
      "text/html": [
       "<style>#sk-container-id-1 {color: black;background-color: white;}#sk-container-id-1 pre{padding: 0;}#sk-container-id-1 div.sk-toggleable {background-color: white;}#sk-container-id-1 label.sk-toggleable__label {cursor: pointer;display: block;width: 100%;margin-bottom: 0;padding: 0.3em;box-sizing: border-box;text-align: center;}#sk-container-id-1 label.sk-toggleable__label-arrow:before {content: \"▸\";float: left;margin-right: 0.25em;color: #696969;}#sk-container-id-1 label.sk-toggleable__label-arrow:hover:before {color: black;}#sk-container-id-1 div.sk-estimator:hover label.sk-toggleable__label-arrow:before {color: black;}#sk-container-id-1 div.sk-toggleable__content {max-height: 0;max-width: 0;overflow: hidden;text-align: left;background-color: #f0f8ff;}#sk-container-id-1 div.sk-toggleable__content pre {margin: 0.2em;color: black;border-radius: 0.25em;background-color: #f0f8ff;}#sk-container-id-1 input.sk-toggleable__control:checked~div.sk-toggleable__content {max-height: 200px;max-width: 100%;overflow: auto;}#sk-container-id-1 input.sk-toggleable__control:checked~label.sk-toggleable__label-arrow:before {content: \"▾\";}#sk-container-id-1 div.sk-estimator input.sk-toggleable__control:checked~label.sk-toggleable__label {background-color: #d4ebff;}#sk-container-id-1 div.sk-label input.sk-toggleable__control:checked~label.sk-toggleable__label {background-color: #d4ebff;}#sk-container-id-1 input.sk-hidden--visually {border: 0;clip: rect(1px 1px 1px 1px);clip: rect(1px, 1px, 1px, 1px);height: 1px;margin: -1px;overflow: hidden;padding: 0;position: absolute;width: 1px;}#sk-container-id-1 div.sk-estimator {font-family: monospace;background-color: #f0f8ff;border: 1px dotted black;border-radius: 0.25em;box-sizing: border-box;margin-bottom: 0.5em;}#sk-container-id-1 div.sk-estimator:hover {background-color: #d4ebff;}#sk-container-id-1 div.sk-parallel-item::after {content: \"\";width: 100%;border-bottom: 1px solid gray;flex-grow: 1;}#sk-container-id-1 div.sk-label:hover label.sk-toggleable__label {background-color: #d4ebff;}#sk-container-id-1 div.sk-serial::before {content: \"\";position: absolute;border-left: 1px solid gray;box-sizing: border-box;top: 0;bottom: 0;left: 50%;z-index: 0;}#sk-container-id-1 div.sk-serial {display: flex;flex-direction: column;align-items: center;background-color: white;padding-right: 0.2em;padding-left: 0.2em;position: relative;}#sk-container-id-1 div.sk-item {position: relative;z-index: 1;}#sk-container-id-1 div.sk-parallel {display: flex;align-items: stretch;justify-content: center;background-color: white;position: relative;}#sk-container-id-1 div.sk-item::before, #sk-container-id-1 div.sk-parallel-item::before {content: \"\";position: absolute;border-left: 1px solid gray;box-sizing: border-box;top: 0;bottom: 0;left: 50%;z-index: -1;}#sk-container-id-1 div.sk-parallel-item {display: flex;flex-direction: column;z-index: 1;position: relative;background-color: white;}#sk-container-id-1 div.sk-parallel-item:first-child::after {align-self: flex-end;width: 50%;}#sk-container-id-1 div.sk-parallel-item:last-child::after {align-self: flex-start;width: 50%;}#sk-container-id-1 div.sk-parallel-item:only-child::after {width: 0;}#sk-container-id-1 div.sk-dashed-wrapped {border: 1px dashed gray;margin: 0 0.4em 0.5em 0.4em;box-sizing: border-box;padding-bottom: 0.4em;background-color: white;}#sk-container-id-1 div.sk-label label {font-family: monospace;font-weight: bold;display: inline-block;line-height: 1.2em;}#sk-container-id-1 div.sk-label-container {text-align: center;}#sk-container-id-1 div.sk-container {/* jupyter's `normalize.less` sets `[hidden] { display: none; }` but bootstrap.min.css set `[hidden] { display: none !important; }` so we also need the `!important` here to be able to override the default hidden behavior on the sphinx rendered scikit-learn.org. See: https://github.com/scikit-learn/scikit-learn/issues/21755 */display: inline-block !important;position: relative;}#sk-container-id-1 div.sk-text-repr-fallback {display: none;}</style><div id=\"sk-container-id-1\" class=\"sk-top-container\"><div class=\"sk-text-repr-fallback\"><pre>LogisticRegression()</pre><b>In a Jupyter environment, please rerun this cell to show the HTML representation or trust the notebook. <br />On GitHub, the HTML representation is unable to render, please try loading this page with nbviewer.org.</b></div><div class=\"sk-container\" hidden><div class=\"sk-item\"><div class=\"sk-estimator sk-toggleable\"><input class=\"sk-toggleable__control sk-hidden--visually\" id=\"sk-estimator-id-1\" type=\"checkbox\" checked><label for=\"sk-estimator-id-1\" class=\"sk-toggleable__label sk-toggleable__label-arrow\">LogisticRegression</label><div class=\"sk-toggleable__content\"><pre>LogisticRegression()</pre></div></div></div></div></div>"
      ],
      "text/plain": [
       "LogisticRegression()"
      ]
     },
     "execution_count": 20,
     "metadata": {},
     "output_type": "execute_result"
    }
   ],
   "source": [
    "lr.fit(x_train,y_train)"
   ]
  },
  {
   "cell_type": "markdown",
   "id": "71bcf15d-7490-47d5-ae80-3ae4af90b1c2",
   "metadata": {},
   "source": [
    "### Prediction"
   ]
  },
  {
   "cell_type": "code",
   "execution_count": 21,
   "id": "30f20114-6f42-4a65-8020-30cac1fe43b0",
   "metadata": {},
   "outputs": [
    {
     "data": {
      "text/plain": [
       "array(['1', '1', '1', '1', '1', '1', '1', '1', '1', '1', '1', '1', '1',\n",
       "       '0', '1', '1', '1', '1', '1', '1', '1', '1', '1', '1', '1', '1',\n",
       "       '1', '1', '1', '1', '1', '1', '1', '0', '1', '1', '1', '1', '1',\n",
       "       '0', '1', '1', '1', '1', '1', '1', '0', '1', '1', '1', '1', '1',\n",
       "       '1', '1', '1', '1', '1', '1', '1', '1', '0', '1', '1', '1', '1',\n",
       "       '1', '1', '1', '1', '1', '1', '1', '1', '1', '1', '0', '1', '0',\n",
       "       '1', '1', '1', '1', '1', '1', '1', '1', '1', '1', '1', '1', '1',\n",
       "       '1', '1', '1', '1', '0', '0', '1', '1', '1', '1', '1', '1', '1',\n",
       "       '1', '1', '1', '1', '1', '1', '1', '0', '1', '1', '1', '1', '1',\n",
       "       '1', '1', '1', '1', '1', '1', '1', '1', '1', '1', '1', '1', '1',\n",
       "       '1', '1', '1', '1', '1', '1', '1', '1', '1', '0', '1', '1', '1',\n",
       "       '1', '1', '1', '1', '1', '1', '1', '1', '1', '1', '1', '1', '1',\n",
       "       '1', '1', '1', '1', '1', '1', '1', '1', '1', '1', '0', '1', '1',\n",
       "       '1', '1', '0', '1', '1', '1', '0', '1', '1', '1', '1', '1', '0',\n",
       "       '1', '1', '1', '1', '1', '1', '1', '1', '1', '1', '1', '1', '1',\n",
       "       '1', '1', '1', '1', '1', '1', '1', '1', '1', '1', '1', '1', '1',\n",
       "       '1', '0', '0', '1', '1', '1', '1', '1', '1', '1', '1', '1', '0',\n",
       "       '1', '1', '1', '0', '1', '1', '1', '1', '1', '1', '1', '1', '1',\n",
       "       '0', '1', '1', '1', '1', '1', '1', '1', '0', '1', '1', '1', '1',\n",
       "       '1', '1', '1', '1', '1', '1', '1', '1', '1', '1', '1', '0', '1',\n",
       "       '1', '1', '1', '1', '1', '1', '1', '1', '1', '1', '1', '1', '1',\n",
       "       '1', '1', '1', '1', '1', '1', '1', '1', '1', '0', '1', '1', '1',\n",
       "       '1', '1', '1', '1', '1', '1', '1', '0', '1', '1', '1', '1', '1',\n",
       "       '1', '1', '1', '1', '1', '1', '1', '1', '0', '1', '0', '1', '1',\n",
       "       '1', '1', '1', '1', '1', '1', '1', '1', '1', '1', '1', '1', '1',\n",
       "       '1', '1', '1', '1', '1', '1', '1', '1', '1', '1', '1', '1', '1',\n",
       "       '1', '1', '1', '1', '1', '1', '0', '1', '1', '1', '1', '1', '1',\n",
       "       '1', '1', '1', '1', '1', '1', '1', '1', '1', '1', '1', '1', '1',\n",
       "       '1', '1', '1', '1', '1', '1', '0', '1', '1', '1', '1', '1', '1',\n",
       "       '1', '1', '0', '1', '1', '1', '1', '0', '0', '1', '1', '1', '1',\n",
       "       '1', '0', '1', '0', '1', '1', '1', '1', '1', '1', '1', '1', '1',\n",
       "       '1', '1', '1', '0', '1', '1', '1', '1', '1', '1', '1', '1', '1',\n",
       "       '1', '1', '1', '1', '1', '1', '0', '1', '1', '1', '1', '1', '1',\n",
       "       '1', '1', '1', '1', '1', '1', '1', '1', '1', '1', '1', '1', '1',\n",
       "       '1', '1', '1', '1', '1', '1', '1', '1', '1', '1', '1', '1', '1',\n",
       "       '1', '1', '1', '1', '1', '1', '1', '1', '1', '1', '1', '1', '1',\n",
       "       '1', '1', '1', '1', '1', '1', '1', '1', '0', '1', '0', '0', '1',\n",
       "       '1', '1', '1', '1', '1', '1', '1', '1', '1', '1', '1', '1', '1',\n",
       "       '1', '1', '1', '1', '0', '1', '1', '1', '1', '1', '1', '1', '0',\n",
       "       '1', '1', '1', '1', '1', '0', '1', '1', '1', '1', '1', '0', '1',\n",
       "       '0', '1', '1', '1', '1', '1', '1', '1', '1', '1', '1', '1', '1',\n",
       "       '1', '0', '1', '1', '0', '1', '1', '1', '1', '1', '1', '1', '1',\n",
       "       '1', '1', '1', '1', '1', '1', '1', '1', '1', '1', '0', '0', '1',\n",
       "       '1', '1', '1', '1', '1', '1', '1', '1', '1', '1', '1', '1', '1',\n",
       "       '1', '1', '1', '1', '1', '1', '1', '1', '1', '1', '0', '1', '1',\n",
       "       '0', '1', '1', '1', '1', '0', '1', '1', '1', '1', '1', '1', '1',\n",
       "       '1', '1', '1', '1', '1', '0', '1', '1', '1', '1', '1', '1', '1',\n",
       "       '1', '1', '1', '1', '1', '0', '1', '1', '1', '1', '0', '1', '1',\n",
       "       '1', '1', '1', '1', '1', '1', '1', '1', '1', '1', '1', '1', '1',\n",
       "       '1', '1', '1', '1', '1', '0', '1', '1', '1', '1', '1', '1', '1',\n",
       "       '0', '1', '1', '1', '1', '1', '1', '1', '0', '1', '1', '1', '1',\n",
       "       '1', '1', '1', '1', '1', '1', '1', '1', '1', '0', '1', '1', '1',\n",
       "       '1', '1', '1', '1', '1', '1', '0', '1', '1', '1', '1', '1', '0',\n",
       "       '1', '1', '1', '1', '1', '1', '1', '1', '1', '0', '1', '1', '1',\n",
       "       '1', '1', '1', '1', '1', '1', '1', '1', '1', '1', '1', '1', '1',\n",
       "       '1', '1', '1', '0', '1', '1', '1', '1', '1', '1', '1', '1', '1',\n",
       "       '1', '1', '1', '1', '1', '1', '1', '0', '1', '1', '0', '1', '1',\n",
       "       '0', '1', '1', '1', '1', '1', '1', '1', '1', '1', '1', '1', '1',\n",
       "       '1', '0', '1', '0', '1', '1', '1', '1', '1', '1', '0', '1', '1',\n",
       "       '1', '1', '1', '0', '1', '1', '1', '1', '1', '1', '1', '1', '1',\n",
       "       '1', '1', '1', '0', '1', '1', '0', '1', '1', '1', '1', '1', '1',\n",
       "       '1', '1', '1', '1', '0', '0', '1', '1', '1', '1', '1', '1', '1',\n",
       "       '1', '1', '1', '1', '1', '1', '1', '1', '0', '1', '1', '1', '1',\n",
       "       '1', '1', '1', '1', '1', '1', '1', '1', '0', '1', '1', '1', '1',\n",
       "       '1', '1', '1', '1', '1', '1', '1', '1', '1', '1', '1', '1', '1',\n",
       "       '1'], dtype=object)"
      ]
     },
     "execution_count": 21,
     "metadata": {},
     "output_type": "execute_result"
    }
   ],
   "source": [
    "lr.predict(x_test)"
   ]
  },
  {
   "cell_type": "markdown",
   "id": "a599bb75-9b9c-41ef-8f53-7708935bef55",
   "metadata": {},
   "source": [
    "### Accuracy of the model:"
   ]
  },
  {
   "cell_type": "code",
   "execution_count": 22,
   "id": "85df6dc4-6114-4143-ad21-631b618f2505",
   "metadata": {},
   "outputs": [
    {
     "data": {
      "text/plain": [
       "0.7884160756501182"
      ]
     },
     "execution_count": 22,
     "metadata": {},
     "output_type": "execute_result"
    }
   ],
   "source": [
    "lr.score(x_test,y_test)"
   ]
  },
  {
   "cell_type": "markdown",
   "id": "3665f2fe-43fe-4e30-bef9-dd65cc5c7336",
   "metadata": {},
   "source": [
    "### Confusion Matrix To Check the performance of our model"
   ]
  },
  {
   "cell_type": "code",
   "execution_count": 23,
   "id": "7e548227-b5f8-4a43-bbac-1fb151fd2412",
   "metadata": {},
   "outputs": [],
   "source": [
    "y_pred=lr.predict(x_test)"
   ]
  },
  {
   "cell_type": "code",
   "execution_count": 24,
   "id": "8fdebf10-65da-4002-ae11-605d8adee878",
   "metadata": {},
   "outputs": [],
   "source": [
    "from sklearn.metrics import confusion_matrix"
   ]
  },
  {
   "cell_type": "code",
   "execution_count": 25,
   "id": "0f57cc4d-0200-4568-a2db-1e8508975321",
   "metadata": {},
   "outputs": [],
   "source": [
    "lr = confusion_matrix(y_test,y_pred)"
   ]
  },
  {
   "cell_type": "code",
   "execution_count": 26,
   "id": "4b6d88c9-21ba-432a-a397-f40086c10cc3",
   "metadata": {},
   "outputs": [
    {
     "data": {
      "text/plain": [
       "array([[ 56, 161],\n",
       "       [ 18, 611]], dtype=int64)"
      ]
     },
     "execution_count": 26,
     "metadata": {},
     "output_type": "execute_result"
    }
   ],
   "source": [
    "lr"
   ]
  },
  {
   "cell_type": "markdown",
   "id": "24894af9-f5d0-4e8e-9814-e97c19983d8e",
   "metadata": {},
   "source": [
    "### Acuracy of the model"
   ]
  },
  {
   "cell_type": "code",
   "execution_count": 27,
   "id": "89f42591-9878-41e8-8f46-c300c0b141ba",
   "metadata": {},
   "outputs": [],
   "source": [
    "from sklearn.metrics import accuracy_score"
   ]
  },
  {
   "cell_type": "code",
   "execution_count": 28,
   "id": "7e406d91-7924-47d1-8724-dad94b7f0cfc",
   "metadata": {},
   "outputs": [],
   "source": [
    "lr = accuracy_score(y_test, y_pred)"
   ]
  },
  {
   "cell_type": "code",
   "execution_count": 29,
   "id": "69e862bf-882f-4b15-90a7-100324fbbce4",
   "metadata": {},
   "outputs": [
    {
     "data": {
      "text/plain": [
       "0.7884160756501182"
      ]
     },
     "execution_count": 29,
     "metadata": {},
     "output_type": "execute_result"
    }
   ],
   "source": [
    "lr"
   ]
  },
  {
   "cell_type": "code",
   "execution_count": 30,
   "id": "551736cf-d44d-4680-8e13-16bd83f0aa3e",
   "metadata": {},
   "outputs": [
    {
     "name": "stdout",
     "output_type": "stream",
     "text": [
      "              precision    recall  f1-score   support\n",
      "\n",
      "           0       0.76      0.26      0.38       217\n",
      "           1       0.79      0.97      0.87       629\n",
      "\n",
      "    accuracy                           0.79       846\n",
      "   macro avg       0.77      0.61      0.63       846\n",
      "weighted avg       0.78      0.79      0.75       846\n",
      "\n"
     ]
    }
   ],
   "source": [
    "from sklearn.metrics import classification_report\n",
    "print(classification_report(y_test, y_pred))"
   ]
  },
  {
   "cell_type": "code",
   "execution_count": null,
   "id": "426a4187-ba35-4fde-8943-0361c47d4be3",
   "metadata": {},
   "outputs": [],
   "source": []
  },
  {
   "cell_type": "markdown",
   "id": "c6b32e3b-55b4-4bab-a98a-64b27539dd5b",
   "metadata": {},
   "source": [
    "## 2. Predicting Resistance using Linear Regression"
   ]
  },
  {
   "cell_type": "code",
   "execution_count": 31,
   "id": "32915fb9-7c5e-438c-8995-514e440f558c",
   "metadata": {},
   "outputs": [],
   "source": [
    "df=pd.read_csv(r\"C:\\Users\\ganig\\OneDrive\\Desktop\\Dataset\\ml-2.csv\")"
   ]
  },
  {
   "cell_type": "code",
   "execution_count": 32,
   "id": "f5dae262-aaa9-4fbf-a107-8a4edce80f34",
   "metadata": {},
   "outputs": [
    {
     "data": {
      "text/html": [
       "<div>\n",
       "<style scoped>\n",
       "    .dataframe tbody tr th:only-of-type {\n",
       "        vertical-align: middle;\n",
       "    }\n",
       "\n",
       "    .dataframe tbody tr th {\n",
       "        vertical-align: top;\n",
       "    }\n",
       "\n",
       "    .dataframe thead th {\n",
       "        text-align: right;\n",
       "    }\n",
       "</style>\n",
       "<table border=\"1\" class=\"dataframe\">\n",
       "  <thead>\n",
       "    <tr style=\"text-align: right;\">\n",
       "      <th></th>\n",
       "      <th>Unnamed: 0</th>\n",
       "      <th>Date</th>\n",
       "      <th>Energy</th>\n",
       "      <th>Resistance</th>\n",
       "      <th>Current</th>\n",
       "      <th>Voltage</th>\n",
       "      <th>Power</th>\n",
       "      <th>uipvalue</th>\n",
       "      <th>weldpoint</th>\n",
       "      <th>score</th>\n",
       "      <th>prediction</th>\n",
       "      <th>year</th>\n",
       "      <th>month</th>\n",
       "      <th>day</th>\n",
       "      <th>id</th>\n",
       "    </tr>\n",
       "  </thead>\n",
       "  <tbody>\n",
       "    <tr>\n",
       "      <th>0</th>\n",
       "      <td>16645</td>\n",
       "      <td>2023-03-10 16:06:05.180</td>\n",
       "      <td>5279.587891</td>\n",
       "      <td>272.0</td>\n",
       "      <td>7.10</td>\n",
       "      <td>1.88</td>\n",
       "      <td>13342.919922</td>\n",
       "      <td>80</td>\n",
       "      <td>T0391</td>\n",
       "      <td>8.137701</td>\n",
       "      <td>Passed</td>\n",
       "      <td>2023</td>\n",
       "      <td>3</td>\n",
       "      <td>10</td>\n",
       "      <td>Train</td>\n",
       "    </tr>\n",
       "    <tr>\n",
       "      <th>1</th>\n",
       "      <td>16650</td>\n",
       "      <td>2023-03-10 16:06:59.390</td>\n",
       "      <td>5284.775879</td>\n",
       "      <td>270.0</td>\n",
       "      <td>7.13</td>\n",
       "      <td>1.84</td>\n",
       "      <td>13123.620117</td>\n",
       "      <td>96</td>\n",
       "      <td>T0391</td>\n",
       "      <td>15.128845</td>\n",
       "      <td>Passed</td>\n",
       "      <td>2023</td>\n",
       "      <td>3</td>\n",
       "      <td>10</td>\n",
       "      <td>Train</td>\n",
       "    </tr>\n",
       "    <tr>\n",
       "      <th>2</th>\n",
       "      <td>16651</td>\n",
       "      <td>2023-03-10 16:00:49.570</td>\n",
       "      <td>5229.563965</td>\n",
       "      <td>267.0</td>\n",
       "      <td>7.15</td>\n",
       "      <td>1.85</td>\n",
       "      <td>13218.250000</td>\n",
       "      <td>69</td>\n",
       "      <td>T0391</td>\n",
       "      <td>39.734211</td>\n",
       "      <td>Failed</td>\n",
       "      <td>2023</td>\n",
       "      <td>3</td>\n",
       "      <td>10</td>\n",
       "      <td>Train</td>\n",
       "    </tr>\n",
       "    <tr>\n",
       "      <th>3</th>\n",
       "      <td>16660</td>\n",
       "      <td>2023-03-10 16:44:37.850</td>\n",
       "      <td>5402.745117</td>\n",
       "      <td>273.0</td>\n",
       "      <td>7.16</td>\n",
       "      <td>1.90</td>\n",
       "      <td>13602.860352</td>\n",
       "      <td>93</td>\n",
       "      <td>T0391</td>\n",
       "      <td>16.287536</td>\n",
       "      <td>Passed</td>\n",
       "      <td>2023</td>\n",
       "      <td>3</td>\n",
       "      <td>10</td>\n",
       "      <td>Train</td>\n",
       "    </tr>\n",
       "    <tr>\n",
       "      <th>4</th>\n",
       "      <td>16661</td>\n",
       "      <td>2023-03-10 16:45:25.860</td>\n",
       "      <td>5341.735840</td>\n",
       "      <td>274.0</td>\n",
       "      <td>7.10</td>\n",
       "      <td>1.89</td>\n",
       "      <td>13413.139648</td>\n",
       "      <td>95</td>\n",
       "      <td>T0391</td>\n",
       "      <td>0.707636</td>\n",
       "      <td>Passed</td>\n",
       "      <td>2023</td>\n",
       "      <td>3</td>\n",
       "      <td>10</td>\n",
       "      <td>Train</td>\n",
       "    </tr>\n",
       "  </tbody>\n",
       "</table>\n",
       "</div>"
      ],
      "text/plain": [
       "   Unnamed: 0                     Date       Energy  Resistance  Current  \\\n",
       "0       16645  2023-03-10 16:06:05.180  5279.587891       272.0     7.10   \n",
       "1       16650  2023-03-10 16:06:59.390  5284.775879       270.0     7.13   \n",
       "2       16651  2023-03-10 16:00:49.570  5229.563965       267.0     7.15   \n",
       "3       16660  2023-03-10 16:44:37.850  5402.745117       273.0     7.16   \n",
       "4       16661  2023-03-10 16:45:25.860  5341.735840       274.0     7.10   \n",
       "\n",
       "   Voltage         Power  uipvalue weldpoint      score prediction  year  \\\n",
       "0     1.88  13342.919922        80     T0391   8.137701     Passed  2023   \n",
       "1     1.84  13123.620117        96     T0391  15.128845     Passed  2023   \n",
       "2     1.85  13218.250000        69     T0391  39.734211     Failed  2023   \n",
       "3     1.90  13602.860352        93     T0391  16.287536     Passed  2023   \n",
       "4     1.89  13413.139648        95     T0391   0.707636     Passed  2023   \n",
       "\n",
       "   month  day     id  \n",
       "0      3   10  Train  \n",
       "1      3   10  Train  \n",
       "2      3   10  Train  \n",
       "3      3   10  Train  \n",
       "4      3   10  Train  "
      ]
     },
     "execution_count": 32,
     "metadata": {},
     "output_type": "execute_result"
    }
   ],
   "source": [
    "df.head()"
   ]
  },
  {
   "cell_type": "code",
   "execution_count": 33,
   "id": "3f636b9e-eca5-4e6a-97ad-ef177b509a66",
   "metadata": {},
   "outputs": [
    {
     "data": {
      "text/plain": [
       "Unnamed: 0    0\n",
       "Date          0\n",
       "Energy        0\n",
       "Resistance    0\n",
       "Current       0\n",
       "Voltage       0\n",
       "Power         0\n",
       "uipvalue      0\n",
       "weldpoint     0\n",
       "score         0\n",
       "prediction    0\n",
       "year          0\n",
       "month         0\n",
       "day           0\n",
       "id            0\n",
       "dtype: int64"
      ]
     },
     "execution_count": 33,
     "metadata": {},
     "output_type": "execute_result"
    }
   ],
   "source": [
    "df.isna().sum() #to check the null values in the data"
   ]
  },
  {
   "cell_type": "code",
   "execution_count": 52,
   "id": "fec92e8c-8512-4265-b2d0-009d3463cbc4",
   "metadata": {},
   "outputs": [],
   "source": [
    "x=df[[\"Energy\",\"Current\",\"Voltage\",\"Power\"]]"
   ]
  },
  {
   "cell_type": "code",
   "execution_count": 53,
   "id": "0301f70b-e994-41cb-980c-047ca7bd64d2",
   "metadata": {},
   "outputs": [],
   "source": [
    "y=df[\"Resistance\"]"
   ]
  },
  {
   "cell_type": "code",
   "execution_count": 54,
   "id": "94d61c9d-7e0f-4010-8836-0c085682065e",
   "metadata": {},
   "outputs": [],
   "source": [
    "from sklearn.model_selection import train_test_split"
   ]
  },
  {
   "cell_type": "code",
   "execution_count": 55,
   "id": "fc3b2320-ca20-4f09-8501-409b97a42bb3",
   "metadata": {},
   "outputs": [],
   "source": [
    " x1_train, x2_test, y1_train, y2_test=train_test_split(df[[\"Energy\",\"Current\",\"Voltage\",\"Power\"]],df[\"Resistance\"],test_size=0.3,random_state=42)   #test_size=30%"
   ]
  },
  {
   "cell_type": "code",
   "execution_count": 56,
   "id": "146ff8cb-a9b1-4e3d-8d58-445887562366",
   "metadata": {},
   "outputs": [
    {
     "data": {
      "text/plain": [
       "2536"
      ]
     },
     "execution_count": 56,
     "metadata": {},
     "output_type": "execute_result"
    }
   ],
   "source": [
    "len(x2_test)"
   ]
  },
  {
   "cell_type": "code",
   "execution_count": 57,
   "id": "70ef4da7-5f06-4f45-aab8-5b668e748edb",
   "metadata": {},
   "outputs": [
    {
     "data": {
      "text/plain": [
       "5917"
      ]
     },
     "execution_count": 57,
     "metadata": {},
     "output_type": "execute_result"
    }
   ],
   "source": [
    "len(x1_train)"
   ]
  },
  {
   "cell_type": "code",
   "execution_count": 58,
   "id": "fa5788a6-bd95-4285-b96c-4bafb1307178",
   "metadata": {},
   "outputs": [],
   "source": [
    "from sklearn.linear_model import LinearRegression"
   ]
  },
  {
   "cell_type": "code",
   "execution_count": 59,
   "id": "070ee57c-b648-4875-9cf5-114b5968cfef",
   "metadata": {},
   "outputs": [],
   "source": [
    "LR=LinearRegression()"
   ]
  },
  {
   "cell_type": "code",
   "execution_count": 60,
   "id": "9f02e230-6bbb-4728-8864-6ed51455632d",
   "metadata": {},
   "outputs": [
    {
     "data": {
      "text/html": [
       "<style>#sk-container-id-3 {color: black;background-color: white;}#sk-container-id-3 pre{padding: 0;}#sk-container-id-3 div.sk-toggleable {background-color: white;}#sk-container-id-3 label.sk-toggleable__label {cursor: pointer;display: block;width: 100%;margin-bottom: 0;padding: 0.3em;box-sizing: border-box;text-align: center;}#sk-container-id-3 label.sk-toggleable__label-arrow:before {content: \"▸\";float: left;margin-right: 0.25em;color: #696969;}#sk-container-id-3 label.sk-toggleable__label-arrow:hover:before {color: black;}#sk-container-id-3 div.sk-estimator:hover label.sk-toggleable__label-arrow:before {color: black;}#sk-container-id-3 div.sk-toggleable__content {max-height: 0;max-width: 0;overflow: hidden;text-align: left;background-color: #f0f8ff;}#sk-container-id-3 div.sk-toggleable__content pre {margin: 0.2em;color: black;border-radius: 0.25em;background-color: #f0f8ff;}#sk-container-id-3 input.sk-toggleable__control:checked~div.sk-toggleable__content {max-height: 200px;max-width: 100%;overflow: auto;}#sk-container-id-3 input.sk-toggleable__control:checked~label.sk-toggleable__label-arrow:before {content: \"▾\";}#sk-container-id-3 div.sk-estimator input.sk-toggleable__control:checked~label.sk-toggleable__label {background-color: #d4ebff;}#sk-container-id-3 div.sk-label input.sk-toggleable__control:checked~label.sk-toggleable__label {background-color: #d4ebff;}#sk-container-id-3 input.sk-hidden--visually {border: 0;clip: rect(1px 1px 1px 1px);clip: rect(1px, 1px, 1px, 1px);height: 1px;margin: -1px;overflow: hidden;padding: 0;position: absolute;width: 1px;}#sk-container-id-3 div.sk-estimator {font-family: monospace;background-color: #f0f8ff;border: 1px dotted black;border-radius: 0.25em;box-sizing: border-box;margin-bottom: 0.5em;}#sk-container-id-3 div.sk-estimator:hover {background-color: #d4ebff;}#sk-container-id-3 div.sk-parallel-item::after {content: \"\";width: 100%;border-bottom: 1px solid gray;flex-grow: 1;}#sk-container-id-3 div.sk-label:hover label.sk-toggleable__label {background-color: #d4ebff;}#sk-container-id-3 div.sk-serial::before {content: \"\";position: absolute;border-left: 1px solid gray;box-sizing: border-box;top: 0;bottom: 0;left: 50%;z-index: 0;}#sk-container-id-3 div.sk-serial {display: flex;flex-direction: column;align-items: center;background-color: white;padding-right: 0.2em;padding-left: 0.2em;position: relative;}#sk-container-id-3 div.sk-item {position: relative;z-index: 1;}#sk-container-id-3 div.sk-parallel {display: flex;align-items: stretch;justify-content: center;background-color: white;position: relative;}#sk-container-id-3 div.sk-item::before, #sk-container-id-3 div.sk-parallel-item::before {content: \"\";position: absolute;border-left: 1px solid gray;box-sizing: border-box;top: 0;bottom: 0;left: 50%;z-index: -1;}#sk-container-id-3 div.sk-parallel-item {display: flex;flex-direction: column;z-index: 1;position: relative;background-color: white;}#sk-container-id-3 div.sk-parallel-item:first-child::after {align-self: flex-end;width: 50%;}#sk-container-id-3 div.sk-parallel-item:last-child::after {align-self: flex-start;width: 50%;}#sk-container-id-3 div.sk-parallel-item:only-child::after {width: 0;}#sk-container-id-3 div.sk-dashed-wrapped {border: 1px dashed gray;margin: 0 0.4em 0.5em 0.4em;box-sizing: border-box;padding-bottom: 0.4em;background-color: white;}#sk-container-id-3 div.sk-label label {font-family: monospace;font-weight: bold;display: inline-block;line-height: 1.2em;}#sk-container-id-3 div.sk-label-container {text-align: center;}#sk-container-id-3 div.sk-container {/* jupyter's `normalize.less` sets `[hidden] { display: none; }` but bootstrap.min.css set `[hidden] { display: none !important; }` so we also need the `!important` here to be able to override the default hidden behavior on the sphinx rendered scikit-learn.org. See: https://github.com/scikit-learn/scikit-learn/issues/21755 */display: inline-block !important;position: relative;}#sk-container-id-3 div.sk-text-repr-fallback {display: none;}</style><div id=\"sk-container-id-3\" class=\"sk-top-container\"><div class=\"sk-text-repr-fallback\"><pre>LinearRegression()</pre><b>In a Jupyter environment, please rerun this cell to show the HTML representation or trust the notebook. <br />On GitHub, the HTML representation is unable to render, please try loading this page with nbviewer.org.</b></div><div class=\"sk-container\" hidden><div class=\"sk-item\"><div class=\"sk-estimator sk-toggleable\"><input class=\"sk-toggleable__control sk-hidden--visually\" id=\"sk-estimator-id-3\" type=\"checkbox\" checked><label for=\"sk-estimator-id-3\" class=\"sk-toggleable__label sk-toggleable__label-arrow\">LinearRegression</label><div class=\"sk-toggleable__content\"><pre>LinearRegression()</pre></div></div></div></div></div>"
      ],
      "text/plain": [
       "LinearRegression()"
      ]
     },
     "execution_count": 60,
     "metadata": {},
     "output_type": "execute_result"
    }
   ],
   "source": [
    "LR.fit(x1_train,y1_train)"
   ]
  },
  {
   "cell_type": "code",
   "execution_count": 61,
   "id": "47774663-d06e-4ad4-a9d0-c701dde948a6",
   "metadata": {},
   "outputs": [],
   "source": [
    "Y_pred=lr.predict(x2_test)   "
   ]
  },
  {
   "cell_type": "code",
   "execution_count": 62,
   "id": "565c018d-1405-4150-bc48-c84cb5429a87",
   "metadata": {},
   "outputs": [
    {
     "data": {
      "text/plain": [
       "array([270.67547264, 272.18087576, 274.97727231, ..., 272.65105519,\n",
       "       275.46214785, 272.56681861])"
      ]
     },
     "execution_count": 62,
     "metadata": {},
     "output_type": "execute_result"
    }
   ],
   "source": [
    "Y_pred"
   ]
  },
  {
   "cell_type": "markdown",
   "id": "dffac6c0-5e01-4d7d-951d-dece37d384b4",
   "metadata": {},
   "source": [
    "### Score:"
   ]
  },
  {
   "cell_type": "code",
   "execution_count": 63,
   "id": "88b638bf-5af1-4f7f-854c-20425105b0a1",
   "metadata": {},
   "outputs": [
    {
     "data": {
      "text/plain": [
       "0.9321997438713878"
      ]
     },
     "execution_count": 63,
     "metadata": {},
     "output_type": "execute_result"
    }
   ],
   "source": [
    "LR.score(x2_test,y2_test)"
   ]
  },
  {
   "cell_type": "code",
   "execution_count": null,
   "id": "994ec7ef-e800-4de1-8352-1f178440126c",
   "metadata": {},
   "outputs": [],
   "source": []
  }
 ],
 "metadata": {
  "kernelspec": {
   "display_name": "Python 3 (ipykernel)",
   "language": "python",
   "name": "python3"
  },
  "language_info": {
   "codemirror_mode": {
    "name": "ipython",
    "version": 3
   },
   "file_extension": ".py",
   "mimetype": "text/x-python",
   "name": "python",
   "nbconvert_exporter": "python",
   "pygments_lexer": "ipython3",
   "version": "3.11.7"
  }
 },
 "nbformat": 4,
 "nbformat_minor": 5
}
