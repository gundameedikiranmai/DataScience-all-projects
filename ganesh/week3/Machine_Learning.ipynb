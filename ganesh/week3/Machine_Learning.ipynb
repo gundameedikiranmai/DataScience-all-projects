{
 "cells": [
  {
   "cell_type": "markdown",
   "id": "d745c006-7625-44bd-bb41-bb72b10240e5",
   "metadata": {},
   "source": [
    "# Machine Learning"
   ]
  },
  {
   "cell_type": "markdown",
   "id": "2bcbc6ba-7ba3-4b5b-8633-4c259a0105e1",
   "metadata": {},
   "source": [
    "**Machine Learning (ML)** is a branch of *artificial intelligence* that aims at building systems that can learn from data, identify patterns and make decisions with minimal human intervention."
   ]
  },
  {
   "cell_type": "markdown",
   "id": "76966e1a-015a-427c-a7df-dad3d1206dfa",
   "metadata": {},
   "source": [
    "# Supervised Machine Learning"
   ]
  },
  {
   "cell_type": "markdown",
   "id": "ead1c99b-d3f0-4950-ac4b-fc330f7dec2c",
   "metadata": {},
   "source": [
    "**Supervised Learning** is a type of machine learning where an algorithm is trained on a **labeled dataset**, consisting of input-output pairs. The algorithm learns the mapping between input data and corresponding output labels, allowing it to make predictions on decisions when given new, unseen input."
   ]
  },
  {
   "cell_type": "markdown",
   "id": "3ff8b353",
   "metadata": {},
   "source": [
    "## 1. Linear Regression"
   ]
  },
  {
   "cell_type": "markdown",
   "id": "ac7e03e2-ecdb-4063-bb8f-379a492bdc57",
   "metadata": {},
   "source": [
    "The ultimate goal of linear regression is to **find a line that best fits the data**."
   ]
  },
  {
   "cell_type": "markdown",
   "id": "b3508781-5835-4303-a8ab-6401d71c60c9",
   "metadata": {},
   "source": [
    "  ###    i. Simple Linear Regression"
   ]
  },
  {
   "cell_type": "markdown",
   "id": "0348efa4",
   "metadata": {},
   "source": [
    "If a single independent variable is used to predict the value of a numerical dependent variable then such a linear regression algorithm is called **Simple Linear Regression.**"
   ]
  },
  {
   "cell_type": "code",
   "execution_count": 505,
   "id": "3320f75f",
   "metadata": {},
   "outputs": [],
   "source": [
    "import numpy as np\n",
    "import pandas as pd\n",
    "import seaborn as sns\n",
    "import matplotlib.pyplot as plt\n",
    "%matplotlib inline\n",
    "from sklearn import linear_model\n",
    "from sklearn.linear_model import LinearRegression"
   ]
  },
  {
   "cell_type": "code",
   "execution_count": 506,
   "id": "7bf6b3a0-8f31-437d-9a81-e787773c016e",
   "metadata": {},
   "outputs": [],
   "source": [
    "import warnings\n",
    "warnings.simplefilter(action=\"ignore\",category=FutureWarning)\n",
    "#code to ignore the future warnings"
   ]
  },
  {
   "cell_type": "code",
   "execution_count": 507,
   "id": "be19a725-6d70-4a5f-9c42-840b1fcb35b6",
   "metadata": {},
   "outputs": [],
   "source": [
    "import warnings\n",
    "warnings.filterwarnings(\"ignore\")   #To avoid the warnings"
   ]
  },
  {
   "cell_type": "markdown",
   "id": "4a6c30c7",
   "metadata": {},
   "source": [
    "**Scikit Learn** is the most popular machine learning package for python and has a lot of algorithms built-in."
   ]
  },
  {
   "cell_type": "code",
   "execution_count": 508,
   "id": "b5e3b38a",
   "metadata": {},
   "outputs": [],
   "source": [
    "info={\"Age\":[25,30,35,40,45],\"Premium\":[18000,32000,40000,47000,55000]}"
   ]
  },
  {
   "cell_type": "code",
   "execution_count": 509,
   "id": "ddbe76cb",
   "metadata": {},
   "outputs": [
    {
     "data": {
      "text/plain": [
       "{'Age': [25, 30, 35, 40, 45], 'Premium': [18000, 32000, 40000, 47000, 55000]}"
      ]
     },
     "execution_count": 509,
     "metadata": {},
     "output_type": "execute_result"
    }
   ],
   "source": [
    "info"
   ]
  },
  {
   "cell_type": "code",
   "execution_count": null,
   "id": "69434134",
   "metadata": {},
   "outputs": [],
   "source": [
    "df=pd.DataFrame(info)"
   ]
  },
  {
   "cell_type": "code",
   "execution_count": null,
   "id": "79e1d547",
   "metadata": {},
   "outputs": [],
   "source": [
    "df"
   ]
  },
  {
   "cell_type": "code",
   "execution_count": null,
   "id": "a13f5e8f-42af-40c8-908c-2879b736b805",
   "metadata": {},
   "outputs": [],
   "source": [
    "sns.pairplot(df)\n",
    "plt.show()"
   ]
  },
  {
   "cell_type": "code",
   "execution_count": null,
   "id": "d4a38a79-7907-4a72-9c13-e2f2df3c620a",
   "metadata": {},
   "outputs": [],
   "source": [
    "X = np.array(df[\"Age\"]).reshape(-1, 1)\n",
    "y = np.array(df[\"Premium\"])"
   ]
  },
  {
   "cell_type": "code",
   "execution_count": null,
   "id": "a78170f4",
   "metadata": {},
   "outputs": [],
   "source": [
    "from sklearn import linear_model\n",
    "reg=linear_model.LinearRegression()"
   ]
  },
  {
   "cell_type": "code",
   "execution_count": null,
   "id": "bb3143cf-29c4-4dc2-813f-9f6254397be4",
   "metadata": {},
   "outputs": [],
   "source": [
    "from sklearn.linear_model import LinearRegression\n",
    "model = LinearRegression()\n",
    "model.fit(X, y)"
   ]
  },
  {
   "cell_type": "code",
   "execution_count": null,
   "id": "7c9d1103-1a4b-4736-a16e-c129d010e674",
   "metadata": {},
   "outputs": [],
   "source": [
    "predictions = model.predict(X)"
   ]
  },
  {
   "cell_type": "code",
   "execution_count": null,
   "id": "ac935f29-443d-4a4b-b3a4-cf36acaa45af",
   "metadata": {},
   "outputs": [],
   "source": [
    "plt.scatter(X, y, label=\"Actual Data\")\n",
    "plt.plot(X, predictions, color='green', label=\"Linear Regression\")\n",
    "plt.xlabel(\"Age\")\n",
    "plt.ylabel(\"Premium\")\n",
    "plt.title(\"Linear Regression Model\")\n",
    "plt.legend()\n",
    "plt.show()"
   ]
  },
  {
   "cell_type": "code",
   "execution_count": null,
   "id": "02c0313c-2877-4495-8175-f381ba63f2e3",
   "metadata": {},
   "outputs": [],
   "source": [
    "reg.fit(df[[\"Age\"]],df[\"Premium\"])\n",
    "#here,fit means we gonna train the regression model using the data points we have.#3#\n",
    "#\"Age\" is the independent variable\n",
    "#\"Premium\" is the dependent variable"
   ]
  },
  {
   "cell_type": "markdown",
   "id": "75064e13-ab3c-4353-9d19-fa59e5b173ed",
   "metadata": {},
   "source": [
    "### Predicting the unseen data in dataset"
   ]
  },
  {
   "cell_type": "markdown",
   "id": "93bc18fb",
   "metadata": {},
   "source": [
    "### Finding the premium for the age 21 (new data/unseen data)"
   ]
  },
  {
   "cell_type": "code",
   "execution_count": null,
   "id": "e1bea93c",
   "metadata": {},
   "outputs": [],
   "source": [
    "reg.predict([[21]])  #finding the premium for the age 21"
   ]
  },
  {
   "cell_type": "markdown",
   "id": "18405d54",
   "metadata": {},
   "source": [
    "### Finding the premium for the age 50 (new data/unseen data)"
   ]
  },
  {
   "cell_type": "code",
   "execution_count": null,
   "id": "120aee4f",
   "metadata": {},
   "outputs": [],
   "source": [
    "reg.predict([[50]]) #finding the premium for the age 50"
   ]
  },
  {
   "cell_type": "code",
   "execution_count": null,
   "id": "f435d667",
   "metadata": {},
   "outputs": [],
   "source": [
    "reg.coef_   #slope"
   ]
  },
  {
   "cell_type": "code",
   "execution_count": null,
   "id": "febc7c4a",
   "metadata": {},
   "outputs": [],
   "source": [
    "reg.intercept_   #line interseted on y_axis"
   ]
  },
  {
   "cell_type": "markdown",
   "id": "9b0bd0d0",
   "metadata": {},
   "source": [
    "### Validating our Model"
   ]
  },
  {
   "cell_type": "markdown",
   "id": "70662739",
   "metadata": {},
   "source": [
    "### y=mx+c"
   ]
  },
  {
   "cell_type": "code",
   "execution_count": null,
   "id": "2e3a1308",
   "metadata": {},
   "outputs": [],
   "source": [
    "1780*21+(-23900)   #predicting the premium amount for age 21"
   ]
  },
  {
   "cell_type": "code",
   "execution_count": null,
   "id": "d2ddd18a",
   "metadata": {},
   "outputs": [],
   "source": [
    "1780*50+(-23900)  #predicting the premium amount for age 50"
   ]
  },
  {
   "cell_type": "markdown",
   "id": "d8cfa1fd",
   "metadata": {},
   "source": [
    "### ii. Multiple Linear Regression"
   ]
  },
  {
   "cell_type": "markdown",
   "id": "f3a53df6",
   "metadata": {},
   "source": [
    "If more than one independent variable is used to predict the value of numerical dependent variable, then such a linear regression algorithm is called **multiple linear regression.**"
   ]
  },
  {
   "cell_type": "code",
   "execution_count": null,
   "id": "ef8c0b1e",
   "metadata": {},
   "outputs": [],
   "source": [
    "data={\"Age\":[25,30,35,40,45],\"Height\":[162.56,172.72,167.64,165.10,157.48],\"Weight\":[70,95,78,110,85],\"Premium\":[18000,38000,38000,60000,70000]}"
   ]
  },
  {
   "cell_type": "code",
   "execution_count": null,
   "id": "75de0515",
   "metadata": {},
   "outputs": [],
   "source": [
    "df=pd.DataFrame(data)"
   ]
  },
  {
   "cell_type": "code",
   "execution_count": null,
   "id": "8aad026b",
   "metadata": {},
   "outputs": [],
   "source": [
    "df"
   ]
  },
  {
   "cell_type": "code",
   "execution_count": null,
   "id": "88374eef",
   "metadata": {},
   "outputs": [],
   "source": [
    "df.isna().sum() #to check the null values in the data"
   ]
  },
  {
   "cell_type": "code",
   "execution_count": null,
   "id": "94bf555e-f5bf-46b6-be1c-e1353d93e089",
   "metadata": {},
   "outputs": [],
   "source": [
    "sns.pairplot(df,hue=\"Premium\")\n",
    "plt.show()"
   ]
  },
  {
   "cell_type": "code",
   "execution_count": null,
   "id": "f1c8050c",
   "metadata": {},
   "outputs": [],
   "source": [
    "reg=linear_model.LinearRegression()"
   ]
  },
  {
   "cell_type": "code",
   "execution_count": null,
   "id": "c7d43e48",
   "metadata": {},
   "outputs": [],
   "source": [
    "reg.fit(df[[\"Age\",\"Height\",\"Weight\"]],df[\"Premium\"])"
   ]
  },
  {
   "cell_type": "code",
   "execution_count": null,
   "id": "a8ef4b35",
   "metadata": {},
   "outputs": [],
   "source": [
    "reg.coef_"
   ]
  },
  {
   "cell_type": "code",
   "execution_count": null,
   "id": "0602c251",
   "metadata": {},
   "outputs": [],
   "source": [
    "reg.intercept_"
   ]
  },
  {
   "cell_type": "markdown",
   "id": "fb547000",
   "metadata": {},
   "source": [
    "### Finding out the Premium whose Age 27, Height 167.56, Weight 60"
   ]
  },
  {
   "cell_type": "code",
   "execution_count": null,
   "id": "ba827466",
   "metadata": {},
   "outputs": [],
   "source": [
    "reg.predict([[27,167.56,60]])"
   ]
  },
  {
   "cell_type": "markdown",
   "id": "9efa000d",
   "metadata": {},
   "source": [
    "### Validating the model"
   ]
  },
  {
   "cell_type": "markdown",
   "id": "43f7d9ac",
   "metadata": {},
   "source": [
    "### y=m1x1+m2x2+m3x3+c"
   ]
  },
  {
   "cell_type": "code",
   "execution_count": null,
   "id": "13868c52",
   "metadata": {},
   "outputs": [],
   "source": [
    "2150.26052416*27+-248.45851574*167.56+312.65291961*60+-16827.013154824934"
   ]
  },
  {
   "cell_type": "markdown",
   "id": "e44744a2",
   "metadata": {},
   "source": [
    "### Finding out the Premium whose Age 60, Height 165.10, Weight 80"
   ]
  },
  {
   "cell_type": "code",
   "execution_count": null,
   "id": "c955806d",
   "metadata": {},
   "outputs": [],
   "source": [
    "reg.predict([[60,165.10,80]])"
   ]
  },
  {
   "cell_type": "markdown",
   "id": "78ea8a9a",
   "metadata": {},
   "source": [
    "### Validating the model"
   ]
  },
  {
   "cell_type": "markdown",
   "id": "53c12841",
   "metadata": {},
   "source": [
    "### y=m1x1+m2x2+m3x3+c"
   ]
  },
  {
   "cell_type": "code",
   "execution_count": null,
   "id": "8f94112b",
   "metadata": {},
   "outputs": [],
   "source": [
    "2150.26052416*60+-248.45851574*165.10+312.65291961*80+-16827.013154824934"
   ]
  },
  {
   "cell_type": "markdown",
   "id": "7aed76eb-cc36-43e8-93ef-48f5abf080f6",
   "metadata": {},
   "source": [
    "# 2. Logistic Regression"
   ]
  },
  {
   "cell_type": "markdown",
   "id": "af01802e-493e-4c60-bc08-3dfe985ac95f",
   "metadata": {},
   "source": [
    "**Logistic Regression** is a machine learning algorithm based on supervised learning. It is used to describe data to explain the relationshib between one dapendent binary variable and one or more independent variables. Logistic Equation is created in such a way that the output of a probability value that can be mapped to classes and values can only be between 0 and 1\n",
    "    \n",
    "    1. Binary Classification\n",
    "    2. Multiclass Classification"
   ]
  },
  {
   "cell_type": "markdown",
   "id": "d7561112-0cec-4aa3-bc7c-3c68632ba503",
   "metadata": {},
   "source": [
    "### 1. Binary Classification"
   ]
  },
  {
   "cell_type": "code",
   "execution_count": null,
   "id": "15a386d0",
   "metadata": {},
   "outputs": [],
   "source": [
    "df=pd.read_csv(\"insurance_data.csv\")"
   ]
  },
  {
   "cell_type": "code",
   "execution_count": null,
   "id": "2ea2d9cb",
   "metadata": {},
   "outputs": [],
   "source": [
    "df.head()"
   ]
  },
  {
   "cell_type": "code",
   "execution_count": null,
   "id": "dca5fe73-063f-424a-a2c5-7222406cc298",
   "metadata": {},
   "outputs": [],
   "source": [
    "sns.pairplot(df)\n",
    "plt.show()"
   ]
  },
  {
   "cell_type": "code",
   "execution_count": null,
   "id": "6c6e5c71",
   "metadata": {},
   "outputs": [],
   "source": [
    "#df[\"bought_insurance\"].replace{\"no\":\"0\",\"yes\":\"1\",inplace=True}   (converting the categorical data into binary format)"
   ]
  },
  {
   "cell_type": "code",
   "execution_count": null,
   "id": "e424eb28-32ae-4df1-8018-85edf204337c",
   "metadata": {},
   "outputs": [],
   "source": [
    "e = np.array(df[\"age\"]).reshape(-1, 1)\n",
    "f = np.array(df[\"bought_insurance\"])"
   ]
  },
  {
   "cell_type": "code",
   "execution_count": null,
   "id": "5d8c18a9",
   "metadata": {},
   "outputs": [],
   "source": [
    "from sklearn.model_selection import train_test_split"
   ]
  },
  {
   "cell_type": "code",
   "execution_count": null,
   "id": "2c581c06-ba6b-4534-a581-c04690f0bf5e",
   "metadata": {},
   "outputs": [],
   "source": [
    "x_train,x_test,y_train,y_test=train_test_split(e,f,test_size=0.2,random_state=0)"
   ]
  },
  {
   "cell_type": "code",
   "execution_count": null,
   "id": "a763071e-75d3-40ad-8175-224da585b3d0",
   "metadata": {},
   "outputs": [],
   "source": [
    "len(x_train)"
   ]
  },
  {
   "cell_type": "code",
   "execution_count": null,
   "id": "db3dc012-4041-45c9-8421-77fc3bfdc4dc",
   "metadata": {},
   "outputs": [],
   "source": [
    "len(x_test)"
   ]
  },
  {
   "cell_type": "code",
   "execution_count": null,
   "id": "bdcba2d0-b62d-4ecb-bf8f-1562ae9977c9",
   "metadata": {},
   "outputs": [],
   "source": [
    "x_test"
   ]
  },
  {
   "cell_type": "code",
   "execution_count": null,
   "id": "fa48ef9a-c970-4fed-85ac-6689a60df3d2",
   "metadata": {},
   "outputs": [],
   "source": [
    "from sklearn.linear_model import LogisticRegression"
   ]
  },
  {
   "cell_type": "code",
   "execution_count": null,
   "id": "606d04eb-1332-4282-acf1-f372c3691849",
   "metadata": {},
   "outputs": [],
   "source": [
    "lr=LogisticRegression()"
   ]
  },
  {
   "cell_type": "code",
   "execution_count": null,
   "id": "9b53b502-1dbb-4093-9d03-8a1f56b44819",
   "metadata": {},
   "outputs": [],
   "source": [
    "lr.fit(x_train,y_train)"
   ]
  },
  {
   "cell_type": "code",
   "execution_count": null,
   "id": "7a3a0a76-4cdb-4aa7-95dc-003f69940b2a",
   "metadata": {},
   "outputs": [],
   "source": [
    "lr.predict(x_test)"
   ]
  },
  {
   "cell_type": "code",
   "execution_count": null,
   "id": "3b0ed431-f69b-4af2-90c7-4b3a24731805",
   "metadata": {},
   "outputs": [],
   "source": [
    "y_predictionss=lr.predict(x_test)"
   ]
  },
  {
   "cell_type": "code",
   "execution_count": null,
   "id": "1b3c952f-e423-43ed-ae29-fa6c1aed7484",
   "metadata": {},
   "outputs": [],
   "source": [
    "lr.predict([[23]]) #\"no\":\"0\",\"yes\":\"1\"  #the person age of 23 will not take the insurance"
   ]
  },
  {
   "cell_type": "code",
   "execution_count": null,
   "id": "4610a624-f614-4c7a-a3a8-ab5910e28f63",
   "metadata": {},
   "outputs": [],
   "source": [
    "from sklearn.metrics import confusion_matrix, accuracy_score\n",
    "cmm = confusion_matrix(y_test, y_predictionss)\n",
    "print (\"Confusion Matrix:\\n\",cmm)"
   ]
  },
  {
   "cell_type": "markdown",
   "id": "6b9654dd-f492-4494-9322-71456ac2dae4",
   "metadata": {},
   "source": [
    "### 2. Multiclass Classification"
   ]
  },
  {
   "cell_type": "code",
   "execution_count": null,
   "id": "6737490d-f66e-4ca3-a103-8204a7cb4b2f",
   "metadata": {},
   "outputs": [],
   "source": [
    "df=pd.read_csv(r\"C:\\Users\\ganig\\OneDrive\\Desktop\\Dataset\\iris_dataset.csv\")"
   ]
  },
  {
   "cell_type": "code",
   "execution_count": null,
   "id": "a7428e45-e62c-401e-9760-cdd876530d7d",
   "metadata": {},
   "outputs": [],
   "source": [
    "df"
   ]
  },
  {
   "cell_type": "code",
   "execution_count": null,
   "id": "fc3c5f15-04a2-458b-824d-16ba7820f55d",
   "metadata": {},
   "outputs": [],
   "source": [
    "df"
   ]
  },
  {
   "cell_type": "code",
   "execution_count": null,
   "id": "0d9e2423-4573-4803-886f-544752612f90",
   "metadata": {},
   "outputs": [],
   "source": [
    "df.rename(columns={'target': 'species'}, inplace=True)"
   ]
  },
  {
   "cell_type": "code",
   "execution_count": null,
   "id": "1d5e1ecb-28c3-4fba-ab3c-e0936b993a96",
   "metadata": {},
   "outputs": [],
   "source": [
    "df[\"species\"].unique()"
   ]
  },
  {
   "cell_type": "code",
   "execution_count": null,
   "id": "5a1a4afb-f4ff-45bf-942d-93843ef2142f",
   "metadata": {},
   "outputs": [],
   "source": [
    "df[\"species\"].replace({'Iris-setosa':\"1\", 'Iris-versicolor':\"2\", 'Iris-virginica':\"3\"},inplace=True)"
   ]
  },
  {
   "cell_type": "code",
   "execution_count": null,
   "id": "e7668595-0f92-43e6-b82e-bbdee47c61fe",
   "metadata": {},
   "outputs": [],
   "source": [
    "df"
   ]
  },
  {
   "cell_type": "code",
   "execution_count": null,
   "id": "68434d4e-7881-477a-ad57-601020f09f2a",
   "metadata": {},
   "outputs": [],
   "source": [
    "sns.pairplot(df,hue=\"species\")\n",
    "plt.show()"
   ]
  },
  {
   "cell_type": "code",
   "execution_count": null,
   "id": "bb12ef59-e9fb-4d86-8a4d-70413a8f9782",
   "metadata": {},
   "outputs": [],
   "source": [
    "from sklearn.model_selection import train_test_split"
   ]
  },
  {
   "cell_type": "code",
   "execution_count": null,
   "id": "4bde30c4-c92a-42f7-a89d-16370747cafd",
   "metadata": {},
   "outputs": [],
   "source": [
    "X_train, X_test, y_train, y_test=train_test_split(df[[\"sepal length (cm)\",\"sepal width (cm)\",\"petal length (cm)\",\"petal width (cm)\"]],df[\"species\"],test_size=0.2)"
   ]
  },
  {
   "cell_type": "code",
   "execution_count": null,
   "id": "53b493aa-257c-40cd-ade6-b4df84f31df3",
   "metadata": {},
   "outputs": [],
   "source": [
    "len(X_train)"
   ]
  },
  {
   "cell_type": "code",
   "execution_count": null,
   "id": "b7c00224-ff2b-4942-abaf-bcffc2e450c2",
   "metadata": {},
   "outputs": [],
   "source": [
    "len(X_test)"
   ]
  },
  {
   "cell_type": "code",
   "execution_count": null,
   "id": "a57abe0e-de45-4989-bfd5-6e77e7ad8e2a",
   "metadata": {},
   "outputs": [],
   "source": [
    "from sklearn.linear_model import LogisticRegression"
   ]
  },
  {
   "cell_type": "code",
   "execution_count": null,
   "id": "262f72a9-c4b2-4044-a62f-a60c61b1202f",
   "metadata": {},
   "outputs": [],
   "source": [
    "lr=LogisticRegression()"
   ]
  },
  {
   "cell_type": "code",
   "execution_count": null,
   "id": "83c6fde6-f936-4b9c-922b-9d0b45eecd78",
   "metadata": {},
   "outputs": [],
   "source": [
    "lr.fit(X_train,y_train)"
   ]
  },
  {
   "cell_type": "code",
   "execution_count": null,
   "id": "cf386f4b-8239-4be2-a8ff-6b4eca211129",
   "metadata": {},
   "outputs": [],
   "source": [
    "lr.predict(X_test)"
   ]
  },
  {
   "cell_type": "markdown",
   "id": "fa15daa7-a7d1-4360-8f8f-3e2e25ecd052",
   "metadata": {},
   "source": [
    "### Predict the \"species name\" based on sepal length,sepal width,petal length,petal width in cm"
   ]
  },
  {
   "cell_type": "code",
   "execution_count": null,
   "id": "87773d98-a4f2-4867-8367-89db9f9108de",
   "metadata": {},
   "outputs": [],
   "source": [
    "lr.predict([[5.1,3.8,1.9,0.4]]) #belongs to Iris-setosa"
   ]
  },
  {
   "cell_type": "code",
   "execution_count": null,
   "id": "cd2c3d9a-34c7-46da-87ad-90fb7f8499ce",
   "metadata": {},
   "outputs": [],
   "source": [
    "X_test   #'Iris-setosa':\"1\", 'Iris-versicolor':\"2\", 'Iris-virginica':\"3\""
   ]
  },
  {
   "cell_type": "markdown",
   "id": "8aa2f4a1-626a-4f73-a79d-780843a6f6cb",
   "metadata": {},
   "source": [
    "## Score"
   ]
  },
  {
   "cell_type": "code",
   "execution_count": null,
   "id": "cc7f3f89-1687-4950-97db-7a80f9c20b93",
   "metadata": {},
   "outputs": [],
   "source": [
    "print(\"Score:\",lr.score(X_test,y_test))"
   ]
  },
  {
   "cell_type": "markdown",
   "id": "22124238-29dd-4b1e-85a8-28f42c4b0cf7",
   "metadata": {},
   "source": [
    "## Accuracy"
   ]
  },
  {
   "cell_type": "code",
   "execution_count": null,
   "id": "e43ec5a8-8bd7-48b3-a920-efa8c3f7e3b7",
   "metadata": {},
   "outputs": [],
   "source": [
    "y_pred=lr.predict(X_test)"
   ]
  },
  {
   "cell_type": "code",
   "execution_count": null,
   "id": "9342f2c4-98c6-4037-bc66-9a2015ff904f",
   "metadata": {},
   "outputs": [],
   "source": [
    "y_pred"
   ]
  },
  {
   "cell_type": "code",
   "execution_count": null,
   "id": "51065038-257d-457a-b835-c73b7764a2a5",
   "metadata": {},
   "outputs": [],
   "source": [
    "from sklearn.metrics import accuracy_score\n",
    "print(accuracy_score(y_test, y_pred))"
   ]
  },
  {
   "cell_type": "code",
   "execution_count": null,
   "id": "727e34f0-54c5-4f85-9b71-37ae86d929c9",
   "metadata": {},
   "outputs": [],
   "source": []
  },
  {
   "cell_type": "markdown",
   "id": "576cb7a2-89b5-473d-b463-13826616ba9c",
   "metadata": {},
   "source": [
    "# 3. Support Vector Machine"
   ]
  },
  {
   "cell_type": "markdown",
   "id": "e68afba3-9062-4031-82bc-cad262e3a0f4",
   "metadata": {},
   "source": [
    "**Support Vector Machine** is a machine learning algorithm based on supervised learning , that can be used for both regression and classification. In general we use for classification. SVM finds the **hyperplane** between classes of data which **maximizes the margin between classes**."
   ]
  },
  {
   "cell_type": "code",
   "execution_count": null,
   "id": "0ee49967-71f7-4e89-81ab-ec9496e7417e",
   "metadata": {},
   "outputs": [],
   "source": [
    "import pandas as pd"
   ]
  },
  {
   "cell_type": "code",
   "execution_count": null,
   "id": "63f92ce9-44c4-4bfc-add7-fd4bca326a35",
   "metadata": {},
   "outputs": [],
   "source": [
    "data=pd.read_csv(r\"C:\\Users\\ganig\\OneDrive\\Desktop\\Dataset\\iris_dataset.csv\")"
   ]
  },
  {
   "cell_type": "code",
   "execution_count": null,
   "id": "ddada7b7-3e3c-45fb-ad46-97afa5283a8a",
   "metadata": {},
   "outputs": [],
   "source": [
    "data.head()"
   ]
  },
  {
   "cell_type": "code",
   "execution_count": null,
   "id": "0ed3a634-53b9-48e6-8343-e6aa52734b90",
   "metadata": {},
   "outputs": [],
   "source": [
    "sns.pairplot(data,hue=\"target\")\n",
    "plt.show()"
   ]
  },
  {
   "cell_type": "markdown",
   "id": "1f9f17ac-9b69-4f70-b1b2-323d7b144c63",
   "metadata": {},
   "source": [
    "From the above data **\"target\"** is the *dependent variable/target variable* and **\"sepal length (cm)\" \"sepal width (cm)\" \"petal length (cm)\" \"petal width (cm)\"** are *dependent variables*"
   ]
  },
  {
   "cell_type": "code",
   "execution_count": null,
   "id": "7a99333e-1b7b-4b34-8cae-c5109137ba2c",
   "metadata": {},
   "outputs": [],
   "source": [
    "c=data.iloc[:,:4]    #feature matrix"
   ]
  },
  {
   "cell_type": "code",
   "execution_count": null,
   "id": "efc8db97-b470-4336-933f-29de6bf894fd",
   "metadata": {},
   "outputs": [],
   "source": [
    "d=data.iloc[:,-1]    #dependent variable vector"
   ]
  },
  {
   "cell_type": "code",
   "execution_count": null,
   "id": "f60f582e-8981-4b05-b31e-e64d6ebedfad",
   "metadata": {},
   "outputs": [],
   "source": [
    "c"
   ]
  },
  {
   "cell_type": "code",
   "execution_count": null,
   "id": "41ea0343-a367-4d92-8486-763773bef9f1",
   "metadata": {},
   "outputs": [],
   "source": [
    "d"
   ]
  },
  {
   "cell_type": "markdown",
   "id": "fcd483d6-4689-48f5-9e0c-4972f6a60ea9",
   "metadata": {},
   "source": [
    "### Data Splitting"
   ]
  },
  {
   "cell_type": "code",
   "execution_count": null,
   "id": "3661c34e-6ead-4ce6-be89-db84be035fa1",
   "metadata": {},
   "outputs": [],
   "source": [
    "from sklearn.model_selection import train_test_split"
   ]
  },
  {
   "cell_type": "code",
   "execution_count": null,
   "id": "874c0fb7-fead-40cd-93dc-0116ccd590bf",
   "metadata": {},
   "outputs": [],
   "source": [
    "X1_train, X2_test, y1_train, y2_test = train_test_split(c,d,test_size=0.2,random_state=0)"
   ]
  },
  {
   "cell_type": "code",
   "execution_count": null,
   "id": "7a111804-df48-4536-a2e6-7b6b20530715",
   "metadata": {},
   "outputs": [],
   "source": [
    "len(X2_test)"
   ]
  },
  {
   "cell_type": "code",
   "execution_count": null,
   "id": "9375df84-a87b-491e-89ec-6cc35c5b6c31",
   "metadata": {},
   "outputs": [],
   "source": [
    "len(X1_train)"
   ]
  },
  {
   "cell_type": "code",
   "execution_count": null,
   "id": "c113c78f-19a4-49f9-810d-74107361d992",
   "metadata": {},
   "outputs": [],
   "source": [
    "len(y2_test)"
   ]
  },
  {
   "cell_type": "code",
   "execution_count": null,
   "id": "8c618597-ff44-4283-a9a7-36f4528f85ff",
   "metadata": {},
   "outputs": [],
   "source": [
    "len(y1_train)"
   ]
  },
  {
   "cell_type": "code",
   "execution_count": null,
   "id": "635a7f68-9461-405c-a458-83276033af36",
   "metadata": {},
   "outputs": [],
   "source": [
    "from sklearn.svm import SVC #support vector classification"
   ]
  },
  {
   "cell_type": "code",
   "execution_count": null,
   "id": "e38dbc97-112b-4aa7-8bd2-4948e61eee86",
   "metadata": {},
   "outputs": [],
   "source": [
    "model=SVC(kernel=\"linear\")"
   ]
  },
  {
   "cell_type": "code",
   "execution_count": null,
   "id": "5d9bc3a0-2cd2-4561-b449-2ff822b52fd0",
   "metadata": {},
   "outputs": [],
   "source": [
    "model.fit(X1_train,y1_train)"
   ]
  },
  {
   "cell_type": "code",
   "execution_count": null,
   "id": "d25180ba-a692-4035-87c7-fb5635250c4f",
   "metadata": {},
   "outputs": [],
   "source": [
    "model.predict(X2_test)"
   ]
  },
  {
   "cell_type": "code",
   "execution_count": null,
   "id": "6a7bfddf-7440-4f7b-bd26-ce3ba87d4664",
   "metadata": {},
   "outputs": [],
   "source": [
    "X2_test.head()"
   ]
  },
  {
   "cell_type": "markdown",
   "id": "99f4229d-5764-4dde-9e2c-57c9d9de442b",
   "metadata": {},
   "source": [
    "## Score"
   ]
  },
  {
   "cell_type": "code",
   "execution_count": null,
   "id": "c1de7836-5d9b-4780-a2a3-5042b90f823c",
   "metadata": {},
   "outputs": [],
   "source": [
    "model.score(X2_test,y2_test)"
   ]
  },
  {
   "cell_type": "markdown",
   "id": "81a692de-2ec6-4d0c-aac4-64cac5806299",
   "metadata": {},
   "source": [
    "## Accuracy"
   ]
  },
  {
   "cell_type": "code",
   "execution_count": null,
   "id": "93b06e68-6924-4090-9714-b4cb1729bfd5",
   "metadata": {},
   "outputs": [],
   "source": [
    "y_predictions=model.predict(X2_test)"
   ]
  },
  {
   "cell_type": "code",
   "execution_count": null,
   "id": "a4e5f516-61ba-43ec-81fc-064493a93572",
   "metadata": {},
   "outputs": [],
   "source": [
    "from sklearn.metrics import accuracy_score\n",
    "accuracy_score(y2_test, y_predictions)"
   ]
  },
  {
   "cell_type": "markdown",
   "id": "5f051262-e535-43ba-837e-3acc05773610",
   "metadata": {},
   "source": [
    "# 4. K-NN (K-Nearest Neighbourhood)"
   ]
  },
  {
   "cell_type": "markdown",
   "id": "c1888e5a-e658-4d77-a1bd-12e915ee70c6",
   "metadata": {},
   "source": [
    "**KNN - K Nearest Neighbors** is one of the simplest *supervised machine learning* algorithm mostly used for **classification**. It classifies a data point based on how its neighbors are classified. KNN Algorithm is based on *feature similarity*. Choosing the right value of *k* is a process called **parameter tuning** and it is important for better accuracy.\n",
    "\n",
    "**To choose a value of k:**\n",
    "square root of n(the total number of data points). *Odd value* of k is selected to avoid confusion between two classes of data.\n",
    "\n",
    "**To choose a neighbour:**\n",
    "To find the nearest neighbors, we will calculate **Euclidean distance**."
   ]
  },
  {
   "cell_type": "code",
   "execution_count": null,
   "id": "e60980ea-53de-4ba2-b947-d404e5ff02e7",
   "metadata": {},
   "outputs": [],
   "source": [
    "DataFrame=pd.read_csv(r\"C:\\Users\\ganig\\OneDrive\\Desktop\\Dataset\\diabetes.csv\")"
   ]
  },
  {
   "cell_type": "code",
   "execution_count": null,
   "id": "8d14cacf-9477-4efa-8709-1f806ab0c5e2",
   "metadata": {},
   "outputs": [],
   "source": [
    "DataFrame.head()"
   ]
  },
  {
   "cell_type": "markdown",
   "id": "b9839543-ce7b-4c95-a78e-b5c91c280f63",
   "metadata": {},
   "source": [
    "**Objective:** Predict whether a person will be diagnosed with diabetes or not."
   ]
  },
  {
   "cell_type": "code",
   "execution_count": null,
   "id": "da0f6a8e-e7d6-4d4f-8493-6b324ce3d6f8",
   "metadata": {},
   "outputs": [],
   "source": [
    "import pandas as pd\n",
    "import numpy as np"
   ]
  },
  {
   "cell_type": "code",
   "execution_count": null,
   "id": "e37b8240-7e5e-4b0e-af16-814d03be11d5",
   "metadata": {},
   "outputs": [],
   "source": [
    "len(DataFrame)"
   ]
  },
  {
   "cell_type": "code",
   "execution_count": null,
   "id": "e2737795-36a5-4122-a53c-3223c667e591",
   "metadata": {},
   "outputs": [],
   "source": [
    "DataFrame.count()"
   ]
  },
  {
   "cell_type": "code",
   "execution_count": null,
   "id": "d912cfaf-6e56-4471-bcf1-0c0e10f7b866",
   "metadata": {},
   "outputs": [],
   "source": [
    "DataFrame.isna().sum()   #To find the null values in the DataFrame"
   ]
  },
  {
   "cell_type": "code",
   "execution_count": null,
   "id": "e9e8237a-2f3d-4757-a88b-badab1407456",
   "metadata": {},
   "outputs": [],
   "source": [
    "# Replace zeroes\n",
    "zero_not_accepted = ['Glucose', 'BloodPressure', 'SkinThickness', 'BMI', 'Insulin']"
   ]
  },
  {
   "cell_type": "code",
   "execution_count": null,
   "id": "3af1dbe6-407c-4451-bc70-ed250ff5c074",
   "metadata": {},
   "outputs": [],
   "source": [
    "for column in zero_not_accepted:\n",
    "    DataFrame[column] = DataFrame[column].replace(0, np.NaN)\n",
    "    mean = int(DataFrame[column].mean(skipna=True))\n",
    "    DataFrame[column] = DataFrame[column].replace(np.NaN, mean)"
   ]
  },
  {
   "cell_type": "code",
   "execution_count": null,
   "id": "efb56708-c99b-40c4-87d7-8b5c5d704ff2",
   "metadata": {},
   "outputs": [],
   "source": [
    "sns.pairplot(DataFrame,hue=\"Outcome\")\n",
    "plt.show()"
   ]
  },
  {
   "cell_type": "code",
   "execution_count": null,
   "id": "7bf96810-c189-4083-a2b5-b5a7d388d1b5",
   "metadata": {},
   "outputs": [],
   "source": [
    "#Data Split\n",
    "ind = DataFrame.iloc[:, 0:8]  #independent\n",
    "dep = DataFrame.iloc[:, 8]    #dependent Variable\n",
    "from sklearn.model_selection import train_test_split\n",
    "a1_train, a2_test, b1_train, b2_test = train_test_split(ind, dep, random_state=0, test_size=0.2) #20% test data"
   ]
  },
  {
   "cell_type": "code",
   "execution_count": null,
   "id": "57875ad8-8dff-470a-8b53-088b25aff4a9",
   "metadata": {},
   "outputs": [],
   "source": [
    "a2_test.count()   #test_data"
   ]
  },
  {
   "cell_type": "code",
   "execution_count": null,
   "id": "393f918a-4afa-46f7-83b8-76177c2710d8",
   "metadata": {},
   "outputs": [],
   "source": [
    "a1_train.count()   #train_data"
   ]
  },
  {
   "cell_type": "code",
   "execution_count": null,
   "id": "9925e097-647c-4a54-9154-af7de30451cf",
   "metadata": {},
   "outputs": [],
   "source": [
    "#Feature scaling\n",
    "from sklearn.preprocessing import StandardScaler\n",
    "sc_a = StandardScaler()\n",
    "a1_train = sc_a.fit_transform(a1_train)\n",
    "a2_test = sc_a.transform(a2_test)"
   ]
  },
  {
   "cell_type": "code",
   "execution_count": null,
   "id": "3fad81ba-a22d-4098-bac9-077f77547f98",
   "metadata": {},
   "outputs": [],
   "source": [
    "import math\n",
    "#finding the total number of neighbors \"k\"\n",
    "math.sqrt(len(b2_test))\n",
    "#Note: K value should be odd number "
   ]
  },
  {
   "cell_type": "code",
   "execution_count": null,
   "id": "2f493c46-6c4b-45e6-a832-4124e40b8627",
   "metadata": {},
   "outputs": [],
   "source": [
    "# Define the model: K-NN\n",
    "from sklearn.neighbors import KNeighborsClassifier\n",
    "classifier = KNeighborsClassifier(n_neighbors=11, p=2,metric='euclidean')\n",
    "#n_neighbors=11: This specifies the number of neighbors to consider when making predictions\n",
    "\n",
    "# Training the Model\n",
    "classifier.fit(a1_train, b1_train)"
   ]
  },
  {
   "cell_type": "code",
   "execution_count": null,
   "id": "fc324b24-4cfb-4e0f-b268-f656dc5e3e08",
   "metadata": {},
   "outputs": [],
   "source": [
    "y_predict = classifier.predict(a2_test)\n",
    "print(y_predict)"
   ]
  },
  {
   "cell_type": "code",
   "execution_count": null,
   "id": "cbfa7689-642b-45ab-8b39-1a61084c0123",
   "metadata": {},
   "outputs": [],
   "source": [
    "# Evaluate Model\n",
    "from sklearn.metrics import confusion_matrix, accuracy_score\n",
    "cm = confusion_matrix(b2_test, y_predict)\n",
    "print (\"Confusion Matrix:\\n\",cm)    \n",
    "#\\n is for New Line\n",
    "#sns.heatmap(cm,annot=True)"
   ]
  },
  {
   "cell_type": "code",
   "execution_count": null,
   "id": "cd56956c-0278-43de-b24c-4fe42cc35a5d",
   "metadata": {},
   "outputs": [],
   "source": [
    "from sklearn.metrics import f1_score\n",
    "print(\"Score:\",f1_score(b2_test, y_predict))"
   ]
  },
  {
   "cell_type": "code",
   "execution_count": null,
   "id": "27484ba5-6022-481e-bdba-ce207e12211b",
   "metadata": {},
   "outputs": [],
   "source": [
    "from sklearn.metrics import accuracy_score\n",
    "print(\"Accuracy:\",accuracy_score(b2_test, y_predict))"
   ]
  },
  {
   "cell_type": "code",
   "execution_count": null,
   "id": "0bd6430e-6a3e-4ff9-94ae-1d4b072615f6",
   "metadata": {},
   "outputs": [],
   "source": [
    "from sklearn.metrics import accuracy_score,mean_squared_error\n",
    "print(\"Mean Square Error:\",mean_squared_error(b2_test,y_predict))"
   ]
  },
  {
   "cell_type": "code",
   "execution_count": null,
   "id": "9c20ab8a-d2e3-4d00-a3d9-ed3203416e9c",
   "metadata": {},
   "outputs": [],
   "source": [
    "from sklearn.metrics import classification_report\n",
    "print(classification_report(b2_test, y_predict))"
   ]
  },
  {
   "cell_type": "markdown",
   "id": "ed29df15-d457-42d5-8dbc-30a25e50959a",
   "metadata": {},
   "source": [
    "# Unsupervised Machine Learning"
   ]
  },
  {
   "cell_type": "markdown",
   "id": "63f52adf-2c31-4401-a584-04366bae2cbe",
   "metadata": {},
   "source": [
    "**Unsupervised Machine Learning** involves *extracting patterns or relationships from data without labeled outcomes* or explicit guidance, allowing the algorithm to identify inherent structures autonomously."
   ]
  },
  {
   "cell_type": "markdown",
   "id": "fb80ecc7-4f3d-4340-a644-f48bc12c28ce",
   "metadata": {},
   "source": [
    "**Clustering** is a machine learning technique that involves grouping similar data points into clusters or subgroups *based on the similarity of their features*. The goal of clustering is to identify natural patterns or structures within the data, without any prior knowledge of the underlying categories or labels. "
   ]
  },
  {
   "cell_type": "markdown",
   "id": "564e3005-835a-416a-930e-3791052010a7",
   "metadata": {},
   "source": [
    "# 5. Kmeans Clustering"
   ]
  },
  {
   "cell_type": "markdown",
   "id": "26760bf1-3a5f-44e8-a605-eb1ea6e2aa9d",
   "metadata": {},
   "source": [
    "**Kmeans** is a clustering algorithm used in machine learning to group data points into k distinct clusters based on their similarities, with the goal of **minimizing the variance**(spread or dispersion of set of values) within each cluster."
   ]
  },
  {
   "cell_type": "code",
   "execution_count": null,
   "id": "56396f4e-6804-4a2a-bbcd-4d60211ca564",
   "metadata": {},
   "outputs": [],
   "source": [
    "from sklearn.cluster import KMeans\n",
    "import pandas as pd\n",
    "from sklearn.preprocessing import MinMaxScaler\n",
    "from matplotlib import pyplot as plt\n",
    "%matplotlib inline"
   ]
  },
  {
   "cell_type": "code",
   "execution_count": null,
   "id": "5b3022d8-0218-447a-8b6a-1c1cdca13c70",
   "metadata": {},
   "outputs": [],
   "source": [
    "dt=pd.read_csv(r\"C:\\Users\\ganig\\OneDrive\\Desktop\\Dataset\\income.csv\")"
   ]
  },
  {
   "cell_type": "code",
   "execution_count": null,
   "id": "331f0acf-bfca-4bac-abcb-095dea7b1ee2",
   "metadata": {},
   "outputs": [],
   "source": [
    "dt.head()"
   ]
  },
  {
   "cell_type": "code",
   "execution_count": null,
   "id": "3b4a3c41-8fd1-44b3-a0c5-8cd34f551a93",
   "metadata": {},
   "outputs": [],
   "source": [
    "plt.scatter(x=\"Age\",y=\"Income($)\",data=dt)\n",
    "plt.xlabel(\"Age\")\n",
    "plt.ylabel(\"Income\")\n",
    "plt.show()"
   ]
  },
  {
   "cell_type": "code",
   "execution_count": null,
   "id": "9cb51ce3-907f-4a2d-be4e-0e63e3d8ce95",
   "metadata": {},
   "outputs": [],
   "source": [
    "from sklearn.cluster import KMeans\n",
    "km=KMeans(n_clusters=3)\n",
    "km"
   ]
  },
  {
   "cell_type": "code",
   "execution_count": null,
   "id": "f4f41ac2-4e1f-4eb8-afd4-7eb623c926d4",
   "metadata": {},
   "outputs": [],
   "source": [
    "y_prediction=km.fit_predict(dt[[\"Age\",\"Income($)\"]])\n",
    "y_prediction"
   ]
  },
  {
   "cell_type": "code",
   "execution_count": null,
   "id": "f9d6619d-3417-4a0c-9805-a440c4f48e11",
   "metadata": {},
   "outputs": [],
   "source": [
    "dt[\"Cluster\"]=y_prediction  #Adding a custer column to dataframe to represent it visually"
   ]
  },
  {
   "cell_type": "code",
   "execution_count": null,
   "id": "becf3eb0-91ff-4559-9d28-51460c5fc7c5",
   "metadata": {},
   "outputs": [],
   "source": [
    "dt.head()"
   ]
  },
  {
   "cell_type": "code",
   "execution_count": null,
   "id": "cd7ee8fc-f67d-469d-bd34-7a4cb767fe3a",
   "metadata": {},
   "outputs": [],
   "source": [
    "sns.pairplot(dt,hue=\"Cluster\")\n",
    "plt.show()"
   ]
  },
  {
   "cell_type": "code",
   "execution_count": null,
   "id": "6f4a23b2-da48-48ba-9189-017b14831505",
   "metadata": {},
   "outputs": [],
   "source": [
    "km.cluster_centers_"
   ]
  },
  {
   "cell_type": "code",
   "execution_count": null,
   "id": "c97088c7-3085-416a-b035-6a84faf45222",
   "metadata": {},
   "outputs": [],
   "source": [
    "df1 = dt[dt.Cluster==0]\n",
    "df2 = dt[dt.Cluster==1]\n",
    "df3 = dt[dt.Cluster==2]\n",
    "plt.scatter(df1.Age,df1['Income($)'],color='green')\n",
    "plt.scatter(df2.Age,df2['Income($)'],color='red')\n",
    "plt.scatter(df3.Age,df3['Income($)'],color='black')\n",
    "plt.scatter(km.cluster_centers_[:,0],km.cluster_centers_[:,1],color='purple',marker='*',label='centroid')\n",
    "plt.xlabel('Age')\n",
    "plt.ylabel('Income ($)')\n",
    "plt.legend()\n",
    "plt.show()"
   ]
  },
  {
   "cell_type": "code",
   "execution_count": null,
   "id": "d4c40aea-1199-4d77-b273-3afb6a09d8af",
   "metadata": {},
   "outputs": [],
   "source": [
    "scaler = MinMaxScaler()\n",
    "scaler.fit(dt[['Income($)']])\n",
    "dt['Income($)'] = scaler.transform(dt[['Income($)']])\n",
    "scaler.fit(dt[['Age']])\n",
    "dt['Age'] = scaler.transform(dt[['Age']])"
   ]
  },
  {
   "cell_type": "code",
   "execution_count": null,
   "id": "54f2fb0f-78a6-442e-8a76-5b31047cbcc6",
   "metadata": {},
   "outputs": [],
   "source": [
    "dt.head()"
   ]
  },
  {
   "cell_type": "code",
   "execution_count": null,
   "id": "fabb5edb-e6e9-4543-bf91-ac5218e250ae",
   "metadata": {},
   "outputs": [],
   "source": [
    "km=KMeans(n_clusters=3)\n",
    "km"
   ]
  },
  {
   "cell_type": "code",
   "execution_count": null,
   "id": "37407ef1-3587-497b-ac5f-1627577ea9d1",
   "metadata": {},
   "outputs": [],
   "source": [
    "y_prediction=km.fit_predict(dt[[\"Age\",\"Income($)\"]])\n",
    "y_prediction"
   ]
  },
  {
   "cell_type": "code",
   "execution_count": null,
   "id": "404f3238-84e0-43fa-92d6-6781e7de313c",
   "metadata": {},
   "outputs": [],
   "source": [
    "dt[\"Cluster\"]=y_prediction"
   ]
  },
  {
   "cell_type": "code",
   "execution_count": null,
   "id": "accef6b4-44e5-4beb-b53a-7ca52245ee6a",
   "metadata": {},
   "outputs": [],
   "source": [
    "dt.head()"
   ]
  },
  {
   "cell_type": "code",
   "execution_count": null,
   "id": "2d3bf811-261c-4e13-9379-9cbc285c8007",
   "metadata": {},
   "outputs": [],
   "source": [
    "km.cluster_centers_"
   ]
  },
  {
   "cell_type": "code",
   "execution_count": null,
   "id": "3d90554a-80cb-410c-95d2-60502724877d",
   "metadata": {},
   "outputs": [],
   "source": [
    "df1 = dt[dt.Cluster==0]\n",
    "df2 = dt[dt.Cluster==1]\n",
    "df3 = dt[dt.Cluster==2]\n",
    "plt.scatter(df1.Age,df1['Income($)'],color='green')\n",
    "plt.scatter(df2.Age,df2['Income($)'],color='red')\n",
    "plt.scatter(df3.Age,df3['Income($)'],color='black')\n",
    "plt.scatter(km.cluster_centers_[:,0],km.cluster_centers_[:,1],color='purple',marker='*',label='centroid')\n",
    "plt.xlabel('Age')\n",
    "plt.ylabel('Income($)')\n",
    "plt.title('Clusters of Customers')\n",
    "plt.legend()\n",
    "plt.show()"
   ]
  },
  {
   "cell_type": "markdown",
   "id": "fb698f8c-f2d2-4f31-be8e-d1d453e313d4",
   "metadata": {},
   "source": [
    "### Elbow Plot"
   ]
  },
  {
   "cell_type": "code",
   "execution_count": null,
   "id": "8998dc05-06c5-4acd-bddd-7e774992cbd7",
   "metadata": {},
   "outputs": [],
   "source": [
    "sse = []\n",
    "k_rng = range(1,10)\n",
    "for k in k_rng:\n",
    "    km = KMeans(n_clusters=k)\n",
    "    km.fit(dt[['Age','Income($)']])\n",
    "    sse.append(km.inertia_)"
   ]
  },
  {
   "cell_type": "code",
   "execution_count": null,
   "id": "21325d1e-0ea8-4226-9c05-eff5b2962b8f",
   "metadata": {},
   "outputs": [],
   "source": [
    "print(\"Sum of Squared Errors:\\n\",sse)\n",
    "#Note: As K value increases sse(sum of squared errors) decreases"
   ]
  },
  {
   "cell_type": "code",
   "execution_count": null,
   "id": "a0bbabbe-da13-45ee-af2c-22ccabb7d716",
   "metadata": {},
   "outputs": [],
   "source": [
    "k_rng"
   ]
  },
  {
   "cell_type": "markdown",
   "id": "1d3ab449-fc8c-4965-b720-154ffb3f3020",
   "metadata": {},
   "source": [
    "The **\"elbow\"** of the curve is often a good indicator of the optimal number of clusters. Choose the value of k at the point where the SSE starts decreasing at a slower rate, forming an elbow-like shape in the plot."
   ]
  },
  {
   "cell_type": "code",
   "execution_count": null,
   "id": "64ad21d2-39ac-491d-a556-28775b68872b",
   "metadata": {},
   "outputs": [],
   "source": [
    "plt.plot(k_rng, sse, marker='s',color=\"red\")\n",
    "plt.xlabel('Number of Clusters (k)')\n",
    "plt.ylabel('Sum of Squared Errors (SSE)')\n",
    "plt.title('Elbow Method for Optimal k')\n",
    "plt.show()"
   ]
  },
  {
   "cell_type": "markdown",
   "id": "ab6ffdd1-3a2e-48bf-90b4-83c0ae43761f",
   "metadata": {},
   "source": [
    "**Note:** The elbow method shows that **3** is a good value for **K**"
   ]
  },
  {
   "cell_type": "markdown",
   "id": "1d60973b-a456-4fe5-b1b3-0b489f035e11",
   "metadata": {},
   "source": [
    "# Principal Component Analysis(PCA)/Dimensionality Reduction"
   ]
  },
  {
   "cell_type": "markdown",
   "id": "b5490fb4-1872-421d-a064-8b69d3bfdeac",
   "metadata": {},
   "source": [
    "**PCA** is a process of figuring out most important features or principal components that has the most impact on the target variable/dependent variable. PCA is called **dimensionality reduction technique** as it can help us reduce dimension, this is done to avoid the **curse of dimensionality**."
   ]
  },
  {
   "cell_type": "code",
   "execution_count": null,
   "id": "ea48d49e-37af-4e2e-8404-e8926dc334cc",
   "metadata": {},
   "outputs": [],
   "source": [
    "import pandas as pd\n",
    "from sklearn.datasets import load_digits"
   ]
  },
  {
   "cell_type": "code",
   "execution_count": null,
   "id": "60b9508f-301f-4a4f-95a9-e612c62e1d77",
   "metadata": {},
   "outputs": [],
   "source": [
    "Px=load_digits()\n",
    "Px.keys()"
   ]
  },
  {
   "cell_type": "code",
   "execution_count": null,
   "id": "c4ae7227-bd9c-43ce-8609-f8b8b6ef5d39",
   "metadata": {},
   "outputs": [],
   "source": [
    "Px.feature_names"
   ]
  },
  {
   "cell_type": "code",
   "execution_count": null,
   "id": "9ed39a27-1d2a-4bd8-a749-2baec42c9e7a",
   "metadata": {},
   "outputs": [],
   "source": [
    "Px.data.shape    #total we have 64 features in this data"
   ]
  },
  {
   "cell_type": "code",
   "execution_count": null,
   "id": "78b3fe57-ae1a-4531-9eed-88015616c384",
   "metadata": {},
   "outputs": [],
   "source": [
    "Px.data[0].reshape(8,8)"
   ]
  },
  {
   "cell_type": "code",
   "execution_count": null,
   "id": "c33833b3-d271-4042-bfaa-391332e96eca",
   "metadata": {},
   "outputs": [],
   "source": [
    "from matplotlib import pyplot as plt\n",
    "%matplotlib inline\n",
    "\n",
    "plt.gray()\n",
    "plt.matshow(Px.data[0].reshape(8,8))\n",
    "plt.show()"
   ]
  },
  {
   "cell_type": "code",
   "execution_count": null,
   "id": "97ecfaec-cb4a-4cd4-b55c-8a00db63200d",
   "metadata": {},
   "outputs": [],
   "source": [
    "plt.gray()\n",
    "plt.matshow(Px.data[1].reshape(8,8))\n",
    "plt.show()"
   ]
  },
  {
   "cell_type": "code",
   "execution_count": null,
   "id": "f7d755ab-435d-4ba2-af51-788f6cc91827",
   "metadata": {},
   "outputs": [],
   "source": [
    "Px.target"
   ]
  },
  {
   "cell_type": "code",
   "execution_count": null,
   "id": "411e4b0d-f052-46ee-927e-6610a867f7ad",
   "metadata": {},
   "outputs": [],
   "source": [
    "Px.target[1]"
   ]
  },
  {
   "cell_type": "code",
   "execution_count": null,
   "id": "3b322571-fe09-4ace-886a-93fdfc811416",
   "metadata": {},
   "outputs": [],
   "source": [
    "Pixel=pd.DataFrame(Px.data ,columns =Px.feature_names)\n",
    "Pixel"
   ]
  },
  {
   "cell_type": "code",
   "execution_count": null,
   "id": "983f7603-6210-44e8-ade0-299204cd3698",
   "metadata": {},
   "outputs": [],
   "source": [
    "Pixel.describe()"
   ]
  },
  {
   "cell_type": "code",
   "execution_count": null,
   "id": "cc641060-e96f-4b86-bfd2-08fcf03781ac",
   "metadata": {},
   "outputs": [],
   "source": [
    "XPixel=Pixel\n",
    "y=Px.target"
   ]
  },
  {
   "cell_type": "code",
   "execution_count": null,
   "id": "1b3f0c2b-b4d3-4f5c-83d5-cafec3357326",
   "metadata": {},
   "outputs": [],
   "source": [
    "from sklearn.preprocessing import StandardScaler\n",
    "scaler=StandardScaler()\n",
    "X_scaled=scaler.fit_transform(XPixel)"
   ]
  },
  {
   "cell_type": "code",
   "execution_count": null,
   "id": "c9c34959-6f28-4c7b-b8dc-cd8dc5377a83",
   "metadata": {},
   "outputs": [],
   "source": [
    "X_scaled"
   ]
  },
  {
   "cell_type": "code",
   "execution_count": null,
   "id": "54eb4786-e460-425d-8a83-5010b6db6a14",
   "metadata": {},
   "outputs": [],
   "source": [
    "from sklearn.model_selection import train_test_split\n",
    "PX_train, PX_test, py_train, py_test = train_test_split(X_scaled, y, test_size=0.30, random_state=42)"
   ]
  },
  {
   "cell_type": "code",
   "execution_count": null,
   "id": "fa7a37a9-611a-4553-90f9-6b4b830ff09b",
   "metadata": {},
   "outputs": [],
   "source": [
    "from sklearn.linear_model import LogisticRegression\n",
    "\n",
    "PXmodel=LogisticRegression()\n",
    "PXmodel.fit(PX_train,py_train)\n",
    "PXmodel.score(PX_test,py_test)"
   ]
  },
  {
   "cell_type": "markdown",
   "id": "e534baf0-3d13-428d-b65d-212b74a9dd50",
   "metadata": {},
   "source": [
    "### Now, Lets Use PCA and find the accuracy of the model"
   ]
  },
  {
   "cell_type": "code",
   "execution_count": null,
   "id": "b4f164d0-8a53-4d0f-bfad-9ad1475e774d",
   "metadata": {},
   "outputs": [],
   "source": [
    "Pixel.head()"
   ]
  },
  {
   "cell_type": "code",
   "execution_count": null,
   "id": "32f76299-3895-4fa7-8426-d1be1c5d95d1",
   "metadata": {},
   "outputs": [],
   "source": [
    "from sklearn.decomposition import PCA\n",
    "\n",
    "pca=PCA(0.95)  #to capture 95% of feature variance\n",
    "x_pca=pca.fit_transform(Pixel)\n",
    "x_pca.shape"
   ]
  },
  {
   "cell_type": "markdown",
   "id": "2a366505-43ce-4c57-9592-fe405aa5b1d4",
   "metadata": {},
   "source": [
    "**Note:** Here, By using the PCA we reduced the features from **64 to 29**"
   ]
  },
  {
   "cell_type": "code",
   "execution_count": null,
   "id": "c1d1ca19-3588-4c22-8257-1f9fc7c4dff0",
   "metadata": {},
   "outputs": [],
   "source": [
    "x_pca"
   ]
  },
  {
   "cell_type": "code",
   "execution_count": null,
   "id": "abbdabce-9b53-4cdc-81cf-5fa636c1164d",
   "metadata": {},
   "outputs": [],
   "source": [
    "pca.explained_variance_ratio_   #to print the no. of features we got using PCA"
   ]
  },
  {
   "cell_type": "code",
   "execution_count": null,
   "id": "46827f21-8d24-4477-974d-61c26fbcb13c",
   "metadata": {},
   "outputs": [],
   "source": [
    "pca.n_components_   ##to print the no. of features we got using PCA"
   ]
  },
  {
   "cell_type": "code",
   "execution_count": null,
   "id": "4540639b-2140-4d2e-acba-d68307a473c1",
   "metadata": {},
   "outputs": [],
   "source": [
    "from sklearn.model_selection import train_test_split\n",
    "XPCA_train, XPCA_test, py_train, py_test = train_test_split(x_pca, y, test_size=0.2, random_state=42)"
   ]
  },
  {
   "cell_type": "code",
   "execution_count": null,
   "id": "bab32a77-ac36-42ac-ae70-ab27c6945a52",
   "metadata": {},
   "outputs": [],
   "source": [
    "from sklearn.linear_model import LogisticRegression\n",
    "\n",
    "PXmodel=LogisticRegression(max_iter=1000)\n",
    "PXmodel.fit(XPCA_train,py_train)\n",
    "PXmodel.score(XPCA_test,py_test)"
   ]
  },
  {
   "cell_type": "markdown",
   "id": "14837f21-9813-4203-a65d-29458379aa37",
   "metadata": {},
   "source": [
    "By using PCA we can reduce the budget..."
   ]
  },
  {
   "cell_type": "code",
   "execution_count": null,
   "id": "12c0d6d6-bdae-4c6e-b0bc-6b8fe7de2f1d",
   "metadata": {},
   "outputs": [],
   "source": [
    "pca=PCA(n_components=2)\n",
    "x_pca=pca.fit_transform(Pixel)\n",
    "x_pca.shape"
   ]
  },
  {
   "cell_type": "code",
   "execution_count": null,
   "id": "696b672e-9cec-4769-9e02-b89650670c2b",
   "metadata": {},
   "outputs": [],
   "source": [
    "x_pca"
   ]
  },
  {
   "cell_type": "code",
   "execution_count": null,
   "id": "f7ffe438-a3c2-4ac9-9c80-febdb3100213",
   "metadata": {},
   "outputs": [],
   "source": [
    "pca.explained_variance_ratio_"
   ]
  },
  {
   "cell_type": "code",
   "execution_count": null,
   "id": "d4c97012-6417-4d19-9125-7dbc184aa542",
   "metadata": {},
   "outputs": [],
   "source": [
    "pca.n_components_"
   ]
  },
  {
   "cell_type": "code",
   "execution_count": null,
   "id": "20ea3829-1576-4e07-970a-c6706d9bdfb8",
   "metadata": {},
   "outputs": [],
   "source": [
    "from sklearn.model_selection import train_test_split\n",
    "XPCA_train, XPCA_test, py_train, py_test = train_test_split(x_pca, y, test_size=0.2, random_state=42)"
   ]
  },
  {
   "cell_type": "code",
   "execution_count": null,
   "id": "55ed4307-6e60-4633-9eb8-34dfb343815f",
   "metadata": {},
   "outputs": [],
   "source": [
    "from sklearn.linear_model import LogisticRegression\n",
    "\n",
    "PXmodel=LogisticRegression(max_iter=1000)\n",
    "PXmodel.fit(XPCA_train,py_train)\n",
    "PXmodel.score(XPCA_test,py_test)"
   ]
  },
  {
   "cell_type": "code",
   "execution_count": null,
   "id": "dfd77490-1059-4a55-aaa6-557393449fe3",
   "metadata": {},
   "outputs": [],
   "source": []
  }
 ],
 "metadata": {
  "kernelspec": {
   "display_name": "Python 3 (ipykernel)",
   "language": "python",
   "name": "python3"
  },
  "language_info": {
   "codemirror_mode": {
    "name": "ipython",
    "version": 3
   },
   "file_extension": ".py",
   "mimetype": "text/x-python",
   "name": "python",
   "nbconvert_exporter": "python",
   "pygments_lexer": "ipython3",
   "version": "3.11.7"
  }
 },
 "nbformat": 4,
 "nbformat_minor": 5
}
