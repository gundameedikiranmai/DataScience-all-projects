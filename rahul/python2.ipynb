{
 "cells": [
  {
   "cell_type": "code",
   "execution_count": 1,
   "id": "e83fe5d8",
   "metadata": {},
   "outputs": [],
   "source": [
    "a = 10   # int"
   ]
  },
  {
   "cell_type": "code",
   "execution_count": 2,
   "id": "faf42fbf",
   "metadata": {
    "scrolled": true
   },
   "outputs": [
    {
     "data": {
      "text/plain": [
       "10"
      ]
     },
     "execution_count": 2,
     "metadata": {},
     "output_type": "execute_result"
    }
   ],
   "source": [
    "a"
   ]
  },
  {
   "cell_type": "code",
   "execution_count": 5,
   "id": "a2f8e6b6",
   "metadata": {},
   "outputs": [
    {
     "data": {
      "text/plain": [
       "int"
      ]
     },
     "execution_count": 5,
     "metadata": {},
     "output_type": "execute_result"
    }
   ],
   "source": [
    "type(a)"
   ]
  },
  {
   "cell_type": "code",
   "execution_count": 6,
   "id": "2211f4f6",
   "metadata": {},
   "outputs": [],
   "source": [
    "a = 12.5   #float"
   ]
  },
  {
   "cell_type": "code",
   "execution_count": 7,
   "id": "adea84be",
   "metadata": {},
   "outputs": [
    {
     "data": {
      "text/plain": [
       "12.5"
      ]
     },
     "execution_count": 7,
     "metadata": {},
     "output_type": "execute_result"
    }
   ],
   "source": [
    "a"
   ]
  },
  {
   "cell_type": "code",
   "execution_count": 8,
   "id": "66d9bada",
   "metadata": {},
   "outputs": [
    {
     "data": {
      "text/plain": [
       "float"
      ]
     },
     "execution_count": 8,
     "metadata": {},
     "output_type": "execute_result"
    }
   ],
   "source": [
    "type(a)"
   ]
  },
  {
   "cell_type": "code",
   "execution_count": 9,
   "id": "b04040e3",
   "metadata": {},
   "outputs": [],
   "source": [
    "a =2+3J #complex"
   ]
  },
  {
   "cell_type": "code",
   "execution_count": 10,
   "id": "e2b07e0c",
   "metadata": {},
   "outputs": [
    {
     "data": {
      "text/plain": [
       "(2+3j)"
      ]
     },
     "execution_count": 10,
     "metadata": {},
     "output_type": "execute_result"
    }
   ],
   "source": [
    "a"
   ]
  },
  {
   "cell_type": "code",
   "execution_count": 11,
   "id": "2ecf89ee",
   "metadata": {},
   "outputs": [
    {
     "data": {
      "text/plain": [
       "complex"
      ]
     },
     "execution_count": 11,
     "metadata": {},
     "output_type": "execute_result"
    }
   ],
   "source": [
    "type(a)"
   ]
  },
  {
   "cell_type": "code",
   "execution_count": 13,
   "id": "4a6ac866",
   "metadata": {},
   "outputs": [],
   "source": [
    "a = 'life is full of mercales and wonderful'"
   ]
  },
  {
   "cell_type": "code",
   "execution_count": 14,
   "id": "54c4bc54",
   "metadata": {},
   "outputs": [],
   "source": [
    "b = \"life is full of mercales and wonderful\""
   ]
  },
  {
   "cell_type": "code",
   "execution_count": 15,
   "id": "79e25215",
   "metadata": {},
   "outputs": [],
   "source": [
    "c = '''life is full of mercales and wonderful'''"
   ]
  },
  {
   "cell_type": "code",
   "execution_count": 16,
   "id": "0fc9bbea",
   "metadata": {},
   "outputs": [
    {
     "data": {
      "text/plain": [
       "'life is full of mercales and wonderful'"
      ]
     },
     "execution_count": 16,
     "metadata": {},
     "output_type": "execute_result"
    }
   ],
   "source": [
    "a"
   ]
  },
  {
   "cell_type": "code",
   "execution_count": 17,
   "id": "ac0374c8",
   "metadata": {},
   "outputs": [
    {
     "data": {
      "text/plain": [
       "'life is full of mercales and wonderful'"
      ]
     },
     "execution_count": 17,
     "metadata": {},
     "output_type": "execute_result"
    }
   ],
   "source": [
    "b"
   ]
  },
  {
   "cell_type": "code",
   "execution_count": 18,
   "id": "297b9336",
   "metadata": {},
   "outputs": [
    {
     "data": {
      "text/plain": [
       "'life is full of mercales and wonderful'"
      ]
     },
     "execution_count": 18,
     "metadata": {},
     "output_type": "execute_result"
    }
   ],
   "source": [
    "c"
   ]
  },
  {
   "cell_type": "code",
   "execution_count": 19,
   "id": "5cfe4870",
   "metadata": {},
   "outputs": [
    {
     "data": {
      "text/plain": [
       "str"
      ]
     },
     "execution_count": 19,
     "metadata": {},
     "output_type": "execute_result"
    }
   ],
   "source": [
    "type(a)"
   ]
  },
  {
   "cell_type": "code",
   "execution_count": 20,
   "id": "a82bf35a",
   "metadata": {},
   "outputs": [
    {
     "data": {
      "text/plain": [
       "str"
      ]
     },
     "execution_count": 20,
     "metadata": {},
     "output_type": "execute_result"
    }
   ],
   "source": [
    "type(b)"
   ]
  },
  {
   "cell_type": "code",
   "execution_count": 21,
   "id": "3c51003f",
   "metadata": {},
   "outputs": [
    {
     "data": {
      "text/plain": [
       "str"
      ]
     },
     "execution_count": 21,
     "metadata": {},
     "output_type": "execute_result"
    }
   ],
   "source": [
    "type(c)"
   ]
  },
  {
   "cell_type": "code",
   "execution_count": 1,
   "id": "6f89f87b",
   "metadata": {},
   "outputs": [],
   "source": [
    "# REVERSE METHOD"
   ]
  },
  {
   "cell_type": "code",
   "execution_count": 16,
   "id": "925f1bae",
   "metadata": {},
   "outputs": [],
   "source": [
    "my_list=[2,8,9,3,2,4,56,1,21,12]"
   ]
  },
  {
   "cell_type": "code",
   "execution_count": 41,
   "id": "0bd3f7a6",
   "metadata": {},
   "outputs": [],
   "source": [
    "c=my_list"
   ]
  },
  {
   "cell_type": "code",
   "execution_count": 42,
   "id": "4c8ba9f9",
   "metadata": {},
   "outputs": [],
   "source": [
    "c.reverse()"
   ]
  },
  {
   "cell_type": "code",
   "execution_count": 43,
   "id": "6655b31b",
   "metadata": {},
   "outputs": [
    {
     "data": {
      "text/plain": [
       "[2, 8, 9, 3, 2, 4, 56, 1, 21, 12]"
      ]
     },
     "execution_count": 43,
     "metadata": {},
     "output_type": "execute_result"
    }
   ],
   "source": [
    "c.copy()"
   ]
  },
  {
   "cell_type": "code",
   "execution_count": 44,
   "id": "93315b0b",
   "metadata": {},
   "outputs": [
    {
     "data": {
      "text/plain": [
       "[2, 8, 9, 3, 2, 4, 56, 1, 21, 12]"
      ]
     },
     "execution_count": 44,
     "metadata": {},
     "output_type": "execute_result"
    }
   ],
   "source": [
    "my_list"
   ]
  },
  {
   "cell_type": "code",
   "execution_count": 1,
   "id": "673f953a",
   "metadata": {},
   "outputs": [],
   "source": [
    "a=10 "
   ]
  },
  {
   "cell_type": "code",
   "execution_count": 2,
   "id": "8b01356e",
   "metadata": {},
   "outputs": [],
   "source": [
    "b=20"
   ]
  },
  {
   "cell_type": "code",
   "execution_count": 3,
   "id": "00a03133",
   "metadata": {},
   "outputs": [
    {
     "data": {
      "text/plain": [
       "30"
      ]
     },
     "execution_count": 3,
     "metadata": {},
     "output_type": "execute_result"
    }
   ],
   "source": [
    "a+b  #add"
   ]
  },
  {
   "cell_type": "code",
   "execution_count": 4,
   "id": "656ffd66",
   "metadata": {},
   "outputs": [
    {
     "data": {
      "text/plain": [
       "-10"
      ]
     },
     "execution_count": 4,
     "metadata": {},
     "output_type": "execute_result"
    }
   ],
   "source": [
    "a-b #sub"
   ]
  },
  {
   "cell_type": "code",
   "execution_count": 5,
   "id": "996d82fb",
   "metadata": {},
   "outputs": [
    {
     "data": {
      "text/plain": [
       "0.5"
      ]
     },
     "execution_count": 5,
     "metadata": {},
     "output_type": "execute_result"
    }
   ],
   "source": [
    "a/b #division"
   ]
  },
  {
   "cell_type": "code",
   "execution_count": 6,
   "id": "dd1d99c9",
   "metadata": {},
   "outputs": [
    {
     "data": {
      "text/plain": [
       "100"
      ]
     },
     "execution_count": 6,
     "metadata": {},
     "output_type": "execute_result"
    }
   ],
   "source": [
    "a**2 #exp"
   ]
  },
  {
   "cell_type": "code",
   "execution_count": 7,
   "id": "cd8ceec7",
   "metadata": {},
   "outputs": [
    {
     "data": {
      "text/plain": [
       "60"
      ]
     },
     "execution_count": 7,
     "metadata": {},
     "output_type": "execute_result"
    }
   ],
   "source": [
    "(a+b)*2 #multipilcation"
   ]
  },
  {
   "cell_type": "code",
   "execution_count": 8,
   "id": "cf7846e1",
   "metadata": {},
   "outputs": [
    {
     "data": {
      "text/plain": [
       "10"
      ]
     },
     "execution_count": 8,
     "metadata": {},
     "output_type": "execute_result"
    }
   ],
   "source": [
    "a%b # remainer"
   ]
  },
  {
   "cell_type": "code",
   "execution_count": 9,
   "id": "3e3a618f",
   "metadata": {},
   "outputs": [
    {
     "data": {
      "text/plain": [
       "0"
      ]
     },
     "execution_count": 9,
     "metadata": {},
     "output_type": "execute_result"
    }
   ],
   "source": [
    "a//b #floor division"
   ]
  },
  {
   "cell_type": "code",
   "execution_count": 10,
   "id": "4ac80e29",
   "metadata": {},
   "outputs": [],
   "source": [
    "#assign\n"
   ]
  },
  {
   "cell_type": "code",
   "execution_count": 24,
   "id": "003f7e2f",
   "metadata": {},
   "outputs": [],
   "source": [
    "a=20      #assign"
   ]
  },
  {
   "cell_type": "code",
   "execution_count": 25,
   "id": "a96bb466",
   "metadata": {},
   "outputs": [],
   "source": [
    "a+=50     #add and assign(+=)"
   ]
  },
  {
   "cell_type": "code",
   "execution_count": 26,
   "id": "3bc44ba7",
   "metadata": {},
   "outputs": [
    {
     "data": {
      "text/plain": [
       "70"
      ]
     },
     "execution_count": 26,
     "metadata": {},
     "output_type": "execute_result"
    }
   ],
   "source": [
    "a"
   ]
  },
  {
   "cell_type": "code",
   "execution_count": 27,
   "id": "1e696242",
   "metadata": {},
   "outputs": [],
   "source": [
    "a-=2      #sub and assign(-=)"
   ]
  },
  {
   "cell_type": "code",
   "execution_count": 28,
   "id": "3f39e4c5",
   "metadata": {},
   "outputs": [
    {
     "data": {
      "text/plain": [
       "68"
      ]
     },
     "execution_count": 28,
     "metadata": {},
     "output_type": "execute_result"
    }
   ],
   "source": [
    "a"
   ]
  },
  {
   "cell_type": "code",
   "execution_count": 29,
   "id": "5e357054",
   "metadata": {},
   "outputs": [],
   "source": [
    "a*=1     #mutli and assign(*=)"
   ]
  },
  {
   "cell_type": "code",
   "execution_count": 30,
   "id": "9e59c4f1",
   "metadata": {},
   "outputs": [
    {
     "data": {
      "text/plain": [
       "68"
      ]
     },
     "execution_count": 30,
     "metadata": {},
     "output_type": "execute_result"
    }
   ],
   "source": [
    "a"
   ]
  },
  {
   "cell_type": "code",
   "execution_count": 31,
   "id": "70fbda28",
   "metadata": {},
   "outputs": [],
   "source": [
    "a/=10     # division and asssign(/=)"
   ]
  },
  {
   "cell_type": "code",
   "execution_count": 32,
   "id": "8f2a8a9a",
   "metadata": {},
   "outputs": [
    {
     "data": {
      "text/plain": [
       "6.8"
      ]
     },
     "execution_count": 32,
     "metadata": {},
     "output_type": "execute_result"
    }
   ],
   "source": [
    "a"
   ]
  },
  {
   "cell_type": "code",
   "execution_count": 33,
   "id": "d51732a0",
   "metadata": {},
   "outputs": [],
   "source": [
    "#logical operater"
   ]
  },
  {
   "cell_type": "code",
   "execution_count": 34,
   "id": "a6ec7427",
   "metadata": {},
   "outputs": [
    {
     "data": {
      "text/plain": [
       "True"
      ]
     },
     "execution_count": 34,
     "metadata": {},
     "output_type": "execute_result"
    }
   ],
   "source": [
    "20>10 and 10<20"
   ]
  },
  {
   "cell_type": "code",
   "execution_count": 36,
   "id": "7969120b",
   "metadata": {},
   "outputs": [
    {
     "data": {
      "text/plain": [
       "False"
      ]
     },
     "execution_count": 36,
     "metadata": {},
     "output_type": "execute_result"
    }
   ],
   "source": [
    "10>20 and 20<30"
   ]
  },
  {
   "cell_type": "code",
   "execution_count": 37,
   "id": "0fcdb6cd",
   "metadata": {},
   "outputs": [
    {
     "data": {
      "text/plain": [
       "True"
      ]
     },
     "execution_count": 37,
     "metadata": {},
     "output_type": "execute_result"
    }
   ],
   "source": [
    "10>20 or 20<30"
   ]
  },
  {
   "cell_type": "code",
   "execution_count": 41,
   "id": "7fbaa675",
   "metadata": {},
   "outputs": [
    {
     "data": {
      "text/plain": [
       "False"
      ]
     },
     "execution_count": 41,
     "metadata": {},
     "output_type": "execute_result"
    }
   ],
   "source": [
    "not 10<20"
   ]
  },
  {
   "cell_type": "code",
   "execution_count": 44,
   "id": "f54b8153",
   "metadata": {},
   "outputs": [
    {
     "data": {
      "text/plain": [
       "True"
      ]
     },
     "execution_count": 44,
     "metadata": {},
     "output_type": "execute_result"
    }
   ],
   "source": [
    "not 20<10\n"
   ]
  },
  {
   "cell_type": "code",
   "execution_count": 46,
   "id": "b0f44051",
   "metadata": {},
   "outputs": [],
   "source": [
    "#membership operater"
   ]
  },
  {
   "cell_type": "code",
   "execution_count": 59,
   "id": "5b073691",
   "metadata": {},
   "outputs": [],
   "source": [
    "a=(1,2,3,4,5,560)"
   ]
  },
  {
   "cell_type": "code",
   "execution_count": 64,
   "id": "ddbae724",
   "metadata": {},
   "outputs": [
    {
     "data": {
      "text/plain": [
       "True"
      ]
     },
     "execution_count": 64,
     "metadata": {},
     "output_type": "execute_result"
    }
   ],
   "source": [
    "2 in a"
   ]
  },
  {
   "cell_type": "code",
   "execution_count": 61,
   "id": "78da933a",
   "metadata": {},
   "outputs": [
    {
     "data": {
      "text/plain": [
       "True"
      ]
     },
     "execution_count": 61,
     "metadata": {},
     "output_type": "execute_result"
    }
   ],
   "source": [
    "12 not in a"
   ]
  },
  {
   "cell_type": "code",
   "execution_count": 62,
   "id": "58b5dbd9",
   "metadata": {},
   "outputs": [
    {
     "data": {
      "text/plain": [
       "False"
      ]
     },
     "execution_count": 62,
     "metadata": {},
     "output_type": "execute_result"
    }
   ],
   "source": [
    "12 in a"
   ]
  },
  {
   "cell_type": "code",
   "execution_count": 63,
   "id": "cf3a86ec",
   "metadata": {},
   "outputs": [
    {
     "data": {
      "text/plain": [
       "False"
      ]
     },
     "execution_count": 63,
     "metadata": {},
     "output_type": "execute_result"
    }
   ],
   "source": [
    "2 not in a"
   ]
  },
  {
   "cell_type": "code",
   "execution_count": 65,
   "id": "a22100a4",
   "metadata": {},
   "outputs": [],
   "source": [
    "# identity operater"
   ]
  },
  {
   "cell_type": "code",
   "execution_count": 66,
   "id": "afbd1c66",
   "metadata": {},
   "outputs": [],
   "source": [
    "b=(12,42,24,1,5,6,3)"
   ]
  },
  {
   "cell_type": "code",
   "execution_count": 67,
   "id": "ec5c7538",
   "metadata": {},
   "outputs": [],
   "source": [
    "a=(1,2,3,5,4)"
   ]
  },
  {
   "cell_type": "code",
   "execution_count": 68,
   "id": "3834e103",
   "metadata": {},
   "outputs": [
    {
     "data": {
      "text/plain": [
       "False"
      ]
     },
     "execution_count": 68,
     "metadata": {},
     "output_type": "execute_result"
    }
   ],
   "source": [
    "a is b"
   ]
  },
  {
   "cell_type": "code",
   "execution_count": 69,
   "id": "0646e64e",
   "metadata": {},
   "outputs": [
    {
     "data": {
      "text/plain": [
       "True"
      ]
     },
     "execution_count": 69,
     "metadata": {},
     "output_type": "execute_result"
    }
   ],
   "source": [
    "a is not b"
   ]
  },
  {
   "cell_type": "code",
   "execution_count": 70,
   "id": "77b13aa9",
   "metadata": {},
   "outputs": [],
   "source": [
    "#binary operaters"
   ]
  },
  {
   "cell_type": "code",
   "execution_count": 83,
   "id": "e345caf4",
   "metadata": {},
   "outputs": [],
   "source": [
    "x=20"
   ]
  },
  {
   "cell_type": "code",
   "execution_count": 84,
   "id": "02f44520",
   "metadata": {},
   "outputs": [],
   "source": [
    "y=12"
   ]
  },
  {
   "cell_type": "code",
   "execution_count": 86,
   "id": "82631b32",
   "metadata": {},
   "outputs": [
    {
     "data": {
      "text/plain": [
       "4"
      ]
     },
     "execution_count": 86,
     "metadata": {},
     "output_type": "execute_result"
    }
   ],
   "source": [
    "x & y"
   ]
  },
  {
   "cell_type": "code",
   "execution_count": 87,
   "id": "997cbe5a",
   "metadata": {},
   "outputs": [
    {
     "data": {
      "text/plain": [
       "28"
      ]
     },
     "execution_count": 87,
     "metadata": {},
     "output_type": "execute_result"
    }
   ],
   "source": [
    "x|y"
   ]
  },
  {
   "cell_type": "code",
   "execution_count": 91,
   "id": "37770e2d",
   "metadata": {},
   "outputs": [
    {
     "data": {
      "text/plain": [
       "-13"
      ]
     },
     "execution_count": 91,
     "metadata": {},
     "output_type": "execute_result"
    }
   ],
   "source": [
    "~y"
   ]
  },
  {
   "cell_type": "code",
   "execution_count": 92,
   "id": "ddaaaf8e",
   "metadata": {},
   "outputs": [
    {
     "data": {
      "text/plain": [
       "24"
      ]
     },
     "execution_count": 92,
     "metadata": {},
     "output_type": "execute_result"
    }
   ],
   "source": [
    "x ^ y"
   ]
  },
  {
   "cell_type": "code",
   "execution_count": 93,
   "id": "2de5c81a",
   "metadata": {},
   "outputs": [
    {
     "data": {
      "text/plain": [
       "10"
      ]
     },
     "execution_count": 93,
     "metadata": {},
     "output_type": "execute_result"
    }
   ],
   "source": [
    "x>>1"
   ]
  },
  {
   "cell_type": "code",
   "execution_count": 94,
   "id": "28a9a7dc",
   "metadata": {},
   "outputs": [
    {
     "data": {
      "text/plain": [
       "48"
      ]
     },
     "execution_count": 94,
     "metadata": {},
     "output_type": "execute_result"
    }
   ],
   "source": [
    "y<<2"
   ]
  },
  {
   "cell_type": "code",
   "execution_count": null,
   "id": "e94f0f1a",
   "metadata": {},
   "outputs": [],
   "source": []
  }
 ],
 "metadata": {
  "kernelspec": {
   "display_name": "Python 3 (ipykernel)",
   "language": "python",
   "name": "python3"
  },
  "language_info": {
   "codemirror_mode": {
    "name": "ipython",
    "version": 3
   },
   "file_extension": ".py",
   "mimetype": "text/x-python",
   "name": "python",
   "nbconvert_exporter": "python",
   "pygments_lexer": "ipython3",
   "version": "3.11.5"
  }
 },
 "nbformat": 4,
 "nbformat_minor": 5
}
