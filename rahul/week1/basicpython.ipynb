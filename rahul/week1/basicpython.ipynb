{
 "cells": [
  {
   "cell_type": "code",
   "execution_count": 3,
   "id": "4bdab74b",
   "metadata": {},
   "outputs": [
    {
     "data": {
      "text/plain": [
       "0"
      ]
     },
     "execution_count": 3,
     "metadata": {},
     "output_type": "execute_result"
    }
   ],
   "source": [
    "1//2"
   ]
  },
  {
   "cell_type": "code",
   "execution_count": 6,
   "id": "60863c61",
   "metadata": {},
   "outputs": [
    {
     "data": {
      "text/plain": [
       "100"
      ]
     },
     "execution_count": 6,
     "metadata": {},
     "output_type": "execute_result"
    }
   ],
   "source": [
    "10**2"
   ]
  },
  {
   "cell_type": "code",
   "execution_count": 11,
   "id": "83f9e7d7",
   "metadata": {},
   "outputs": [
    {
     "name": "stdout",
     "output_type": "stream",
     "text": [
      "10 20 30\n"
     ]
    }
   ],
   "source": [
    "a,b,c=10,20,30\n",
    "print(a,b,c)"
   ]
  },
  {
   "cell_type": "code",
   "execution_count": 3,
   "id": "8dd5187f",
   "metadata": {},
   "outputs": [
    {
     "data": {
      "text/plain": [
       "15"
      ]
     },
     "execution_count": 3,
     "metadata": {},
     "output_type": "execute_result"
    }
   ],
   "source": [
    "5+2*3+4"
   ]
  },
  {
   "cell_type": "code",
   "execution_count": 5,
   "id": "5c40ace7",
   "metadata": {},
   "outputs": [
    {
     "data": {
      "text/plain": [
       "1"
      ]
     },
     "execution_count": 5,
     "metadata": {},
     "output_type": "execute_result"
    }
   ],
   "source": [
    "1 % 5"
   ]
  },
  {
   "cell_type": "code",
   "execution_count": 7,
   "id": "382e56d2",
   "metadata": {},
   "outputs": [
    {
     "data": {
      "text/plain": [
       "55"
      ]
     },
     "execution_count": 7,
     "metadata": {},
     "output_type": "execute_result"
    }
   ],
   "source": [
    "(2+3) * (5+6)"
   ]
  },
  {
   "cell_type": "code",
   "execution_count": 8,
   "id": "d9bf16ca",
   "metadata": {},
   "outputs": [],
   "source": [
    "#strings"
   ]
  },
  {
   "cell_type": "code",
   "execution_count": 13,
   "id": "47b3240a",
   "metadata": {},
   "outputs": [
    {
     "data": {
      "text/plain": [
       "'my name is rahul'"
      ]
     },
     "execution_count": 13,
     "metadata": {},
     "output_type": "execute_result"
    }
   ],
   "source": [
    "\"my name is rahul\""
   ]
  },
  {
   "cell_type": "code",
   "execution_count": 111,
   "id": "acff46ff",
   "metadata": {},
   "outputs": [
    {
     "name": "stdout",
     "output_type": "stream",
     "text": [
      "My number is 8686207378 and my name is rahul\n"
     ]
    }
   ],
   "source": [
    "print(\"My number is {} and my name is {}\".format(\"8686207378\",\"rahul\"))"
   ]
  },
  {
   "cell_type": "code",
   "execution_count": 12,
   "id": "1f4861b7",
   "metadata": {},
   "outputs": [],
   "source": [
    "s = 'hello'"
   ]
  },
  {
   "cell_type": "code",
   "execution_count": 16,
   "id": "a358efae",
   "metadata": {},
   "outputs": [
    {
     "data": {
      "text/plain": [
       "'el'"
      ]
     },
     "execution_count": 16,
     "metadata": {},
     "output_type": "execute_result"
    }
   ],
   "source": [
    "s[1:3]\n"
   ]
  },
  {
   "cell_type": "code",
   "execution_count": 17,
   "id": "de35dfa4",
   "metadata": {},
   "outputs": [],
   "source": [
    "b = 'abcdefg'"
   ]
  },
  {
   "cell_type": "code",
   "execution_count": 19,
   "id": "c33681cd",
   "metadata": {},
   "outputs": [
    {
     "data": {
      "text/plain": [
       "'abc'"
      ]
     },
     "execution_count": 19,
     "metadata": {},
     "output_type": "execute_result"
    }
   ],
   "source": [
    "b[ :3]"
   ]
  },
  {
   "cell_type": "code",
   "execution_count": 21,
   "id": "9fbe2195",
   "metadata": {},
   "outputs": [
    {
     "data": {
      "text/plain": [
       "'abcdefg'"
      ]
     },
     "execution_count": 21,
     "metadata": {},
     "output_type": "execute_result"
    }
   ],
   "source": [
    "b[0: ]"
   ]
  },
  {
   "cell_type": "code",
   "execution_count": 23,
   "id": "f68daa43",
   "metadata": {},
   "outputs": [
    {
     "data": {
      "text/plain": [
       "[1, 2, 3]"
      ]
     },
     "execution_count": 23,
     "metadata": {},
     "output_type": "execute_result"
    }
   ],
   "source": [
    "[1,2,3]"
   ]
  },
  {
   "cell_type": "code",
   "execution_count": 25,
   "id": "5a61c6c4",
   "metadata": {},
   "outputs": [
    {
     "data": {
      "text/plain": [
       "['a', 'b', 'c']"
      ]
     },
     "execution_count": 25,
     "metadata": {},
     "output_type": "execute_result"
    }
   ],
   "source": [
    "['a','b','c']"
   ]
  },
  {
   "cell_type": "code",
   "execution_count": 1,
   "id": "d4ec2142",
   "metadata": {},
   "outputs": [],
   "source": [
    "a = b = c = 20"
   ]
  },
  {
   "cell_type": "markdown",
   "id": "9a79a440",
   "metadata": {},
   "source": [
    "my_list.append['d']"
   ]
  },
  {
   "cell_type": "code",
   "execution_count": 2,
   "id": "02495643",
   "metadata": {},
   "outputs": [],
   "source": [
    "a = b = c = 20"
   ]
  },
  {
   "cell_type": "code",
   "execution_count": 4,
   "id": "11db38e4",
   "metadata": {},
   "outputs": [
    {
     "data": {
      "text/plain": [
       "20"
      ]
     },
     "execution_count": 4,
     "metadata": {},
     "output_type": "execute_result"
    }
   ],
   "source": [
    "b"
   ]
  },
  {
   "cell_type": "code",
   "execution_count": 5,
   "id": "06640310",
   "metadata": {},
   "outputs": [
    {
     "data": {
      "text/plain": [
       "20"
      ]
     },
     "execution_count": 5,
     "metadata": {},
     "output_type": "execute_result"
    }
   ],
   "source": [
    "c"
   ]
  },
  {
   "cell_type": "code",
   "execution_count": 6,
   "id": "bd5271ff",
   "metadata": {},
   "outputs": [
    {
     "data": {
      "text/plain": [
       "20"
      ]
     },
     "execution_count": 6,
     "metadata": {},
     "output_type": "execute_result"
    }
   ],
   "source": [
    "a"
   ]
  },
  {
   "cell_type": "code",
   "execution_count": 7,
   "id": "0dc52488",
   "metadata": {},
   "outputs": [
    {
     "name": "stdout",
     "output_type": "stream",
     "text": [
      "20 20 20\n"
     ]
    }
   ],
   "source": [
    "print(a,b,c)"
   ]
  },
  {
   "cell_type": "code",
   "execution_count": 8,
   "id": "417f15d3",
   "metadata": {},
   "outputs": [],
   "source": [
    "a = [12,20,30]"
   ]
  },
  {
   "cell_type": "code",
   "execution_count": 64,
   "id": "c6fd5018",
   "metadata": {},
   "outputs": [],
   "source": [
    "a.append(50)"
   ]
  },
  {
   "cell_type": "code",
   "execution_count": 65,
   "id": "7a5b5391",
   "metadata": {},
   "outputs": [
    {
     "data": {
      "text/plain": [
       "['abc', 'efg', 1, 2, 3, 50]"
      ]
     },
     "execution_count": 65,
     "metadata": {},
     "output_type": "execute_result"
    }
   ],
   "source": [
    "a"
   ]
  },
  {
   "cell_type": "code",
   "execution_count": 115,
   "id": "165992d5",
   "metadata": {},
   "outputs": [],
   "source": [
    "a,b,c = [1,2,3]"
   ]
  },
  {
   "cell_type": "code",
   "execution_count": 11,
   "id": "f369e147",
   "metadata": {},
   "outputs": [
    {
     "name": "stdout",
     "output_type": "stream",
     "text": [
      "1 2 3\n"
     ]
    }
   ],
   "source": [
    "print(a,b,c)"
   ]
  },
  {
   "cell_type": "code",
   "execution_count": 118,
   "id": "94805b3f",
   "metadata": {},
   "outputs": [
    {
     "ename": "AttributeError",
     "evalue": "'int' object has no attribute 'append'",
     "output_type": "error",
     "traceback": [
      "\u001b[1;31m---------------------------------------------------------------------------\u001b[0m",
      "\u001b[1;31mAttributeError\u001b[0m                            Traceback (most recent call last)",
      "Cell \u001b[1;32mIn[118], line 1\u001b[0m\n\u001b[1;32m----> 1\u001b[0m c\u001b[38;5;241m.\u001b[39mappend(\u001b[38;5;241m4\u001b[39m)\n",
      "\u001b[1;31mAttributeError\u001b[0m: 'int' object has no attribute 'append'"
     ]
    }
   ],
   "source": [
    "c.append(4)"
   ]
  },
  {
   "cell_type": "code",
   "execution_count": 113,
   "id": "87bf6113",
   "metadata": {},
   "outputs": [],
   "source": [
    "b =2.9"
   ]
  },
  {
   "cell_type": "code",
   "execution_count": 14,
   "id": "47d1b68a",
   "metadata": {},
   "outputs": [],
   "source": [
    "c=int(b)"
   ]
  },
  {
   "cell_type": "code",
   "execution_count": 15,
   "id": "91ee1b30",
   "metadata": {},
   "outputs": [
    {
     "name": "stdout",
     "output_type": "stream",
     "text": [
      "2\n"
     ]
    }
   ],
   "source": [
    "print(c)"
   ]
  },
  {
   "cell_type": "code",
   "execution_count": 16,
   "id": "6dabe2bb",
   "metadata": {},
   "outputs": [],
   "source": [
    "a =2.8"
   ]
  },
  {
   "cell_type": "code",
   "execution_count": 17,
   "id": "433afeac",
   "metadata": {},
   "outputs": [
    {
     "data": {
      "text/plain": [
       "float"
      ]
     },
     "execution_count": 17,
     "metadata": {},
     "output_type": "execute_result"
    }
   ],
   "source": [
    "type(a)"
   ]
  },
  {
   "cell_type": "code",
   "execution_count": 18,
   "id": "e1f16193",
   "metadata": {},
   "outputs": [],
   "source": [
    "b =12"
   ]
  },
  {
   "cell_type": "code",
   "execution_count": 19,
   "id": "8e878ef0",
   "metadata": {},
   "outputs": [
    {
     "data": {
      "text/plain": [
       "'12'"
      ]
     },
     "execution_count": 19,
     "metadata": {},
     "output_type": "execute_result"
    }
   ],
   "source": [
    "str(b)"
   ]
  },
  {
   "cell_type": "code",
   "execution_count": 113,
   "id": "94326221",
   "metadata": {},
   "outputs": [],
   "source": [
    "a =10"
   ]
  },
  {
   "cell_type": "code",
   "execution_count": 118,
   "id": "5bd0bb7f",
   "metadata": {},
   "outputs": [
    {
     "name": "stdout",
     "output_type": "stream",
     "text": [
      "its true\n"
     ]
    }
   ],
   "source": [
    "if a==10:\n",
    "    print(\"its true\")"
   ]
  },
  {
   "cell_type": "code",
   "execution_count": 114,
   "id": "75b3e840",
   "metadata": {},
   "outputs": [],
   "source": [
    "b =20"
   ]
  },
  {
   "cell_type": "code",
   "execution_count": 24,
   "id": "7fd93952",
   "metadata": {},
   "outputs": [
    {
     "name": "stdout",
     "output_type": "stream",
     "text": [
      "false\n"
     ]
    }
   ],
   "source": [
    "if a==b:\n",
    "    print('true')\n",
    "else:\n",
    "    print('false')"
   ]
  },
  {
   "cell_type": "code",
   "execution_count": 25,
   "id": "e6e3133c",
   "metadata": {},
   "outputs": [
    {
     "name": "stdout",
     "output_type": "stream",
     "text": [
      "false\n"
     ]
    }
   ],
   "source": [
    "if a>b:\n",
    "    print('true')\n",
    "else:\n",
    "    print('false')"
   ]
  },
  {
   "cell_type": "code",
   "execution_count": 26,
   "id": "b8971e33",
   "metadata": {},
   "outputs": [
    {
     "name": "stdout",
     "output_type": "stream",
     "text": [
      " its true\n"
     ]
    }
   ],
   "source": [
    "if a<=b:\n",
    "    print(\" its true\")\n",
    "else:\n",
    "    print(\" its false\")"
   ]
  },
  {
   "cell_type": "code",
   "execution_count": 31,
   "id": "8ba26d64",
   "metadata": {},
   "outputs": [],
   "source": [
    "a =50"
   ]
  },
  {
   "cell_type": "code",
   "execution_count": 36,
   "id": "f4b6a305",
   "metadata": {},
   "outputs": [],
   "source": [
    "b =100"
   ]
  },
  {
   "cell_type": "code",
   "execution_count": 37,
   "id": "448eb730",
   "metadata": {},
   "outputs": [],
   "source": [
    "c =50"
   ]
  },
  {
   "cell_type": "code",
   "execution_count": 38,
   "id": "2b60ab14",
   "metadata": {},
   "outputs": [
    {
     "name": "stdout",
     "output_type": "stream",
     "text": [
      " its true\n"
     ]
    }
   ],
   "source": [
    "if a<b and b>a:\n",
    "    print(\" its true\")\n",
    "else:\n",
    "    print(\"its false\")"
   ]
  },
  {
   "cell_type": "code",
   "execution_count": 39,
   "id": "3cbe9390",
   "metadata": {},
   "outputs": [
    {
     "name": "stdout",
     "output_type": "stream",
     "text": [
      "its correct\n"
     ]
    }
   ],
   "source": [
    "if a>b:\n",
    "    print( \"its true\")\n",
    "elif a<b:\n",
    "    print(\"its correct\")\n",
    "else:\n",
    "    print(\" both the statements are false\")"
   ]
  },
  {
   "cell_type": "code",
   "execution_count": 47,
   "id": "818ab4f2",
   "metadata": {},
   "outputs": [],
   "source": [
    "if a>b and c>=a:\n",
    "    (\"its true the statement\")\n",
    "elif b<c or a<b:\n",
    "    (\" its elif is true\")\n",
    "else:\n",
    "    (\"Both the statements are wrong\")"
   ]
  },
  {
   "cell_type": "code",
   "execution_count": 49,
   "id": "add9a3c3",
   "metadata": {},
   "outputs": [],
   "source": [
    "if a<b:\n",
    "    pass"
   ]
  },
  {
   "cell_type": "code",
   "execution_count": 50,
   "id": "9ff18db5",
   "metadata": {},
   "outputs": [],
   "source": [
    "a =[\"abc\",\"efg\",1,2,3]"
   ]
  },
  {
   "cell_type": "code",
   "execution_count": 51,
   "id": "5a3f8bb6",
   "metadata": {},
   "outputs": [
    {
     "data": {
      "text/plain": [
       "5"
      ]
     },
     "execution_count": 51,
     "metadata": {},
     "output_type": "execute_result"
    }
   ],
   "source": [
    "len(a)"
   ]
  },
  {
   "cell_type": "code",
   "execution_count": 55,
   "id": "f992c445",
   "metadata": {},
   "outputs": [
    {
     "data": {
      "text/plain": [
       "'abc'"
      ]
     },
     "execution_count": 55,
     "metadata": {},
     "output_type": "execute_result"
    }
   ],
   "source": [
    "a[0]"
   ]
  },
  {
   "cell_type": "code",
   "execution_count": 57,
   "id": "eff727c5",
   "metadata": {},
   "outputs": [
    {
     "data": {
      "text/plain": [
       "3"
      ]
     },
     "execution_count": 57,
     "metadata": {},
     "output_type": "execute_result"
    }
   ],
   "source": [
    "a[4]"
   ]
  },
  {
   "cell_type": "code",
   "execution_count": 58,
   "id": "cd3b0443",
   "metadata": {},
   "outputs": [],
   "source": [
    "x =[10,20,40,[9,5,1],6]"
   ]
  },
  {
   "cell_type": "code",
   "execution_count": 60,
   "id": "2402341a",
   "metadata": {},
   "outputs": [
    {
     "data": {
      "text/plain": [
       "1"
      ]
     },
     "execution_count": 60,
     "metadata": {},
     "output_type": "execute_result"
    }
   ],
   "source": [
    "x[3][2]"
   ]
  },
  {
   "cell_type": "code",
   "execution_count": 86,
   "id": "f54c328e",
   "metadata": {},
   "outputs": [],
   "source": [
    "#append"
   ]
  },
  {
   "cell_type": "code",
   "execution_count": 61,
   "id": "118920f3",
   "metadata": {},
   "outputs": [],
   "source": [
    "x.append(9)"
   ]
  },
  {
   "cell_type": "code",
   "execution_count": 62,
   "id": "b18fb623",
   "metadata": {},
   "outputs": [
    {
     "data": {
      "text/plain": [
       "[10, 20, 40, [9, 5, 1], 6, 9]"
      ]
     },
     "execution_count": 62,
     "metadata": {},
     "output_type": "execute_result"
    }
   ],
   "source": [
    "x"
   ]
  },
  {
   "cell_type": "code",
   "execution_count": 66,
   "id": "92156603",
   "metadata": {},
   "outputs": [],
   "source": [
    "my_list =[\"nirikshan\",\"rahul\",12,17]"
   ]
  },
  {
   "cell_type": "code",
   "execution_count": 67,
   "id": "f9c70748",
   "metadata": {},
   "outputs": [],
   "source": [
    "my_list.append(2000)"
   ]
  },
  {
   "cell_type": "code",
   "execution_count": 68,
   "id": "89bea49d",
   "metadata": {},
   "outputs": [
    {
     "data": {
      "text/plain": [
       "['nirikshan', 'rahul', 12, 17, 2000]"
      ]
     },
     "execution_count": 68,
     "metadata": {},
     "output_type": "execute_result"
    }
   ],
   "source": [
    "my_list"
   ]
  },
  {
   "cell_type": "code",
   "execution_count": 70,
   "id": "84f6e7c4",
   "metadata": {},
   "outputs": [
    {
     "data": {
      "text/plain": [
       "list"
      ]
     },
     "execution_count": 70,
     "metadata": {},
     "output_type": "execute_result"
    }
   ],
   "source": [
    "type(my_list)"
   ]
  },
  {
   "cell_type": "code",
   "execution_count": 76,
   "id": "aeed86e1",
   "metadata": {},
   "outputs": [],
   "source": [
    "my_list.extend([\"john\",\"roshini\",8,2])"
   ]
  },
  {
   "cell_type": "code",
   "execution_count": 77,
   "id": "524ddeec",
   "metadata": {},
   "outputs": [
    {
     "data": {
      "text/plain": [
       "['nirikshan', 'rahul', 12, 17, 2000, 'john', 'roshini', 8, 2]"
      ]
     },
     "execution_count": 77,
     "metadata": {},
     "output_type": "execute_result"
    }
   ],
   "source": [
    "my_list"
   ]
  },
  {
   "cell_type": "code",
   "execution_count": 79,
   "id": "7df2957a",
   "metadata": {},
   "outputs": [],
   "source": [
    "my_list.remove(2)"
   ]
  },
  {
   "cell_type": "code",
   "execution_count": 80,
   "id": "93e163f9",
   "metadata": {},
   "outputs": [
    {
     "data": {
      "text/plain": [
       "['nirikshan', 'rahul', 12, 17, 2000, 'john', 'roshini', 8]"
      ]
     },
     "execution_count": 80,
     "metadata": {},
     "output_type": "execute_result"
    }
   ],
   "source": [
    "my_list"
   ]
  },
  {
   "cell_type": "code",
   "execution_count": 81,
   "id": "0024a007",
   "metadata": {},
   "outputs": [],
   "source": [
    "my_list.extend(\"vamshi\")"
   ]
  },
  {
   "cell_type": "code",
   "execution_count": 83,
   "id": "bd04e173",
   "metadata": {},
   "outputs": [
    {
     "data": {
      "text/plain": [
       "['nirikshan',\n",
       " 'rahul',\n",
       " 12,\n",
       " 17,\n",
       " 2000,\n",
       " 'john',\n",
       " 'roshini',\n",
       " 8,\n",
       " 'v',\n",
       " 'a',\n",
       " 'm',\n",
       " 's',\n",
       " 'h',\n",
       " 'i']"
      ]
     },
     "execution_count": 83,
     "metadata": {},
     "output_type": "execute_result"
    }
   ],
   "source": [
    "my_list"
   ]
  },
  {
   "cell_type": "code",
   "execution_count": 84,
   "id": "82244ec3",
   "metadata": {},
   "outputs": [],
   "source": [
    "my_list.insert(1,\"nani\")"
   ]
  },
  {
   "cell_type": "code",
   "execution_count": null,
   "id": "da4627df",
   "metadata": {},
   "outputs": [],
   "source": [
    "#insert"
   ]
  },
  {
   "cell_type": "code",
   "execution_count": 85,
   "id": "b38d1e9c",
   "metadata": {},
   "outputs": [
    {
     "data": {
      "text/plain": [
       "['nirikshan',\n",
       " 'nani',\n",
       " 'rahul',\n",
       " 12,\n",
       " 17,\n",
       " 2000,\n",
       " 'john',\n",
       " 'roshini',\n",
       " 8,\n",
       " 'v',\n",
       " 'a',\n",
       " 'm',\n",
       " 's',\n",
       " 'h',\n",
       " 'i']"
      ]
     },
     "execution_count": 85,
     "metadata": {},
     "output_type": "execute_result"
    }
   ],
   "source": [
    "my_list"
   ]
  },
  {
   "cell_type": "code",
   "execution_count": 87,
   "id": "20de1c4e",
   "metadata": {},
   "outputs": [],
   "source": [
    "#count"
   ]
  },
  {
   "cell_type": "code",
   "execution_count": 89,
   "id": "2023329b",
   "metadata": {},
   "outputs": [
    {
     "data": {
      "text/plain": [
       "1"
      ]
     },
     "execution_count": 89,
     "metadata": {},
     "output_type": "execute_result"
    }
   ],
   "source": [
    "my_list.count(12)"
   ]
  },
  {
   "cell_type": "code",
   "execution_count": 92,
   "id": "b2201c01",
   "metadata": {},
   "outputs": [
    {
     "data": {
      "text/plain": [
       "15"
      ]
     },
     "execution_count": 92,
     "metadata": {},
     "output_type": "execute_result"
    }
   ],
   "source": [
    "len(my_list)"
   ]
  },
  {
   "cell_type": "code",
   "execution_count": 93,
   "id": "7e79a323",
   "metadata": {},
   "outputs": [],
   "source": [
    "my_list.remove(8)"
   ]
  },
  {
   "cell_type": "code",
   "execution_count": 94,
   "id": "ed2f260e",
   "metadata": {},
   "outputs": [
    {
     "data": {
      "text/plain": [
       "['nirikshan',\n",
       " 'nani',\n",
       " 'rahul',\n",
       " 12,\n",
       " 17,\n",
       " 2000,\n",
       " 'john',\n",
       " 'roshini',\n",
       " 'v',\n",
       " 'a',\n",
       " 'm',\n",
       " 's',\n",
       " 'h',\n",
       " 'i']"
      ]
     },
     "execution_count": 94,
     "metadata": {},
     "output_type": "execute_result"
    }
   ],
   "source": [
    "my_list"
   ]
  },
  {
   "cell_type": "code",
   "execution_count": 95,
   "id": "7491d7db",
   "metadata": {},
   "outputs": [
    {
     "data": {
      "text/plain": [
       "14"
      ]
     },
     "execution_count": 95,
     "metadata": {},
     "output_type": "execute_result"
    }
   ],
   "source": [
    "len(my_list)"
   ]
  },
  {
   "cell_type": "code",
   "execution_count": 102,
   "id": "2bc8d8c1",
   "metadata": {},
   "outputs": [
    {
     "data": {
      "text/plain": [
       "['nirikshan',\n",
       " 'nani',\n",
       " 'rahul',\n",
       " 12,\n",
       " 17,\n",
       " 2000,\n",
       " 'john',\n",
       " 'roshini',\n",
       " 'v',\n",
       " 'a',\n",
       " 'm',\n",
       " 's',\n",
       " 'h',\n",
       " 'i']"
      ]
     },
     "execution_count": 102,
     "metadata": {},
     "output_type": "execute_result"
    }
   ],
   "source": [
    "my_list"
   ]
  },
  {
   "cell_type": "code",
   "execution_count": 104,
   "id": "ae0c20ce",
   "metadata": {},
   "outputs": [
    {
     "data": {
      "text/plain": [
       "'nani'"
      ]
     },
     "execution_count": 104,
     "metadata": {},
     "output_type": "execute_result"
    }
   ],
   "source": [
    "my_list.pop(1)"
   ]
  },
  {
   "cell_type": "markdown",
   "id": "36d06fa7",
   "metadata": {},
   "source": [
    "my_list"
   ]
  },
  {
   "cell_type": "code",
   "execution_count": 105,
   "id": "87d69619",
   "metadata": {},
   "outputs": [
    {
     "data": {
      "text/plain": [
       "['nirikshan',\n",
       " 'rahul',\n",
       " 12,\n",
       " 17,\n",
       " 2000,\n",
       " 'john',\n",
       " 'roshini',\n",
       " 'v',\n",
       " 'a',\n",
       " 'm',\n",
       " 's',\n",
       " 'h',\n",
       " 'i']"
      ]
     },
     "execution_count": 105,
     "metadata": {},
     "output_type": "execute_result"
    }
   ],
   "source": [
    "my_list"
   ]
  },
  {
   "cell_type": "code",
   "execution_count": 107,
   "id": "9885231e",
   "metadata": {},
   "outputs": [],
   "source": [
    "my_list.reverse()"
   ]
  },
  {
   "cell_type": "code",
   "execution_count": 108,
   "id": "d08cc28a",
   "metadata": {},
   "outputs": [
    {
     "data": {
      "text/plain": [
       "['i',\n",
       " 'h',\n",
       " 's',\n",
       " 'm',\n",
       " 'a',\n",
       " 'v',\n",
       " 'roshini',\n",
       " 'john',\n",
       " 2000,\n",
       " 17,\n",
       " 12,\n",
       " 'rahul',\n",
       " 'nirikshan']"
      ]
     },
     "execution_count": 108,
     "metadata": {},
     "output_type": "execute_result"
    }
   ],
   "source": [
    "my_list"
   ]
  },
  {
   "cell_type": "code",
   "execution_count": 109,
   "id": "6f0ab7c7",
   "metadata": {},
   "outputs": [
    {
     "data": {
      "text/plain": [
       "list"
      ]
     },
     "execution_count": 109,
     "metadata": {},
     "output_type": "execute_result"
    }
   ],
   "source": [
    "type(my_list)"
   ]
  },
  {
   "cell_type": "code",
   "execution_count": 110,
   "id": "43fca7d4",
   "metadata": {},
   "outputs": [],
   "source": [
    "my_list.append([1,2,3])"
   ]
  },
  {
   "cell_type": "code",
   "execution_count": 111,
   "id": "3d6fb35a",
   "metadata": {},
   "outputs": [
    {
     "data": {
      "text/plain": [
       "['i',\n",
       " 'h',\n",
       " 's',\n",
       " 'm',\n",
       " 'a',\n",
       " 'v',\n",
       " 'roshini',\n",
       " 'john',\n",
       " 2000,\n",
       " 17,\n",
       " 12,\n",
       " 'rahul',\n",
       " 'nirikshan',\n",
       " [1, 2, 3]]"
      ]
     },
     "execution_count": 111,
     "metadata": {},
     "output_type": "execute_result"
    }
   ],
   "source": [
    "my_list"
   ]
  },
  {
   "cell_type": "code",
   "execution_count": 113,
   "id": "36280478",
   "metadata": {},
   "outputs": [
    {
     "data": {
      "text/plain": [
       "2"
      ]
     },
     "execution_count": 113,
     "metadata": {},
     "output_type": "execute_result"
    }
   ],
   "source": [
    "my_list[13][1]"
   ]
  },
  {
   "cell_type": "code",
   "execution_count": 114,
   "id": "15e9b455",
   "metadata": {},
   "outputs": [],
   "source": [
    "for i in my_list:\n",
    "    i"
   ]
  },
  {
   "cell_type": "code",
   "execution_count": 115,
   "id": "e7ac16fe",
   "metadata": {},
   "outputs": [
    {
     "data": {
      "text/plain": [
       "[1, 2, 3]"
      ]
     },
     "execution_count": 115,
     "metadata": {},
     "output_type": "execute_result"
    }
   ],
   "source": [
    "i"
   ]
  },
  {
   "cell_type": "code",
   "execution_count": 116,
   "id": "a0ca4a50",
   "metadata": {},
   "outputs": [],
   "source": [
    "my_list.extend([64,98])"
   ]
  },
  {
   "cell_type": "code",
   "execution_count": 117,
   "id": "3d118e2e",
   "metadata": {},
   "outputs": [
    {
     "data": {
      "text/plain": [
       "['i',\n",
       " 'h',\n",
       " 's',\n",
       " 'm',\n",
       " 'a',\n",
       " 'v',\n",
       " 'roshini',\n",
       " 'john',\n",
       " 2000,\n",
       " 17,\n",
       " 12,\n",
       " 'rahul',\n",
       " 'nirikshan',\n",
       " [1, 2, 3],\n",
       " 64,\n",
       " 98]"
      ]
     },
     "execution_count": 117,
     "metadata": {},
     "output_type": "execute_result"
    }
   ],
   "source": [
    "my_list"
   ]
  },
  {
   "cell_type": "code",
   "execution_count": 118,
   "id": "6b1fad69",
   "metadata": {},
   "outputs": [],
   "source": [
    "num1=[45,36,74,55]"
   ]
  },
  {
   "cell_type": "code",
   "execution_count": 120,
   "id": "a15a6295",
   "metadata": {},
   "outputs": [
    {
     "name": "stdout",
     "output_type": "stream",
     "text": [
      "45\n",
      "36\n",
      "74\n",
      "55\n"
     ]
    }
   ],
   "source": [
    "for i in num1:\n",
    "    print(i)"
   ]
  },
  {
   "cell_type": "code",
   "execution_count": 123,
   "id": "50ee1f82",
   "metadata": {},
   "outputs": [
    {
     "name": "stdout",
     "output_type": "stream",
     "text": [
      "0\n",
      "0\n",
      "1\n",
      "0\n"
     ]
    }
   ],
   "source": [
    "for i in num1:\n",
    "    if i==74:\n",
    "        print(\"1\")\n",
    "    else:\n",
    "        print(\"0\")"
   ]
  },
  {
   "cell_type": "code",
   "execution_count": 41,
   "id": "fbe9ee02",
   "metadata": {},
   "outputs": [
    {
     "ename": "NameError",
     "evalue": "name 'num1' is not defined",
     "output_type": "error",
     "traceback": [
      "\u001b[1;31m---------------------------------------------------------------------------\u001b[0m",
      "\u001b[1;31mNameError\u001b[0m                                 Traceback (most recent call last)",
      "Cell \u001b[1;32mIn[41], line 1\u001b[0m\n\u001b[1;32m----> 1\u001b[0m \u001b[38;5;28;01mfor\u001b[39;00m i \u001b[38;5;129;01min\u001b[39;00m num1:\n\u001b[0;32m      2\u001b[0m     \u001b[38;5;28;01mif\u001b[39;00m i\u001b[38;5;241m==\u001b[39m\u001b[38;5;241m74\u001b[39m:\n\u001b[0;32m      3\u001b[0m         \u001b[38;5;28mprint\u001b[39m(\u001b[38;5;124m\"\u001b[39m\u001b[38;5;124m1\u001b[39m\u001b[38;5;124m\"\u001b[39m)\n",
      "\u001b[1;31mNameError\u001b[0m: name 'num1' is not defined"
     ]
    }
   ],
   "source": [
    "for i in num1:\n",
    "    if i==74:\n",
    "        print(\"1\")\n",
    "    else:\n",
    "        print(\"0\")"
   ]
  },
  {
   "cell_type": "code",
   "execution_count": 39,
   "id": "1e05ac92",
   "metadata": {},
   "outputs": [],
   "source": [
    "a = 10"
   ]
  },
  {
   "cell_type": "code",
   "execution_count": 9,
   "id": "17c88382",
   "metadata": {},
   "outputs": [],
   "source": [
    "b = 20"
   ]
  },
  {
   "cell_type": "code",
   "execution_count": 10,
   "id": "c8aef3ee",
   "metadata": {},
   "outputs": [
    {
     "data": {
      "text/plain": [
       "20"
      ]
     },
     "execution_count": 10,
     "metadata": {},
     "output_type": "execute_result"
    }
   ],
   "source": [
    "b"
   ]
  },
  {
   "cell_type": "code",
   "execution_count": 11,
   "id": "8fd01e3a",
   "metadata": {},
   "outputs": [
    {
     "data": {
      "text/plain": [
       "30"
      ]
     },
     "execution_count": 11,
     "metadata": {},
     "output_type": "execute_result"
    }
   ],
   "source": [
    "a+b"
   ]
  },
  {
   "cell_type": "code",
   "execution_count": 12,
   "id": "5f7cab87",
   "metadata": {},
   "outputs": [],
   "source": [
    "c=b-a"
   ]
  },
  {
   "cell_type": "code",
   "execution_count": 13,
   "id": "9a61db90",
   "metadata": {},
   "outputs": [
    {
     "data": {
      "text/plain": [
       "10"
      ]
     },
     "execution_count": 13,
     "metadata": {},
     "output_type": "execute_result"
    }
   ],
   "source": [
    "c"
   ]
  },
  {
   "cell_type": "code",
   "execution_count": 22,
   "id": "0526f2f3",
   "metadata": {},
   "outputs": [],
   "source": [
    "l =[1,2,3,4,5]"
   ]
  },
  {
   "cell_type": "code",
   "execution_count": 23,
   "id": "89c05800",
   "metadata": {},
   "outputs": [],
   "source": [
    "sam=0"
   ]
  },
  {
   "cell_type": "code",
   "execution_count": 30,
   "id": "15f5f30e",
   "metadata": {},
   "outputs": [
    {
     "name": "stdout",
     "output_type": "stream",
     "text": [
      "36\n",
      "38\n",
      "41\n",
      "45\n",
      "50\n"
     ]
    }
   ],
   "source": [
    "for i in l:\n",
    "    sam=sam+i\n",
    "    print(sam)"
   ]
  },
  {
   "cell_type": "code",
   "execution_count": 31,
   "id": "43f02361",
   "metadata": {},
   "outputs": [
    {
     "name": "stdout",
     "output_type": "stream",
     "text": [
      "10\n",
      "12\n",
      "14\n",
      "16\n",
      "18\n"
     ]
    }
   ],
   "source": [
    "for i in range(10,20,2):\n",
    "    print(i)"
   ]
  },
  {
   "cell_type": "code",
   "execution_count": 33,
   "id": "ff427772",
   "metadata": {},
   "outputs": [
    {
     "name": "stdout",
     "output_type": "stream",
     "text": [
      "0\n",
      "10\n",
      "20\n",
      "30\n",
      "40\n"
     ]
    }
   ],
   "source": [
    "for i in range(0,50,10):\n",
    "    print(i)"
   ]
  },
  {
   "cell_type": "code",
   "execution_count": 143,
   "id": "e8dc7f29",
   "metadata": {},
   "outputs": [],
   "source": [
    "c = 0"
   ]
  },
  {
   "cell_type": "code",
   "execution_count": 144,
   "id": "46b3b8c3",
   "metadata": {},
   "outputs": [
    {
     "name": "stdout",
     "output_type": "stream",
     "text": [
      "rahul\n",
      "rahul\n",
      "rahul\n",
      "rahul\n",
      "rahul\n",
      "rahul\n"
     ]
    }
   ],
   "source": [
    "while c<6:\n",
    "    c+=1\n",
    "    print(\"rahul\")\n"
   ]
  },
  {
   "cell_type": "code",
   "execution_count": 142,
   "id": "f5cbf8f6",
   "metadata": {},
   "outputs": [
    {
     "name": "stdout",
     "output_type": "stream",
     "text": [
      "hello world\n",
      "hello world\n",
      "hello world\n",
      "rahul\n"
     ]
    }
   ],
   "source": [
    "while c<6:\n",
    "    c+=1\n",
    "    print(\"hello world\")\n",
    "else:\n",
    "    print(\"rahul\")"
   ]
  },
  {
   "cell_type": "code",
   "execution_count": 52,
   "id": "01c72ed6",
   "metadata": {},
   "outputs": [],
   "source": [
    "my_list =[1,2.5,['rahul',[12]]]"
   ]
  },
  {
   "cell_type": "code",
   "execution_count": 53,
   "id": "4617ff73",
   "metadata": {},
   "outputs": [
    {
     "data": {
      "text/plain": [
       "12"
      ]
     },
     "execution_count": 53,
     "metadata": {},
     "output_type": "execute_result"
    }
   ],
   "source": [
    "my_list[2][1][0]"
   ]
  },
  {
   "cell_type": "code",
   "execution_count": 54,
   "id": "3f2fa67a",
   "metadata": {},
   "outputs": [
    {
     "data": {
      "text/plain": [
       "'rahul'"
      ]
     },
     "execution_count": 54,
     "metadata": {},
     "output_type": "execute_result"
    }
   ],
   "source": [
    "my_list[2][0]"
   ]
  },
  {
   "cell_type": "code",
   "execution_count": 55,
   "id": "7a4ebc70",
   "metadata": {},
   "outputs": [],
   "source": [
    "t = ()"
   ]
  },
  {
   "cell_type": "code",
   "execution_count": 59,
   "id": "7deae6b1",
   "metadata": {},
   "outputs": [
    {
     "data": {
      "text/plain": [
       "tuple"
      ]
     },
     "execution_count": 59,
     "metadata": {},
     "output_type": "execute_result"
    }
   ],
   "source": [
    "type(t)"
   ]
  },
  {
   "cell_type": "code",
   "execution_count": 3,
   "id": "2b69df17",
   "metadata": {},
   "outputs": [],
   "source": [
    "t = (5,6,7,2,9,7,8)"
   ]
  },
  {
   "cell_type": "code",
   "execution_count": 4,
   "id": "cdad5e24",
   "metadata": {},
   "outputs": [
    {
     "data": {
      "text/plain": [
       "9"
      ]
     },
     "execution_count": 4,
     "metadata": {},
     "output_type": "execute_result"
    }
   ],
   "source": [
    "max(t)"
   ]
  },
  {
   "cell_type": "code",
   "execution_count": 5,
   "id": "a6127684",
   "metadata": {},
   "outputs": [
    {
     "data": {
      "text/plain": [
       "2"
      ]
     },
     "execution_count": 5,
     "metadata": {},
     "output_type": "execute_result"
    }
   ],
   "source": [
    "min(t)"
   ]
  },
  {
   "cell_type": "code",
   "execution_count": 6,
   "id": "5f9a8c4b",
   "metadata": {},
   "outputs": [
    {
     "data": {
      "text/plain": [
       "[2, 5, 6, 7, 7, 8, 9]"
      ]
     },
     "execution_count": 6,
     "metadata": {},
     "output_type": "execute_result"
    }
   ],
   "source": [
    "sorted(t)"
   ]
  },
  {
   "cell_type": "code",
   "execution_count": 7,
   "id": "ce9ea060",
   "metadata": {},
   "outputs": [
    {
     "data": {
      "text/plain": [
       "44"
      ]
     },
     "execution_count": 7,
     "metadata": {},
     "output_type": "execute_result"
    }
   ],
   "source": [
    "sum(t)"
   ]
  },
  {
   "cell_type": "code",
   "execution_count": 57,
   "id": "7fe5a5f4",
   "metadata": {},
   "outputs": [
    {
     "data": {
      "text/plain": [
       "(5, 6, 7, 2, 9, 7, 8, 5, 6, 7, 2, 9, 7, 8)"
      ]
     },
     "execution_count": 57,
     "metadata": {},
     "output_type": "execute_result"
    }
   ],
   "source": [
    "t+t #concetation"
   ]
  },
  {
   "cell_type": "code",
   "execution_count": 8,
   "id": "46cddd26",
   "metadata": {},
   "outputs": [
    {
     "data": {
      "text/plain": [
       "(5, 6, 7, 2, 9, 7, 8, 5, 6, 7, 2, 9, 7, 8)"
      ]
     },
     "execution_count": 8,
     "metadata": {},
     "output_type": "execute_result"
    }
   ],
   "source": [
    "(t*2) #repetation"
   ]
  },
  {
   "cell_type": "code",
   "execution_count": 9,
   "id": "0ffc4826",
   "metadata": {},
   "outputs": [
    {
     "data": {
      "text/plain": [
       "True"
      ]
     },
     "execution_count": 9,
     "metadata": {},
     "output_type": "execute_result"
    }
   ],
   "source": [
    " 2 in t #membership operaters"
   ]
  },
  {
   "cell_type": "code",
   "execution_count": 67,
   "id": "de32dbc9",
   "metadata": {},
   "outputs": [
    {
     "data": {
      "text/plain": [
       "True"
      ]
     },
     "execution_count": 67,
     "metadata": {},
     "output_type": "execute_result"
    }
   ],
   "source": [
    "10 not in t"
   ]
  },
  {
   "cell_type": "code",
   "execution_count": 68,
   "id": "3d0ddff8",
   "metadata": {},
   "outputs": [
    {
     "data": {
      "text/plain": [
       "False"
      ]
     },
     "execution_count": 68,
     "metadata": {},
     "output_type": "execute_result"
    }
   ],
   "source": [
    "10 in t"
   ]
  },
  {
   "cell_type": "code",
   "execution_count": 58,
   "id": "feef5e8e",
   "metadata": {},
   "outputs": [
    {
     "name": "stdout",
     "output_type": "stream",
     "text": [
      "5\n",
      "6\n",
      "7\n",
      "2\n",
      "9\n",
      "7\n",
      "8\n"
     ]
    }
   ],
   "source": [
    "for i in (t): #iteration\n",
    "    print(i)"
   ]
  },
  {
   "cell_type": "code",
   "execution_count": 105,
   "id": "f17502c0",
   "metadata": {},
   "outputs": [],
   "source": [
    "a=[1,2,3,5,4,7]"
   ]
  },
  {
   "cell_type": "code",
   "execution_count": 106,
   "id": "02b97dbe",
   "metadata": {},
   "outputs": [
    {
     "name": "stdout",
     "output_type": "stream",
     "text": [
      "1\n",
      "2\n",
      "3\n",
      "5\n",
      "4\n",
      "7\n"
     ]
    }
   ],
   "source": [
    "for j in a:\n",
    "    if j==\"i\":\n",
    "        break\n",
    "    print(j)\n",
    "    "
   ]
  },
  {
   "cell_type": "code",
   "execution_count": 108,
   "id": "5b429b16",
   "metadata": {},
   "outputs": [
    {
     "data": {
      "text/plain": [
       "[1, 2, 3, 5, 4, 7]"
      ]
     },
     "execution_count": 108,
     "metadata": {},
     "output_type": "execute_result"
    }
   ],
   "source": [
    "a"
   ]
  },
  {
   "cell_type": "code",
   "execution_count": 112,
   "id": "1923f6c9",
   "metadata": {},
   "outputs": [
    {
     "name": "stdout",
     "output_type": "stream",
     "text": [
      "1\n",
      "3\n",
      "5\n",
      "7\n"
     ]
    }
   ],
   "source": [
    "for j in a:\n",
    "    if j % 2 == 0:\n",
    "        continue\n",
    "    print(j)"
   ]
  },
  {
   "cell_type": "code",
   "execution_count": 103,
   "id": "a2e68a75",
   "metadata": {},
   "outputs": [],
   "source": [
    "a =\"life is full of mercales and wonderful \""
   ]
  },
  {
   "cell_type": "code",
   "execution_count": 28,
   "id": "8efd61e2",
   "metadata": {},
   "outputs": [
    {
     "data": {
      "text/plain": [
       "'life is full are mercales and wonderful '"
      ]
     },
     "execution_count": 28,
     "metadata": {},
     "output_type": "execute_result"
    }
   ],
   "source": [
    "a.replace(\"of\",\"are\")"
   ]
  },
  {
   "cell_type": "code",
   "execution_count": 29,
   "id": "45424d14",
   "metadata": {},
   "outputs": [
    {
     "data": {
      "text/plain": [
       "['life', 'is', 'full', 'of', 'mercales', 'and', 'wonderful']"
      ]
     },
     "execution_count": 29,
     "metadata": {},
     "output_type": "execute_result"
    }
   ],
   "source": [
    "a.split()"
   ]
  },
  {
   "cell_type": "code",
   "execution_count": 30,
   "id": "3096e842",
   "metadata": {},
   "outputs": [
    {
     "data": {
      "text/plain": [
       "'LIFE IS FULL OF MERCALES AND WONDERFUL '"
      ]
     },
     "execution_count": 30,
     "metadata": {},
     "output_type": "execute_result"
    }
   ],
   "source": [
    "a.upper()"
   ]
  },
  {
   "cell_type": "code",
   "execution_count": 31,
   "id": "ddbe1473",
   "metadata": {},
   "outputs": [
    {
     "data": {
      "text/plain": [
       "'life is full of mercales and wonderful '"
      ]
     },
     "execution_count": 31,
     "metadata": {},
     "output_type": "execute_result"
    }
   ],
   "source": [
    "a.lower()"
   ]
  },
  {
   "cell_type": "code",
   "execution_count": 32,
   "id": "4a72f037",
   "metadata": {},
   "outputs": [
    {
     "data": {
      "text/plain": [
       "'life is full of mercales and wonderful'"
      ]
     },
     "execution_count": 32,
     "metadata": {},
     "output_type": "execute_result"
    }
   ],
   "source": [
    "a.strip()"
   ]
  },
  {
   "cell_type": "code",
   "execution_count": 34,
   "id": "277ce9b6",
   "metadata": {},
   "outputs": [
    {
     "data": {
      "text/plain": [
       "5"
      ]
     },
     "execution_count": 34,
     "metadata": {},
     "output_type": "execute_result"
    }
   ],
   "source": [
    "a.find(\"is\")"
   ]
  },
  {
   "cell_type": "code",
   "execution_count": 35,
   "id": "4e6480b4",
   "metadata": {},
   "outputs": [
    {
     "data": {
      "text/plain": [
       "False"
      ]
     },
     "execution_count": 35,
     "metadata": {},
     "output_type": "execute_result"
    }
   ],
   "source": [
    "a.isspace()"
   ]
  },
  {
   "cell_type": "code",
   "execution_count": 20,
   "id": "374795a2",
   "metadata": {},
   "outputs": [
    {
     "data": {
      "text/plain": [
       "False"
      ]
     },
     "execution_count": 20,
     "metadata": {},
     "output_type": "execute_result"
    }
   ],
   "source": [
    "a.endswith(\"l\")"
   ]
  },
  {
   "cell_type": "code",
   "execution_count": 21,
   "id": "1258cfc1",
   "metadata": {},
   "outputs": [
    {
     "data": {
      "text/plain": [
       "False"
      ]
     },
     "execution_count": 21,
     "metadata": {},
     "output_type": "execute_result"
    }
   ],
   "source": [
    "a.endswith(\"s\")"
   ]
  },
  {
   "cell_type": "code",
   "execution_count": 55,
   "id": "06159230",
   "metadata": {},
   "outputs": [
    {
     "data": {
      "text/plain": [
       "False"
      ]
     },
     "execution_count": 55,
     "metadata": {},
     "output_type": "execute_result"
    }
   ],
   "source": [
    "a.startswith(\"A\")"
   ]
  },
  {
   "cell_type": "code",
   "execution_count": 53,
   "id": "e731a48b",
   "metadata": {},
   "outputs": [],
   "source": [
    "a =(\"my lucky num is {},my dog name is {}\")"
   ]
  },
  {
   "cell_type": "code",
   "execution_count": 129,
   "id": "31e6ae9a",
   "metadata": {},
   "outputs": [
    {
     "data": {
      "text/plain": [
       "'my lucky num is12,my dog name islion'"
      ]
     },
     "execution_count": 129,
     "metadata": {},
     "output_type": "execute_result"
    }
   ],
   "source": [
    "a.format(\"12\",\"lion\")"
   ]
  },
  {
   "cell_type": "code",
   "execution_count": 130,
   "id": "7de5f61e",
   "metadata": {},
   "outputs": [],
   "source": [
    "#sets"
   ]
  },
  {
   "cell_type": "code",
   "execution_count": 131,
   "id": "3c900077",
   "metadata": {},
   "outputs": [],
   "source": [
    "a = {12,21,\"rahul\"}"
   ]
  },
  {
   "cell_type": "code",
   "execution_count": 132,
   "id": "7d0d34e1",
   "metadata": {},
   "outputs": [
    {
     "data": {
      "text/plain": [
       "set"
      ]
     },
     "execution_count": 132,
     "metadata": {},
     "output_type": "execute_result"
    }
   ],
   "source": [
    "type(a)"
   ]
  },
  {
   "cell_type": "code",
   "execution_count": 136,
   "id": "84548935",
   "metadata": {},
   "outputs": [],
   "source": [
    "a.update(\"2000\")"
   ]
  },
  {
   "cell_type": "code",
   "execution_count": 139,
   "id": "634f0f63",
   "metadata": {},
   "outputs": [
    {
     "data": {
      "text/plain": [
       "6"
      ]
     },
     "execution_count": 139,
     "metadata": {},
     "output_type": "execute_result"
    }
   ],
   "source": [
    "len(a)"
   ]
  },
  {
   "cell_type": "code",
   "execution_count": 144,
   "id": "b3aeefe7",
   "metadata": {},
   "outputs": [],
   "source": [
    "a = {1,2,3,5}"
   ]
  },
  {
   "cell_type": "code",
   "execution_count": 145,
   "id": "765b728f",
   "metadata": {},
   "outputs": [],
   "source": [
    "b = {5,1,2,3,}"
   ]
  },
  {
   "cell_type": "code",
   "execution_count": 146,
   "id": "c48b3637",
   "metadata": {},
   "outputs": [
    {
     "name": "stdout",
     "output_type": "stream",
     "text": [
      "{1, 2, 3, 5, 6, 7, 8, 9}\n"
     ]
    }
   ],
   "source": [
    "print(a.union(b))"
   ]
  },
  {
   "cell_type": "code",
   "execution_count": 147,
   "id": "9852cb08",
   "metadata": {},
   "outputs": [
    {
     "data": {
      "text/plain": [
       "{6, 7, 9}"
      ]
     },
     "execution_count": 147,
     "metadata": {},
     "output_type": "execute_result"
    }
   ],
   "source": [
    "a.difference((b))"
   ]
  },
  {
   "cell_type": "code",
   "execution_count": 150,
   "id": "16257fb3",
   "metadata": {},
   "outputs": [
    {
     "data": {
      "text/plain": [
       "{5, 8}"
      ]
     },
     "execution_count": 150,
     "metadata": {},
     "output_type": "execute_result"
    }
   ],
   "source": [
    "a.intersection((b))"
   ]
  },
  {
   "cell_type": "code",
   "execution_count": 155,
   "id": "4f44ec88",
   "metadata": {},
   "outputs": [
    {
     "data": {
      "text/plain": [
       "False"
      ]
     },
     "execution_count": 155,
     "metadata": {},
     "output_type": "execute_result"
    }
   ],
   "source": [
    "a.isdisjoint((b))"
   ]
  },
  {
   "cell_type": "code",
   "execution_count": 154,
   "id": "c207f48b",
   "metadata": {},
   "outputs": [],
   "source": [
    "a = {1,2,3,4}"
   ]
  },
  {
   "cell_type": "code",
   "execution_count": 159,
   "id": "c6b90648",
   "metadata": {},
   "outputs": [],
   "source": [
    "b = {1,2,3,5}"
   ]
  },
  {
   "cell_type": "code",
   "execution_count": 158,
   "id": "cb826ed9",
   "metadata": {},
   "outputs": [
    {
     "data": {
      "text/plain": [
       "False"
      ]
     },
     "execution_count": 158,
     "metadata": {},
     "output_type": "execute_result"
    }
   ],
   "source": [
    "a.issubset((b))"
   ]
  },
  {
   "cell_type": "code",
   "execution_count": 160,
   "id": "49edb4b4",
   "metadata": {},
   "outputs": [
    {
     "data": {
      "text/plain": [
       "True"
      ]
     },
     "execution_count": 160,
     "metadata": {},
     "output_type": "execute_result"
    }
   ],
   "source": [
    "a.issubset((b))"
   ]
  },
  {
   "cell_type": "code",
   "execution_count": 66,
   "id": "1d17f5f4",
   "metadata": {},
   "outputs": [],
   "source": [
    "#dictionary"
   ]
  },
  {
   "cell_type": "code",
   "execution_count": 67,
   "id": "a37fa416",
   "metadata": {},
   "outputs": [],
   "source": [
    "p = {\"name\":12}"
   ]
  },
  {
   "cell_type": "code",
   "execution_count": 68,
   "id": "17367565",
   "metadata": {},
   "outputs": [
    {
     "name": "stdout",
     "output_type": "stream",
     "text": [
      "12\n"
     ]
    }
   ],
   "source": [
    "print(p[\"name\"])"
   ]
  },
  {
   "cell_type": "code",
   "execution_count": 69,
   "id": "2c049d26",
   "metadata": {},
   "outputs": [],
   "source": [
    " a = {'name':'ramesh','number':{'date':{'time':8686207378}}}"
   ]
  },
  {
   "cell_type": "code",
   "execution_count": 70,
   "id": "e7d5e561",
   "metadata": {},
   "outputs": [
    {
     "name": "stdout",
     "output_type": "stream",
     "text": [
      "{'date': {'time': 8686207378}}\n"
     ]
    }
   ],
   "source": [
    "print(a['number'])"
   ]
  },
  {
   "cell_type": "code",
   "execution_count": 71,
   "id": "3626d54b",
   "metadata": {},
   "outputs": [
    {
     "data": {
      "text/plain": [
       "{'date': {'time': 8686207378}}"
      ]
     },
     "execution_count": 71,
     "metadata": {},
     "output_type": "execute_result"
    }
   ],
   "source": [
    "a.pop(('number'))"
   ]
  },
  {
   "cell_type": "code",
   "execution_count": 72,
   "id": "6be3276e",
   "metadata": {},
   "outputs": [
    {
     "data": {
      "text/plain": [
       "{'name': 'ramesh'}"
      ]
     },
     "execution_count": 72,
     "metadata": {},
     "output_type": "execute_result"
    }
   ],
   "source": [
    "a"
   ]
  },
  {
   "cell_type": "code",
   "execution_count": 73,
   "id": "0768cd21",
   "metadata": {},
   "outputs": [
    {
     "data": {
      "text/plain": [
       "{'name': 'ramesh'}"
      ]
     },
     "execution_count": 73,
     "metadata": {},
     "output_type": "execute_result"
    }
   ],
   "source": [
    "a"
   ]
  },
  {
   "cell_type": "code",
   "execution_count": 74,
   "id": "b9ea077f",
   "metadata": {},
   "outputs": [],
   "source": [
    "a.update({'age':12,'address': 30-1-987})"
   ]
  },
  {
   "cell_type": "code",
   "execution_count": 75,
   "id": "3b1d2591",
   "metadata": {},
   "outputs": [
    {
     "data": {
      "text/plain": [
       "{'name': 'ramesh', 'age': 12, 'address': -958}"
      ]
     },
     "execution_count": 75,
     "metadata": {},
     "output_type": "execute_result"
    }
   ],
   "source": [
    "a"
   ]
  },
  {
   "cell_type": "code",
   "execution_count": 76,
   "id": "b379ff39",
   "metadata": {},
   "outputs": [],
   "source": [
    "a.clear()"
   ]
  },
  {
   "cell_type": "code",
   "execution_count": 77,
   "id": "8845b3f8",
   "metadata": {},
   "outputs": [
    {
     "data": {
      "text/plain": [
       "{}"
      ]
     },
     "execution_count": 77,
     "metadata": {},
     "output_type": "execute_result"
    }
   ],
   "source": [
    "a"
   ]
  },
  {
   "cell_type": "code",
   "execution_count": 79,
   "id": "44ef1f9b",
   "metadata": {},
   "outputs": [],
   "source": [
    "a = {'name':'rahul','age':23,'date of birth':12,'address':{'pincode':[1,2,3,4,5,6]}}"
   ]
  },
  {
   "cell_type": "code",
   "execution_count": 80,
   "id": "a77f32c7",
   "metadata": {},
   "outputs": [
    {
     "data": {
      "text/plain": [
       "dict_keys(['name', 'age', 'date of birth', 'address'])"
      ]
     },
     "execution_count": 80,
     "metadata": {},
     "output_type": "execute_result"
    }
   ],
   "source": [
    "a.keys()"
   ]
  },
  {
   "cell_type": "code",
   "execution_count": 81,
   "id": "ceb63301",
   "metadata": {},
   "outputs": [
    {
     "data": {
      "text/plain": [
       "dict_values(['rahul', 23, 12, {'pincode': [1, 2, 3, 4, 5, 6]}])"
      ]
     },
     "execution_count": 81,
     "metadata": {},
     "output_type": "execute_result"
    }
   ],
   "source": [
    "a.values()"
   ]
  },
  {
   "cell_type": "code",
   "execution_count": 82,
   "id": "fd97e6ce",
   "metadata": {},
   "outputs": [
    {
     "data": {
      "text/plain": [
       "dict_items([('name', 'rahul'), ('age', 23), ('date of birth', 12), ('address', {'pincode': [1, 2, 3, 4, 5, 6]})])"
      ]
     },
     "execution_count": 82,
     "metadata": {},
     "output_type": "execute_result"
    }
   ],
   "source": [
    "a.items()"
   ]
  },
  {
   "cell_type": "code",
   "execution_count": 71,
   "id": "33d8a6b5",
   "metadata": {},
   "outputs": [
    {
     "data": {
      "text/plain": [
       "56142"
      ]
     },
     "execution_count": 71,
     "metadata": {},
     "output_type": "execute_result"
    }
   ],
   "source": [
    "a['address']['pincode']"
   ]
  },
  {
   "cell_type": "code",
   "execution_count": 95,
   "id": "054693f6",
   "metadata": {},
   "outputs": [
    {
     "data": {
      "text/plain": [
       "{'pincode': [1, 2, 3, 4, 5, 6]}"
      ]
     },
     "execution_count": 95,
     "metadata": {},
     "output_type": "execute_result"
    }
   ],
   "source": [
    "a.pop(\"address\")"
   ]
  },
  {
   "cell_type": "code",
   "execution_count": 96,
   "id": "40ab95ac",
   "metadata": {},
   "outputs": [
    {
     "data": {
      "text/plain": [
       "{'name': 'rahul', 'age': 23, 'date of birth': 12}"
      ]
     },
     "execution_count": 96,
     "metadata": {},
     "output_type": "execute_result"
    }
   ],
   "source": [
    "a"
   ]
  },
  {
   "cell_type": "code",
   "execution_count": 91,
   "id": "8a20b7fc",
   "metadata": {},
   "outputs": [],
   "source": [
    "a.update({'key':[5,6,4,3,8]})"
   ]
  },
  {
   "cell_type": "code",
   "execution_count": 92,
   "id": "8ca0a1f9",
   "metadata": {},
   "outputs": [
    {
     "data": {
      "text/plain": [
       "{'name': 'rahul',\n",
       " 'age': 23,\n",
       " 'date of birth': 12,\n",
       " 'address': {'pincode': [1, 2, 3, 4, 5, 6]},\n",
       " 'key': [5, 6, 4, 3, 8]}"
      ]
     },
     "execution_count": 92,
     "metadata": {},
     "output_type": "execute_result"
    }
   ],
   "source": [
    "a"
   ]
  },
  {
   "cell_type": "code",
   "execution_count": 93,
   "id": "f4528af8",
   "metadata": {},
   "outputs": [
    {
     "data": {
      "text/plain": [
       "4"
      ]
     },
     "execution_count": 93,
     "metadata": {},
     "output_type": "execute_result"
    }
   ],
   "source": [
    "a['key'][2]"
   ]
  },
  {
   "cell_type": "code",
   "execution_count": 94,
   "id": "50bc89c4",
   "metadata": {},
   "outputs": [
    {
     "data": {
      "text/plain": [
       "[5, 6, 4, 3, 8]"
      ]
     },
     "execution_count": 94,
     "metadata": {},
     "output_type": "execute_result"
    }
   ],
   "source": [
    "a.pop('key')"
   ]
  },
  {
   "cell_type": "code",
   "execution_count": 80,
   "id": "8e32c89d",
   "metadata": {},
   "outputs": [
    {
     "data": {
      "text/plain": [
       "{'name': 'rahul',\n",
       " 'age': 23,\n",
       " 'date of birth': -41988,\n",
       " 'address': {'pincode': 56142}}"
      ]
     },
     "execution_count": 80,
     "metadata": {},
     "output_type": "execute_result"
    }
   ],
   "source": [
    "a"
   ]
  },
  {
   "cell_type": "code",
   "execution_count": 81,
   "id": "e4d5e8a9",
   "metadata": {},
   "outputs": [],
   "source": [
    "a.clear()"
   ]
  },
  {
   "cell_type": "code",
   "execution_count": 82,
   "id": "4d9387f1",
   "metadata": {},
   "outputs": [
    {
     "data": {
      "text/plain": [
       "{}"
      ]
     },
     "execution_count": 82,
     "metadata": {},
     "output_type": "execute_result"
    }
   ],
   "source": [
    "a"
   ]
  },
  {
   "cell_type": "code",
   "execution_count": 83,
   "id": "077c239e",
   "metadata": {},
   "outputs": [],
   "source": [
    "a = {'h1':12,'h2':[7,5,9,4]}"
   ]
  },
  {
   "cell_type": "code",
   "execution_count": 86,
   "id": "db2c6e7e",
   "metadata": {},
   "outputs": [],
   "source": [
    "new_list = a['h2']"
   ]
  },
  {
   "cell_type": "code",
   "execution_count": 96,
   "id": "46aedbdb",
   "metadata": {},
   "outputs": [],
   "source": [
    "new_list[3] = 12"
   ]
  },
  {
   "cell_type": "code",
   "execution_count": 97,
   "id": "b908abbb",
   "metadata": {},
   "outputs": [
    {
     "data": {
      "text/plain": [
       "[7, 5, 9, 12]"
      ]
     },
     "execution_count": 97,
     "metadata": {},
     "output_type": "execute_result"
    }
   ],
   "source": [
    "new_list"
   ]
  },
  {
   "cell_type": "code",
   "execution_count": 108,
   "id": "d216965d",
   "metadata": {},
   "outputs": [],
   "source": [
    "def name(a):                                   #functions\n",
    "    print(a)"
   ]
  },
  {
   "cell_type": "code",
   "execution_count": 109,
   "id": "15386fc6",
   "metadata": {},
   "outputs": [
    {
     "name": "stdout",
     "output_type": "stream",
     "text": [
      "[8686207378]\n"
     ]
    }
   ],
   "source": [
    "name([8686207378])"
   ]
  },
  {
   "cell_type": "code",
   "execution_count": 110,
   "id": "b0cf56eb",
   "metadata": {},
   "outputs": [
    {
     "name": "stdout",
     "output_type": "stream",
     "text": [
      "{'name': 'rahul', 'age': '21'}\n"
     ]
    }
   ],
   "source": [
    "def name(**a):\n",
    "    print(a)\n",
    "name(name='rahul',age='21')                     #keyword argument"
   ]
  },
  {
   "cell_type": "code",
   "execution_count": 114,
   "id": "02e201a8",
   "metadata": {},
   "outputs": [
    {
     "name": "stdout",
     "output_type": "stream",
     "text": [
      "(250, 'yamaha')\n"
     ]
    }
   ],
   "source": [
    "def bike(*a):\n",
    "    print(a)\n",
    "bike(250,'yamaha')                             #*argument"
   ]
  },
  {
   "cell_type": "code",
   "execution_count": 126,
   "id": "93bbfb4e",
   "metadata": {},
   "outputs": [
    {
     "name": "stdout",
     "output_type": "stream",
     "text": [
      "my  favorties bike is Duke and royal enfield\n"
     ]
    }
   ],
   "source": [
    "def bikes(a,b):\n",
    "    print(\"my  favorties bike is\",a,\"and\",b)\n",
    "bikes(\"Duke\",\"royal enfield\")"
   ]
  },
  {
   "cell_type": "code",
   "execution_count": 144,
   "id": "9264c5f0",
   "metadata": {},
   "outputs": [
    {
     "data": {
      "text/plain": [
       "8"
      ]
     },
     "execution_count": 144,
     "metadata": {},
     "output_type": "execute_result"
    }
   ],
   "source": [
    "def add(a,b):                                #return uses\n",
    "    return a%b\n",
    "add(2000,12)"
   ]
  },
  {
   "cell_type": "code",
   "execution_count": 164,
   "id": "5dd57c7f",
   "metadata": {},
   "outputs": [
    {
     "ename": "TypeError",
     "evalue": "key() takes 1 positional argument but 6 were given",
     "output_type": "error",
     "traceback": [
      "\u001b[1;31m---------------------------------------------------------------------------\u001b[0m",
      "\u001b[1;31mTypeError\u001b[0m                                 Traceback (most recent call last)",
      "Cell \u001b[1;32mIn[164], line 4\u001b[0m\n\u001b[0;32m      2\u001b[0m     \u001b[38;5;28;01mfor\u001b[39;00m i \u001b[38;5;129;01min\u001b[39;00m e:\n\u001b[0;32m      3\u001b[0m         \u001b[38;5;28mprint\u001b[39m(i)\n\u001b[1;32m----> 4\u001b[0m key(\u001b[38;5;241m1\u001b[39m,\u001b[38;5;241m2\u001b[39m,\u001b[38;5;241m3\u001b[39m,\u001b[38;5;241m4\u001b[39m,\u001b[38;5;241m5\u001b[39m,\u001b[38;5;241m6\u001b[39m)\n",
      "\u001b[1;31mTypeError\u001b[0m: key() takes 1 positional argument but 6 were given"
     ]
    }
   ],
   "source": [
    "def key(e):\n",
    "    for i in e:\n",
    "        print(i)\n",
    "key(1,2,3,4,5,6)"
   ]
  },
  {
   "cell_type": "code",
   "execution_count": 153,
   "id": "16d2edc5",
   "metadata": {},
   "outputs": [
    {
     "data": {
      "text/plain": [
       "function"
      ]
     },
     "execution_count": 153,
     "metadata": {},
     "output_type": "execute_result"
    }
   ],
   "source": [
    "type(key)"
   ]
  },
  {
   "cell_type": "code",
   "execution_count": 165,
   "id": "41a27377",
   "metadata": {},
   "outputs": [],
   "source": [
    "#sets"
   ]
  },
  {
   "cell_type": "code",
   "execution_count": 1,
   "id": "63873bce",
   "metadata": {},
   "outputs": [],
   "source": [
    "a = {2,8,5,6,9,7,5,7,5,9,4,28,78,51,4,4,28,28}"
   ]
  },
  {
   "cell_type": "code",
   "execution_count": 4,
   "id": "49d11c13",
   "metadata": {},
   "outputs": [
    {
     "data": {
      "text/plain": [
       "{2, 4, 5, 6, 7, 8, 9, 28, 51, 78}"
      ]
     },
     "execution_count": 4,
     "metadata": {},
     "output_type": "execute_result"
    }
   ],
   "source": [
    "a"
   ]
  },
  {
   "cell_type": "code",
   "execution_count": 5,
   "id": "6021577e",
   "metadata": {},
   "outputs": [
    {
     "data": {
      "text/plain": [
       "set"
      ]
     },
     "execution_count": 5,
     "metadata": {},
     "output_type": "execute_result"
    }
   ],
   "source": [
    "type(a)"
   ]
  },
  {
   "cell_type": "code",
   "execution_count": 2,
   "id": "97f04be6",
   "metadata": {},
   "outputs": [
    {
     "data": {
      "text/plain": [
       "{1, 2, 3, 5}"
      ]
     },
     "execution_count": 2,
     "metadata": {},
     "output_type": "execute_result"
    }
   ],
   "source": [
    "set([1,2,3,5,2])"
   ]
  },
  {
   "cell_type": "code",
   "execution_count": 3,
   "id": "ec5d48c3",
   "metadata": {},
   "outputs": [
    {
     "ename": "TypeError",
     "evalue": "type() takes 1 or 3 arguments",
     "output_type": "error",
     "traceback": [
      "\u001b[1;31m---------------------------------------------------------------------------\u001b[0m",
      "\u001b[1;31mTypeError\u001b[0m                                 Traceback (most recent call last)",
      "Cell \u001b[1;32mIn[3], line 1\u001b[0m\n\u001b[1;32m----> 1\u001b[0m \u001b[38;5;28mtype\u001b[39m()\n",
      "\u001b[1;31mTypeError\u001b[0m: type() takes 1 or 3 arguments"
     ]
    }
   ],
   "source": [
    "type()"
   ]
  },
  {
   "cell_type": "code",
   "execution_count": 170,
   "id": "86ec1f1c",
   "metadata": {},
   "outputs": [],
   "source": [
    "#comparsion"
   ]
  },
  {
   "cell_type": "code",
   "execution_count": 171,
   "id": "77537d1c",
   "metadata": {},
   "outputs": [
    {
     "data": {
      "text/plain": [
       "True"
      ]
     },
     "execution_count": 171,
     "metadata": {},
     "output_type": "execute_result"
    }
   ],
   "source": [
    "10>5"
   ]
  },
  {
   "cell_type": "code",
   "execution_count": 173,
   "id": "828df9b1",
   "metadata": {},
   "outputs": [
    {
     "data": {
      "text/plain": [
       "False"
      ]
     },
     "execution_count": 173,
     "metadata": {},
     "output_type": "execute_result"
    }
   ],
   "source": [
    "1!=1"
   ]
  },
  {
   "cell_type": "code",
   "execution_count": 174,
   "id": "95b0b867",
   "metadata": {},
   "outputs": [
    {
     "data": {
      "text/plain": [
       "True"
      ]
     },
     "execution_count": 174,
     "metadata": {},
     "output_type": "execute_result"
    }
   ],
   "source": [
    "125>=50"
   ]
  },
  {
   "cell_type": "code",
   "execution_count": 175,
   "id": "22e2b9da",
   "metadata": {},
   "outputs": [
    {
     "data": {
      "text/plain": [
       "False"
      ]
     },
     "execution_count": 175,
     "metadata": {},
     "output_type": "execute_result"
    }
   ],
   "source": [
    "100<=50"
   ]
  },
  {
   "cell_type": "code",
   "execution_count": 178,
   "id": "8603c8d2",
   "metadata": {},
   "outputs": [
    {
     "data": {
      "text/plain": [
       "True"
      ]
     },
     "execution_count": 178,
     "metadata": {},
     "output_type": "execute_result"
    }
   ],
   "source": [
    "27>=27"
   ]
  },
  {
   "cell_type": "code",
   "execution_count": 179,
   "id": "fda36ae1",
   "metadata": {},
   "outputs": [
    {
     "data": {
      "text/plain": [
       "True"
      ]
     },
     "execution_count": 179,
     "metadata": {},
     "output_type": "execute_result"
    }
   ],
   "source": [
    "10 == 10"
   ]
  },
  {
   "cell_type": "code",
   "execution_count": 180,
   "id": "e78ae959",
   "metadata": {},
   "outputs": [
    {
     "data": {
      "text/plain": [
       "True"
      ]
     },
     "execution_count": 180,
     "metadata": {},
     "output_type": "execute_result"
    }
   ],
   "source": [
    "10 !=20"
   ]
  },
  {
   "cell_type": "code",
   "execution_count": 184,
   "id": "8148f2c5",
   "metadata": {},
   "outputs": [
    {
     "data": {
      "text/plain": [
       "True"
      ]
     },
     "execution_count": 184,
     "metadata": {},
     "output_type": "execute_result"
    }
   ],
   "source": [
    "20 < 30 or 20>30"
   ]
  },
  {
   "cell_type": "code",
   "execution_count": 188,
   "id": "3529531a",
   "metadata": {},
   "outputs": [
    {
     "name": "stdout",
     "output_type": "stream",
     "text": [
      " its correct\n"
     ]
    }
   ],
   "source": [
    " if 20>=20:\n",
    "        print(\" its correct\")\n",
    "else:\n",
    "    print(' its not correct')"
   ]
  },
  {
   "cell_type": "code",
   "execution_count": 194,
   "id": "2aae783f",
   "metadata": {},
   "outputs": [
    {
     "name": "stdout",
     "output_type": "stream",
     "text": [
      "its wrong\n"
     ]
    }
   ],
   "source": [
    "if 50 == 100:\n",
    "    print('its correct')\n",
    "else:\n",
    "    print(\"its wrong\")"
   ]
  },
  {
   "cell_type": "code",
   "execution_count": 196,
   "id": "90b54902",
   "metadata": {
    "scrolled": true
   },
   "outputs": [
    {
     "name": "stdout",
     "output_type": "stream",
     "text": [
      "its wondering\n",
      "its wondering\n",
      "its wondering\n",
      "its wondering\n",
      "its wondering\n",
      "its wondering\n"
     ]
    }
   ],
   "source": [
    "a = [12,2,5,8,7,7]\n",
    "for i in a:\n",
    "    print(\"its wondering\")"
   ]
  },
  {
   "cell_type": "code",
   "execution_count": 1,
   "id": "3191c1e7",
   "metadata": {},
   "outputs": [],
   "source": [
    "a =[1,2,6,4,5]"
   ]
  },
  {
   "cell_type": "code",
   "execution_count": 4,
   "id": "7d0cf1a5",
   "metadata": {},
   "outputs": [],
   "source": [
    "s=[]\n",
    "for num in a:\n",
    "    s.append(num**2)"
   ]
  },
  {
   "cell_type": "code",
   "execution_count": 5,
   "id": "0a55ff0f",
   "metadata": {},
   "outputs": [
    {
     "name": "stdout",
     "output_type": "stream",
     "text": [
      "[1, 4, 36, 16, 25]\n"
     ]
    }
   ],
   "source": [
    "print(s)"
   ]
  },
  {
   "cell_type": "code",
   "execution_count": 19,
   "id": "8eace195",
   "metadata": {},
   "outputs": [],
   "source": [
    "b = [19,25,85,67,20]\n",
    "r = []\n",
    "for l in b:\n",
    "    r.append(l**2)"
   ]
  },
  {
   "cell_type": "code",
   "execution_count": 20,
   "id": "2662efcc",
   "metadata": {},
   "outputs": [
    {
     "name": "stdout",
     "output_type": "stream",
     "text": [
      "[361, 625, 7225, 4489, 400]\n"
     ]
    }
   ],
   "source": [
    "print(r)"
   ]
  },
  {
   "cell_type": "code",
   "execution_count": 21,
   "id": "5b0d87d7",
   "metadata": {},
   "outputs": [],
   "source": [
    "r = [l**2 for l in b]"
   ]
  },
  {
   "cell_type": "code",
   "execution_count": 22,
   "id": "54ba743e",
   "metadata": {},
   "outputs": [
    {
     "name": "stdout",
     "output_type": "stream",
     "text": [
      "[361, 625, 7225, 4489, 400]\n"
     ]
    }
   ],
   "source": [
    "print(r)"
   ]
  },
  {
   "cell_type": "code",
   "execution_count": 32,
   "id": "fd01febb",
   "metadata": {},
   "outputs": [],
   "source": [
    "def keyfun(s):\n",
    "    return s*2"
   ]
  },
  {
   "cell_type": "code",
   "execution_count": 34,
   "id": "8c5e86ba",
   "metadata": {},
   "outputs": [
    {
     "data": {
      "text/plain": [
       "10"
      ]
     },
     "execution_count": 34,
     "metadata": {},
     "output_type": "execute_result"
    }
   ],
   "source": [
    "keyfun(5)"
   ]
  },
  {
   "cell_type": "code",
   "execution_count": 149,
   "id": "597f0ed2",
   "metadata": {},
   "outputs": [],
   "source": [
    "def even(num):\n",
    "    if num%2==1:\n",
    "        return num+1\n",
    "    else:\n",
    "        return num\n",
    "x =[1,3,5,4,7,9,10,12,13]"
   ]
  },
  {
   "cell_type": "code",
   "execution_count": 150,
   "id": "f50dda79",
   "metadata": {},
   "outputs": [
    {
     "data": {
      "text/plain": [
       "<map at 0x202bdef0dc0>"
      ]
     },
     "execution_count": 150,
     "metadata": {},
     "output_type": "execute_result"
    }
   ],
   "source": [
    "(map(even,x))"
   ]
  },
  {
   "cell_type": "code",
   "execution_count": 151,
   "id": "26519a92",
   "metadata": {},
   "outputs": [
    {
     "data": {
      "text/plain": [
       "[2, 4, 6, 4, 8, 10, 10, 12, 14]"
      ]
     },
     "execution_count": 151,
     "metadata": {},
     "output_type": "execute_result"
    }
   ],
   "source": [
    "list(map(even,x))"
   ]
  },
  {
   "cell_type": "code",
   "execution_count": 152,
   "id": "656e6a39",
   "metadata": {},
   "outputs": [],
   "source": [
    "def num1(n):\n",
    "    n=n+1\n",
    "    return n\n",
    "y = [1,2,3,4,5,6]"
   ]
  },
  {
   "cell_type": "code",
   "execution_count": 12,
   "id": "b18e0f85",
   "metadata": {},
   "outputs": [
    {
     "data": {
      "text/plain": [
       "<map at 0x1c6d0d035b0>"
      ]
     },
     "execution_count": 12,
     "metadata": {},
     "output_type": "execute_result"
    }
   ],
   "source": [
    "(map(num1,y))"
   ]
  },
  {
   "cell_type": "code",
   "execution_count": 167,
   "id": "5098d15d",
   "metadata": {},
   "outputs": [
    {
     "data": {
      "text/plain": [
       "[2, 3, 4, 5, 6, 7]"
      ]
     },
     "execution_count": 167,
     "metadata": {},
     "output_type": "execute_result"
    }
   ],
   "source": [
    "list(map(num1,y))"
   ]
  },
  {
   "cell_type": "code",
   "execution_count": 183,
   "id": "278ad5ca",
   "metadata": {},
   "outputs": [
    {
     "data": {
      "text/plain": [
       "[2, 4, 6, 8, 10, 12]"
      ]
     },
     "execution_count": 183,
     "metadata": {},
     "output_type": "execute_result"
    }
   ],
   "source": [
    "list(map(lambda n:n*2,y))"
   ]
  },
  {
   "cell_type": "code",
   "execution_count": 200,
   "id": "479778b9",
   "metadata": {},
   "outputs": [],
   "source": [
    "a =(map(lambda n:n*2,y))"
   ]
  },
  {
   "cell_type": "code",
   "execution_count": 201,
   "id": "f3b518e5",
   "metadata": {},
   "outputs": [
    {
     "name": "stdout",
     "output_type": "stream",
     "text": [
      "[2, 4, 6, 8, 10, 12]\n"
     ]
    }
   ],
   "source": [
    "print(list(a))"
   ]
  },
  {
   "cell_type": "code",
   "execution_count": 203,
   "id": "01c01dea",
   "metadata": {},
   "outputs": [
    {
     "data": {
      "text/plain": [
       "<map at 0x202bdf23c10>"
      ]
     },
     "execution_count": 203,
     "metadata": {},
     "output_type": "execute_result"
    }
   ],
   "source": [
    "a"
   ]
  },
  {
   "cell_type": "code",
   "execution_count": 163,
   "id": "cd13455e",
   "metadata": {},
   "outputs": [],
   "source": [
    "f = [15,20,30,40,50,70,80]"
   ]
  },
  {
   "cell_type": "code",
   "execution_count": 3,
   "id": "0f290b4d",
   "metadata": {},
   "outputs": [],
   "source": [
    "iteams =f.pop()"
   ]
  },
  {
   "cell_type": "code",
   "execution_count": 5,
   "id": "9c18fd7d",
   "metadata": {},
   "outputs": [
    {
     "data": {
      "text/plain": [
       "[15, 20, 30, 40, 50, 70]"
      ]
     },
     "execution_count": 5,
     "metadata": {},
     "output_type": "execute_result"
    }
   ],
   "source": [
    "f"
   ]
  },
  {
   "cell_type": "code",
   "execution_count": 6,
   "id": "7889ddcc",
   "metadata": {},
   "outputs": [
    {
     "data": {
      "text/plain": [
       "80"
      ]
     },
     "execution_count": 6,
     "metadata": {},
     "output_type": "execute_result"
    }
   ],
   "source": [
    "iteams"
   ]
  },
  {
   "cell_type": "code",
   "execution_count": 7,
   "id": "f8bb71fe",
   "metadata": {},
   "outputs": [],
   "source": [
    "spot=f.pop(2)"
   ]
  },
  {
   "cell_type": "code",
   "execution_count": 8,
   "id": "9e4e6c2a",
   "metadata": {},
   "outputs": [
    {
     "data": {
      "text/plain": [
       "[15, 20, 40, 50, 70]"
      ]
     },
     "execution_count": 8,
     "metadata": {},
     "output_type": "execute_result"
    }
   ],
   "source": [
    "f"
   ]
  },
  {
   "cell_type": "code",
   "execution_count": 9,
   "id": "6ae6f0f8",
   "metadata": {},
   "outputs": [
    {
     "data": {
      "text/plain": [
       "30"
      ]
     },
     "execution_count": 9,
     "metadata": {},
     "output_type": "execute_result"
    }
   ],
   "source": [
    "spot"
   ]
  },
  {
   "cell_type": "code",
   "execution_count": 13,
   "id": "0b2b772a",
   "metadata": {},
   "outputs": [],
   "source": [
    "h = [(4,2),(5,6),(8,7)]"
   ]
  },
  {
   "cell_type": "code",
   "execution_count": 17,
   "id": "10ff6dc3",
   "metadata": {},
   "outputs": [
    {
     "name": "stdout",
     "output_type": "stream",
     "text": [
      "6\n",
      "11\n",
      "15\n"
     ]
    }
   ],
   "source": [
    "for a,b in h:\n",
    "    print(a+b)"
   ]
  },
  {
   "cell_type": "code",
   "execution_count": 18,
   "id": "830a6c5e",
   "metadata": {},
   "outputs": [
    {
     "data": {
      "text/plain": [
       "2401"
      ]
     },
     "execution_count": 18,
     "metadata": {},
     "output_type": "execute_result"
    }
   ],
   "source": [
    "7**4"
   ]
  },
  {
   "cell_type": "code",
   "execution_count": 19,
   "id": "76b8c043",
   "metadata": {},
   "outputs": [],
   "source": [
    "s = \"hi there is sam!\""
   ]
  },
  {
   "cell_type": "code",
   "execution_count": 20,
   "id": "b0ad8580",
   "metadata": {},
   "outputs": [
    {
     "data": {
      "text/plain": [
       "['h',\n",
       " 'i',\n",
       " ' ',\n",
       " 't',\n",
       " 'h',\n",
       " 'e',\n",
       " 'r',\n",
       " 'e',\n",
       " ' ',\n",
       " 'i',\n",
       " 's',\n",
       " ' ',\n",
       " 's',\n",
       " 'a',\n",
       " 'm',\n",
       " '!']"
      ]
     },
     "execution_count": 20,
     "metadata": {},
     "output_type": "execute_result"
    }
   ],
   "source": [
    "list(s)"
   ]
  },
  {
   "cell_type": "code",
   "execution_count": 21,
   "id": "192cc03a",
   "metadata": {},
   "outputs": [
    {
     "data": {
      "text/plain": [
       "['hi', 'there', 'is', 'sam!']"
      ]
     },
     "execution_count": 21,
     "metadata": {},
     "output_type": "execute_result"
    }
   ],
   "source": [
    "s.split()"
   ]
  },
  {
   "cell_type": "code",
   "execution_count": 22,
   "id": "a339b7fc",
   "metadata": {},
   "outputs": [],
   "source": [
    "planet=\"earth\"\n",
    "diameter = 12456"
   ]
  },
  {
   "cell_type": "code",
   "execution_count": 24,
   "id": "06752563",
   "metadata": {},
   "outputs": [
    {
     "name": "stdout",
     "output_type": "stream",
     "text": [
      "the planet is earth,and its diameter kilometer 12456\n"
     ]
    }
   ],
   "source": [
    "print(\"the planet is {},and its diameter kilometer {}\".format(planet,diameter))"
   ]
  },
  {
   "cell_type": "code",
   "execution_count": 27,
   "id": "65bc9671",
   "metadata": {},
   "outputs": [],
   "source": [
    "a =[45,2,[12,45],[7,8,['hello'],9]] "
   ]
  },
  {
   "cell_type": "code",
   "execution_count": 30,
   "id": "babbdeb6",
   "metadata": {},
   "outputs": [
    {
     "data": {
      "text/plain": [
       "['hello']"
      ]
     },
     "execution_count": 30,
     "metadata": {},
     "output_type": "execute_result"
    }
   ],
   "source": [
    "a[3][2]"
   ]
  },
  {
   "cell_type": "code",
   "execution_count": 3,
   "id": "55b5ad65",
   "metadata": {},
   "outputs": [],
   "source": [
    "a=[1,2,[3,4],[5,[100,200,['hello']],23,11],1,7]"
   ]
  },
  {
   "cell_type": "code",
   "execution_count": 4,
   "id": "58d718bf",
   "metadata": {},
   "outputs": [
    {
     "data": {
      "text/plain": [
       "['hello']"
      ]
     },
     "execution_count": 4,
     "metadata": {},
     "output_type": "execute_result"
    }
   ],
   "source": [
    "a[3][1][2]"
   ]
  },
  {
   "cell_type": "code",
   "execution_count": 5,
   "id": "b2bdcaba",
   "metadata": {},
   "outputs": [],
   "source": [
    "a.reverse()"
   ]
  },
  {
   "cell_type": "code",
   "execution_count": 6,
   "id": "72e18356",
   "metadata": {},
   "outputs": [
    {
     "data": {
      "text/plain": [
       "[7, 1, [5, [100, 200, ['hello']], 23, 11], [3, 4], 2, 1]"
      ]
     },
     "execution_count": 6,
     "metadata": {},
     "output_type": "execute_result"
    }
   ],
   "source": [
    "a"
   ]
  },
  {
   "cell_type": "code",
   "execution_count": null,
   "id": "76a2724e",
   "metadata": {},
   "outputs": [],
   "source": []
  }
 ],
 "metadata": {
  "kernelspec": {
   "display_name": "Python 3 (ipykernel)",
   "language": "python",
   "name": "python3"
  },
  "language_info": {
   "codemirror_mode": {
    "name": "ipython",
    "version": 3
   },
   "file_extension": ".py",
   "mimetype": "text/x-python",
   "name": "python",
   "nbconvert_exporter": "python",
   "pygments_lexer": "ipython3",
   "version": "3.11.5"
  }
 },
 "nbformat": 4,
 "nbformat_minor": 5
}
