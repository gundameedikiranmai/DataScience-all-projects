{
 "cells": [
  {
   "cell_type": "code",
   "execution_count": 4,
   "id": "130638c3",
   "metadata": {},
   "outputs": [],
   "source": [
    "import numpy as np\n",
    "import pandas as pd\n",
    "import matplotlib.pyplot as plt\n",
    "import seaborn as sns\n",
    "import plotly.express as px\n",
    "import warnings\n",
    "warnings.filterwarnings(\"ignore\")"
   ]
  },
  {
   "cell_type": "markdown",
   "id": "76eeec1c",
   "metadata": {},
   "source": [
    "# TASK-1"
   ]
  },
  {
   "cell_type": "code",
   "execution_count": 5,
   "id": "1f63e0c8",
   "metadata": {},
   "outputs": [],
   "source": [
    "df=pd.read_csv(\"C:\\\\Users\\\\RAHUL\\\\Desktop\\\\kaggledata\\\\WL_task2.csv\")"
   ]
  },
  {
   "cell_type": "code",
   "execution_count": 6,
   "id": "6e9ad5ef",
   "metadata": {},
   "outputs": [
    {
     "data": {
      "text/html": [
       "<div>\n",
       "<style scoped>\n",
       "    .dataframe tbody tr th:only-of-type {\n",
       "        vertical-align: middle;\n",
       "    }\n",
       "\n",
       "    .dataframe tbody tr th {\n",
       "        vertical-align: top;\n",
       "    }\n",
       "\n",
       "    .dataframe thead th {\n",
       "        text-align: right;\n",
       "    }\n",
       "</style>\n",
       "<table border=\"1\" class=\"dataframe\">\n",
       "  <thead>\n",
       "    <tr style=\"text-align: right;\">\n",
       "      <th></th>\n",
       "      <th>Unnamed: 0</th>\n",
       "      <th>Date</th>\n",
       "      <th>Energy</th>\n",
       "      <th>Resistance</th>\n",
       "      <th>Current</th>\n",
       "      <th>Voltage</th>\n",
       "      <th>Power</th>\n",
       "      <th>uipvalue</th>\n",
       "      <th>weldpoint</th>\n",
       "      <th>score</th>\n",
       "      <th>prediction</th>\n",
       "      <th>year</th>\n",
       "      <th>month</th>\n",
       "      <th>day</th>\n",
       "      <th>id</th>\n",
       "    </tr>\n",
       "  </thead>\n",
       "  <tbody>\n",
       "    <tr>\n",
       "      <th>0</th>\n",
       "      <td>16645</td>\n",
       "      <td>2023-03-10 16:06:05.180</td>\n",
       "      <td>5279.587891</td>\n",
       "      <td>272.0</td>\n",
       "      <td>7.10</td>\n",
       "      <td>1.88</td>\n",
       "      <td>13342.919922</td>\n",
       "      <td>80</td>\n",
       "      <td>T0391</td>\n",
       "      <td>8.137701</td>\n",
       "      <td>Passed</td>\n",
       "      <td>2023</td>\n",
       "      <td>3</td>\n",
       "      <td>10</td>\n",
       "      <td>Train</td>\n",
       "    </tr>\n",
       "    <tr>\n",
       "      <th>1</th>\n",
       "      <td>16650</td>\n",
       "      <td>2023-03-10 16:06:59.390</td>\n",
       "      <td>5284.775879</td>\n",
       "      <td>270.0</td>\n",
       "      <td>7.13</td>\n",
       "      <td>1.84</td>\n",
       "      <td>13123.620117</td>\n",
       "      <td>96</td>\n",
       "      <td>T0391</td>\n",
       "      <td>15.128845</td>\n",
       "      <td>Passed</td>\n",
       "      <td>2023</td>\n",
       "      <td>3</td>\n",
       "      <td>10</td>\n",
       "      <td>Train</td>\n",
       "    </tr>\n",
       "    <tr>\n",
       "      <th>2</th>\n",
       "      <td>16651</td>\n",
       "      <td>2023-03-10 16:00:49.570</td>\n",
       "      <td>5229.563965</td>\n",
       "      <td>267.0</td>\n",
       "      <td>7.15</td>\n",
       "      <td>1.85</td>\n",
       "      <td>13218.250000</td>\n",
       "      <td>69</td>\n",
       "      <td>T0391</td>\n",
       "      <td>39.734211</td>\n",
       "      <td>Failed</td>\n",
       "      <td>2023</td>\n",
       "      <td>3</td>\n",
       "      <td>10</td>\n",
       "      <td>Train</td>\n",
       "    </tr>\n",
       "    <tr>\n",
       "      <th>3</th>\n",
       "      <td>16660</td>\n",
       "      <td>2023-03-10 16:44:37.850</td>\n",
       "      <td>5402.745117</td>\n",
       "      <td>273.0</td>\n",
       "      <td>7.16</td>\n",
       "      <td>1.90</td>\n",
       "      <td>13602.860352</td>\n",
       "      <td>93</td>\n",
       "      <td>T0391</td>\n",
       "      <td>16.287536</td>\n",
       "      <td>Passed</td>\n",
       "      <td>2023</td>\n",
       "      <td>3</td>\n",
       "      <td>10</td>\n",
       "      <td>Train</td>\n",
       "    </tr>\n",
       "    <tr>\n",
       "      <th>4</th>\n",
       "      <td>16661</td>\n",
       "      <td>2023-03-10 16:45:25.860</td>\n",
       "      <td>5341.735840</td>\n",
       "      <td>274.0</td>\n",
       "      <td>7.10</td>\n",
       "      <td>1.89</td>\n",
       "      <td>13413.139648</td>\n",
       "      <td>95</td>\n",
       "      <td>T0391</td>\n",
       "      <td>0.707636</td>\n",
       "      <td>Passed</td>\n",
       "      <td>2023</td>\n",
       "      <td>3</td>\n",
       "      <td>10</td>\n",
       "      <td>Train</td>\n",
       "    </tr>\n",
       "    <tr>\n",
       "      <th>...</th>\n",
       "      <td>...</td>\n",
       "      <td>...</td>\n",
       "      <td>...</td>\n",
       "      <td>...</td>\n",
       "      <td>...</td>\n",
       "      <td>...</td>\n",
       "      <td>...</td>\n",
       "      <td>...</td>\n",
       "      <td>...</td>\n",
       "      <td>...</td>\n",
       "      <td>...</td>\n",
       "      <td>...</td>\n",
       "      <td>...</td>\n",
       "      <td>...</td>\n",
       "      <td>...</td>\n",
       "    </tr>\n",
       "    <tr>\n",
       "      <th>8448</th>\n",
       "      <td>94288</td>\n",
       "      <td>2023-08-08 14:11:31.360</td>\n",
       "      <td>5510.055176</td>\n",
       "      <td>277.0</td>\n",
       "      <td>7.16</td>\n",
       "      <td>1.93</td>\n",
       "      <td>13828.259766</td>\n",
       "      <td>107</td>\n",
       "      <td>T0391</td>\n",
       "      <td>14.094838</td>\n",
       "      <td>Passed</td>\n",
       "      <td>2023</td>\n",
       "      <td>8</td>\n",
       "      <td>8</td>\n",
       "      <td>Test</td>\n",
       "    </tr>\n",
       "    <tr>\n",
       "      <th>8449</th>\n",
       "      <td>94289</td>\n",
       "      <td>2023-08-08 14:00:20.180</td>\n",
       "      <td>5404.756836</td>\n",
       "      <td>277.0</td>\n",
       "      <td>7.09</td>\n",
       "      <td>1.93</td>\n",
       "      <td>13691.419922</td>\n",
       "      <td>108</td>\n",
       "      <td>T0391</td>\n",
       "      <td>3.364030</td>\n",
       "      <td>Passed</td>\n",
       "      <td>2023</td>\n",
       "      <td>8</td>\n",
       "      <td>8</td>\n",
       "      <td>Test</td>\n",
       "    </tr>\n",
       "    <tr>\n",
       "      <th>8450</th>\n",
       "      <td>94290</td>\n",
       "      <td>2023-08-08 14:01:13.470</td>\n",
       "      <td>5384.125000</td>\n",
       "      <td>276.0</td>\n",
       "      <td>7.10</td>\n",
       "      <td>1.92</td>\n",
       "      <td>13623.940430</td>\n",
       "      <td>105</td>\n",
       "      <td>T0391</td>\n",
       "      <td>2.171779</td>\n",
       "      <td>Failed</td>\n",
       "      <td>2023</td>\n",
       "      <td>8</td>\n",
       "      <td>8</td>\n",
       "      <td>Test</td>\n",
       "    </tr>\n",
       "    <tr>\n",
       "      <th>8451</th>\n",
       "      <td>94291</td>\n",
       "      <td>2023-08-08 14:06:30.710</td>\n",
       "      <td>5395.432129</td>\n",
       "      <td>277.0</td>\n",
       "      <td>7.10</td>\n",
       "      <td>1.91</td>\n",
       "      <td>13556.799805</td>\n",
       "      <td>104</td>\n",
       "      <td>T0391</td>\n",
       "      <td>1.702148</td>\n",
       "      <td>Passed</td>\n",
       "      <td>2023</td>\n",
       "      <td>8</td>\n",
       "      <td>8</td>\n",
       "      <td>Test</td>\n",
       "    </tr>\n",
       "    <tr>\n",
       "      <th>8452</th>\n",
       "      <td>94292</td>\n",
       "      <td>2023-08-08 14:07:19.430</td>\n",
       "      <td>5414.668945</td>\n",
       "      <td>278.0</td>\n",
       "      <td>7.10</td>\n",
       "      <td>1.93</td>\n",
       "      <td>13703.000000</td>\n",
       "      <td>104</td>\n",
       "      <td>T0391</td>\n",
       "      <td>3.865788</td>\n",
       "      <td>Passed</td>\n",
       "      <td>2023</td>\n",
       "      <td>8</td>\n",
       "      <td>8</td>\n",
       "      <td>Test</td>\n",
       "    </tr>\n",
       "  </tbody>\n",
       "</table>\n",
       "<p>8453 rows × 15 columns</p>\n",
       "</div>"
      ],
      "text/plain": [
       "      Unnamed: 0                     Date       Energy  Resistance  Current  \\\n",
       "0          16645  2023-03-10 16:06:05.180  5279.587891       272.0     7.10   \n",
       "1          16650  2023-03-10 16:06:59.390  5284.775879       270.0     7.13   \n",
       "2          16651  2023-03-10 16:00:49.570  5229.563965       267.0     7.15   \n",
       "3          16660  2023-03-10 16:44:37.850  5402.745117       273.0     7.16   \n",
       "4          16661  2023-03-10 16:45:25.860  5341.735840       274.0     7.10   \n",
       "...          ...                      ...          ...         ...      ...   \n",
       "8448       94288  2023-08-08 14:11:31.360  5510.055176       277.0     7.16   \n",
       "8449       94289  2023-08-08 14:00:20.180  5404.756836       277.0     7.09   \n",
       "8450       94290  2023-08-08 14:01:13.470  5384.125000       276.0     7.10   \n",
       "8451       94291  2023-08-08 14:06:30.710  5395.432129       277.0     7.10   \n",
       "8452       94292  2023-08-08 14:07:19.430  5414.668945       278.0     7.10   \n",
       "\n",
       "      Voltage         Power  uipvalue weldpoint      score prediction  year  \\\n",
       "0        1.88  13342.919922        80     T0391   8.137701     Passed  2023   \n",
       "1        1.84  13123.620117        96     T0391  15.128845     Passed  2023   \n",
       "2        1.85  13218.250000        69     T0391  39.734211     Failed  2023   \n",
       "3        1.90  13602.860352        93     T0391  16.287536     Passed  2023   \n",
       "4        1.89  13413.139648        95     T0391   0.707636     Passed  2023   \n",
       "...       ...           ...       ...       ...        ...        ...   ...   \n",
       "8448     1.93  13828.259766       107     T0391  14.094838     Passed  2023   \n",
       "8449     1.93  13691.419922       108     T0391   3.364030     Passed  2023   \n",
       "8450     1.92  13623.940430       105     T0391   2.171779     Failed  2023   \n",
       "8451     1.91  13556.799805       104     T0391   1.702148     Passed  2023   \n",
       "8452     1.93  13703.000000       104     T0391   3.865788     Passed  2023   \n",
       "\n",
       "      month  day     id  \n",
       "0         3   10  Train  \n",
       "1         3   10  Train  \n",
       "2         3   10  Train  \n",
       "3         3   10  Train  \n",
       "4         3   10  Train  \n",
       "...     ...  ...    ...  \n",
       "8448      8    8   Test  \n",
       "8449      8    8   Test  \n",
       "8450      8    8   Test  \n",
       "8451      8    8   Test  \n",
       "8452      8    8   Test  \n",
       "\n",
       "[8453 rows x 15 columns]"
      ]
     },
     "execution_count": 6,
     "metadata": {},
     "output_type": "execute_result"
    }
   ],
   "source": [
    "df"
   ]
  },
  {
   "cell_type": "markdown",
   "id": "268c4430",
   "metadata": {},
   "source": [
    "# prediction for resistance through the linear regression"
   ]
  },
  {
   "cell_type": "code",
   "execution_count": 7,
   "id": "d27c5d91",
   "metadata": {},
   "outputs": [
    {
     "data": {
      "text/plain": [
       "(8453, 15)"
      ]
     },
     "execution_count": 7,
     "metadata": {},
     "output_type": "execute_result"
    }
   ],
   "source": [
    "df.shape"
   ]
  },
  {
   "cell_type": "code",
   "execution_count": 8,
   "id": "179d18b4",
   "metadata": {},
   "outputs": [
    {
     "data": {
      "text/plain": [
       "Unnamed: 0    0\n",
       "Date          0\n",
       "Energy        0\n",
       "Resistance    0\n",
       "Current       0\n",
       "Voltage       0\n",
       "Power         0\n",
       "uipvalue      0\n",
       "weldpoint     0\n",
       "score         0\n",
       "prediction    0\n",
       "year          0\n",
       "month         0\n",
       "day           0\n",
       "id            0\n",
       "dtype: int64"
      ]
     },
     "execution_count": 8,
     "metadata": {},
     "output_type": "execute_result"
    }
   ],
   "source": [
    "df.isna().sum()"
   ]
  },
  {
   "cell_type": "code",
   "execution_count": 9,
   "id": "808fd88a",
   "metadata": {
    "scrolled": true
   },
   "outputs": [
    {
     "data": {
      "text/html": [
       "<div>\n",
       "<style scoped>\n",
       "    .dataframe tbody tr th:only-of-type {\n",
       "        vertical-align: middle;\n",
       "    }\n",
       "\n",
       "    .dataframe tbody tr th {\n",
       "        vertical-align: top;\n",
       "    }\n",
       "\n",
       "    .dataframe thead th {\n",
       "        text-align: right;\n",
       "    }\n",
       "</style>\n",
       "<table border=\"1\" class=\"dataframe\">\n",
       "  <thead>\n",
       "    <tr style=\"text-align: right;\">\n",
       "      <th></th>\n",
       "      <th>Unnamed: 0</th>\n",
       "      <th>Energy</th>\n",
       "      <th>Resistance</th>\n",
       "      <th>Current</th>\n",
       "      <th>Voltage</th>\n",
       "      <th>Power</th>\n",
       "      <th>uipvalue</th>\n",
       "      <th>score</th>\n",
       "      <th>year</th>\n",
       "      <th>month</th>\n",
       "      <th>day</th>\n",
       "    </tr>\n",
       "  </thead>\n",
       "  <tbody>\n",
       "    <tr>\n",
       "      <th>count</th>\n",
       "      <td>8453.000000</td>\n",
       "      <td>8453.000000</td>\n",
       "      <td>8453.000000</td>\n",
       "      <td>8453.000000</td>\n",
       "      <td>8453.000000</td>\n",
       "      <td>8453.000000</td>\n",
       "      <td>8453.000000</td>\n",
       "      <td>8453.000000</td>\n",
       "      <td>8453.0</td>\n",
       "      <td>8453.000000</td>\n",
       "      <td>8453.000000</td>\n",
       "    </tr>\n",
       "    <tr>\n",
       "      <th>mean</th>\n",
       "      <td>58932.415474</td>\n",
       "      <td>5379.251368</td>\n",
       "      <td>274.048622</td>\n",
       "      <td>7.121709</td>\n",
       "      <td>1.900485</td>\n",
       "      <td>13532.508092</td>\n",
       "      <td>101.978942</td>\n",
       "      <td>10.455755</td>\n",
       "      <td>2023.0</td>\n",
       "      <td>4.658346</td>\n",
       "      <td>15.173430</td>\n",
       "    </tr>\n",
       "    <tr>\n",
       "      <th>std</th>\n",
       "      <td>21263.023358</td>\n",
       "      <td>78.602977</td>\n",
       "      <td>3.386469</td>\n",
       "      <td>0.026122</td>\n",
       "      <td>0.026535</td>\n",
       "      <td>207.973221</td>\n",
       "      <td>8.502625</td>\n",
       "      <td>11.625749</td>\n",
       "      <td>0.0</td>\n",
       "      <td>1.667431</td>\n",
       "      <td>8.715896</td>\n",
       "    </tr>\n",
       "    <tr>\n",
       "      <th>min</th>\n",
       "      <td>16645.000000</td>\n",
       "      <td>5030.246094</td>\n",
       "      <td>253.000000</td>\n",
       "      <td>7.090000</td>\n",
       "      <td>1.790000</td>\n",
       "      <td>12703.450195</td>\n",
       "      <td>62.000000</td>\n",
       "      <td>0.095840</td>\n",
       "      <td>2023.0</td>\n",
       "      <td>3.000000</td>\n",
       "      <td>1.000000</td>\n",
       "    </tr>\n",
       "    <tr>\n",
       "      <th>25%</th>\n",
       "      <td>39911.000000</td>\n",
       "      <td>5326.129883</td>\n",
       "      <td>272.000000</td>\n",
       "      <td>7.100000</td>\n",
       "      <td>1.880000</td>\n",
       "      <td>13409.360352</td>\n",
       "      <td>97.000000</td>\n",
       "      <td>3.381011</td>\n",
       "      <td>2023.0</td>\n",
       "      <td>3.000000</td>\n",
       "      <td>8.000000</td>\n",
       "    </tr>\n",
       "    <tr>\n",
       "      <th>50%</th>\n",
       "      <td>58473.000000</td>\n",
       "      <td>5372.984863</td>\n",
       "      <td>274.000000</td>\n",
       "      <td>7.100000</td>\n",
       "      <td>1.900000</td>\n",
       "      <td>13529.750000</td>\n",
       "      <td>102.000000</td>\n",
       "      <td>7.147864</td>\n",
       "      <td>2023.0</td>\n",
       "      <td>4.000000</td>\n",
       "      <td>15.000000</td>\n",
       "    </tr>\n",
       "    <tr>\n",
       "      <th>75%</th>\n",
       "      <td>77522.000000</td>\n",
       "      <td>5425.247070</td>\n",
       "      <td>276.000000</td>\n",
       "      <td>7.130000</td>\n",
       "      <td>1.910000</td>\n",
       "      <td>13671.780273</td>\n",
       "      <td>106.000000</td>\n",
       "      <td>14.244948</td>\n",
       "      <td>2023.0</td>\n",
       "      <td>6.000000</td>\n",
       "      <td>23.000000</td>\n",
       "    </tr>\n",
       "    <tr>\n",
       "      <th>max</th>\n",
       "      <td>94292.000000</td>\n",
       "      <td>5799.580078</td>\n",
       "      <td>291.000000</td>\n",
       "      <td>7.340000</td>\n",
       "      <td>2.040000</td>\n",
       "      <td>14615.160156</td>\n",
       "      <td>141.000000</td>\n",
       "      <td>281.813421</td>\n",
       "      <td>2023.0</td>\n",
       "      <td>8.000000</td>\n",
       "      <td>31.000000</td>\n",
       "    </tr>\n",
       "  </tbody>\n",
       "</table>\n",
       "</div>"
      ],
      "text/plain": [
       "         Unnamed: 0       Energy   Resistance      Current      Voltage  \\\n",
       "count   8453.000000  8453.000000  8453.000000  8453.000000  8453.000000   \n",
       "mean   58932.415474  5379.251368   274.048622     7.121709     1.900485   \n",
       "std    21263.023358    78.602977     3.386469     0.026122     0.026535   \n",
       "min    16645.000000  5030.246094   253.000000     7.090000     1.790000   \n",
       "25%    39911.000000  5326.129883   272.000000     7.100000     1.880000   \n",
       "50%    58473.000000  5372.984863   274.000000     7.100000     1.900000   \n",
       "75%    77522.000000  5425.247070   276.000000     7.130000     1.910000   \n",
       "max    94292.000000  5799.580078   291.000000     7.340000     2.040000   \n",
       "\n",
       "              Power     uipvalue        score    year        month  \\\n",
       "count   8453.000000  8453.000000  8453.000000  8453.0  8453.000000   \n",
       "mean   13532.508092   101.978942    10.455755  2023.0     4.658346   \n",
       "std      207.973221     8.502625    11.625749     0.0     1.667431   \n",
       "min    12703.450195    62.000000     0.095840  2023.0     3.000000   \n",
       "25%    13409.360352    97.000000     3.381011  2023.0     3.000000   \n",
       "50%    13529.750000   102.000000     7.147864  2023.0     4.000000   \n",
       "75%    13671.780273   106.000000    14.244948  2023.0     6.000000   \n",
       "max    14615.160156   141.000000   281.813421  2023.0     8.000000   \n",
       "\n",
       "               day  \n",
       "count  8453.000000  \n",
       "mean     15.173430  \n",
       "std       8.715896  \n",
       "min       1.000000  \n",
       "25%       8.000000  \n",
       "50%      15.000000  \n",
       "75%      23.000000  \n",
       "max      31.000000  "
      ]
     },
     "execution_count": 9,
     "metadata": {},
     "output_type": "execute_result"
    }
   ],
   "source": [
    "df.describe()"
   ]
  },
  {
   "cell_type": "code",
   "execution_count": 10,
   "id": "96f7105e",
   "metadata": {},
   "outputs": [],
   "source": [
    "a=df[[\"Energy\",\"Current\",\"Voltage\",\"Power\"]]"
   ]
  },
  {
   "cell_type": "code",
   "execution_count": 11,
   "id": "a0799410",
   "metadata": {},
   "outputs": [],
   "source": [
    "b=df[\"Resistance\"].values"
   ]
  },
  {
   "cell_type": "code",
   "execution_count": 12,
   "id": "fd5c91f2",
   "metadata": {},
   "outputs": [],
   "source": [
    "from sklearn.model_selection import train_test_split\n",
    "x_train, x_test, y_train, y_test =train_test_split(a,b,test_size=0.2)"
   ]
  },
  {
   "cell_type": "code",
   "execution_count": 13,
   "id": "88aff045",
   "metadata": {},
   "outputs": [
    {
     "data": {
      "text/html": [
       "<style>#sk-container-id-1 {color: black;}#sk-container-id-1 pre{padding: 0;}#sk-container-id-1 div.sk-toggleable {background-color: white;}#sk-container-id-1 label.sk-toggleable__label {cursor: pointer;display: block;width: 100%;margin-bottom: 0;padding: 0.3em;box-sizing: border-box;text-align: center;}#sk-container-id-1 label.sk-toggleable__label-arrow:before {content: \"▸\";float: left;margin-right: 0.25em;color: #696969;}#sk-container-id-1 label.sk-toggleable__label-arrow:hover:before {color: black;}#sk-container-id-1 div.sk-estimator:hover label.sk-toggleable__label-arrow:before {color: black;}#sk-container-id-1 div.sk-toggleable__content {max-height: 0;max-width: 0;overflow: hidden;text-align: left;background-color: #f0f8ff;}#sk-container-id-1 div.sk-toggleable__content pre {margin: 0.2em;color: black;border-radius: 0.25em;background-color: #f0f8ff;}#sk-container-id-1 input.sk-toggleable__control:checked~div.sk-toggleable__content {max-height: 200px;max-width: 100%;overflow: auto;}#sk-container-id-1 input.sk-toggleable__control:checked~label.sk-toggleable__label-arrow:before {content: \"▾\";}#sk-container-id-1 div.sk-estimator input.sk-toggleable__control:checked~label.sk-toggleable__label {background-color: #d4ebff;}#sk-container-id-1 div.sk-label input.sk-toggleable__control:checked~label.sk-toggleable__label {background-color: #d4ebff;}#sk-container-id-1 input.sk-hidden--visually {border: 0;clip: rect(1px 1px 1px 1px);clip: rect(1px, 1px, 1px, 1px);height: 1px;margin: -1px;overflow: hidden;padding: 0;position: absolute;width: 1px;}#sk-container-id-1 div.sk-estimator {font-family: monospace;background-color: #f0f8ff;border: 1px dotted black;border-radius: 0.25em;box-sizing: border-box;margin-bottom: 0.5em;}#sk-container-id-1 div.sk-estimator:hover {background-color: #d4ebff;}#sk-container-id-1 div.sk-parallel-item::after {content: \"\";width: 100%;border-bottom: 1px solid gray;flex-grow: 1;}#sk-container-id-1 div.sk-label:hover label.sk-toggleable__label {background-color: #d4ebff;}#sk-container-id-1 div.sk-serial::before {content: \"\";position: absolute;border-left: 1px solid gray;box-sizing: border-box;top: 0;bottom: 0;left: 50%;z-index: 0;}#sk-container-id-1 div.sk-serial {display: flex;flex-direction: column;align-items: center;background-color: white;padding-right: 0.2em;padding-left: 0.2em;position: relative;}#sk-container-id-1 div.sk-item {position: relative;z-index: 1;}#sk-container-id-1 div.sk-parallel {display: flex;align-items: stretch;justify-content: center;background-color: white;position: relative;}#sk-container-id-1 div.sk-item::before, #sk-container-id-1 div.sk-parallel-item::before {content: \"\";position: absolute;border-left: 1px solid gray;box-sizing: border-box;top: 0;bottom: 0;left: 50%;z-index: -1;}#sk-container-id-1 div.sk-parallel-item {display: flex;flex-direction: column;z-index: 1;position: relative;background-color: white;}#sk-container-id-1 div.sk-parallel-item:first-child::after {align-self: flex-end;width: 50%;}#sk-container-id-1 div.sk-parallel-item:last-child::after {align-self: flex-start;width: 50%;}#sk-container-id-1 div.sk-parallel-item:only-child::after {width: 0;}#sk-container-id-1 div.sk-dashed-wrapped {border: 1px dashed gray;margin: 0 0.4em 0.5em 0.4em;box-sizing: border-box;padding-bottom: 0.4em;background-color: white;}#sk-container-id-1 div.sk-label label {font-family: monospace;font-weight: bold;display: inline-block;line-height: 1.2em;}#sk-container-id-1 div.sk-label-container {text-align: center;}#sk-container-id-1 div.sk-container {/* jupyter's `normalize.less` sets `[hidden] { display: none; }` but bootstrap.min.css set `[hidden] { display: none !important; }` so we also need the `!important` here to be able to override the default hidden behavior on the sphinx rendered scikit-learn.org. See: https://github.com/scikit-learn/scikit-learn/issues/21755 */display: inline-block !important;position: relative;}#sk-container-id-1 div.sk-text-repr-fallback {display: none;}</style><div id=\"sk-container-id-1\" class=\"sk-top-container\"><div class=\"sk-text-repr-fallback\"><pre>LinearRegression()</pre><b>In a Jupyter environment, please rerun this cell to show the HTML representation or trust the notebook. <br />On GitHub, the HTML representation is unable to render, please try loading this page with nbviewer.org.</b></div><div class=\"sk-container\" hidden><div class=\"sk-item\"><div class=\"sk-estimator sk-toggleable\"><input class=\"sk-toggleable__control sk-hidden--visually\" id=\"sk-estimator-id-1\" type=\"checkbox\" checked><label for=\"sk-estimator-id-1\" class=\"sk-toggleable__label sk-toggleable__label-arrow\">LinearRegression</label><div class=\"sk-toggleable__content\"><pre>LinearRegression()</pre></div></div></div></div></div>"
      ],
      "text/plain": [
       "LinearRegression()"
      ]
     },
     "execution_count": 13,
     "metadata": {},
     "output_type": "execute_result"
    }
   ],
   "source": [
    "from sklearn.linear_model import LinearRegression\n",
    "reg=LinearRegression()\n",
    "reg.fit(x_train,y_train)"
   ]
  },
  {
   "cell_type": "code",
   "execution_count": 14,
   "id": "e3d42445",
   "metadata": {},
   "outputs": [],
   "source": [
    "lr_prd=reg.predict(x_test)"
   ]
  },
  {
   "cell_type": "code",
   "execution_count": 15,
   "id": "2c467885",
   "metadata": {},
   "outputs": [
    {
     "data": {
      "text/plain": [
       "array([271.55210248, 282.15423601, 276.13178332, ..., 278.03304625,\n",
       "       270.6610319 , 274.60836176])"
      ]
     },
     "execution_count": 15,
     "metadata": {},
     "output_type": "execute_result"
    }
   ],
   "source": [
    "lr_prd"
   ]
  },
  {
   "cell_type": "code",
   "execution_count": 16,
   "id": "a0d86685",
   "metadata": {},
   "outputs": [
    {
     "data": {
      "text/plain": [
       "0.9403001398998072"
      ]
     },
     "execution_count": 16,
     "metadata": {},
     "output_type": "execute_result"
    }
   ],
   "source": [
    "reg.score(x_test,y_test)"
   ]
  },
  {
   "cell_type": "code",
   "execution_count": null,
   "id": "23f37817",
   "metadata": {},
   "outputs": [],
   "source": []
  },
  {
   "cell_type": "code",
   "execution_count": null,
   "id": "b2573f97",
   "metadata": {},
   "outputs": [],
   "source": []
  },
  {
   "cell_type": "markdown",
   "id": "75386cad",
   "metadata": {},
   "source": [
    "# prediction for pass and fail through the logistic regression"
   ]
  },
  {
   "cell_type": "code",
   "execution_count": 17,
   "id": "f9b9fc4b",
   "metadata": {},
   "outputs": [
    {
     "data": {
      "text/html": [
       "<div>\n",
       "<style scoped>\n",
       "    .dataframe tbody tr th:only-of-type {\n",
       "        vertical-align: middle;\n",
       "    }\n",
       "\n",
       "    .dataframe tbody tr th {\n",
       "        vertical-align: top;\n",
       "    }\n",
       "\n",
       "    .dataframe thead th {\n",
       "        text-align: right;\n",
       "    }\n",
       "</style>\n",
       "<table border=\"1\" class=\"dataframe\">\n",
       "  <thead>\n",
       "    <tr style=\"text-align: right;\">\n",
       "      <th></th>\n",
       "      <th>Unnamed: 0</th>\n",
       "      <th>Date</th>\n",
       "      <th>Energy</th>\n",
       "      <th>Resistance</th>\n",
       "      <th>Current</th>\n",
       "      <th>Voltage</th>\n",
       "      <th>Power</th>\n",
       "      <th>uipvalue</th>\n",
       "      <th>weldpoint</th>\n",
       "      <th>score</th>\n",
       "      <th>prediction</th>\n",
       "      <th>year</th>\n",
       "      <th>month</th>\n",
       "      <th>day</th>\n",
       "      <th>id</th>\n",
       "    </tr>\n",
       "  </thead>\n",
       "  <tbody>\n",
       "    <tr>\n",
       "      <th>0</th>\n",
       "      <td>16645</td>\n",
       "      <td>2023-03-10 16:06:05.180</td>\n",
       "      <td>5279.587891</td>\n",
       "      <td>272.0</td>\n",
       "      <td>7.10</td>\n",
       "      <td>1.88</td>\n",
       "      <td>13342.919922</td>\n",
       "      <td>80</td>\n",
       "      <td>T0391</td>\n",
       "      <td>8.137701</td>\n",
       "      <td>Passed</td>\n",
       "      <td>2023</td>\n",
       "      <td>3</td>\n",
       "      <td>10</td>\n",
       "      <td>Train</td>\n",
       "    </tr>\n",
       "    <tr>\n",
       "      <th>1</th>\n",
       "      <td>16650</td>\n",
       "      <td>2023-03-10 16:06:59.390</td>\n",
       "      <td>5284.775879</td>\n",
       "      <td>270.0</td>\n",
       "      <td>7.13</td>\n",
       "      <td>1.84</td>\n",
       "      <td>13123.620117</td>\n",
       "      <td>96</td>\n",
       "      <td>T0391</td>\n",
       "      <td>15.128845</td>\n",
       "      <td>Passed</td>\n",
       "      <td>2023</td>\n",
       "      <td>3</td>\n",
       "      <td>10</td>\n",
       "      <td>Train</td>\n",
       "    </tr>\n",
       "    <tr>\n",
       "      <th>2</th>\n",
       "      <td>16651</td>\n",
       "      <td>2023-03-10 16:00:49.570</td>\n",
       "      <td>5229.563965</td>\n",
       "      <td>267.0</td>\n",
       "      <td>7.15</td>\n",
       "      <td>1.85</td>\n",
       "      <td>13218.250000</td>\n",
       "      <td>69</td>\n",
       "      <td>T0391</td>\n",
       "      <td>39.734211</td>\n",
       "      <td>Failed</td>\n",
       "      <td>2023</td>\n",
       "      <td>3</td>\n",
       "      <td>10</td>\n",
       "      <td>Train</td>\n",
       "    </tr>\n",
       "    <tr>\n",
       "      <th>3</th>\n",
       "      <td>16660</td>\n",
       "      <td>2023-03-10 16:44:37.850</td>\n",
       "      <td>5402.745117</td>\n",
       "      <td>273.0</td>\n",
       "      <td>7.16</td>\n",
       "      <td>1.90</td>\n",
       "      <td>13602.860352</td>\n",
       "      <td>93</td>\n",
       "      <td>T0391</td>\n",
       "      <td>16.287536</td>\n",
       "      <td>Passed</td>\n",
       "      <td>2023</td>\n",
       "      <td>3</td>\n",
       "      <td>10</td>\n",
       "      <td>Train</td>\n",
       "    </tr>\n",
       "    <tr>\n",
       "      <th>4</th>\n",
       "      <td>16661</td>\n",
       "      <td>2023-03-10 16:45:25.860</td>\n",
       "      <td>5341.735840</td>\n",
       "      <td>274.0</td>\n",
       "      <td>7.10</td>\n",
       "      <td>1.89</td>\n",
       "      <td>13413.139648</td>\n",
       "      <td>95</td>\n",
       "      <td>T0391</td>\n",
       "      <td>0.707636</td>\n",
       "      <td>Passed</td>\n",
       "      <td>2023</td>\n",
       "      <td>3</td>\n",
       "      <td>10</td>\n",
       "      <td>Train</td>\n",
       "    </tr>\n",
       "    <tr>\n",
       "      <th>...</th>\n",
       "      <td>...</td>\n",
       "      <td>...</td>\n",
       "      <td>...</td>\n",
       "      <td>...</td>\n",
       "      <td>...</td>\n",
       "      <td>...</td>\n",
       "      <td>...</td>\n",
       "      <td>...</td>\n",
       "      <td>...</td>\n",
       "      <td>...</td>\n",
       "      <td>...</td>\n",
       "      <td>...</td>\n",
       "      <td>...</td>\n",
       "      <td>...</td>\n",
       "      <td>...</td>\n",
       "    </tr>\n",
       "    <tr>\n",
       "      <th>8448</th>\n",
       "      <td>94288</td>\n",
       "      <td>2023-08-08 14:11:31.360</td>\n",
       "      <td>5510.055176</td>\n",
       "      <td>277.0</td>\n",
       "      <td>7.16</td>\n",
       "      <td>1.93</td>\n",
       "      <td>13828.259766</td>\n",
       "      <td>107</td>\n",
       "      <td>T0391</td>\n",
       "      <td>14.094838</td>\n",
       "      <td>Passed</td>\n",
       "      <td>2023</td>\n",
       "      <td>8</td>\n",
       "      <td>8</td>\n",
       "      <td>Test</td>\n",
       "    </tr>\n",
       "    <tr>\n",
       "      <th>8449</th>\n",
       "      <td>94289</td>\n",
       "      <td>2023-08-08 14:00:20.180</td>\n",
       "      <td>5404.756836</td>\n",
       "      <td>277.0</td>\n",
       "      <td>7.09</td>\n",
       "      <td>1.93</td>\n",
       "      <td>13691.419922</td>\n",
       "      <td>108</td>\n",
       "      <td>T0391</td>\n",
       "      <td>3.364030</td>\n",
       "      <td>Passed</td>\n",
       "      <td>2023</td>\n",
       "      <td>8</td>\n",
       "      <td>8</td>\n",
       "      <td>Test</td>\n",
       "    </tr>\n",
       "    <tr>\n",
       "      <th>8450</th>\n",
       "      <td>94290</td>\n",
       "      <td>2023-08-08 14:01:13.470</td>\n",
       "      <td>5384.125000</td>\n",
       "      <td>276.0</td>\n",
       "      <td>7.10</td>\n",
       "      <td>1.92</td>\n",
       "      <td>13623.940430</td>\n",
       "      <td>105</td>\n",
       "      <td>T0391</td>\n",
       "      <td>2.171779</td>\n",
       "      <td>Failed</td>\n",
       "      <td>2023</td>\n",
       "      <td>8</td>\n",
       "      <td>8</td>\n",
       "      <td>Test</td>\n",
       "    </tr>\n",
       "    <tr>\n",
       "      <th>8451</th>\n",
       "      <td>94291</td>\n",
       "      <td>2023-08-08 14:06:30.710</td>\n",
       "      <td>5395.432129</td>\n",
       "      <td>277.0</td>\n",
       "      <td>7.10</td>\n",
       "      <td>1.91</td>\n",
       "      <td>13556.799805</td>\n",
       "      <td>104</td>\n",
       "      <td>T0391</td>\n",
       "      <td>1.702148</td>\n",
       "      <td>Passed</td>\n",
       "      <td>2023</td>\n",
       "      <td>8</td>\n",
       "      <td>8</td>\n",
       "      <td>Test</td>\n",
       "    </tr>\n",
       "    <tr>\n",
       "      <th>8452</th>\n",
       "      <td>94292</td>\n",
       "      <td>2023-08-08 14:07:19.430</td>\n",
       "      <td>5414.668945</td>\n",
       "      <td>278.0</td>\n",
       "      <td>7.10</td>\n",
       "      <td>1.93</td>\n",
       "      <td>13703.000000</td>\n",
       "      <td>104</td>\n",
       "      <td>T0391</td>\n",
       "      <td>3.865788</td>\n",
       "      <td>Passed</td>\n",
       "      <td>2023</td>\n",
       "      <td>8</td>\n",
       "      <td>8</td>\n",
       "      <td>Test</td>\n",
       "    </tr>\n",
       "  </tbody>\n",
       "</table>\n",
       "<p>8453 rows × 15 columns</p>\n",
       "</div>"
      ],
      "text/plain": [
       "      Unnamed: 0                     Date       Energy  Resistance  Current  \\\n",
       "0          16645  2023-03-10 16:06:05.180  5279.587891       272.0     7.10   \n",
       "1          16650  2023-03-10 16:06:59.390  5284.775879       270.0     7.13   \n",
       "2          16651  2023-03-10 16:00:49.570  5229.563965       267.0     7.15   \n",
       "3          16660  2023-03-10 16:44:37.850  5402.745117       273.0     7.16   \n",
       "4          16661  2023-03-10 16:45:25.860  5341.735840       274.0     7.10   \n",
       "...          ...                      ...          ...         ...      ...   \n",
       "8448       94288  2023-08-08 14:11:31.360  5510.055176       277.0     7.16   \n",
       "8449       94289  2023-08-08 14:00:20.180  5404.756836       277.0     7.09   \n",
       "8450       94290  2023-08-08 14:01:13.470  5384.125000       276.0     7.10   \n",
       "8451       94291  2023-08-08 14:06:30.710  5395.432129       277.0     7.10   \n",
       "8452       94292  2023-08-08 14:07:19.430  5414.668945       278.0     7.10   \n",
       "\n",
       "      Voltage         Power  uipvalue weldpoint      score prediction  year  \\\n",
       "0        1.88  13342.919922        80     T0391   8.137701     Passed  2023   \n",
       "1        1.84  13123.620117        96     T0391  15.128845     Passed  2023   \n",
       "2        1.85  13218.250000        69     T0391  39.734211     Failed  2023   \n",
       "3        1.90  13602.860352        93     T0391  16.287536     Passed  2023   \n",
       "4        1.89  13413.139648        95     T0391   0.707636     Passed  2023   \n",
       "...       ...           ...       ...       ...        ...        ...   ...   \n",
       "8448     1.93  13828.259766       107     T0391  14.094838     Passed  2023   \n",
       "8449     1.93  13691.419922       108     T0391   3.364030     Passed  2023   \n",
       "8450     1.92  13623.940430       105     T0391   2.171779     Failed  2023   \n",
       "8451     1.91  13556.799805       104     T0391   1.702148     Passed  2023   \n",
       "8452     1.93  13703.000000       104     T0391   3.865788     Passed  2023   \n",
       "\n",
       "      month  day     id  \n",
       "0         3   10  Train  \n",
       "1         3   10  Train  \n",
       "2         3   10  Train  \n",
       "3         3   10  Train  \n",
       "4         3   10  Train  \n",
       "...     ...  ...    ...  \n",
       "8448      8    8   Test  \n",
       "8449      8    8   Test  \n",
       "8450      8    8   Test  \n",
       "8451      8    8   Test  \n",
       "8452      8    8   Test  \n",
       "\n",
       "[8453 rows x 15 columns]"
      ]
     },
     "execution_count": 17,
     "metadata": {},
     "output_type": "execute_result"
    }
   ],
   "source": [
    "df"
   ]
  },
  {
   "cell_type": "code",
   "execution_count": 18,
   "id": "dc0bc464",
   "metadata": {},
   "outputs": [
    {
     "data": {
      "text/plain": [
       "prediction\n",
       "1    6379\n",
       "0    2074\n",
       "Name: count, dtype: int64"
      ]
     },
     "execution_count": 18,
     "metadata": {},
     "output_type": "execute_result"
    }
   ],
   "source": [
    "from sklearn import preprocessing                    \n",
    "label_encoder= preprocessing.LabelEncoder()          \n",
    "df['prediction'] = label_encoder.fit_transform(df['prediction'])     \n",
    "df['prediction'].value_counts()"
   ]
  },
  {
   "cell_type": "code",
   "execution_count": 19,
   "id": "6b269830",
   "metadata": {},
   "outputs": [],
   "source": [
    "x=df[[\"Energy\",\"Resistance\",\"Current\",\"Voltage\",\"Power\",\"uipvalue\",\"score\",\"year\",\"month\",\"day\"]]"
   ]
  },
  {
   "cell_type": "code",
   "execution_count": 20,
   "id": "d4791104",
   "metadata": {},
   "outputs": [],
   "source": [
    "y=df[\"prediction\"].values"
   ]
  },
  {
   "cell_type": "code",
   "execution_count": 21,
   "id": "cb570dce",
   "metadata": {},
   "outputs": [],
   "source": [
    "from sklearn.model_selection import train_test_split\n",
    "X_train, X_test, Y_train, Y_test=train_test_split(x,y,test_size=0.3,random_state=0)"
   ]
  },
  {
   "cell_type": "code",
   "execution_count": 22,
   "id": "b7f75b5b",
   "metadata": {},
   "outputs": [
    {
     "data": {
      "text/html": [
       "<style>#sk-container-id-2 {color: black;}#sk-container-id-2 pre{padding: 0;}#sk-container-id-2 div.sk-toggleable {background-color: white;}#sk-container-id-2 label.sk-toggleable__label {cursor: pointer;display: block;width: 100%;margin-bottom: 0;padding: 0.3em;box-sizing: border-box;text-align: center;}#sk-container-id-2 label.sk-toggleable__label-arrow:before {content: \"▸\";float: left;margin-right: 0.25em;color: #696969;}#sk-container-id-2 label.sk-toggleable__label-arrow:hover:before {color: black;}#sk-container-id-2 div.sk-estimator:hover label.sk-toggleable__label-arrow:before {color: black;}#sk-container-id-2 div.sk-toggleable__content {max-height: 0;max-width: 0;overflow: hidden;text-align: left;background-color: #f0f8ff;}#sk-container-id-2 div.sk-toggleable__content pre {margin: 0.2em;color: black;border-radius: 0.25em;background-color: #f0f8ff;}#sk-container-id-2 input.sk-toggleable__control:checked~div.sk-toggleable__content {max-height: 200px;max-width: 100%;overflow: auto;}#sk-container-id-2 input.sk-toggleable__control:checked~label.sk-toggleable__label-arrow:before {content: \"▾\";}#sk-container-id-2 div.sk-estimator input.sk-toggleable__control:checked~label.sk-toggleable__label {background-color: #d4ebff;}#sk-container-id-2 div.sk-label input.sk-toggleable__control:checked~label.sk-toggleable__label {background-color: #d4ebff;}#sk-container-id-2 input.sk-hidden--visually {border: 0;clip: rect(1px 1px 1px 1px);clip: rect(1px, 1px, 1px, 1px);height: 1px;margin: -1px;overflow: hidden;padding: 0;position: absolute;width: 1px;}#sk-container-id-2 div.sk-estimator {font-family: monospace;background-color: #f0f8ff;border: 1px dotted black;border-radius: 0.25em;box-sizing: border-box;margin-bottom: 0.5em;}#sk-container-id-2 div.sk-estimator:hover {background-color: #d4ebff;}#sk-container-id-2 div.sk-parallel-item::after {content: \"\";width: 100%;border-bottom: 1px solid gray;flex-grow: 1;}#sk-container-id-2 div.sk-label:hover label.sk-toggleable__label {background-color: #d4ebff;}#sk-container-id-2 div.sk-serial::before {content: \"\";position: absolute;border-left: 1px solid gray;box-sizing: border-box;top: 0;bottom: 0;left: 50%;z-index: 0;}#sk-container-id-2 div.sk-serial {display: flex;flex-direction: column;align-items: center;background-color: white;padding-right: 0.2em;padding-left: 0.2em;position: relative;}#sk-container-id-2 div.sk-item {position: relative;z-index: 1;}#sk-container-id-2 div.sk-parallel {display: flex;align-items: stretch;justify-content: center;background-color: white;position: relative;}#sk-container-id-2 div.sk-item::before, #sk-container-id-2 div.sk-parallel-item::before {content: \"\";position: absolute;border-left: 1px solid gray;box-sizing: border-box;top: 0;bottom: 0;left: 50%;z-index: -1;}#sk-container-id-2 div.sk-parallel-item {display: flex;flex-direction: column;z-index: 1;position: relative;background-color: white;}#sk-container-id-2 div.sk-parallel-item:first-child::after {align-self: flex-end;width: 50%;}#sk-container-id-2 div.sk-parallel-item:last-child::after {align-self: flex-start;width: 50%;}#sk-container-id-2 div.sk-parallel-item:only-child::after {width: 0;}#sk-container-id-2 div.sk-dashed-wrapped {border: 1px dashed gray;margin: 0 0.4em 0.5em 0.4em;box-sizing: border-box;padding-bottom: 0.4em;background-color: white;}#sk-container-id-2 div.sk-label label {font-family: monospace;font-weight: bold;display: inline-block;line-height: 1.2em;}#sk-container-id-2 div.sk-label-container {text-align: center;}#sk-container-id-2 div.sk-container {/* jupyter's `normalize.less` sets `[hidden] { display: none; }` but bootstrap.min.css set `[hidden] { display: none !important; }` so we also need the `!important` here to be able to override the default hidden behavior on the sphinx rendered scikit-learn.org. See: https://github.com/scikit-learn/scikit-learn/issues/21755 */display: inline-block !important;position: relative;}#sk-container-id-2 div.sk-text-repr-fallback {display: none;}</style><div id=\"sk-container-id-2\" class=\"sk-top-container\"><div class=\"sk-text-repr-fallback\"><pre>LogisticRegression()</pre><b>In a Jupyter environment, please rerun this cell to show the HTML representation or trust the notebook. <br />On GitHub, the HTML representation is unable to render, please try loading this page with nbviewer.org.</b></div><div class=\"sk-container\" hidden><div class=\"sk-item\"><div class=\"sk-estimator sk-toggleable\"><input class=\"sk-toggleable__control sk-hidden--visually\" id=\"sk-estimator-id-2\" type=\"checkbox\" checked><label for=\"sk-estimator-id-2\" class=\"sk-toggleable__label sk-toggleable__label-arrow\">LogisticRegression</label><div class=\"sk-toggleable__content\"><pre>LogisticRegression()</pre></div></div></div></div></div>"
      ],
      "text/plain": [
       "LogisticRegression()"
      ]
     },
     "execution_count": 22,
     "metadata": {},
     "output_type": "execute_result"
    }
   ],
   "source": [
    "from sklearn.linear_model import LogisticRegression\n",
    "lr=LogisticRegression()\n",
    "lr.fit(X_train,Y_train)"
   ]
  },
  {
   "cell_type": "code",
   "execution_count": 23,
   "id": "415f8221",
   "metadata": {},
   "outputs": [],
   "source": [
    "lr_prd1=lr.predict(X_test)"
   ]
  },
  {
   "cell_type": "code",
   "execution_count": 24,
   "id": "6d82d17c",
   "metadata": {},
   "outputs": [
    {
     "data": {
      "text/plain": [
       "array([1, 1, 1, ..., 1, 0, 1])"
      ]
     },
     "execution_count": 24,
     "metadata": {},
     "output_type": "execute_result"
    }
   ],
   "source": [
    "lr_prd1"
   ]
  },
  {
   "cell_type": "code",
   "execution_count": 25,
   "id": "3a9efcd7",
   "metadata": {},
   "outputs": [
    {
     "data": {
      "text/plain": [
       "0.8276813880126183"
      ]
     },
     "execution_count": 25,
     "metadata": {},
     "output_type": "execute_result"
    }
   ],
   "source": [
    "from sklearn.metrics import accuracy_score\n",
    "accuracy_score(Y_test,lr_prd1)"
   ]
  },
  {
   "cell_type": "code",
   "execution_count": 26,
   "id": "e92d72ed",
   "metadata": {},
   "outputs": [
    {
     "name": "stdout",
     "output_type": "stream",
     "text": [
      "['pass' 'pass' 'pass' ... 'pass' 'fail' 'pass']\n"
     ]
    }
   ],
   "source": [
    "# lr_prd1 contains predictions (0 or 1)\n",
    "pass_fail_labels = np.where(lr_prd1 == 1, \"pass\", \"fail\")\n",
    "\n",
    "#  pass_fail_labels contains \"pass\" for 1 and \"fail\" for 0\n",
    "print(pass_fail_labels)"
   ]
  },
  {
   "cell_type": "code",
   "execution_count": null,
   "id": "dc1b4608",
   "metadata": {},
   "outputs": [],
   "source": []
  },
  {
   "cell_type": "code",
   "execution_count": null,
   "id": "3e9795f8",
   "metadata": {},
   "outputs": [],
   "source": []
  },
  {
   "cell_type": "markdown",
   "id": "48670635",
   "metadata": {},
   "source": [
    "# TASK-2"
   ]
  },
  {
   "cell_type": "code",
   "execution_count": null,
   "id": "1b323daa",
   "metadata": {},
   "outputs": [],
   "source": []
  },
  {
   "cell_type": "markdown",
   "id": "d2132f71",
   "metadata": {},
   "source": [
    "# ONE MORE Different DATA SET APPLYING THE MODEL"
   ]
  },
  {
   "cell_type": "markdown",
   "id": "6e891c0f",
   "metadata": {},
   "source": [
    "### prediction for hours"
   ]
  },
  {
   "cell_type": "code",
   "execution_count": 27,
   "id": "fc7e8282",
   "metadata": {},
   "outputs": [],
   "source": [
    "pf=pd.read_csv(r\"C:\\Users\\RAHUL\\Desktop\\kaggledata\\newtask.csv\")"
   ]
  },
  {
   "cell_type": "code",
   "execution_count": 28,
   "id": "8f63977e",
   "metadata": {},
   "outputs": [
    {
     "data": {
      "text/html": [
       "<div>\n",
       "<style scoped>\n",
       "    .dataframe tbody tr th:only-of-type {\n",
       "        vertical-align: middle;\n",
       "    }\n",
       "\n",
       "    .dataframe tbody tr th {\n",
       "        vertical-align: top;\n",
       "    }\n",
       "\n",
       "    .dataframe thead th {\n",
       "        text-align: right;\n",
       "    }\n",
       "</style>\n",
       "<table border=\"1\" class=\"dataframe\">\n",
       "  <thead>\n",
       "    <tr style=\"text-align: right;\">\n",
       "      <th></th>\n",
       "      <th>Unnamed: 0.1</th>\n",
       "      <th>Unnamed: 0</th>\n",
       "      <th>classes</th>\n",
       "      <th>attend_date</th>\n",
       "      <th>job</th>\n",
       "      <th>code</th>\n",
       "      <th>cost</th>\n",
       "      <th>hours</th>\n",
       "    </tr>\n",
       "  </thead>\n",
       "  <tbody>\n",
       "    <tr>\n",
       "      <th>0</th>\n",
       "      <td>1</td>\n",
       "      <td>1</td>\n",
       "      <td>AEP</td>\n",
       "      <td>2023-11-10</td>\n",
       "      <td>LSS</td>\n",
       "      <td>ABS</td>\n",
       "      <td>1</td>\n",
       "      <td>8.0</td>\n",
       "    </tr>\n",
       "    <tr>\n",
       "      <th>1</th>\n",
       "      <td>18</td>\n",
       "      <td>19</td>\n",
       "      <td>AAP</td>\n",
       "      <td>2023-10-05</td>\n",
       "      <td>PA</td>\n",
       "      <td>PTO</td>\n",
       "      <td>1</td>\n",
       "      <td>4.0</td>\n",
       "    </tr>\n",
       "    <tr>\n",
       "      <th>2</th>\n",
       "      <td>42</td>\n",
       "      <td>45</td>\n",
       "      <td>AEP</td>\n",
       "      <td>2023-10-25</td>\n",
       "      <td>PA</td>\n",
       "      <td>ABS</td>\n",
       "      <td>1</td>\n",
       "      <td>8.0</td>\n",
       "    </tr>\n",
       "    <tr>\n",
       "      <th>3</th>\n",
       "      <td>54</td>\n",
       "      <td>57</td>\n",
       "      <td>AAP</td>\n",
       "      <td>2023-10-31</td>\n",
       "      <td>PA</td>\n",
       "      <td>ABS</td>\n",
       "      <td>5</td>\n",
       "      <td>40.0</td>\n",
       "    </tr>\n",
       "    <tr>\n",
       "      <th>4</th>\n",
       "      <td>59</td>\n",
       "      <td>62</td>\n",
       "      <td>MAP</td>\n",
       "      <td>2023-10-23</td>\n",
       "      <td>PA</td>\n",
       "      <td>ABS</td>\n",
       "      <td>9</td>\n",
       "      <td>72.0</td>\n",
       "    </tr>\n",
       "    <tr>\n",
       "      <th>...</th>\n",
       "      <td>...</td>\n",
       "      <td>...</td>\n",
       "      <td>...</td>\n",
       "      <td>...</td>\n",
       "      <td>...</td>\n",
       "      <td>...</td>\n",
       "      <td>...</td>\n",
       "      <td>...</td>\n",
       "    </tr>\n",
       "    <tr>\n",
       "      <th>19591</th>\n",
       "      <td>396799</td>\n",
       "      <td>22274</td>\n",
       "      <td>AEP</td>\n",
       "      <td>2023-10-06</td>\n",
       "      <td>PMA</td>\n",
       "      <td>PTO</td>\n",
       "      <td>1</td>\n",
       "      <td>8.0</td>\n",
       "    </tr>\n",
       "    <tr>\n",
       "      <th>19592</th>\n",
       "      <td>396804</td>\n",
       "      <td>22279</td>\n",
       "      <td>MAP</td>\n",
       "      <td>2023-10-24</td>\n",
       "      <td>LSS</td>\n",
       "      <td>ABS</td>\n",
       "      <td>1</td>\n",
       "      <td>8.0</td>\n",
       "    </tr>\n",
       "    <tr>\n",
       "      <th>19593</th>\n",
       "      <td>396848</td>\n",
       "      <td>22330</td>\n",
       "      <td>AEP</td>\n",
       "      <td>2023-10-12</td>\n",
       "      <td>PA</td>\n",
       "      <td>PTO</td>\n",
       "      <td>2</td>\n",
       "      <td>16.0</td>\n",
       "    </tr>\n",
       "    <tr>\n",
       "      <th>19594</th>\n",
       "      <td>396853</td>\n",
       "      <td>22336</td>\n",
       "      <td>TPO</td>\n",
       "      <td>2023-10-13</td>\n",
       "      <td>PAN</td>\n",
       "      <td>ABS</td>\n",
       "      <td>1</td>\n",
       "      <td>8.0</td>\n",
       "    </tr>\n",
       "    <tr>\n",
       "      <th>19595</th>\n",
       "      <td>396860</td>\n",
       "      <td>22343</td>\n",
       "      <td>IAP</td>\n",
       "      <td>2023-10-06</td>\n",
       "      <td>PA</td>\n",
       "      <td>ABS</td>\n",
       "      <td>1</td>\n",
       "      <td>8.0</td>\n",
       "    </tr>\n",
       "  </tbody>\n",
       "</table>\n",
       "<p>19596 rows × 8 columns</p>\n",
       "</div>"
      ],
      "text/plain": [
       "       Unnamed: 0.1  Unnamed: 0 classes attend_date  job code  cost  hours\n",
       "0                 1           1     AEP  2023-11-10  LSS  ABS     1    8.0\n",
       "1                18          19     AAP  2023-10-05   PA  PTO     1    4.0\n",
       "2                42          45     AEP  2023-10-25   PA  ABS     1    8.0\n",
       "3                54          57     AAP  2023-10-31   PA  ABS     5   40.0\n",
       "4                59          62     MAP  2023-10-23   PA  ABS     9   72.0\n",
       "...             ...         ...     ...         ...  ...  ...   ...    ...\n",
       "19591        396799       22274     AEP  2023-10-06  PMA  PTO     1    8.0\n",
       "19592        396804       22279     MAP  2023-10-24  LSS  ABS     1    8.0\n",
       "19593        396848       22330     AEP  2023-10-12   PA  PTO     2   16.0\n",
       "19594        396853       22336     TPO  2023-10-13  PAN  ABS     1    8.0\n",
       "19595        396860       22343     IAP  2023-10-06   PA  ABS     1    8.0\n",
       "\n",
       "[19596 rows x 8 columns]"
      ]
     },
     "execution_count": 28,
     "metadata": {},
     "output_type": "execute_result"
    }
   ],
   "source": [
    "pf"
   ]
  },
  {
   "cell_type": "code",
   "execution_count": 29,
   "id": "3bb16162",
   "metadata": {},
   "outputs": [
    {
     "name": "stdout",
     "output_type": "stream",
     "text": [
      "      attend_date  year  month  day\n",
      "0      2023-11-10  2023     11   10\n",
      "1      2023-10-05  2023     10    5\n",
      "2      2023-10-25  2023     10   25\n",
      "3      2023-10-31  2023     10   31\n",
      "4      2023-10-23  2023     10   23\n",
      "...           ...   ...    ...  ...\n",
      "19591  2023-10-06  2023     10    6\n",
      "19592  2023-10-24  2023     10   24\n",
      "19593  2023-10-12  2023     10   12\n",
      "19594  2023-10-13  2023     10   13\n",
      "19595  2023-10-06  2023     10    6\n",
      "\n",
      "[19596 rows x 4 columns]\n"
     ]
    }
   ],
   "source": [
    "pf['attend_date'] = pd.to_datetime(pf['attend_date'])\n",
    "\n",
    "# Extract year, month, and day into separate columns\n",
    "pf['year'] = pf['attend_date'].dt.year\n",
    "pf['month'] = pf['attend_date'].dt.month\n",
    "pf['day'] = pf['attend_date'].dt.day\n",
    "\n",
    "# Display the resulting DataFrame\n",
    "print(pf[['attend_date', 'year', 'month','day']])"
   ]
  },
  {
   "cell_type": "code",
   "execution_count": 30,
   "id": "7cfe31e1",
   "metadata": {},
   "outputs": [
    {
     "data": {
      "text/html": [
       "<div>\n",
       "<style scoped>\n",
       "    .dataframe tbody tr th:only-of-type {\n",
       "        vertical-align: middle;\n",
       "    }\n",
       "\n",
       "    .dataframe tbody tr th {\n",
       "        vertical-align: top;\n",
       "    }\n",
       "\n",
       "    .dataframe thead th {\n",
       "        text-align: right;\n",
       "    }\n",
       "</style>\n",
       "<table border=\"1\" class=\"dataframe\">\n",
       "  <thead>\n",
       "    <tr style=\"text-align: right;\">\n",
       "      <th></th>\n",
       "      <th>Unnamed: 0.1</th>\n",
       "      <th>Unnamed: 0</th>\n",
       "      <th>classes</th>\n",
       "      <th>attend_date</th>\n",
       "      <th>job</th>\n",
       "      <th>code</th>\n",
       "      <th>cost</th>\n",
       "      <th>hours</th>\n",
       "      <th>year</th>\n",
       "      <th>month</th>\n",
       "      <th>day</th>\n",
       "    </tr>\n",
       "  </thead>\n",
       "  <tbody>\n",
       "    <tr>\n",
       "      <th>0</th>\n",
       "      <td>1</td>\n",
       "      <td>1</td>\n",
       "      <td>AEP</td>\n",
       "      <td>2023-11-10</td>\n",
       "      <td>LSS</td>\n",
       "      <td>ABS</td>\n",
       "      <td>1</td>\n",
       "      <td>8.0</td>\n",
       "      <td>2023</td>\n",
       "      <td>11</td>\n",
       "      <td>10</td>\n",
       "    </tr>\n",
       "    <tr>\n",
       "      <th>1</th>\n",
       "      <td>18</td>\n",
       "      <td>19</td>\n",
       "      <td>AAP</td>\n",
       "      <td>2023-10-05</td>\n",
       "      <td>PA</td>\n",
       "      <td>PTO</td>\n",
       "      <td>1</td>\n",
       "      <td>4.0</td>\n",
       "      <td>2023</td>\n",
       "      <td>10</td>\n",
       "      <td>5</td>\n",
       "    </tr>\n",
       "    <tr>\n",
       "      <th>2</th>\n",
       "      <td>42</td>\n",
       "      <td>45</td>\n",
       "      <td>AEP</td>\n",
       "      <td>2023-10-25</td>\n",
       "      <td>PA</td>\n",
       "      <td>ABS</td>\n",
       "      <td>1</td>\n",
       "      <td>8.0</td>\n",
       "      <td>2023</td>\n",
       "      <td>10</td>\n",
       "      <td>25</td>\n",
       "    </tr>\n",
       "    <tr>\n",
       "      <th>3</th>\n",
       "      <td>54</td>\n",
       "      <td>57</td>\n",
       "      <td>AAP</td>\n",
       "      <td>2023-10-31</td>\n",
       "      <td>PA</td>\n",
       "      <td>ABS</td>\n",
       "      <td>5</td>\n",
       "      <td>40.0</td>\n",
       "      <td>2023</td>\n",
       "      <td>10</td>\n",
       "      <td>31</td>\n",
       "    </tr>\n",
       "    <tr>\n",
       "      <th>4</th>\n",
       "      <td>59</td>\n",
       "      <td>62</td>\n",
       "      <td>MAP</td>\n",
       "      <td>2023-10-23</td>\n",
       "      <td>PA</td>\n",
       "      <td>ABS</td>\n",
       "      <td>9</td>\n",
       "      <td>72.0</td>\n",
       "      <td>2023</td>\n",
       "      <td>10</td>\n",
       "      <td>23</td>\n",
       "    </tr>\n",
       "    <tr>\n",
       "      <th>...</th>\n",
       "      <td>...</td>\n",
       "      <td>...</td>\n",
       "      <td>...</td>\n",
       "      <td>...</td>\n",
       "      <td>...</td>\n",
       "      <td>...</td>\n",
       "      <td>...</td>\n",
       "      <td>...</td>\n",
       "      <td>...</td>\n",
       "      <td>...</td>\n",
       "      <td>...</td>\n",
       "    </tr>\n",
       "    <tr>\n",
       "      <th>19591</th>\n",
       "      <td>396799</td>\n",
       "      <td>22274</td>\n",
       "      <td>AEP</td>\n",
       "      <td>2023-10-06</td>\n",
       "      <td>PMA</td>\n",
       "      <td>PTO</td>\n",
       "      <td>1</td>\n",
       "      <td>8.0</td>\n",
       "      <td>2023</td>\n",
       "      <td>10</td>\n",
       "      <td>6</td>\n",
       "    </tr>\n",
       "    <tr>\n",
       "      <th>19592</th>\n",
       "      <td>396804</td>\n",
       "      <td>22279</td>\n",
       "      <td>MAP</td>\n",
       "      <td>2023-10-24</td>\n",
       "      <td>LSS</td>\n",
       "      <td>ABS</td>\n",
       "      <td>1</td>\n",
       "      <td>8.0</td>\n",
       "      <td>2023</td>\n",
       "      <td>10</td>\n",
       "      <td>24</td>\n",
       "    </tr>\n",
       "    <tr>\n",
       "      <th>19593</th>\n",
       "      <td>396848</td>\n",
       "      <td>22330</td>\n",
       "      <td>AEP</td>\n",
       "      <td>2023-10-12</td>\n",
       "      <td>PA</td>\n",
       "      <td>PTO</td>\n",
       "      <td>2</td>\n",
       "      <td>16.0</td>\n",
       "      <td>2023</td>\n",
       "      <td>10</td>\n",
       "      <td>12</td>\n",
       "    </tr>\n",
       "    <tr>\n",
       "      <th>19594</th>\n",
       "      <td>396853</td>\n",
       "      <td>22336</td>\n",
       "      <td>TPO</td>\n",
       "      <td>2023-10-13</td>\n",
       "      <td>PAN</td>\n",
       "      <td>ABS</td>\n",
       "      <td>1</td>\n",
       "      <td>8.0</td>\n",
       "      <td>2023</td>\n",
       "      <td>10</td>\n",
       "      <td>13</td>\n",
       "    </tr>\n",
       "    <tr>\n",
       "      <th>19595</th>\n",
       "      <td>396860</td>\n",
       "      <td>22343</td>\n",
       "      <td>IAP</td>\n",
       "      <td>2023-10-06</td>\n",
       "      <td>PA</td>\n",
       "      <td>ABS</td>\n",
       "      <td>1</td>\n",
       "      <td>8.0</td>\n",
       "      <td>2023</td>\n",
       "      <td>10</td>\n",
       "      <td>6</td>\n",
       "    </tr>\n",
       "  </tbody>\n",
       "</table>\n",
       "<p>19596 rows × 11 columns</p>\n",
       "</div>"
      ],
      "text/plain": [
       "       Unnamed: 0.1  Unnamed: 0 classes attend_date  job code  cost  hours  \\\n",
       "0                 1           1     AEP  2023-11-10  LSS  ABS     1    8.0   \n",
       "1                18          19     AAP  2023-10-05   PA  PTO     1    4.0   \n",
       "2                42          45     AEP  2023-10-25   PA  ABS     1    8.0   \n",
       "3                54          57     AAP  2023-10-31   PA  ABS     5   40.0   \n",
       "4                59          62     MAP  2023-10-23   PA  ABS     9   72.0   \n",
       "...             ...         ...     ...         ...  ...  ...   ...    ...   \n",
       "19591        396799       22274     AEP  2023-10-06  PMA  PTO     1    8.0   \n",
       "19592        396804       22279     MAP  2023-10-24  LSS  ABS     1    8.0   \n",
       "19593        396848       22330     AEP  2023-10-12   PA  PTO     2   16.0   \n",
       "19594        396853       22336     TPO  2023-10-13  PAN  ABS     1    8.0   \n",
       "19595        396860       22343     IAP  2023-10-06   PA  ABS     1    8.0   \n",
       "\n",
       "       year  month  day  \n",
       "0      2023     11   10  \n",
       "1      2023     10    5  \n",
       "2      2023     10   25  \n",
       "3      2023     10   31  \n",
       "4      2023     10   23  \n",
       "...     ...    ...  ...  \n",
       "19591  2023     10    6  \n",
       "19592  2023     10   24  \n",
       "19593  2023     10   12  \n",
       "19594  2023     10   13  \n",
       "19595  2023     10    6  \n",
       "\n",
       "[19596 rows x 11 columns]"
      ]
     },
     "execution_count": 30,
     "metadata": {},
     "output_type": "execute_result"
    }
   ],
   "source": [
    "pf"
   ]
  },
  {
   "cell_type": "code",
   "execution_count": 31,
   "id": "f14ae0b7",
   "metadata": {},
   "outputs": [
    {
     "name": "stdout",
     "output_type": "stream",
     "text": [
      "<class 'pandas.core.frame.DataFrame'>\n",
      "RangeIndex: 19596 entries, 0 to 19595\n",
      "Data columns (total 11 columns):\n",
      " #   Column        Non-Null Count  Dtype         \n",
      "---  ------        --------------  -----         \n",
      " 0   Unnamed: 0.1  19596 non-null  int64         \n",
      " 1   Unnamed: 0    19596 non-null  int64         \n",
      " 2   classes       19596 non-null  object        \n",
      " 3   attend_date   19596 non-null  datetime64[ns]\n",
      " 4   job           19596 non-null  object        \n",
      " 5   code          19596 non-null  object        \n",
      " 6   cost          19596 non-null  int64         \n",
      " 7   hours         19596 non-null  float64       \n",
      " 8   year          19596 non-null  int32         \n",
      " 9   month         19596 non-null  int32         \n",
      " 10  day           19596 non-null  int32         \n",
      "dtypes: datetime64[ns](1), float64(1), int32(3), int64(3), object(3)\n",
      "memory usage: 1.4+ MB\n"
     ]
    }
   ],
   "source": [
    "pf.info()"
   ]
  },
  {
   "cell_type": "markdown",
   "id": "193bdbcc",
   "metadata": {},
   "source": [
    "### categorical data is converted into numerical "
   ]
  },
  {
   "cell_type": "code",
   "execution_count": 32,
   "id": "2d754447",
   "metadata": {},
   "outputs": [
    {
     "data": {
      "text/plain": [
       "classes\n",
       "0    5070\n",
       "1    4398\n",
       "4    3754\n",
       "3    2754\n",
       "2    2414\n",
       "6     792\n",
       "5     414\n",
       "Name: count, dtype: int64"
      ]
     },
     "execution_count": 32,
     "metadata": {},
     "output_type": "execute_result"
    }
   ],
   "source": [
    "from sklearn import preprocessing                    \n",
    "label_encoder= preprocessing.LabelEncoder()          \n",
    "pf['classes'] = label_encoder.fit_transform(pf['classes'])    \n",
    "pf['classes'].value_counts()\n",
    "\n",
    "#pf['job']=label_encoder.fit_transform(pf['job'])\n",
    "#pf['job'].value_counts()\n",
    "\n",
    "#pf['code']=label_encoder.fit_transform(pf['code'])\n",
    "#pf['code'].value_counts()"
   ]
  },
  {
   "cell_type": "code",
   "execution_count": 33,
   "id": "ff9ad82b",
   "metadata": {},
   "outputs": [
    {
     "data": {
      "text/plain": [
       "job\n",
       "2    14615\n",
       "0     2303\n",
       "5     1253\n",
       "3      505\n",
       "4      456\n",
       "1      322\n",
       "6      142\n",
       "Name: count, dtype: int64"
      ]
     },
     "execution_count": 33,
     "metadata": {},
     "output_type": "execute_result"
    }
   ],
   "source": [
    "pf['job']=label_encoder.fit_transform(pf['job'])\n",
    "pf['job'].value_counts()"
   ]
  },
  {
   "cell_type": "code",
   "execution_count": 34,
   "id": "d879da47",
   "metadata": {},
   "outputs": [
    {
     "data": {
      "text/plain": [
       "code\n",
       "0    11483\n",
       "3     7874\n",
       "1      209\n",
       "2       30\n",
       "Name: count, dtype: int64"
      ]
     },
     "execution_count": 34,
     "metadata": {},
     "output_type": "execute_result"
    }
   ],
   "source": [
    "pf['code']=label_encoder.fit_transform(pf['code'])\n",
    "pf['code'].value_counts()"
   ]
  },
  {
   "cell_type": "code",
   "execution_count": 35,
   "id": "0a0e208f",
   "metadata": {},
   "outputs": [],
   "source": [
    "X=pf[[\"classes\",\"job\",\"code\",\"cost\",\"year\",\"month\",\"day\"]]"
   ]
  },
  {
   "cell_type": "code",
   "execution_count": 36,
   "id": "28781ba7",
   "metadata": {},
   "outputs": [],
   "source": [
    "Y=pf[\"hours\"]"
   ]
  },
  {
   "cell_type": "code",
   "execution_count": 37,
   "id": "e5229dc9",
   "metadata": {},
   "outputs": [],
   "source": [
    "from sklearn.model_selection import train_test_split\n",
    "X1_train, X1_test, Y1_train, Y1_test =train_test_split(X,Y, test_size=0.2)"
   ]
  },
  {
   "cell_type": "code",
   "execution_count": 38,
   "id": "9f9bab8b",
   "metadata": {},
   "outputs": [],
   "source": [
    "from sklearn.linear_model import LinearRegression"
   ]
  },
  {
   "cell_type": "code",
   "execution_count": 39,
   "id": "56c0550a",
   "metadata": {},
   "outputs": [
    {
     "data": {
      "text/html": [
       "<style>#sk-container-id-3 {color: black;}#sk-container-id-3 pre{padding: 0;}#sk-container-id-3 div.sk-toggleable {background-color: white;}#sk-container-id-3 label.sk-toggleable__label {cursor: pointer;display: block;width: 100%;margin-bottom: 0;padding: 0.3em;box-sizing: border-box;text-align: center;}#sk-container-id-3 label.sk-toggleable__label-arrow:before {content: \"▸\";float: left;margin-right: 0.25em;color: #696969;}#sk-container-id-3 label.sk-toggleable__label-arrow:hover:before {color: black;}#sk-container-id-3 div.sk-estimator:hover label.sk-toggleable__label-arrow:before {color: black;}#sk-container-id-3 div.sk-toggleable__content {max-height: 0;max-width: 0;overflow: hidden;text-align: left;background-color: #f0f8ff;}#sk-container-id-3 div.sk-toggleable__content pre {margin: 0.2em;color: black;border-radius: 0.25em;background-color: #f0f8ff;}#sk-container-id-3 input.sk-toggleable__control:checked~div.sk-toggleable__content {max-height: 200px;max-width: 100%;overflow: auto;}#sk-container-id-3 input.sk-toggleable__control:checked~label.sk-toggleable__label-arrow:before {content: \"▾\";}#sk-container-id-3 div.sk-estimator input.sk-toggleable__control:checked~label.sk-toggleable__label {background-color: #d4ebff;}#sk-container-id-3 div.sk-label input.sk-toggleable__control:checked~label.sk-toggleable__label {background-color: #d4ebff;}#sk-container-id-3 input.sk-hidden--visually {border: 0;clip: rect(1px 1px 1px 1px);clip: rect(1px, 1px, 1px, 1px);height: 1px;margin: -1px;overflow: hidden;padding: 0;position: absolute;width: 1px;}#sk-container-id-3 div.sk-estimator {font-family: monospace;background-color: #f0f8ff;border: 1px dotted black;border-radius: 0.25em;box-sizing: border-box;margin-bottom: 0.5em;}#sk-container-id-3 div.sk-estimator:hover {background-color: #d4ebff;}#sk-container-id-3 div.sk-parallel-item::after {content: \"\";width: 100%;border-bottom: 1px solid gray;flex-grow: 1;}#sk-container-id-3 div.sk-label:hover label.sk-toggleable__label {background-color: #d4ebff;}#sk-container-id-3 div.sk-serial::before {content: \"\";position: absolute;border-left: 1px solid gray;box-sizing: border-box;top: 0;bottom: 0;left: 50%;z-index: 0;}#sk-container-id-3 div.sk-serial {display: flex;flex-direction: column;align-items: center;background-color: white;padding-right: 0.2em;padding-left: 0.2em;position: relative;}#sk-container-id-3 div.sk-item {position: relative;z-index: 1;}#sk-container-id-3 div.sk-parallel {display: flex;align-items: stretch;justify-content: center;background-color: white;position: relative;}#sk-container-id-3 div.sk-item::before, #sk-container-id-3 div.sk-parallel-item::before {content: \"\";position: absolute;border-left: 1px solid gray;box-sizing: border-box;top: 0;bottom: 0;left: 50%;z-index: -1;}#sk-container-id-3 div.sk-parallel-item {display: flex;flex-direction: column;z-index: 1;position: relative;background-color: white;}#sk-container-id-3 div.sk-parallel-item:first-child::after {align-self: flex-end;width: 50%;}#sk-container-id-3 div.sk-parallel-item:last-child::after {align-self: flex-start;width: 50%;}#sk-container-id-3 div.sk-parallel-item:only-child::after {width: 0;}#sk-container-id-3 div.sk-dashed-wrapped {border: 1px dashed gray;margin: 0 0.4em 0.5em 0.4em;box-sizing: border-box;padding-bottom: 0.4em;background-color: white;}#sk-container-id-3 div.sk-label label {font-family: monospace;font-weight: bold;display: inline-block;line-height: 1.2em;}#sk-container-id-3 div.sk-label-container {text-align: center;}#sk-container-id-3 div.sk-container {/* jupyter's `normalize.less` sets `[hidden] { display: none; }` but bootstrap.min.css set `[hidden] { display: none !important; }` so we also need the `!important` here to be able to override the default hidden behavior on the sphinx rendered scikit-learn.org. See: https://github.com/scikit-learn/scikit-learn/issues/21755 */display: inline-block !important;position: relative;}#sk-container-id-3 div.sk-text-repr-fallback {display: none;}</style><div id=\"sk-container-id-3\" class=\"sk-top-container\"><div class=\"sk-text-repr-fallback\"><pre>LinearRegression()</pre><b>In a Jupyter environment, please rerun this cell to show the HTML representation or trust the notebook. <br />On GitHub, the HTML representation is unable to render, please try loading this page with nbviewer.org.</b></div><div class=\"sk-container\" hidden><div class=\"sk-item\"><div class=\"sk-estimator sk-toggleable\"><input class=\"sk-toggleable__control sk-hidden--visually\" id=\"sk-estimator-id-3\" type=\"checkbox\" checked><label for=\"sk-estimator-id-3\" class=\"sk-toggleable__label sk-toggleable__label-arrow\">LinearRegression</label><div class=\"sk-toggleable__content\"><pre>LinearRegression()</pre></div></div></div></div></div>"
      ],
      "text/plain": [
       "LinearRegression()"
      ]
     },
     "execution_count": 39,
     "metadata": {},
     "output_type": "execute_result"
    }
   ],
   "source": [
    "reg1=LinearRegression()\n",
    "reg1.fit(X1_train,Y1_train)"
   ]
  },
  {
   "cell_type": "code",
   "execution_count": 40,
   "id": "31727225",
   "metadata": {},
   "outputs": [],
   "source": [
    "lr_prd2=reg1.predict(X1_test)"
   ]
  },
  {
   "cell_type": "code",
   "execution_count": 41,
   "id": "2589c7da",
   "metadata": {},
   "outputs": [
    {
     "data": {
      "text/plain": [
       "array([  7.84318985,   7.87058207,   6.9953411 , ...,  63.85079718,\n",
       "        31.88186865, 431.96342575])"
      ]
     },
     "execution_count": 41,
     "metadata": {},
     "output_type": "execute_result"
    }
   ],
   "source": [
    "lr_prd2"
   ]
  },
  {
   "cell_type": "code",
   "execution_count": 42,
   "id": "a4750400",
   "metadata": {},
   "outputs": [
    {
     "data": {
      "text/plain": [
       "0.9981168342366439"
      ]
     },
     "execution_count": 42,
     "metadata": {},
     "output_type": "execute_result"
    }
   ],
   "source": [
    "reg1.score(X1_test,Y1_test)"
   ]
  },
  {
   "cell_type": "code",
   "execution_count": 43,
   "id": "f05cdb10",
   "metadata": {},
   "outputs": [
    {
     "data": {
      "text/plain": [
       "3.577135799389979"
      ]
     },
     "execution_count": 43,
     "metadata": {},
     "output_type": "execute_result"
    }
   ],
   "source": [
    "from sklearn.metrics import accuracy_score,mean_squared_error\n",
    "mean_squared_error(Y1_test,lr_prd2)"
   ]
  },
  {
   "cell_type": "code",
   "execution_count": null,
   "id": "c1a321d5",
   "metadata": {},
   "outputs": [],
   "source": []
  },
  {
   "cell_type": "markdown",
   "id": "aa0adcad",
   "metadata": {},
   "source": [
    "# prediction for cost"
   ]
  },
  {
   "cell_type": "code",
   "execution_count": 44,
   "id": "c572f3e5",
   "metadata": {},
   "outputs": [
    {
     "data": {
      "text/html": [
       "<div>\n",
       "<style scoped>\n",
       "    .dataframe tbody tr th:only-of-type {\n",
       "        vertical-align: middle;\n",
       "    }\n",
       "\n",
       "    .dataframe tbody tr th {\n",
       "        vertical-align: top;\n",
       "    }\n",
       "\n",
       "    .dataframe thead th {\n",
       "        text-align: right;\n",
       "    }\n",
       "</style>\n",
       "<table border=\"1\" class=\"dataframe\">\n",
       "  <thead>\n",
       "    <tr style=\"text-align: right;\">\n",
       "      <th></th>\n",
       "      <th>Unnamed: 0.1</th>\n",
       "      <th>Unnamed: 0</th>\n",
       "      <th>classes</th>\n",
       "      <th>attend_date</th>\n",
       "      <th>job</th>\n",
       "      <th>code</th>\n",
       "      <th>cost</th>\n",
       "      <th>hours</th>\n",
       "      <th>year</th>\n",
       "      <th>month</th>\n",
       "      <th>day</th>\n",
       "    </tr>\n",
       "  </thead>\n",
       "  <tbody>\n",
       "    <tr>\n",
       "      <th>0</th>\n",
       "      <td>1</td>\n",
       "      <td>1</td>\n",
       "      <td>1</td>\n",
       "      <td>2023-11-10</td>\n",
       "      <td>0</td>\n",
       "      <td>0</td>\n",
       "      <td>1</td>\n",
       "      <td>8.0</td>\n",
       "      <td>2023</td>\n",
       "      <td>11</td>\n",
       "      <td>10</td>\n",
       "    </tr>\n",
       "    <tr>\n",
       "      <th>1</th>\n",
       "      <td>18</td>\n",
       "      <td>19</td>\n",
       "      <td>0</td>\n",
       "      <td>2023-10-05</td>\n",
       "      <td>2</td>\n",
       "      <td>3</td>\n",
       "      <td>1</td>\n",
       "      <td>4.0</td>\n",
       "      <td>2023</td>\n",
       "      <td>10</td>\n",
       "      <td>5</td>\n",
       "    </tr>\n",
       "    <tr>\n",
       "      <th>2</th>\n",
       "      <td>42</td>\n",
       "      <td>45</td>\n",
       "      <td>1</td>\n",
       "      <td>2023-10-25</td>\n",
       "      <td>2</td>\n",
       "      <td>0</td>\n",
       "      <td>1</td>\n",
       "      <td>8.0</td>\n",
       "      <td>2023</td>\n",
       "      <td>10</td>\n",
       "      <td>25</td>\n",
       "    </tr>\n",
       "    <tr>\n",
       "      <th>3</th>\n",
       "      <td>54</td>\n",
       "      <td>57</td>\n",
       "      <td>0</td>\n",
       "      <td>2023-10-31</td>\n",
       "      <td>2</td>\n",
       "      <td>0</td>\n",
       "      <td>5</td>\n",
       "      <td>40.0</td>\n",
       "      <td>2023</td>\n",
       "      <td>10</td>\n",
       "      <td>31</td>\n",
       "    </tr>\n",
       "    <tr>\n",
       "      <th>4</th>\n",
       "      <td>59</td>\n",
       "      <td>62</td>\n",
       "      <td>4</td>\n",
       "      <td>2023-10-23</td>\n",
       "      <td>2</td>\n",
       "      <td>0</td>\n",
       "      <td>9</td>\n",
       "      <td>72.0</td>\n",
       "      <td>2023</td>\n",
       "      <td>10</td>\n",
       "      <td>23</td>\n",
       "    </tr>\n",
       "    <tr>\n",
       "      <th>...</th>\n",
       "      <td>...</td>\n",
       "      <td>...</td>\n",
       "      <td>...</td>\n",
       "      <td>...</td>\n",
       "      <td>...</td>\n",
       "      <td>...</td>\n",
       "      <td>...</td>\n",
       "      <td>...</td>\n",
       "      <td>...</td>\n",
       "      <td>...</td>\n",
       "      <td>...</td>\n",
       "    </tr>\n",
       "    <tr>\n",
       "      <th>19591</th>\n",
       "      <td>396799</td>\n",
       "      <td>22274</td>\n",
       "      <td>1</td>\n",
       "      <td>2023-10-06</td>\n",
       "      <td>4</td>\n",
       "      <td>3</td>\n",
       "      <td>1</td>\n",
       "      <td>8.0</td>\n",
       "      <td>2023</td>\n",
       "      <td>10</td>\n",
       "      <td>6</td>\n",
       "    </tr>\n",
       "    <tr>\n",
       "      <th>19592</th>\n",
       "      <td>396804</td>\n",
       "      <td>22279</td>\n",
       "      <td>4</td>\n",
       "      <td>2023-10-24</td>\n",
       "      <td>0</td>\n",
       "      <td>0</td>\n",
       "      <td>1</td>\n",
       "      <td>8.0</td>\n",
       "      <td>2023</td>\n",
       "      <td>10</td>\n",
       "      <td>24</td>\n",
       "    </tr>\n",
       "    <tr>\n",
       "      <th>19593</th>\n",
       "      <td>396848</td>\n",
       "      <td>22330</td>\n",
       "      <td>1</td>\n",
       "      <td>2023-10-12</td>\n",
       "      <td>2</td>\n",
       "      <td>3</td>\n",
       "      <td>2</td>\n",
       "      <td>16.0</td>\n",
       "      <td>2023</td>\n",
       "      <td>10</td>\n",
       "      <td>12</td>\n",
       "    </tr>\n",
       "    <tr>\n",
       "      <th>19594</th>\n",
       "      <td>396853</td>\n",
       "      <td>22336</td>\n",
       "      <td>6</td>\n",
       "      <td>2023-10-13</td>\n",
       "      <td>3</td>\n",
       "      <td>0</td>\n",
       "      <td>1</td>\n",
       "      <td>8.0</td>\n",
       "      <td>2023</td>\n",
       "      <td>10</td>\n",
       "      <td>13</td>\n",
       "    </tr>\n",
       "    <tr>\n",
       "      <th>19595</th>\n",
       "      <td>396860</td>\n",
       "      <td>22343</td>\n",
       "      <td>3</td>\n",
       "      <td>2023-10-06</td>\n",
       "      <td>2</td>\n",
       "      <td>0</td>\n",
       "      <td>1</td>\n",
       "      <td>8.0</td>\n",
       "      <td>2023</td>\n",
       "      <td>10</td>\n",
       "      <td>6</td>\n",
       "    </tr>\n",
       "  </tbody>\n",
       "</table>\n",
       "<p>19596 rows × 11 columns</p>\n",
       "</div>"
      ],
      "text/plain": [
       "       Unnamed: 0.1  Unnamed: 0  classes attend_date  job  code  cost  hours  \\\n",
       "0                 1           1        1  2023-11-10    0     0     1    8.0   \n",
       "1                18          19        0  2023-10-05    2     3     1    4.0   \n",
       "2                42          45        1  2023-10-25    2     0     1    8.0   \n",
       "3                54          57        0  2023-10-31    2     0     5   40.0   \n",
       "4                59          62        4  2023-10-23    2     0     9   72.0   \n",
       "...             ...         ...      ...         ...  ...   ...   ...    ...   \n",
       "19591        396799       22274        1  2023-10-06    4     3     1    8.0   \n",
       "19592        396804       22279        4  2023-10-24    0     0     1    8.0   \n",
       "19593        396848       22330        1  2023-10-12    2     3     2   16.0   \n",
       "19594        396853       22336        6  2023-10-13    3     0     1    8.0   \n",
       "19595        396860       22343        3  2023-10-06    2     0     1    8.0   \n",
       "\n",
       "       year  month  day  \n",
       "0      2023     11   10  \n",
       "1      2023     10    5  \n",
       "2      2023     10   25  \n",
       "3      2023     10   31  \n",
       "4      2023     10   23  \n",
       "...     ...    ...  ...  \n",
       "19591  2023     10    6  \n",
       "19592  2023     10   24  \n",
       "19593  2023     10   12  \n",
       "19594  2023     10   13  \n",
       "19595  2023     10    6  \n",
       "\n",
       "[19596 rows x 11 columns]"
      ]
     },
     "execution_count": 44,
     "metadata": {},
     "output_type": "execute_result"
    }
   ],
   "source": [
    "pf"
   ]
  },
  {
   "cell_type": "code",
   "execution_count": 45,
   "id": "1658bcab",
   "metadata": {},
   "outputs": [
    {
     "data": {
      "text/plain": [
       "classes\n",
       "0    5070\n",
       "1    4398\n",
       "4    3754\n",
       "3    2754\n",
       "2    2414\n",
       "6     792\n",
       "5     414\n",
       "Name: count, dtype: int64"
      ]
     },
     "execution_count": 45,
     "metadata": {},
     "output_type": "execute_result"
    }
   ],
   "source": [
    "from sklearn import preprocessing                    \n",
    "label_encoder= preprocessing.LabelEncoder()          \n",
    "pf['classes'] = label_encoder.fit_transform(pf['classes'])    \n",
    "pf['classes'].value_counts()\n",
    "\n",
    "#pf['job']=label_encoder.fit_transform(pf['job'])\n",
    "#pf['job'].value_counts()\n",
    "\n",
    "#pf['code']=label_encoder.fit_transform(pf['code'])\n",
    "#pf['code'].value_counts()"
   ]
  },
  {
   "cell_type": "code",
   "execution_count": 46,
   "id": "39b6b5ef",
   "metadata": {},
   "outputs": [
    {
     "data": {
      "text/plain": [
       "job\n",
       "2    14615\n",
       "0     2303\n",
       "5     1253\n",
       "3      505\n",
       "4      456\n",
       "1      322\n",
       "6      142\n",
       "Name: count, dtype: int64"
      ]
     },
     "execution_count": 46,
     "metadata": {},
     "output_type": "execute_result"
    }
   ],
   "source": [
    "pf['job']=label_encoder.fit_transform(pf['job'])\n",
    "pf['job'].value_counts()\n"
   ]
  },
  {
   "cell_type": "code",
   "execution_count": 47,
   "id": "ed1bee32",
   "metadata": {},
   "outputs": [
    {
     "data": {
      "text/plain": [
       "code\n",
       "0    11483\n",
       "3     7874\n",
       "1      209\n",
       "2       30\n",
       "Name: count, dtype: int64"
      ]
     },
     "execution_count": 47,
     "metadata": {},
     "output_type": "execute_result"
    }
   ],
   "source": [
    "pf['code']=label_encoder.fit_transform(pf['code'])\n",
    "pf['code'].value_counts()"
   ]
  },
  {
   "cell_type": "code",
   "execution_count": 48,
   "id": "3011a319",
   "metadata": {},
   "outputs": [],
   "source": [
    "x2=pf[[\"classes\",\"job\",\"code\",\"hours\",\"year\",\"month\",\"day\"]]"
   ]
  },
  {
   "cell_type": "code",
   "execution_count": 49,
   "id": "22f3cbf5",
   "metadata": {},
   "outputs": [],
   "source": [
    "y2=pf[\"cost\"]"
   ]
  },
  {
   "cell_type": "code",
   "execution_count": 50,
   "id": "23fec2a9",
   "metadata": {},
   "outputs": [],
   "source": [
    "\n",
    "from sklearn.model_selection import train_test_split\n",
    "X2_train, X2_test, Y2_train, Y2_test =train_test_split(x2,y2,test_size=0.2)"
   ]
  },
  {
   "cell_type": "code",
   "execution_count": 51,
   "id": "ae3ae927",
   "metadata": {},
   "outputs": [
    {
     "data": {
      "text/html": [
       "<style>#sk-container-id-4 {color: black;}#sk-container-id-4 pre{padding: 0;}#sk-container-id-4 div.sk-toggleable {background-color: white;}#sk-container-id-4 label.sk-toggleable__label {cursor: pointer;display: block;width: 100%;margin-bottom: 0;padding: 0.3em;box-sizing: border-box;text-align: center;}#sk-container-id-4 label.sk-toggleable__label-arrow:before {content: \"▸\";float: left;margin-right: 0.25em;color: #696969;}#sk-container-id-4 label.sk-toggleable__label-arrow:hover:before {color: black;}#sk-container-id-4 div.sk-estimator:hover label.sk-toggleable__label-arrow:before {color: black;}#sk-container-id-4 div.sk-toggleable__content {max-height: 0;max-width: 0;overflow: hidden;text-align: left;background-color: #f0f8ff;}#sk-container-id-4 div.sk-toggleable__content pre {margin: 0.2em;color: black;border-radius: 0.25em;background-color: #f0f8ff;}#sk-container-id-4 input.sk-toggleable__control:checked~div.sk-toggleable__content {max-height: 200px;max-width: 100%;overflow: auto;}#sk-container-id-4 input.sk-toggleable__control:checked~label.sk-toggleable__label-arrow:before {content: \"▾\";}#sk-container-id-4 div.sk-estimator input.sk-toggleable__control:checked~label.sk-toggleable__label {background-color: #d4ebff;}#sk-container-id-4 div.sk-label input.sk-toggleable__control:checked~label.sk-toggleable__label {background-color: #d4ebff;}#sk-container-id-4 input.sk-hidden--visually {border: 0;clip: rect(1px 1px 1px 1px);clip: rect(1px, 1px, 1px, 1px);height: 1px;margin: -1px;overflow: hidden;padding: 0;position: absolute;width: 1px;}#sk-container-id-4 div.sk-estimator {font-family: monospace;background-color: #f0f8ff;border: 1px dotted black;border-radius: 0.25em;box-sizing: border-box;margin-bottom: 0.5em;}#sk-container-id-4 div.sk-estimator:hover {background-color: #d4ebff;}#sk-container-id-4 div.sk-parallel-item::after {content: \"\";width: 100%;border-bottom: 1px solid gray;flex-grow: 1;}#sk-container-id-4 div.sk-label:hover label.sk-toggleable__label {background-color: #d4ebff;}#sk-container-id-4 div.sk-serial::before {content: \"\";position: absolute;border-left: 1px solid gray;box-sizing: border-box;top: 0;bottom: 0;left: 50%;z-index: 0;}#sk-container-id-4 div.sk-serial {display: flex;flex-direction: column;align-items: center;background-color: white;padding-right: 0.2em;padding-left: 0.2em;position: relative;}#sk-container-id-4 div.sk-item {position: relative;z-index: 1;}#sk-container-id-4 div.sk-parallel {display: flex;align-items: stretch;justify-content: center;background-color: white;position: relative;}#sk-container-id-4 div.sk-item::before, #sk-container-id-4 div.sk-parallel-item::before {content: \"\";position: absolute;border-left: 1px solid gray;box-sizing: border-box;top: 0;bottom: 0;left: 50%;z-index: -1;}#sk-container-id-4 div.sk-parallel-item {display: flex;flex-direction: column;z-index: 1;position: relative;background-color: white;}#sk-container-id-4 div.sk-parallel-item:first-child::after {align-self: flex-end;width: 50%;}#sk-container-id-4 div.sk-parallel-item:last-child::after {align-self: flex-start;width: 50%;}#sk-container-id-4 div.sk-parallel-item:only-child::after {width: 0;}#sk-container-id-4 div.sk-dashed-wrapped {border: 1px dashed gray;margin: 0 0.4em 0.5em 0.4em;box-sizing: border-box;padding-bottom: 0.4em;background-color: white;}#sk-container-id-4 div.sk-label label {font-family: monospace;font-weight: bold;display: inline-block;line-height: 1.2em;}#sk-container-id-4 div.sk-label-container {text-align: center;}#sk-container-id-4 div.sk-container {/* jupyter's `normalize.less` sets `[hidden] { display: none; }` but bootstrap.min.css set `[hidden] { display: none !important; }` so we also need the `!important` here to be able to override the default hidden behavior on the sphinx rendered scikit-learn.org. See: https://github.com/scikit-learn/scikit-learn/issues/21755 */display: inline-block !important;position: relative;}#sk-container-id-4 div.sk-text-repr-fallback {display: none;}</style><div id=\"sk-container-id-4\" class=\"sk-top-container\"><div class=\"sk-text-repr-fallback\"><pre>LinearRegression()</pre><b>In a Jupyter environment, please rerun this cell to show the HTML representation or trust the notebook. <br />On GitHub, the HTML representation is unable to render, please try loading this page with nbviewer.org.</b></div><div class=\"sk-container\" hidden><div class=\"sk-item\"><div class=\"sk-estimator sk-toggleable\"><input class=\"sk-toggleable__control sk-hidden--visually\" id=\"sk-estimator-id-4\" type=\"checkbox\" checked><label for=\"sk-estimator-id-4\" class=\"sk-toggleable__label sk-toggleable__label-arrow\">LinearRegression</label><div class=\"sk-toggleable__content\"><pre>LinearRegression()</pre></div></div></div></div></div>"
      ],
      "text/plain": [
       "LinearRegression()"
      ]
     },
     "execution_count": 51,
     "metadata": {},
     "output_type": "execute_result"
    }
   ],
   "source": [
    "from sklearn.linear_model import LinearRegression\n",
    "reg2=LinearRegression()\n",
    "reg2.fit(X2_train,Y2_train)"
   ]
  },
  {
   "cell_type": "code",
   "execution_count": 52,
   "id": "bacc1ce9",
   "metadata": {},
   "outputs": [],
   "source": [
    "lr_prd3=reg2.predict(X2_test)"
   ]
  },
  {
   "cell_type": "code",
   "execution_count": 53,
   "id": "d03bdd6e",
   "metadata": {},
   "outputs": [
    {
     "data": {
      "text/plain": [
       "array([ 0.52440219,  1.02070852, 13.99510338, ...,  1.07806269,\n",
       "        0.52440219,  0.62283595])"
      ]
     },
     "execution_count": 53,
     "metadata": {},
     "output_type": "execute_result"
    }
   ],
   "source": [
    "lr_prd3"
   ]
  },
  {
   "cell_type": "code",
   "execution_count": 54,
   "id": "3f7b0025",
   "metadata": {},
   "outputs": [
    {
     "data": {
      "text/plain": [
       "0.9981501886211632"
      ]
     },
     "execution_count": 54,
     "metadata": {},
     "output_type": "execute_result"
    }
   ],
   "source": [
    "reg2.score(X2_test,Y2_test)"
   ]
  },
  {
   "cell_type": "code",
   "execution_count": 55,
   "id": "34f4fb5e",
   "metadata": {},
   "outputs": [
    {
     "data": {
      "text/plain": [
       "0.07634422709816287"
      ]
     },
     "execution_count": 55,
     "metadata": {},
     "output_type": "execute_result"
    }
   ],
   "source": [
    "from sklearn.metrics import accuracy_score,mean_squared_error\n",
    "mean_squared_error(Y2_test,lr_prd3)"
   ]
  },
  {
   "cell_type": "code",
   "execution_count": 56,
   "id": "2089f962",
   "metadata": {},
   "outputs": [
    {
     "data": {
      "text/plain": [
       "0.9981501886211632"
      ]
     },
     "execution_count": 56,
     "metadata": {},
     "output_type": "execute_result"
    }
   ],
   "source": [
    "from sklearn.metrics import r2_score\n",
    "r2_score(Y2_test,lr_prd3)"
   ]
  },
  {
   "cell_type": "code",
   "execution_count": null,
   "id": "ee648a5d",
   "metadata": {},
   "outputs": [],
   "source": []
  },
  {
   "cell_type": "code",
   "execution_count": null,
   "id": "31921d48",
   "metadata": {},
   "outputs": [],
   "source": []
  },
  {
   "cell_type": "code",
   "execution_count": null,
   "id": "acff7e70",
   "metadata": {},
   "outputs": [],
   "source": []
  }
 ],
 "metadata": {
  "kernelspec": {
   "display_name": "Python 3 (ipykernel)",
   "language": "python",
   "name": "python3"
  },
  "language_info": {
   "codemirror_mode": {
    "name": "ipython",
    "version": 3
   },
   "file_extension": ".py",
   "mimetype": "text/x-python",
   "name": "python",
   "nbconvert_exporter": "python",
   "pygments_lexer": "ipython3",
   "version": "3.11.5"
  }
 },
 "nbformat": 4,
 "nbformat_minor": 5
}
