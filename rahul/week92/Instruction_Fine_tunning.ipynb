{
 "cells": [
  {
   "cell_type": "code",
   "execution_count": null,
   "metadata": {
    "colab": {
     "base_uri": "https://localhost:8080/"
    },
    "id": "HGtYRg9Lyh4y",
    "outputId": "bdb65e64-cecf-4f6c-c7d4-f381bd86c709"
   },
   "outputs": [
    {
     "name": "stdout",
     "output_type": "stream",
     "text": [
      "Collecting gradientai\n",
      "  Downloading gradientai-1.10.0-py3-none-any.whl (372 kB)\n",
      "\u001b[?25l     \u001b[90m━━━━━━━━━━━━━━━━━━━━━━━━━━━━━━━━━━━━━━━━\u001b[0m \u001b[32m0.0/372.5 kB\u001b[0m \u001b[31m?\u001b[0m eta \u001b[36m-:--:--\u001b[0m\r",
      "\u001b[2K     \u001b[91m━━━━━━━━━━━━━━━━━━━\u001b[0m\u001b[91m╸\u001b[0m\u001b[90m━━━━━━━━━━━━━━━━━━━━\u001b[0m \u001b[32m184.3/372.5 kB\u001b[0m \u001b[31m5.4 MB/s\u001b[0m eta \u001b[36m0:00:01\u001b[0m\r",
      "\u001b[2K     \u001b[90m━━━━━━━━━━━━━━━━━━━━━━━━━━━━━━━━━━━━━━━━\u001b[0m \u001b[32m372.5/372.5 kB\u001b[0m \u001b[31m7.2 MB/s\u001b[0m eta \u001b[36m0:00:00\u001b[0m\n",
      "\u001b[?25hCollecting aenum>=3.1.11 (from gradientai)\n",
      "  Downloading aenum-3.1.15-py3-none-any.whl (137 kB)\n",
      "\u001b[2K     \u001b[90m━━━━━━━━━━━━━━━━━━━━━━━━━━━━━━━━━━━━━━━━\u001b[0m \u001b[32m137.6/137.6 kB\u001b[0m \u001b[31m19.1 MB/s\u001b[0m eta \u001b[36m0:00:00\u001b[0m\n",
      "\u001b[?25hCollecting pydantic<2.0.0,>=1.10.5 (from gradientai)\n",
      "  Downloading pydantic-1.10.15-cp310-cp310-manylinux_2_17_x86_64.manylinux2014_x86_64.whl (3.1 MB)\n",
      "\u001b[2K     \u001b[90m━━━━━━━━━━━━━━━━━━━━━━━━━━━━━━━━━━━━━━━━\u001b[0m \u001b[32m3.1/3.1 MB\u001b[0m \u001b[31m62.4 MB/s\u001b[0m eta \u001b[36m0:00:00\u001b[0m\n",
      "\u001b[?25hRequirement already satisfied: python-dateutil>=2.8.2 in /usr/local/lib/python3.10/dist-packages (from gradientai) (2.8.2)\n",
      "Requirement already satisfied: urllib3>=1.25.3 in /usr/local/lib/python3.10/dist-packages (from gradientai) (2.0.7)\n",
      "Requirement already satisfied: typing-extensions>=4.2.0 in /usr/local/lib/python3.10/dist-packages (from pydantic<2.0.0,>=1.10.5->gradientai) (4.11.0)\n",
      "Requirement already satisfied: six>=1.5 in /usr/local/lib/python3.10/dist-packages (from python-dateutil>=2.8.2->gradientai) (1.16.0)\n",
      "Installing collected packages: aenum, pydantic, gradientai\n",
      "  Attempting uninstall: pydantic\n",
      "    Found existing installation: pydantic 2.6.4\n",
      "    Uninstalling pydantic-2.6.4:\n",
      "      Successfully uninstalled pydantic-2.6.4\n",
      "Successfully installed aenum-3.1.15 gradientai-1.10.0 pydantic-1.10.15\n"
     ]
    }
   ],
   "source": [
    "!pip install gradientai --upgrade"
   ]
  },
  {
   "cell_type": "code",
   "execution_count": null,
   "metadata": {
    "id": "RPcENYMx2alw"
   },
   "outputs": [],
   "source": [
    "import os\n",
    "os.environ[\"GRADIENT_WORKSPACE_ID\"]=\"bf8f6ceb-81cd-41ec-a6b2-f31c7b0ba66f_workspace\"\n",
    "os.environ[\"GRADIENT_ACCESS_TOKEN\"]=\"GETnp4WqR4YL3dbZFmgkc10aL2NdvIhc\""
   ]
  },
  {
   "cell_type": "code",
   "execution_count": null,
   "metadata": {
    "id": "3_nWx-tL3ldB"
   },
   "outputs": [],
   "source": [
    "from gradientai import Gradient"
   ]
  },
  {
   "cell_type": "code",
   "execution_count": null,
   "metadata": {
    "colab": {
     "base_uri": "https://localhost:8080/"
    },
    "id": "ejlJns0U30qp",
    "outputId": "6e38f19e-b7e8-4b81-e613-ad5428b5f9b2"
   },
   "outputs": [
    {
     "name": "stdout",
     "output_type": "stream",
     "text": [
      "created model adapter with id b18ee914-11fd-41e5-aa78-5f4cfb5b3fab_model_adapter\n",
      "asking: ###Instruction:who is krish naik?\n",
      "\n",
      " ###Response\n",
      "Generated(before fine tuning):Krish Naik is an Indian actor, who primarily works in the Telugu film industry. He made his acting debut in 2012 with the film \"Seethamma Vakitlo Sirimalle Chettu\" and has since appeared in several films, including \"Race Gurram\", \"S/O Satyamurthy\", and \"Nenu Local\". Apart from acting, Krish is also a trained dancer and has participated in several\n",
      "Fine tuning the model with iteration 1\n",
      "Fine tuning the model with iteration 2\n",
      "Fine tuning the model with iteration 3\n",
      "Generated(after fine tuning):  Krish Naik is a popular creator who specializes in the field of Data Science and his channel name is Krish Naik. He is known for his amazing videos in the field of Data Science and his videos are very helpful for beginners to get started with Data Science.\n"
     ]
    }
   ],
   "source": [
    "def main():\n",
    "  gradient=Gradient()\n",
    "\n",
    "  base_model=gradient.get_base_model(base_model_slug=\"nous-hermes2\")\n",
    "\n",
    "  new_model_adapter=base_model.create_model_adapter(\n",
    "      name=\"Fine_model\"\n",
    "  )\n",
    "\n",
    "  print(f\"created model adapter with id {new_model_adapter.id}\")\n",
    "  #new_model_adapter.fine_tune(samples=[{\"input\":=\"princess\"}])\n",
    "\n",
    "  sample_query=\"###Instruction:who is krish naik?\\n\\n ###Response\"\n",
    "  print(f\"asking: {sample_query}\")\n",
    "  #before fine tuning\n",
    "\n",
    "  completion=new_model_adapter.complete(query=sample_query,max_generated_token_count=100).generated_output\n",
    "  print(f\"Generated(before fine tuning):{completion}\")\n",
    "\n",
    "  samples=[\n",
    "        {\"inputs\":\"### Instruction: Who is Krish Naik? \\n\\n### Response: Krish is a popular mentor and youtuber who uploads videos on Data Science,AI And LLM in his channel Krish Naik\"},\n",
    "        {\"inputs\":\"### Instruction: Who is this person named Krish Naik? \\n\\n### Response: Krish Naik Like Data Science And AI And makes videos in youtube and he is also a mentor\"},\n",
    "        {\"inputs\":\"### Instruction: What do you know about Krish Naik? \\n\\n### Response: Krish Naik is a popular creator who specializes in the field of Data Science and his channel name is Krish Naik\"},\n",
    "        {\"inputs\":\"### Instruction: Can you tell me about Krish Naik? \\n\\n### Response: Krish Naik is a youtuber,video creator,and a creator who loves Data Science And AI and LLM's\"}\n",
    "    ]\n",
    "\n",
    "\n",
    "  ## Lets define parmeters for finetuning\n",
    "  num_epochs=3\n",
    "  count=0\n",
    "  while count<num_epochs:\n",
    "    print(f\"Fine tuning the model with iteration {count + 1}\")\n",
    "    new_model_adapter.fine_tune(samples=samples)\n",
    "    count=count+1\n",
    "   #after fine tuning\n",
    "  completion = new_model_adapter.complete(query=sample_query, max_generated_token_count=100).generated_output\n",
    "  print(f\"Generated(after fine tuning): {completion}\")\n",
    "  new_model_adapter.delete()\n",
    "  gradient.close()\n",
    "\n",
    "if __name__ == \"__main__\":\n",
    "    main()\n"
   ]
  },
  {
   "cell_type": "code",
   "execution_count": null,
   "metadata": {
    "id": "b4tSx3fhAZ-W"
   },
   "outputs": [],
   "source": []
  }
 ],
 "metadata": {
  "accelerator": "GPU",
  "colab": {
   "gpuType": "T4",
   "provenance": []
  },
  "kernelspec": {
   "display_name": "Python 3 (ipykernel)",
   "language": "python",
   "name": "python3"
  },
  "language_info": {
   "codemirror_mode": {
    "name": "ipython",
    "version": 3
   },
   "file_extension": ".py",
   "mimetype": "text/x-python",
   "name": "python",
   "nbconvert_exporter": "python",
   "pygments_lexer": "ipython3",
   "version": "3.11.5"
  }
 },
 "nbformat": 4,
 "nbformat_minor": 1
}
