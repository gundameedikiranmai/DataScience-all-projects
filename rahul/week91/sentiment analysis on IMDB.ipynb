{
 "cells": [
  {
   "cell_type": "code",
   "execution_count": 1,
   "id": "b9afcf3d",
   "metadata": {},
   "outputs": [
    {
     "name": "stdout",
     "output_type": "stream",
     "text": [
      "WARNING:tensorflow:From C:\\Users\\RAHUL\\anaconda3\\Lib\\site-packages\\keras\\src\\losses.py:2976: The name tf.losses.sparse_softmax_cross_entropy is deprecated. Please use tf.compat.v1.losses.sparse_softmax_cross_entropy instead.\n",
      "\n"
     ]
    }
   ],
   "source": [
    "import numpy as np\n",
    "import pandas as pd\n",
    "import matplotlib.pyplot as plt\n",
    "import keras\n",
    "import tensorflow as tf\n",
    "from tensorflow.keras import layers\n",
    "from tensorflow import keras\n",
    "\n",
    "import warnings\n",
    "warnings.filterwarnings(\"ignore\")"
   ]
  },
  {
   "cell_type": "markdown",
   "id": "6d6deb68",
   "metadata": {},
   "source": [
    "### Loading the data"
   ]
  },
  {
   "cell_type": "code",
   "execution_count": 2,
   "id": "acee4c2b",
   "metadata": {},
   "outputs": [],
   "source": [
    "from keras.datasets import imdb"
   ]
  },
  {
   "cell_type": "code",
   "execution_count": 3,
   "id": "d8c02669",
   "metadata": {},
   "outputs": [],
   "source": [
    "(x_train,y_train),(x_test,y_test)=imdb.load_data(num_words=10000)"
   ]
  },
  {
   "cell_type": "code",
   "execution_count": 4,
   "id": "1c69a13b",
   "metadata": {},
   "outputs": [
    {
     "name": "stdout",
     "output_type": "stream",
     "text": [
      "[1, 14, 22, 16, 43, 530, 973, 1622, 1385, 65, 458, 4468, 66, 3941, 4, 173, 36, 256, 5, 25, 100, 43, 838, 112, 50, 670, 2, 9, 35, 480, 284, 5, 150, 4, 172, 112, 167, 2, 336, 385, 39, 4, 172, 4536, 1111, 17, 546, 38, 13, 447, 4, 192, 50, 16, 6, 147, 2025, 19, 14, 22, 4, 1920, 4613, 469, 4, 22, 71, 87, 12, 16, 43, 530, 38, 76, 15, 13, 1247, 4, 22, 17, 515, 17, 12, 16, 626, 18, 2, 5, 62, 386, 12, 8, 316, 8, 106, 5, 4, 2223, 5244, 16, 480, 66, 3785, 33, 4, 130, 12, 16, 38, 619, 5, 25, 124, 51, 36, 135, 48, 25, 1415, 33, 6, 22, 12, 215, 28, 77, 52, 5, 14, 407, 16, 82, 2, 8, 4, 107, 117, 5952, 15, 256, 4, 2, 7, 3766, 5, 723, 36, 71, 43, 530, 476, 26, 400, 317, 46, 7, 4, 2, 1029, 13, 104, 88, 4, 381, 15, 297, 98, 32, 2071, 56, 26, 141, 6, 194, 7486, 18, 4, 226, 22, 21, 134, 476, 26, 480, 5, 144, 30, 5535, 18, 51, 36, 28, 224, 92, 25, 104, 4, 226, 65, 16, 38, 1334, 88, 12, 16, 283, 5, 16, 4472, 113, 103, 32, 15, 16, 5345, 19, 178, 32]\n"
     ]
    }
   ],
   "source": [
    "print(x_train[0])"
   ]
  },
  {
   "cell_type": "code",
   "execution_count": 5,
   "id": "348804ac",
   "metadata": {},
   "outputs": [],
   "source": [
    "x_train = np.array(x_train)\n",
    "y_train = np.array(y_train)\n",
    "x_test = np.array(x_test)\n",
    "y_test = np.array(y_test)"
   ]
  },
  {
   "cell_type": "markdown",
   "id": "f813406e",
   "metadata": {},
   "source": [
    "### Training example"
   ]
  },
  {
   "cell_type": "code",
   "execution_count": 6,
   "id": "20496553",
   "metadata": {},
   "outputs": [
    {
     "name": "stdout",
     "output_type": "stream",
     "text": [
      "[1, 14, 22, 16, 43, 530, 973, 1622, 1385, 65, 458, 4468, 66, 3941, 4, 173, 36, 256, 5, 25, 100, 43, 838, 112, 50, 670, 2, 9, 35, 480, 284, 5, 150, 4, 172, 112, 167, 2, 336, 385, 39, 4, 172, 4536, 1111, 17, 546, 38, 13, 447, 4, 192, 50, 16, 6, 147, 2025, 19, 14, 22, 4, 1920, 4613, 469, 4, 22, 71, 87, 12, 16, 43, 530, 38, 76, 15, 13, 1247, 4, 22, 17, 515, 17, 12, 16, 626, 18, 2, 5, 62, 386, 12, 8, 316, 8, 106, 5, 4, 2223, 5244, 16, 480, 66, 3785, 33, 4, 130, 12, 16, 38, 619, 5, 25, 124, 51, 36, 135, 48, 25, 1415, 33, 6, 22, 12, 215, 28, 77, 52, 5, 14, 407, 16, 82, 2, 8, 4, 107, 117, 5952, 15, 256, 4, 2, 7, 3766, 5, 723, 36, 71, 43, 530, 476, 26, 400, 317, 46, 7, 4, 2, 1029, 13, 104, 88, 4, 381, 15, 297, 98, 32, 2071, 56, 26, 141, 6, 194, 7486, 18, 4, 226, 22, 21, 134, 476, 26, 480, 5, 144, 30, 5535, 18, 51, 36, 28, 224, 92, 25, 104, 4, 226, 65, 16, 38, 1334, 88, 12, 16, 283, 5, 16, 4472, 113, 103, 32, 15, 16, 5345, 19, 178, 32]\n"
     ]
    }
   ],
   "source": [
    "print(x_train[0])"
   ]
  },
  {
   "cell_type": "code",
   "execution_count": 7,
   "id": "f21cbd74",
   "metadata": {},
   "outputs": [
    {
     "name": "stdout",
     "output_type": "stream",
     "text": [
      "0\n"
     ]
    }
   ],
   "source": [
    "print(y_train[42])"
   ]
  },
  {
   "cell_type": "markdown",
   "id": "d3b163c0",
   "metadata": {},
   "source": [
    "### Labels"
   ]
  },
  {
   "cell_type": "code",
   "execution_count": 8,
   "id": "58a8c79b",
   "metadata": {},
   "outputs": [],
   "source": [
    "class_names=[\"Negative\",\"Postive\"]"
   ]
  },
  {
   "cell_type": "code",
   "execution_count": 9,
   "id": "8167b529",
   "metadata": {},
   "outputs": [
    {
     "name": "stdout",
     "output_type": "stream",
     "text": [
      "1\n"
     ]
    }
   ],
   "source": [
    "from keras.datasets import imdb\n",
    "word_index=imdb.get_word_index()\n",
    "print(word_index[\"the\"])"
   ]
  },
  {
   "cell_type": "markdown",
   "id": "c0373532",
   "metadata": {},
   "source": [
    "### Decoding part"
   ]
  },
  {
   "cell_type": "code",
   "execution_count": 10,
   "id": "b6cbed09",
   "metadata": {},
   "outputs": [
    {
     "data": {
      "text/plain": [
       "1"
      ]
     },
     "execution_count": 10,
     "metadata": {},
     "output_type": "execute_result"
    }
   ],
   "source": [
    "word_index[\"the\"]"
   ]
  },
  {
   "cell_type": "code",
   "execution_count": 11,
   "id": "2263e0b8",
   "metadata": {},
   "outputs": [],
   "source": [
    "reverse_word_index=dict((value,key) for key,value in word_index.items())"
   ]
  },
  {
   "cell_type": "code",
   "execution_count": 12,
   "id": "48f1b128",
   "metadata": {},
   "outputs": [],
   "source": [
    "def decode(review):\n",
    "    text=''\n",
    "    for i in review:\n",
    "        if i!=0:\n",
    "            text+=reverse_word_index[i]\n",
    "            text+=\" \"\n",
    "    return text   "
   ]
  },
  {
   "cell_type": "code",
   "execution_count": 13,
   "id": "d5154291",
   "metadata": {},
   "outputs": [
    {
     "data": {
      "text/plain": [
       "\"the as there in at by br of sure many br of proving no only women was than doesn't as you never of hat night that with ignored they bad out superman plays of how star so stories film comes defense date of wide they don't do that had with of hollywood br of my seeing fan this of pop out body shots in having because cause it's stick passing first were enjoys for from look seven sense from me and die in character as cuban issues but is you that isn't one song just is him less are strongly not are you that different just even by this of you there is eight when it part are film's love film's 80's was big also light don't and as it in character looked cinematography so stories is far br man acting \""
      ]
     },
     "execution_count": 13,
     "metadata": {},
     "output_type": "execute_result"
    }
   ],
   "source": [
    "decode(x_train[2])"
   ]
  },
  {
   "cell_type": "code",
   "execution_count": 14,
   "id": "1b31f47e",
   "metadata": {},
   "outputs": [
    {
     "name": "stdout",
     "output_type": "stream",
     "text": [
      "The length of the 1st traning exam: 218\n",
      "The length of the 2st traning exam: 189\n",
      "The length of the 1st test exam: 68\n",
      "The length of the 2st test exam: 260\n"
     ]
    }
   ],
   "source": [
    "def show_len():\n",
    "    \n",
    "    print(\"The length of the 1st traning exam:\",len(x_train[0]))\n",
    "    print(\"The length of the 2st traning exam:\",len(x_train[1]))\n",
    "    print(\"The length of the 1st test exam:\",len(x_test[0]))\n",
    "    print(\"The length of the 2st test exam:\",len(x_test[1]))\n",
    "    \n",
    "show_len()"
   ]
  },
  {
   "cell_type": "markdown",
   "id": "b9f8c5d4",
   "metadata": {},
   "source": [
    "### padding"
   ]
  },
  {
   "cell_type": "code",
   "execution_count": 15,
   "id": "a3c5d41b",
   "metadata": {},
   "outputs": [
    {
     "data": {
      "text/plain": [
       "1"
      ]
     },
     "execution_count": 15,
     "metadata": {},
     "output_type": "execute_result"
    }
   ],
   "source": [
    "word_index[\"the\"]"
   ]
  },
  {
   "cell_type": "code",
   "execution_count": 16,
   "id": "96818154",
   "metadata": {},
   "outputs": [],
   "source": [
    "from tensorflow.keras.preprocessing.sequence import pad_sequences"
   ]
  },
  {
   "cell_type": "markdown",
   "id": "194c756e",
   "metadata": {},
   "source": [
    "### Pad sequences\n",
    "The pad_sequences function is used to ensure that all sequences in a dataset have the same length by padding or truncating them as needed. In the context of natural language processing, this is often used to prepare text data for input into neural networks, especially when using recurrent or convolutional neural network architectures where inputs must have uniform length."
   ]
  },
  {
   "cell_type": "code",
   "execution_count": 17,
   "id": "450210c5",
   "metadata": {},
   "outputs": [],
   "source": [
    "x_train=pad_sequences(x_train,padding=\"post\",maxlen=256)"
   ]
  },
  {
   "cell_type": "code",
   "execution_count": 18,
   "id": "09784031",
   "metadata": {},
   "outputs": [],
   "source": [
    "x_test=pad_sequences(x_test,padding=\"post\",maxlen=256)"
   ]
  },
  {
   "cell_type": "code",
   "execution_count": 19,
   "id": "094429b7",
   "metadata": {},
   "outputs": [
    {
     "name": "stdout",
     "output_type": "stream",
     "text": [
      "The length of the 1st traning exam: 256\n",
      "The length of the 2st traning exam: 256\n",
      "The length of the 1st test exam: 256\n",
      "The length of the 2st test exam: 256\n"
     ]
    }
   ],
   "source": [
    "show_len()"
   ]
  },
  {
   "cell_type": "code",
   "execution_count": 20,
   "id": "ee718dc1",
   "metadata": {},
   "outputs": [
    {
     "data": {
      "text/plain": [
       "array([[   1,   14,   22, ...,    0,    0,    0],\n",
       "       [   1,  194, 1153, ...,    0,    0,    0],\n",
       "       [   1,   14,   47, ...,    0,    0,    0],\n",
       "       ...,\n",
       "       [   1,   11,    6, ...,    0,    0,    0],\n",
       "       [   1, 1446, 7079, ...,    0,    0,    0],\n",
       "       [   1,   17,    6, ...,    0,    0,    0]])"
      ]
     },
     "execution_count": 20,
     "metadata": {},
     "output_type": "execute_result"
    }
   ],
   "source": [
    "x_train"
   ]
  },
  {
   "cell_type": "code",
   "execution_count": 21,
   "id": "01fb15a9",
   "metadata": {},
   "outputs": [
    {
     "data": {
      "text/plain": [
       "\"the as you with out themselves powerful lets loves their becomes reaching had journalist of lot from anyone to have after out atmosphere never more room and it so heart shows to years of every never going and help moments or of every chest visual movie except her was several of enough more with is now current film as you of mine potentially unfortunately of you than him that with out themselves her get for was camp of you movie sometimes movie that with scary but and to story wonderful that in seeing in character to of 70s musicians with heart had shadows they of here that with her serious to have does when from why what have critics they is you that isn't one will very to as itself with other and in of seen over landed for anyone of and br show's to whether from than out themselves history he name half some br of and odd was two most of mean for 1 any an boat she he should is thought frog but of script you not while history he heart to real at barrel but when from one bit then have two of script their with her nobody most that with wasn't to with armed acting watch an for with heartfelt film want an \""
      ]
     },
     "execution_count": 21,
     "metadata": {},
     "output_type": "execute_result"
    }
   ],
   "source": [
    "decode(x_train[0])"
   ]
  },
  {
   "cell_type": "code",
   "execution_count": 22,
   "id": "3088dc39",
   "metadata": {},
   "outputs": [
    {
     "name": "stdout",
     "output_type": "stream",
     "text": [
      "[   1   14   22   16   43  530  973 1622 1385   65  458 4468   66 3941\n",
      "    4  173   36  256    5   25  100   43  838  112   50  670    2    9\n",
      "   35  480  284    5  150    4  172  112  167    2  336  385   39    4\n",
      "  172 4536 1111   17  546   38   13  447    4  192   50   16    6  147\n",
      " 2025   19   14   22    4 1920 4613  469    4   22   71   87   12   16\n",
      "   43  530   38   76   15   13 1247    4   22   17  515   17   12   16\n",
      "  626   18    2    5   62  386   12    8  316    8  106    5    4 2223\n",
      " 5244   16  480   66 3785   33    4  130   12   16   38  619    5   25\n",
      "  124   51   36  135   48   25 1415   33    6   22   12  215   28   77\n",
      "   52    5   14  407   16   82    2    8    4  107  117 5952   15  256\n",
      "    4    2    7 3766    5  723   36   71   43  530  476   26  400  317\n",
      "   46    7    4    2 1029   13  104   88    4  381   15  297   98   32\n",
      " 2071   56   26  141    6  194 7486   18    4  226   22   21  134  476\n",
      "   26  480    5  144   30 5535   18   51   36   28  224   92   25  104\n",
      "    4  226   65   16   38 1334   88   12   16  283    5   16 4472  113\n",
      "  103   32   15   16 5345   19  178   32    0    0    0    0    0    0\n",
      "    0    0    0    0    0    0    0    0    0    0    0    0    0    0\n",
      "    0    0    0    0    0    0    0    0    0    0    0    0    0    0\n",
      "    0    0    0    0]\n"
     ]
    }
   ],
   "source": [
    "print(x_train[0])"
   ]
  },
  {
   "cell_type": "markdown",
   "id": "3e072b93",
   "metadata": {},
   "source": [
    "### now we create the train model"
   ]
  },
  {
   "cell_type": "code",
   "execution_count": 23,
   "id": "da246a6c",
   "metadata": {},
   "outputs": [],
   "source": [
    "from tensorflow.keras.models import Sequential\n",
    "from tensorflow.keras.layers import Dense,Embedding,GlobalAveragePooling1D"
   ]
  },
  {
   "cell_type": "code",
   "execution_count": 24,
   "id": "aeb70c28",
   "metadata": {},
   "outputs": [
    {
     "name": "stdout",
     "output_type": "stream",
     "text": [
      "WARNING:tensorflow:From C:\\Users\\RAHUL\\anaconda3\\Lib\\site-packages\\keras\\src\\backend.py:873: The name tf.get_default_graph is deprecated. Please use tf.compat.v1.get_default_graph instead.\n",
      "\n",
      "WARNING:tensorflow:From C:\\Users\\RAHUL\\anaconda3\\Lib\\site-packages\\keras\\src\\optimizers\\__init__.py:309: The name tf.train.Optimizer is deprecated. Please use tf.compat.v1.train.Optimizer instead.\n",
      "\n"
     ]
    }
   ],
   "source": [
    "model=Sequential([layers.Embedding(10000,16),\n",
    "                layers.GlobalAveragePooling1D(),\n",
    "                layers.Dense(16,activation=\"relu\"),\n",
    "                layers.Dense(1,activation=\"sigmoid\")])\n",
    "\n",
    "model.compile(optimizer=\"adam\",loss=\"binary_crossentropy\",metrics=[\"accuracy\"])"
   ]
  },
  {
   "cell_type": "markdown",
   "id": "c5282cc3",
   "metadata": {},
   "source": [
    "### EMBEDDING\n",
    "the model will create word embeddings for a vocabulary of 10,000 words, where each word will be represented as a dense vector in a 16-dimensional space. These embeddings will be learned by the model during the training process to capture semantic relationships between words in the context of the task at hand, which in this case is sentiment analysis on the IMDb review dataset.\n",
    "\n",
    "\n",
    "\n",
    "\n"
   ]
  },
  {
   "cell_type": "markdown",
   "id": "6c683422",
   "metadata": {},
   "source": [
    "### GlobalAveraagePooling1D: \n",
    "the global average pooling layer helps in summarizing the information contained in the word embeddings generated by the embedding layer, making it suitable for classification into positive or negative sentiment classes.\n",
    "\n",
    "\n",
    "\n",
    "\n"
   ]
  },
  {
   "cell_type": "code",
   "execution_count": 25,
   "id": "a2279c1b",
   "metadata": {},
   "outputs": [
    {
     "name": "stdout",
     "output_type": "stream",
     "text": [
      "Model: \"sequential\"\n",
      "_________________________________________________________________\n",
      " Layer (type)                Output Shape              Param #   \n",
      "=================================================================\n",
      " embedding (Embedding)       (None, None, 16)          160000    \n",
      "                                                                 \n",
      " global_average_pooling1d (  (None, 16)                0         \n",
      " GlobalAveragePooling1D)                                         \n",
      "                                                                 \n",
      " dense (Dense)               (None, 16)                272       \n",
      "                                                                 \n",
      " dense_1 (Dense)             (None, 1)                 17        \n",
      "                                                                 \n",
      "=================================================================\n",
      "Total params: 160289 (626.13 KB)\n",
      "Trainable params: 160289 (626.13 KB)\n",
      "Non-trainable params: 0 (0.00 Byte)\n",
      "_________________________________________________________________\n"
     ]
    }
   ],
   "source": [
    "model.summary()"
   ]
  },
  {
   "cell_type": "code",
   "execution_count": 26,
   "id": "cb4bd6f6",
   "metadata": {},
   "outputs": [],
   "source": [
    "from tensorflow.python.keras.callbacks import LambdaCallback\n",
    "\n",
    "simple_log=LambdaCallback(on_epoch_end=lambda e,l : print(e,end=\"\"))"
   ]
  },
  {
   "cell_type": "code",
   "execution_count": 27,
   "id": "fc5a9024",
   "metadata": {},
   "outputs": [
    {
     "name": "stdout",
     "output_type": "stream",
     "text": [
      "Epoch 1/20\n",
      "WARNING:tensorflow:From C:\\Users\\RAHUL\\anaconda3\\Lib\\site-packages\\keras\\src\\utils\\tf_utils.py:492: The name tf.ragged.RaggedTensorValue is deprecated. Please use tf.compat.v1.ragged.RaggedTensorValue instead.\n",
      "\n",
      "WARNING:tensorflow:From C:\\Users\\RAHUL\\anaconda3\\Lib\\site-packages\\keras\\src\\engine\\base_layer_utils.py:384: The name tf.executing_eagerly_outside_functions is deprecated. Please use tf.compat.v1.executing_eagerly_outside_functions instead.\n",
      "\n",
      "782/782 [==============================] - 3s 3ms/step - loss: 0.5371 - accuracy: 0.7480 - val_loss: 0.3552 - val_accuracy: 0.8672\n",
      "Epoch 2/20\n",
      "782/782 [==============================] - 3s 4ms/step - loss: 0.2787 - accuracy: 0.8965 - val_loss: 0.2866 - val_accuracy: 0.8845\n",
      "Epoch 3/20\n",
      "782/782 [==============================] - 2s 3ms/step - loss: 0.2159 - accuracy: 0.9195 - val_loss: 0.2870 - val_accuracy: 0.8794\n",
      "Epoch 4/20\n",
      "782/782 [==============================] - 2s 3ms/step - loss: 0.1813 - accuracy: 0.9340 - val_loss: 0.2880 - val_accuracy: 0.8832\n",
      "Epoch 5/20\n",
      "782/782 [==============================] - 3s 3ms/step - loss: 0.1575 - accuracy: 0.9445 - val_loss: 0.2989 - val_accuracy: 0.8823\n",
      "Epoch 6/20\n",
      "782/782 [==============================] - 3s 4ms/step - loss: 0.1379 - accuracy: 0.9530 - val_loss: 0.3176 - val_accuracy: 0.8784\n",
      "Epoch 7/20\n",
      "782/782 [==============================] - 2s 3ms/step - loss: 0.1212 - accuracy: 0.9606 - val_loss: 0.3479 - val_accuracy: 0.8707\n",
      "Epoch 8/20\n",
      "782/782 [==============================] - 2s 3ms/step - loss: 0.1082 - accuracy: 0.9658 - val_loss: 0.3802 - val_accuracy: 0.8686\n",
      "Epoch 9/20\n",
      "782/782 [==============================] - 2s 3ms/step - loss: 0.0965 - accuracy: 0.9708 - val_loss: 0.3926 - val_accuracy: 0.8660\n",
      "Epoch 10/20\n",
      "782/782 [==============================] - 2s 3ms/step - loss: 0.0861 - accuracy: 0.9756 - val_loss: 0.4293 - val_accuracy: 0.8636\n",
      "Epoch 11/20\n",
      "782/782 [==============================] - 2s 3ms/step - loss: 0.0777 - accuracy: 0.9783 - val_loss: 0.4547 - val_accuracy: 0.8602\n",
      "Epoch 12/20\n",
      "782/782 [==============================] - 2s 3ms/step - loss: 0.0691 - accuracy: 0.9819 - val_loss: 0.4929 - val_accuracy: 0.8574\n",
      "Epoch 13/20\n",
      "782/782 [==============================] - 2s 3ms/step - loss: 0.0628 - accuracy: 0.9841 - val_loss: 0.5161 - val_accuracy: 0.8527\n",
      "Epoch 14/20\n",
      "782/782 [==============================] - 2s 3ms/step - loss: 0.0559 - accuracy: 0.9865 - val_loss: 0.5693 - val_accuracy: 0.8547\n",
      "Epoch 15/20\n",
      "782/782 [==============================] - 2s 3ms/step - loss: 0.0491 - accuracy: 0.9890 - val_loss: 0.5828 - val_accuracy: 0.8488\n",
      "Epoch 16/20\n",
      "782/782 [==============================] - 2s 3ms/step - loss: 0.0438 - accuracy: 0.9906 - val_loss: 0.6184 - val_accuracy: 0.8498\n",
      "Epoch 17/20\n",
      "782/782 [==============================] - 3s 3ms/step - loss: 0.0404 - accuracy: 0.9911 - val_loss: 0.6654 - val_accuracy: 0.8490\n",
      "Epoch 18/20\n",
      "782/782 [==============================] - 2s 3ms/step - loss: 0.0350 - accuracy: 0.9933 - val_loss: 0.7091 - val_accuracy: 0.8466\n",
      "Epoch 19/20\n",
      "782/782 [==============================] - 3s 3ms/step - loss: 0.0322 - accuracy: 0.9938 - val_loss: 0.7394 - val_accuracy: 0.8448\n",
      "Epoch 20/20\n",
      "782/782 [==============================] - 3s 4ms/step - loss: 0.0287 - accuracy: 0.9948 - val_loss: 0.7913 - val_accuracy: 0.8447\n"
     ]
    }
   ],
   "source": [
    "E=20\n",
    "h=model.fit(x_train,y_train,validation_data=(x_test,y_test),epochs=E,callbacks=[simple_log])"
   ]
  },
  {
   "cell_type": "markdown",
   "id": "04c42100",
   "metadata": {},
   "source": [
    "### prediction and evaluetion"
   ]
  },
  {
   "cell_type": "code",
   "execution_count": 28,
   "id": "8101e136",
   "metadata": {},
   "outputs": [
    {
     "data": {
      "image/png": "[encoded data removed]",
      "text/plain": [
       "<Figure size 640x480 with 1 Axes>"
      ]
     },
     "metadata": {},
     "output_type": "display_data"
    }
   ],
   "source": [
    "plt.plot(h.history[\"accuracy\"],label=\"training\")\n",
    "plt.plot(h.history[\"val_accuracy\"],label=\"vald\")\n",
    "plt.legend()\n",
    "plt.title(\"Accuracy\",size=20)\n",
    "plt.show()"
   ]
  },
  {
   "cell_type": "code",
   "execution_count": 29,
   "id": "44e13e2b",
   "metadata": {},
   "outputs": [
    {
     "name": "stdout",
     "output_type": "stream",
     "text": [
      "782/782 [==============================] - 1s 921us/step - loss: 0.7913 - accuracy: 0.8447\n",
      "the loss is:  0.7912874221801758\n",
      "the accuracy of testset:  0.8447200059890747\n"
     ]
    }
   ],
   "source": [
    "loss,acc=model.evaluate(x_test,y_test)\n",
    "print(\"the loss is: \",loss)\n",
    "print(\"the accuracy of testset: \",acc)"
   ]
  },
  {
   "cell_type": "code",
   "execution_count": 30,
   "id": "ec4edd8e",
   "metadata": {},
   "outputs": [
    {
     "name": "stdout",
     "output_type": "stream",
     "text": [
      "1/1 [==============================] - 0s 59ms/step\n",
      "Postive\n"
     ]
    }
   ],
   "source": [
    "import numpy as np\n",
    "p=model.predict(np.expand_dims(x_test[2],axis=0))\n",
    "print(class_names[int(p[0]>0.5)])"
   ]
  },
  {
   "cell_type": "code",
   "execution_count": 31,
   "id": "263171ec",
   "metadata": {},
   "outputs": [
    {
     "name": "stdout",
     "output_type": "stream",
     "text": [
      "[  57 4893    5 4659    6  275  711 7937    2 3292   98    6    2   10\n",
      "   10 6639   19   14    2  267  162  711   37 5900  752   98    4    2\n",
      " 2378   90   19    6    2    7    2 1810    2    4 4770 3183  930    8\n",
      "  508   90    4 1317    8    4    2   17    2 3965 1853    4 1494    8\n",
      " 4468  189    4    2 6287 5774    4 4770    5   95  271   23    6 7742\n",
      " 6063    2 5437   33 1526    6  425 3155    2 4535 1636    7    4 4669\n",
      "    2  469    4 4552   54    4  150 5664    2  280   53    2    2   18\n",
      "  339   29 1978   27 7885    5    2   68 1830   19 6571    2    4 1515\n",
      "    7  263   65 2132   34    6 5680 7489   43  159   29    9 4706    9\n",
      "  387   73  195  584   10   10 1069    4   58  810   54   14 6078  117\n",
      "   22   16   93    5 1069    4  192   15   12   16   93   34    6 1766\n",
      "    2   33    4 5673    7   15    2 9252 3286  325   12   62   30  776\n",
      "    8   67   14   17    6    2   44  148  687    2  203   42  203   24\n",
      "   28   69    2 6676   11  330   54   29   93    2   21  845    2   27\n",
      " 1099    7  819    4   22 1407   17    6    2  787    7 2460    2    2\n",
      "  100   30    4 3737 3617 3169 2321   42 1898   11    4 3814   42  101\n",
      "  704    7  101  999   15 1625   94 2926  180    5    9 9101   34    2\n",
      "   45    6 1429   22   60    6 1220   31   11   94 6408   96   21   94\n",
      "  749    9   57  975]\n"
     ]
    }
   ],
   "source": [
    "print(x_test[2])"
   ]
  },
  {
   "cell_type": "code",
   "execution_count": 32,
   "id": "eb344039",
   "metadata": {},
   "outputs": [],
   "source": [
    "def decode(review):\n",
    "    text=''\n",
    "    for i in review:\n",
    "        if i!=0:\n",
    "            text+=reverse_word_index[i]\n",
    "            text+=\" \"\n",
    "    return text   "
   ]
  },
  {
   "cell_type": "code",
   "execution_count": 33,
   "id": "e9c812dd",
   "metadata": {},
   "outputs": [
    {
     "data": {
      "text/plain": [
       "\"even cliche to purchased is money easily egypt and glory any is and i i liam film as and set actually easily like outdated sequel any of and ryan made film is and br and constant and of 90s letting deep in act made of road in of and movie and rural vhs of share in reaching fact of and polly spinal of 90s to them book are is unfamiliar mercy and mode they funniest is white courage and vegas wooden br of gender and unfortunately of 1968 no of years hokey and true up and and but 3 all ordinary be oblivious to and were deserve film clone and of creative br comes their kung who is assuming bias out new all it incomprehensible it episode much that's including i i cartoon of my certain no as rooting over you with way to cartoon of enough for that with way who is finished and they of rukh br for and expressing stunts black that story at actual in can as movie is and has though songs and action it's action his one me and grass this second no all way and not lee and be moves br figure of you boss movie is and 9 br propaganda and and after at of smoke splendid snow saturday it's results this of load it's think class br think cop for games make southern things to it jolly who and if is boyfriend you which is tony by this make residents too not make above it even background \""
      ]
     },
     "execution_count": 33,
     "metadata": {},
     "output_type": "execute_result"
    }
   ],
   "source": [
    "decode(x_test[2])"
   ]
  },
  {
   "cell_type": "code",
   "execution_count": null,
   "id": "70d06391",
   "metadata": {},
   "outputs": [],
   "source": []
  },
  {
   "cell_type": "code",
   "execution_count": null,
   "id": "de93afc4",
   "metadata": {},
   "outputs": [],
   "source": []
  }
 ],
 "metadata": {
  "kernelspec": {
   "display_name": "Python 3 (ipykernel)",
   "language": "python",
   "name": "python3"
  },
  "language_info": {
   "codemirror_mode": {
    "name": "ipython",
    "version": 3
   },
   "file_extension": ".py",
   "mimetype": "text/x-python",
   "name": "python",
   "nbconvert_exporter": "python",
   "pygments_lexer": "ipython3",
   "version": "3.11.5"
  }
 },
 "nbformat": 4,
 "nbformat_minor": 5
}
